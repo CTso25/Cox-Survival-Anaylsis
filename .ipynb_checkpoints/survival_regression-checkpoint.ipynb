{
 "cells": [
  {
   "cell_type": "markdown",
   "metadata": {},
   "source": [
    "# Cox Proportional Hazard Model\n",
    "In this notebook, we will be performing Cox Regression using static variables to predict the risk of patients' survival. First, we load our training and test data and perform any necessary featuring to both predictive variables and targets. This will involve one-hot encoding any categorical variables, and calculating time to death/censuring."
   ]
  },
  {
   "cell_type": "code",
   "execution_count": 249,
   "metadata": {},
   "outputs": [],
   "source": [
    "import os\n",
    "import matplotlib.pyplot as plt\n",
    "import pandas as pd\n",
    "import numpy as np\n",
    "import seaborn as sns\n",
    "from collections import Counter\n",
    "import os\n",
    "from datetime import datetime\n",
    "import math\n",
    "import lifelines\n",
    "from lifelines import KaplanMeierFitter\n",
    "from lifelines import CoxPHFitter\n",
    "from lifelines import WeibullAFTFitter\n",
    "from sksurv.linear_model import CoxPHSurvivalAnalysis, IPCRidge\n",
    "from sksurv.ensemble import GradientBoostingSurvivalAnalysis, RandomSurvivalForest\n",
    "import xgboost as xgb\n",
    "from sklearn.preprocessing import StandardScaler, MinMaxScaler\n",
    "from sklearn.model_selection import train_test_split\n",
    "from sklearn.metrics import mean_squared_error\n",
    "from datetime import datetime, timedelta\n",
    "import seaborn as sns\n",
    "import time"
   ]
  },
  {
   "cell_type": "code",
   "execution_count": 43,
   "metadata": {},
   "outputs": [],
   "source": [
    "# Access google drive data\n",
    "data_dir = r\"C:\\Users\\mgaut\\Documents\\Info_Vis_Project\\Data\"\n",
    "train_path = os.path.join(data_dir, 'static_train_data.csv')\n",
    "test_path = os.path.join(data_dir, 'static_test_data.csv')\n",
    "val_path = os.path.join(data_dir, 'static_val_data.csv')\n"
   ]
  },
  {
   "cell_type": "code",
   "execution_count": 44,
   "metadata": {},
   "outputs": [
    {
     "data": {
      "text/plain": [
       "Index(['subject_id', 'hadm_id', 'icustay_id', 'ICUSTAY_AGE_GROUP', 'intime',\n",
       "       'DOD', 'hospital_deathtime', 'EXPIRE_FLAG', 'DOD_SSN', 'DOD_HOSP',\n",
       "       'hospital_expire_flag', 'intime_1', 'outtime', 'ICUSTAY_EXPIRE_FLAG',\n",
       "       'gender', 'icu_admit_age', 'admit_age', 'admittime'],\n",
       "      dtype='object')"
      ]
     },
     "execution_count": 44,
     "metadata": {},
     "output_type": "execute_result"
    }
   ],
   "source": [
    "df = pd.read_csv(os.path.join(data_dir, 'static_patient_data_v2.csv'),\n",
    "                 parse_dates = ['intime', 'outtime', 'DOD','DOD_HOSP','DOD_SSN'],\n",
    "                 dtype={\n",
    "                     'days_live':'Int64'\n",
    "                     ,'years_live': 'Int64'\n",
    "                     }\n",
    "                 )\n",
    "df.columns"
   ]
  },
  {
   "cell_type": "code",
   "execution_count": 45,
   "metadata": {},
   "outputs": [
    {
     "name": "stderr",
     "output_type": "stream",
     "text": [
      "C:\\Users\\mgaut\\Anaconda3\\envs\\infovis\\lib\\site-packages\\ipykernel_launcher.py:2: SettingWithCopyWarning: \n",
      "A value is trying to be set on a copy of a slice from a DataFrame.\n",
      "Try using .loc[row_indexer,col_indexer] = value instead\n",
      "\n",
      "See the caveats in the documentation: https://pandas.pydata.org/pandas-docs/stable/user_guide/indexing.html#returning-a-view-versus-a-copy\n",
      "  \n",
      "C:\\Users\\mgaut\\Anaconda3\\envs\\infovis\\lib\\site-packages\\ipykernel_launcher.py:3: SettingWithCopyWarning: \n",
      "A value is trying to be set on a copy of a slice from a DataFrame.\n",
      "Try using .loc[row_indexer,col_indexer] = value instead\n",
      "\n",
      "See the caveats in the documentation: https://pandas.pydata.org/pandas-docs/stable/user_guide/indexing.html#returning-a-view-versus-a-copy\n",
      "  This is separate from the ipykernel package so we can avoid doing imports until\n",
      "C:\\Users\\mgaut\\Anaconda3\\envs\\infovis\\lib\\site-packages\\ipykernel_launcher.py:5: SettingWithCopyWarning: \n",
      "A value is trying to be set on a copy of a slice from a DataFrame.\n",
      "Try using .loc[row_indexer,col_indexer] = value instead\n",
      "\n",
      "See the caveats in the documentation: https://pandas.pydata.org/pandas-docs/stable/user_guide/indexing.html#returning-a-view-versus-a-copy\n",
      "  \"\"\"\n",
      "C:\\Users\\mgaut\\Anaconda3\\envs\\infovis\\lib\\site-packages\\ipykernel_launcher.py:6: SettingWithCopyWarning: \n",
      "A value is trying to be set on a copy of a slice from a DataFrame.\n",
      "Try using .loc[row_indexer,col_indexer] = value instead\n",
      "\n",
      "See the caveats in the documentation: https://pandas.pydata.org/pandas-docs/stable/user_guide/indexing.html#returning-a-view-versus-a-copy\n",
      "  \n",
      "C:\\Users\\mgaut\\Anaconda3\\envs\\infovis\\lib\\site-packages\\ipykernel_launcher.py:7: SettingWithCopyWarning: \n",
      "A value is trying to be set on a copy of a slice from a DataFrame.\n",
      "Try using .loc[row_indexer,col_indexer] = value instead\n",
      "\n",
      "See the caveats in the documentation: https://pandas.pydata.org/pandas-docs/stable/user_guide/indexing.html#returning-a-view-versus-a-copy\n",
      "  import sys\n"
     ]
    }
   ],
   "source": [
    "patient_df = df[df['ICUSTAY_AGE_GROUP'] == 'adult']\n",
    "patient_df['survival_time'] = (patient_df['DOD'] - patient_df['intime'])/np.timedelta64(1,'D')\n",
    "patient_df['length_stay'] = (patient_df['outtime'] - patient_df['intime'])/np.timedelta64(1,'D')\n",
    "max_time = max(patient_df.survival_time.to_list())\n",
    "patient_df['survival_time'] = patient_df['survival_time'].fillna(patient_df.survival_time.max())\n",
    "patient_df['time'] = patient_df.apply(lambda row: math.floor(max(row.survival_time, row.length_stay)), axis=1)\n",
    "patient_df['age_group'] = patient_df['admit_age'].map(lambda x: str(math.floor(x/10)*10) + 's')"
   ]
  },
  {
   "cell_type": "markdown",
   "metadata": {},
   "source": [
    "## Cox Regression v.s. Kaplan Meier\n",
    "To start, we will look at two different approaches for survival analysis - Kaplan Meier method and the Cox Proportional Hazard Model. First, the Kaplan Meier method is univariate, so this process will involve grouping patients by conditions (age group, illness, ethnicity, etc.) and generating a univariate regression for patients in each group by calculating the hazard at each time period (days). Second, the Cox Proportional Hazard Model is a multivariate model in which we calculate the relative hazard of each feature (or Covariate) and use these covariates to fit a exponential survival regression for each patient. "
   ]
  },
  {
   "cell_type": "markdown",
   "metadata": {},
   "source": [
    "### Kaplan Meier Model"
   ]
  },
  {
   "cell_type": "code",
   "execution_count": 46,
   "metadata": {},
   "outputs": [
    {
     "data": {
      "text/plain": [
       "<lifelines.KaplanMeierFitter:\"KM_estimate\", fitted with 50711 total observations, 28661 right-censored observations>"
      ]
     },
     "execution_count": 46,
     "metadata": {},
     "output_type": "execute_result"
    }
   ],
   "source": [
    "kmf = KaplanMeierFitter()\n",
    "kmf.fit(durations = patient_df['time'], event_observed = patient_df['EXPIRE_FLAG'])"
   ]
  },
  {
   "cell_type": "code",
   "execution_count": 47,
   "metadata": {},
   "outputs": [
    {
     "name": "stdout",
     "output_type": "stream",
     "text": [
      "Median Survival Time:  inf\n"
     ]
    }
   ],
   "source": [
    "print(\"Median Survival Time: \", kmf.median_survival_time_)"
   ]
  },
  {
   "cell_type": "code",
   "execution_count": 48,
   "metadata": {},
   "outputs": [
    {
     "data": {
      "text/html": [
       "<div>\n",
       "<style scoped>\n",
       "    .dataframe tbody tr th:only-of-type {\n",
       "        vertical-align: middle;\n",
       "    }\n",
       "\n",
       "    .dataframe tbody tr th {\n",
       "        vertical-align: top;\n",
       "    }\n",
       "\n",
       "    .dataframe thead th {\n",
       "        text-align: right;\n",
       "    }\n",
       "</style>\n",
       "<table border=\"1\" class=\"dataframe\">\n",
       "  <thead>\n",
       "    <tr style=\"text-align: right;\">\n",
       "      <th></th>\n",
       "      <th>timeline</th>\n",
       "      <th>KM_estimate</th>\n",
       "    </tr>\n",
       "  </thead>\n",
       "  <tbody>\n",
       "    <tr>\n",
       "      <th>0</th>\n",
       "      <td>0.0</td>\n",
       "      <td>0.982923</td>\n",
       "    </tr>\n",
       "    <tr>\n",
       "      <th>1</th>\n",
       "      <td>1.0</td>\n",
       "      <td>0.968429</td>\n",
       "    </tr>\n",
       "    <tr>\n",
       "      <th>2</th>\n",
       "      <td>2.0</td>\n",
       "      <td>0.956656</td>\n",
       "    </tr>\n",
       "    <tr>\n",
       "      <th>3</th>\n",
       "      <td>3.0</td>\n",
       "      <td>0.948256</td>\n",
       "    </tr>\n",
       "    <tr>\n",
       "      <th>4</th>\n",
       "      <td>4.0</td>\n",
       "      <td>0.940900</td>\n",
       "    </tr>\n",
       "    <tr>\n",
       "      <th>...</th>\n",
       "      <td>...</td>\n",
       "      <td>...</td>\n",
       "    </tr>\n",
       "    <tr>\n",
       "      <th>2892</th>\n",
       "      <td>4131.0</td>\n",
       "      <td>0.565262</td>\n",
       "    </tr>\n",
       "    <tr>\n",
       "      <th>2893</th>\n",
       "      <td>4140.0</td>\n",
       "      <td>0.565242</td>\n",
       "    </tr>\n",
       "    <tr>\n",
       "      <th>2894</th>\n",
       "      <td>4164.0</td>\n",
       "      <td>0.565223</td>\n",
       "    </tr>\n",
       "    <tr>\n",
       "      <th>2895</th>\n",
       "      <td>4292.0</td>\n",
       "      <td>0.565203</td>\n",
       "    </tr>\n",
       "    <tr>\n",
       "      <th>2896</th>\n",
       "      <td>4332.0</td>\n",
       "      <td>0.565183</td>\n",
       "    </tr>\n",
       "  </tbody>\n",
       "</table>\n",
       "<p>2897 rows × 2 columns</p>\n",
       "</div>"
      ],
      "text/plain": [
       "      timeline  KM_estimate\n",
       "0          0.0     0.982923\n",
       "1          1.0     0.968429\n",
       "2          2.0     0.956656\n",
       "3          3.0     0.948256\n",
       "4          4.0     0.940900\n",
       "...        ...          ...\n",
       "2892    4131.0     0.565262\n",
       "2893    4140.0     0.565242\n",
       "2894    4164.0     0.565223\n",
       "2895    4292.0     0.565203\n",
       "2896    4332.0     0.565183\n",
       "\n",
       "[2897 rows x 2 columns]"
      ]
     },
     "execution_count": 48,
     "metadata": {},
     "output_type": "execute_result"
    }
   ],
   "source": [
    "kmf.survival_function_.reset_index()"
   ]
  },
  {
   "cell_type": "code",
   "execution_count": 49,
   "metadata": {},
   "outputs": [
    {
     "data": {
      "image/png": "[encoded data removed]",
      "text/plain": [
       "<Figure size 432x288 with 1 Axes>"
      ]
     },
     "metadata": {
      "needs_background": "light"
     },
     "output_type": "display_data"
    }
   ],
   "source": [
    "kmf.plot()\n",
    "plt.title('Survival Function for All Patients')\n",
    "plt.xlabel('Time (Days)')\n",
    "plt.ylabel('Survival S(t)')\n",
    "plt.show()"
   ]
  },
  {
   "cell_type": "code",
   "execution_count": 50,
   "metadata": {},
   "outputs": [
    {
     "data": {
      "image/png": "[encoded data removed]",
      "text/plain": [
       "<Figure size 432x288 with 1 Axes>"
      ]
     },
     "metadata": {
      "needs_background": "light"
     },
     "output_type": "display_data"
    }
   ],
   "source": [
    "kmodel_df = patient_df[['time', 'EXPIRE_FLAG', 'age_group']]\n",
    "age_groups = set(patient_df.age_group.to_list())\n",
    "\n",
    "for age in age_groups:\n",
    "  data = kmodel_df[kmodel_df.age_group==age]\n",
    "  kmf = KaplanMeierFitter()\n",
    "  kmf.fit(durations = data['time'], event_observed = data['EXPIRE_FLAG'])\n",
    "  surv = kmf.survival_function_.reset_index()\n",
    "  plt.plot(surv.timeline, surv.KM_estimate)\n",
    "plt.show()"
   ]
  },
  {
   "cell_type": "code",
   "execution_count": 51,
   "metadata": {},
   "outputs": [],
   "source": [
    "model_df = patient_df[['time', 'EXPIRE_FLAG', 'admit_age', 'gender']]\n",
    "input_df = pd.get_dummies(model_df, drop_first= True)\n",
    "train_df, test_df = train_test_split(input_df, test_size = 0.3)"
   ]
  },
  {
   "cell_type": "markdown",
   "metadata": {},
   "source": [
    "### Cox Proportional Hazard"
   ]
  },
  {
   "cell_type": "code",
   "execution_count": 52,
   "metadata": {},
   "outputs": [
    {
     "data": {
      "text/plain": [
       "<lifelines.CoxPHFitter: fitted with 35497 total observations, 20057 right-censored observations>"
      ]
     },
     "execution_count": 52,
     "metadata": {},
     "output_type": "execute_result"
    }
   ],
   "source": [
    "cph = CoxPHFitter()\n",
    "cph.fit(train_df, \"time\", event_col=\"EXPIRE_FLAG\")"
   ]
  },
  {
   "cell_type": "code",
   "execution_count": 53,
   "metadata": {},
   "outputs": [
    {
     "name": "stderr",
     "output_type": "stream",
     "text": [
      "C:\\Users\\mgaut\\Anaconda3\\envs\\infovis\\lib\\site-packages\\ipykernel_launcher.py:3: SettingWithCopyWarning: \n",
      "A value is trying to be set on a copy of a slice from a DataFrame.\n",
      "Try using .loc[row_indexer,col_indexer] = value instead\n",
      "\n",
      "See the caveats in the documentation: https://pandas.pydata.org/pandas-docs/stable/user_guide/indexing.html#returning-a-view-versus-a-copy\n",
      "  This is separate from the ipykernel package so we can avoid doing imports until\n"
     ]
    }
   ],
   "source": [
    "test_curves = cph.predict_survival_function(test_df)\n",
    "test_pred = cph.predict_expectation(test_df)\n",
    "test_df['prediction'] = test_pred"
   ]
  },
  {
   "cell_type": "code",
   "execution_count": 233,
   "metadata": {},
   "outputs": [
    {
     "data": {
      "text/plain": [
       "Text(0, 0.5, 'Survival S(t)')"
      ]
     },
     "execution_count": 233,
     "metadata": {},
     "output_type": "execute_result"
    },
    {
     "data": {
      "image/png": "[encoded data removed]",
      "text/plain": [
       "<Figure size 432x288 with 1 Axes>"
      ]
     },
     "metadata": {
      "needs_background": "light"
     },
     "output_type": "display_data"
    }
   ],
   "source": [
    "curve_example = test_curves.iloc[0:365, 0:5]\n",
    "curve_example.plot()\n",
    "plt.legend().remove()\n",
    "plt.title('Survival Curve by Patient')\n",
    "plt.legend().remove()\n",
    "plt.xlabel('Days')\n",
    "plt.ylabel('Survival S(t)')"
   ]
  },
  {
   "cell_type": "code",
   "execution_count": 55,
   "metadata": {},
   "outputs": [
    {
     "data": {
      "text/plain": [
       "1864.152984625201"
      ]
     },
     "execution_count": 55,
     "metadata": {},
     "output_type": "execute_result"
    }
   ],
   "source": [
    "math.sqrt(mean_squared_error(test_df.time, test_df.prediction))"
   ]
  },
  {
   "cell_type": "markdown",
   "metadata": {},
   "source": [
    "### Cox Regression\n",
    "Now we will expand our Cox Regression to include both demographic and diagnosis data. We will need to one-hot encode categorical variables, and scale numeric variables to be in same number range as encoding (0 to 1)."
   ]
  },
  {
   "cell_type": "code",
   "execution_count": 56,
   "metadata": {},
   "outputs": [],
   "source": [
    "train_data = pd.read_csv(train_path)\n",
    "train_data['time'] = pd.to_timedelta(train_data['time_until_death']) / np.timedelta64(1, 'D')\n",
    "\n",
    "# Set censorship to max survival\n",
    "train_data.time = train_data.time.fillna(train_data.time.max()).apply(math.floor)\n",
    "# Select variables that will be used for modeling\n",
    "train_input = pd.concat([train_data[['time', 'anytime_expire_flag', 'icu_admit_age']],\n",
    "                         train_data.loc[:, 'female':'TSICU'],\n",
    "                         train_data.loc[:, 'cardio' :'other']], axis = 1)\n",
    "# Scale Numerical variables to match range of one-hot variables\n",
    "scaler = MinMaxScaler()\n",
    "train_input.icu_admit_age = scaler.fit_transform(train_input.icu_admit_age.values.reshape(-1, 1))\n",
    "\n",
    "# Most Correlated w/ targets: CSRU, MICU, icu_admit_age, infection, failure, cancer\n",
    "# Drop columns: cardio, "
   ]
  },
  {
   "cell_type": "code",
   "execution_count": 57,
   "metadata": {},
   "outputs": [
    {
     "data": {
      "text/html": [
       "<style  type=\"text/css\" >\n",
       "#T_08ef7548_1e4e_11eb_804d_482ae391c4berow0_col0,#T_08ef7548_1e4e_11eb_804d_482ae391c4berow1_col1,#T_08ef7548_1e4e_11eb_804d_482ae391c4berow2_col2,#T_08ef7548_1e4e_11eb_804d_482ae391c4berow3_col3,#T_08ef7548_1e4e_11eb_804d_482ae391c4berow4_col4,#T_08ef7548_1e4e_11eb_804d_482ae391c4berow5_col5,#T_08ef7548_1e4e_11eb_804d_482ae391c4berow6_col6,#T_08ef7548_1e4e_11eb_804d_482ae391c4berow7_col7,#T_08ef7548_1e4e_11eb_804d_482ae391c4berow8_col8,#T_08ef7548_1e4e_11eb_804d_482ae391c4berow9_col9,#T_08ef7548_1e4e_11eb_804d_482ae391c4berow10_col10,#T_08ef7548_1e4e_11eb_804d_482ae391c4berow11_col11,#T_08ef7548_1e4e_11eb_804d_482ae391c4berow12_col12,#T_08ef7548_1e4e_11eb_804d_482ae391c4berow13_col13,#T_08ef7548_1e4e_11eb_804d_482ae391c4berow14_col14,#T_08ef7548_1e4e_11eb_804d_482ae391c4berow15_col15,#T_08ef7548_1e4e_11eb_804d_482ae391c4berow16_col16,#T_08ef7548_1e4e_11eb_804d_482ae391c4berow17_col17,#T_08ef7548_1e4e_11eb_804d_482ae391c4berow18_col18,#T_08ef7548_1e4e_11eb_804d_482ae391c4berow19_col19,#T_08ef7548_1e4e_11eb_804d_482ae391c4berow20_col20,#T_08ef7548_1e4e_11eb_804d_482ae391c4berow21_col21,#T_08ef7548_1e4e_11eb_804d_482ae391c4berow22_col22,#T_08ef7548_1e4e_11eb_804d_482ae391c4berow23_col23{\n",
       "            background-color:  #008000;\n",
       "            color:  #f1f1f1;\n",
       "        }#T_08ef7548_1e4e_11eb_804d_482ae391c4berow0_col1{\n",
       "            background-color:  #098509;\n",
       "            color:  #f1f1f1;\n",
       "        }#T_08ef7548_1e4e_11eb_804d_482ae391c4berow0_col2,#T_08ef7548_1e4e_11eb_804d_482ae391c4berow2_col0{\n",
       "            background-color:  #a1cfa1;\n",
       "            color:  #000000;\n",
       "        }#T_08ef7548_1e4e_11eb_804d_482ae391c4berow0_col3,#T_08ef7548_1e4e_11eb_804d_482ae391c4berow0_col14,#T_08ef7548_1e4e_11eb_804d_482ae391c4berow1_col3,#T_08ef7548_1e4e_11eb_804d_482ae391c4berow1_col14,#T_08ef7548_1e4e_11eb_804d_482ae391c4berow1_col16,#T_08ef7548_1e4e_11eb_804d_482ae391c4berow2_col14,#T_08ef7548_1e4e_11eb_804d_482ae391c4berow3_col0,#T_08ef7548_1e4e_11eb_804d_482ae391c4berow12_col6,#T_08ef7548_1e4e_11eb_804d_482ae391c4berow12_col20,#T_08ef7548_1e4e_11eb_804d_482ae391c4berow12_col21,#T_08ef7548_1e4e_11eb_804d_482ae391c4berow13_col20,#T_08ef7548_1e4e_11eb_804d_482ae391c4berow15_col1,#T_08ef7548_1e4e_11eb_804d_482ae391c4berow17_col4,#T_08ef7548_1e4e_11eb_804d_482ae391c4berow17_col22,#T_08ef7548_1e4e_11eb_804d_482ae391c4berow18_col2,#T_08ef7548_1e4e_11eb_804d_482ae391c4berow19_col16,#T_08ef7548_1e4e_11eb_804d_482ae391c4berow20_col12,#T_08ef7548_1e4e_11eb_804d_482ae391c4berow20_col23,#T_08ef7548_1e4e_11eb_804d_482ae391c4berow21_col12,#T_08ef7548_1e4e_11eb_804d_482ae391c4berow21_col23,#T_08ef7548_1e4e_11eb_804d_482ae391c4berow22_col6,#T_08ef7548_1e4e_11eb_804d_482ae391c4berow22_col17{\n",
       "            background-color:  #e3efe3;\n",
       "            color:  #000000;\n",
       "        }#T_08ef7548_1e4e_11eb_804d_482ae391c4berow0_col4,#T_08ef7548_1e4e_11eb_804d_482ae391c4berow5_col11,#T_08ef7548_1e4e_11eb_804d_482ae391c4berow11_col5,#T_08ef7548_1e4e_11eb_804d_482ae391c4berow15_col17,#T_08ef7548_1e4e_11eb_804d_482ae391c4berow18_col17{\n",
       "            background-color:  #c6e1c6;\n",
       "            color:  #000000;\n",
       "        }#T_08ef7548_1e4e_11eb_804d_482ae391c4berow0_col5,#T_08ef7548_1e4e_11eb_804d_482ae391c4berow5_col0,#T_08ef7548_1e4e_11eb_804d_482ae391c4berow13_col21,#T_08ef7548_1e4e_11eb_804d_482ae391c4berow21_col13{\n",
       "            background-color:  #c9e2c8;\n",
       "            color:  #000000;\n",
       "        }#T_08ef7548_1e4e_11eb_804d_482ae391c4berow0_col6,#T_08ef7548_1e4e_11eb_804d_482ae391c4berow0_col22,#T_08ef7548_1e4e_11eb_804d_482ae391c4berow1_col11,#T_08ef7548_1e4e_11eb_804d_482ae391c4berow2_col17,#T_08ef7548_1e4e_11eb_804d_482ae391c4berow2_col18,#T_08ef7548_1e4e_11eb_804d_482ae391c4berow2_col22,#T_08ef7548_1e4e_11eb_804d_482ae391c4berow3_col19,#T_08ef7548_1e4e_11eb_804d_482ae391c4berow3_col21,#T_08ef7548_1e4e_11eb_804d_482ae391c4berow5_col21,#T_08ef7548_1e4e_11eb_804d_482ae391c4berow9_col3,#T_08ef7548_1e4e_11eb_804d_482ae391c4berow10_col0,#T_08ef7548_1e4e_11eb_804d_482ae391c4berow11_col0,#T_08ef7548_1e4e_11eb_804d_482ae391c4berow13_col17,#T_08ef7548_1e4e_11eb_804d_482ae391c4berow14_col21,#T_08ef7548_1e4e_11eb_804d_482ae391c4berow17_col2,#T_08ef7548_1e4e_11eb_804d_482ae391c4berow17_col13,#T_08ef7548_1e4e_11eb_804d_482ae391c4berow18_col6,#T_08ef7548_1e4e_11eb_804d_482ae391c4berow19_col3,#T_08ef7548_1e4e_11eb_804d_482ae391c4berow19_col10,#T_08ef7548_1e4e_11eb_804d_482ae391c4berow19_col22,#T_08ef7548_1e4e_11eb_804d_482ae391c4berow20_col4,#T_08ef7548_1e4e_11eb_804d_482ae391c4berow21_col3,#T_08ef7548_1e4e_11eb_804d_482ae391c4berow21_col4,#T_08ef7548_1e4e_11eb_804d_482ae391c4berow22_col19{\n",
       "            background-color:  #e5f0e5;\n",
       "            color:  #000000;\n",
       "        }#T_08ef7548_1e4e_11eb_804d_482ae391c4berow0_col7,#T_08ef7548_1e4e_11eb_804d_482ae391c4berow6_col14,#T_08ef7548_1e4e_11eb_804d_482ae391c4berow8_col3,#T_08ef7548_1e4e_11eb_804d_482ae391c4berow10_col4,#T_08ef7548_1e4e_11eb_804d_482ae391c4berow11_col12,#T_08ef7548_1e4e_11eb_804d_482ae391c4berow11_col13,#T_08ef7548_1e4e_11eb_804d_482ae391c4berow12_col18,#T_08ef7548_1e4e_11eb_804d_482ae391c4berow13_col1,#T_08ef7548_1e4e_11eb_804d_482ae391c4berow13_col11,#T_08ef7548_1e4e_11eb_804d_482ae391c4berow14_col7,#T_08ef7548_1e4e_11eb_804d_482ae391c4berow15_col16,#T_08ef7548_1e4e_11eb_804d_482ae391c4berow16_col11,#T_08ef7548_1e4e_11eb_804d_482ae391c4berow17_col12,#T_08ef7548_1e4e_11eb_804d_482ae391c4berow23_col19{\n",
       "            background-color:  #deedde;\n",
       "            color:  #000000;\n",
       "        }#T_08ef7548_1e4e_11eb_804d_482ae391c4berow0_col8,#T_08ef7548_1e4e_11eb_804d_482ae391c4berow3_col4,#T_08ef7548_1e4e_11eb_804d_482ae391c4berow4_col23,#T_08ef7548_1e4e_11eb_804d_482ae391c4berow5_col19,#T_08ef7548_1e4e_11eb_804d_482ae391c4berow6_col23,#T_08ef7548_1e4e_11eb_804d_482ae391c4berow7_col9,#T_08ef7548_1e4e_11eb_804d_482ae391c4berow8_col22,#T_08ef7548_1e4e_11eb_804d_482ae391c4berow10_col15,#T_08ef7548_1e4e_11eb_804d_482ae391c4berow11_col23,#T_08ef7548_1e4e_11eb_804d_482ae391c4berow15_col10,#T_08ef7548_1e4e_11eb_804d_482ae391c4berow17_col23,#T_08ef7548_1e4e_11eb_804d_482ae391c4berow18_col13,#T_08ef7548_1e4e_11eb_804d_482ae391c4berow19_col1,#T_08ef7548_1e4e_11eb_804d_482ae391c4berow19_col5,#T_08ef7548_1e4e_11eb_804d_482ae391c4berow20_col7,#T_08ef7548_1e4e_11eb_804d_482ae391c4berow23_col6{\n",
       "            background-color:  #daebda;\n",
       "            color:  #000000;\n",
       "        }#T_08ef7548_1e4e_11eb_804d_482ae391c4berow0_col9,#T_08ef7548_1e4e_11eb_804d_482ae391c4berow5_col15,#T_08ef7548_1e4e_11eb_804d_482ae391c4berow6_col16,#T_08ef7548_1e4e_11eb_804d_482ae391c4berow8_col19,#T_08ef7548_1e4e_11eb_804d_482ae391c4berow14_col8,#T_08ef7548_1e4e_11eb_804d_482ae391c4berow15_col5,#T_08ef7548_1e4e_11eb_804d_482ae391c4berow18_col0,#T_08ef7548_1e4e_11eb_804d_482ae391c4berow18_col23,#T_08ef7548_1e4e_11eb_804d_482ae391c4berow22_col12,#T_08ef7548_1e4e_11eb_804d_482ae391c4berow23_col18,#T_08ef7548_1e4e_11eb_804d_482ae391c4berow23_col22{\n",
       "            background-color:  #d5e9d5;\n",
       "            color:  #000000;\n",
       "        }#T_08ef7548_1e4e_11eb_804d_482ae391c4berow0_col10,#T_08ef7548_1e4e_11eb_804d_482ae391c4berow0_col11,#T_08ef7548_1e4e_11eb_804d_482ae391c4berow1_col17,#T_08ef7548_1e4e_11eb_804d_482ae391c4berow1_col22,#T_08ef7548_1e4e_11eb_804d_482ae391c4berow2_col9,#T_08ef7548_1e4e_11eb_804d_482ae391c4berow3_col10,#T_08ef7548_1e4e_11eb_804d_482ae391c4berow3_col16,#T_08ef7548_1e4e_11eb_804d_482ae391c4berow4_col12,#T_08ef7548_1e4e_11eb_804d_482ae391c4berow5_col14,#T_08ef7548_1e4e_11eb_804d_482ae391c4berow5_col23,#T_08ef7548_1e4e_11eb_804d_482ae391c4berow6_col13,#T_08ef7548_1e4e_11eb_804d_482ae391c4berow6_col18,#T_08ef7548_1e4e_11eb_804d_482ae391c4berow9_col17,#T_08ef7548_1e4e_11eb_804d_482ae391c4berow10_col2,#T_08ef7548_1e4e_11eb_804d_482ae391c4berow10_col3,#T_08ef7548_1e4e_11eb_804d_482ae391c4berow10_col20,#T_08ef7548_1e4e_11eb_804d_482ae391c4berow10_col21,#T_08ef7548_1e4e_11eb_804d_482ae391c4berow11_col1,#T_08ef7548_1e4e_11eb_804d_482ae391c4berow11_col3,#T_08ef7548_1e4e_11eb_804d_482ae391c4berow15_col20,#T_08ef7548_1e4e_11eb_804d_482ae391c4berow16_col21,#T_08ef7548_1e4e_11eb_804d_482ae391c4berow17_col0,#T_08ef7548_1e4e_11eb_804d_482ae391c4berow17_col8,#T_08ef7548_1e4e_11eb_804d_482ae391c4berow18_col11,#T_08ef7548_1e4e_11eb_804d_482ae391c4berow18_col19,#T_08ef7548_1e4e_11eb_804d_482ae391c4berow18_col20,#T_08ef7548_1e4e_11eb_804d_482ae391c4berow20_col10,#T_08ef7548_1e4e_11eb_804d_482ae391c4berow20_col14,#T_08ef7548_1e4e_11eb_804d_482ae391c4berow20_col15,#T_08ef7548_1e4e_11eb_804d_482ae391c4berow21_col10{\n",
       "            background-color:  #e6f1e6;\n",
       "            color:  #000000;\n",
       "        }#T_08ef7548_1e4e_11eb_804d_482ae391c4berow0_col12,#T_08ef7548_1e4e_11eb_804d_482ae391c4berow0_col21,#T_08ef7548_1e4e_11eb_804d_482ae391c4berow0_col23,#T_08ef7548_1e4e_11eb_804d_482ae391c4berow1_col23,#T_08ef7548_1e4e_11eb_804d_482ae391c4berow2_col16,#T_08ef7548_1e4e_11eb_804d_482ae391c4berow2_col19,#T_08ef7548_1e4e_11eb_804d_482ae391c4berow3_col14,#T_08ef7548_1e4e_11eb_804d_482ae391c4berow3_col15,#T_08ef7548_1e4e_11eb_804d_482ae391c4berow3_col18,#T_08ef7548_1e4e_11eb_804d_482ae391c4berow3_col20,#T_08ef7548_1e4e_11eb_804d_482ae391c4berow3_col22,#T_08ef7548_1e4e_11eb_804d_482ae391c4berow3_col23,#T_08ef7548_1e4e_11eb_804d_482ae391c4berow5_col17,#T_08ef7548_1e4e_11eb_804d_482ae391c4berow7_col16,#T_08ef7548_1e4e_11eb_804d_482ae391c4berow10_col13,#T_08ef7548_1e4e_11eb_804d_482ae391c4berow11_col19,#T_08ef7548_1e4e_11eb_804d_482ae391c4berow12_col0,#T_08ef7548_1e4e_11eb_804d_482ae391c4berow12_col1,#T_08ef7548_1e4e_11eb_804d_482ae391c4berow12_col4,#T_08ef7548_1e4e_11eb_804d_482ae391c4berow12_col8,#T_08ef7548_1e4e_11eb_804d_482ae391c4berow12_col13,#T_08ef7548_1e4e_11eb_804d_482ae391c4berow13_col10,#T_08ef7548_1e4e_11eb_804d_482ae391c4berow13_col12,#T_08ef7548_1e4e_11eb_804d_482ae391c4berow14_col4,#T_08ef7548_1e4e_11eb_804d_482ae391c4berow15_col3,#T_08ef7548_1e4e_11eb_804d_482ae391c4berow16_col7,#T_08ef7548_1e4e_11eb_804d_482ae391c4berow17_col5,#T_08ef7548_1e4e_11eb_804d_482ae391c4berow18_col9,#T_08ef7548_1e4e_11eb_804d_482ae391c4berow19_col2,#T_08ef7548_1e4e_11eb_804d_482ae391c4berow19_col6,#T_08ef7548_1e4e_11eb_804d_482ae391c4berow19_col7,#T_08ef7548_1e4e_11eb_804d_482ae391c4berow19_col11,#T_08ef7548_1e4e_11eb_804d_482ae391c4berow19_col21,#T_08ef7548_1e4e_11eb_804d_482ae391c4berow20_col1,#T_08ef7548_1e4e_11eb_804d_482ae391c4berow20_col3,#T_08ef7548_1e4e_11eb_804d_482ae391c4berow20_col9,#T_08ef7548_1e4e_11eb_804d_482ae391c4berow20_col21,#T_08ef7548_1e4e_11eb_804d_482ae391c4berow21_col1,#T_08ef7548_1e4e_11eb_804d_482ae391c4berow21_col9,#T_08ef7548_1e4e_11eb_804d_482ae391c4berow21_col22,#T_08ef7548_1e4e_11eb_804d_482ae391c4berow22_col3,#T_08ef7548_1e4e_11eb_804d_482ae391c4berow22_col21,#T_08ef7548_1e4e_11eb_804d_482ae391c4berow23_col1{\n",
       "            background-color:  #ebf3eb;\n",
       "            color:  #000000;\n",
       "        }#T_08ef7548_1e4e_11eb_804d_482ae391c4berow0_col13,#T_08ef7548_1e4e_11eb_804d_482ae391c4berow1_col7,#T_08ef7548_1e4e_11eb_804d_482ae391c4berow2_col3,#T_08ef7548_1e4e_11eb_804d_482ae391c4berow3_col2,#T_08ef7548_1e4e_11eb_804d_482ae391c4berow4_col10,#T_08ef7548_1e4e_11eb_804d_482ae391c4berow5_col18,#T_08ef7548_1e4e_11eb_804d_482ae391c4berow6_col15,#T_08ef7548_1e4e_11eb_804d_482ae391c4berow7_col1,#T_08ef7548_1e4e_11eb_804d_482ae391c4berow7_col18,#T_08ef7548_1e4e_11eb_804d_482ae391c4berow8_col1,#T_08ef7548_1e4e_11eb_804d_482ae391c4berow8_col18,#T_08ef7548_1e4e_11eb_804d_482ae391c4berow10_col22,#T_08ef7548_1e4e_11eb_804d_482ae391c4berow11_col4,#T_08ef7548_1e4e_11eb_804d_482ae391c4berow13_col0,#T_08ef7548_1e4e_11eb_804d_482ae391c4berow13_col15,#T_08ef7548_1e4e_11eb_804d_482ae391c4berow13_col18,#T_08ef7548_1e4e_11eb_804d_482ae391c4berow13_col22,#T_08ef7548_1e4e_11eb_804d_482ae391c4berow15_col6,#T_08ef7548_1e4e_11eb_804d_482ae391c4berow15_col13,#T_08ef7548_1e4e_11eb_804d_482ae391c4berow18_col7,#T_08ef7548_1e4e_11eb_804d_482ae391c4berow18_col10,#T_08ef7548_1e4e_11eb_804d_482ae391c4berow22_col10,#T_08ef7548_1e4e_11eb_804d_482ae391c4berow22_col13{\n",
       "            background-color:  #dbebdb;\n",
       "            color:  #000000;\n",
       "        }#T_08ef7548_1e4e_11eb_804d_482ae391c4berow0_col15,#T_08ef7548_1e4e_11eb_804d_482ae391c4berow2_col5,#T_08ef7548_1e4e_11eb_804d_482ae391c4berow3_col6,#T_08ef7548_1e4e_11eb_804d_482ae391c4berow3_col13,#T_08ef7548_1e4e_11eb_804d_482ae391c4berow4_col20,#T_08ef7548_1e4e_11eb_804d_482ae391c4berow4_col21,#T_08ef7548_1e4e_11eb_804d_482ae391c4berow5_col2,#T_08ef7548_1e4e_11eb_804d_482ae391c4berow7_col3,#T_08ef7548_1e4e_11eb_804d_482ae391c4berow11_col22,#T_08ef7548_1e4e_11eb_804d_482ae391c4berow12_col19,#T_08ef7548_1e4e_11eb_804d_482ae391c4berow14_col0,#T_08ef7548_1e4e_11eb_804d_482ae391c4berow14_col2,#T_08ef7548_1e4e_11eb_804d_482ae391c4berow16_col19,#T_08ef7548_1e4e_11eb_804d_482ae391c4berow17_col7,#T_08ef7548_1e4e_11eb_804d_482ae391c4berow18_col22,#T_08ef7548_1e4e_11eb_804d_482ae391c4berow19_col12,#T_08ef7548_1e4e_11eb_804d_482ae391c4berow19_col13,#T_08ef7548_1e4e_11eb_804d_482ae391c4berow20_col6,#T_08ef7548_1e4e_11eb_804d_482ae391c4berow21_col8,#T_08ef7548_1e4e_11eb_804d_482ae391c4berow22_col9,#T_08ef7548_1e4e_11eb_804d_482ae391c4berow22_col11,#T_08ef7548_1e4e_11eb_804d_482ae391c4berow23_col20,#T_08ef7548_1e4e_11eb_804d_482ae391c4berow23_col21{\n",
       "            background-color:  #e1eee1;\n",
       "            color:  #000000;\n",
       "        }#T_08ef7548_1e4e_11eb_804d_482ae391c4berow0_col16,#T_08ef7548_1e4e_11eb_804d_482ae391c4berow2_col15,#T_08ef7548_1e4e_11eb_804d_482ae391c4berow6_col3,#T_08ef7548_1e4e_11eb_804d_482ae391c4berow6_col20,#T_08ef7548_1e4e_11eb_804d_482ae391c4berow7_col17,#T_08ef7548_1e4e_11eb_804d_482ae391c4berow9_col6,#T_08ef7548_1e4e_11eb_804d_482ae391c4berow11_col7,#T_08ef7548_1e4e_11eb_804d_482ae391c4berow12_col10,#T_08ef7548_1e4e_11eb_804d_482ae391c4berow13_col3,#T_08ef7548_1e4e_11eb_804d_482ae391c4berow13_col19,#T_08ef7548_1e4e_11eb_804d_482ae391c4berow15_col0,#T_08ef7548_1e4e_11eb_804d_482ae391c4berow15_col2,#T_08ef7548_1e4e_11eb_804d_482ae391c4berow15_col22,#T_08ef7548_1e4e_11eb_804d_482ae391c4berow17_col19,#T_08ef7548_1e4e_11eb_804d_482ae391c4berow19_col15,#T_08ef7548_1e4e_11eb_804d_482ae391c4berow19_col17,#T_08ef7548_1e4e_11eb_804d_482ae391c4berow22_col8,#T_08ef7548_1e4e_11eb_804d_482ae391c4berow22_col15{\n",
       "            background-color:  #e0eee0;\n",
       "            color:  #000000;\n",
       "        }#T_08ef7548_1e4e_11eb_804d_482ae391c4berow0_col17,#T_08ef7548_1e4e_11eb_804d_482ae391c4berow2_col10,#T_08ef7548_1e4e_11eb_804d_482ae391c4berow2_col20,#T_08ef7548_1e4e_11eb_804d_482ae391c4berow3_col11,#T_08ef7548_1e4e_11eb_804d_482ae391c4berow6_col21,#T_08ef7548_1e4e_11eb_804d_482ae391c4berow11_col17,#T_08ef7548_1e4e_11eb_804d_482ae391c4berow11_col18,#T_08ef7548_1e4e_11eb_804d_482ae391c4berow11_col20,#T_08ef7548_1e4e_11eb_804d_482ae391c4berow11_col21,#T_08ef7548_1e4e_11eb_804d_482ae391c4berow13_col6,#T_08ef7548_1e4e_11eb_804d_482ae391c4berow17_col11,#T_08ef7548_1e4e_11eb_804d_482ae391c4berow20_col2,#T_08ef7548_1e4e_11eb_804d_482ae391c4berow20_col11,#T_08ef7548_1e4e_11eb_804d_482ae391c4berow21_col11,#T_08ef7548_1e4e_11eb_804d_482ae391c4berow21_col14,#T_08ef7548_1e4e_11eb_804d_482ae391c4berow21_col16,#T_08ef7548_1e4e_11eb_804d_482ae391c4berow22_col1{\n",
       "            background-color:  #e7f1e7;\n",
       "            color:  #000000;\n",
       "        }#T_08ef7548_1e4e_11eb_804d_482ae391c4berow0_col18,#T_08ef7548_1e4e_11eb_804d_482ae391c4berow0_col19,#T_08ef7548_1e4e_11eb_804d_482ae391c4berow4_col11,#T_08ef7548_1e4e_11eb_804d_482ae391c4berow13_col9,#T_08ef7548_1e4e_11eb_804d_482ae391c4berow13_col16,#T_08ef7548_1e4e_11eb_804d_482ae391c4berow16_col22,#T_08ef7548_1e4e_11eb_804d_482ae391c4berow18_col1,#T_08ef7548_1e4e_11eb_804d_482ae391c4berow19_col0{\n",
       "            background-color:  #d7e9d7;\n",
       "            color:  #000000;\n",
       "        }#T_08ef7548_1e4e_11eb_804d_482ae391c4berow0_col20,#T_08ef7548_1e4e_11eb_804d_482ae391c4berow1_col21,#T_08ef7548_1e4e_11eb_804d_482ae391c4berow2_col6,#T_08ef7548_1e4e_11eb_804d_482ae391c4berow2_col21,#T_08ef7548_1e4e_11eb_804d_482ae391c4berow3_col12,#T_08ef7548_1e4e_11eb_804d_482ae391c4berow6_col19,#T_08ef7548_1e4e_11eb_804d_482ae391c4berow7_col19,#T_08ef7548_1e4e_11eb_804d_482ae391c4berow10_col1,#T_08ef7548_1e4e_11eb_804d_482ae391c4berow12_col3,#T_08ef7548_1e4e_11eb_804d_482ae391c4berow15_col7,#T_08ef7548_1e4e_11eb_804d_482ae391c4berow17_col6,#T_08ef7548_1e4e_11eb_804d_482ae391c4berow17_col9,#T_08ef7548_1e4e_11eb_804d_482ae391c4berow17_col21,#T_08ef7548_1e4e_11eb_804d_482ae391c4berow18_col3,#T_08ef7548_1e4e_11eb_804d_482ae391c4berow19_col20,#T_08ef7548_1e4e_11eb_804d_482ae391c4berow20_col0,#T_08ef7548_1e4e_11eb_804d_482ae391c4berow20_col19,#T_08ef7548_1e4e_11eb_804d_482ae391c4berow21_col0,#T_08ef7548_1e4e_11eb_804d_482ae391c4berow21_col2,#T_08ef7548_1e4e_11eb_804d_482ae391c4berow21_col17,#T_08ef7548_1e4e_11eb_804d_482ae391c4berow21_col19,#T_08ef7548_1e4e_11eb_804d_482ae391c4berow21_col20{\n",
       "            background-color:  #eaf2ea;\n",
       "            color:  #000000;\n",
       "        }#T_08ef7548_1e4e_11eb_804d_482ae391c4berow1_col0{\n",
       "            background-color:  #088408;\n",
       "            color:  #f1f1f1;\n",
       "        }#T_08ef7548_1e4e_11eb_804d_482ae391c4berow1_col2,#T_08ef7548_1e4e_11eb_804d_482ae391c4berow6_col5{\n",
       "            background-color:  #9fce9f;\n",
       "            color:  #000000;\n",
       "        }#T_08ef7548_1e4e_11eb_804d_482ae391c4berow1_col4,#T_08ef7548_1e4e_11eb_804d_482ae391c4berow4_col9,#T_08ef7548_1e4e_11eb_804d_482ae391c4berow23_col13{\n",
       "            background-color:  #cce4cc;\n",
       "            color:  #000000;\n",
       "        }#T_08ef7548_1e4e_11eb_804d_482ae391c4berow1_col5,#T_08ef7548_1e4e_11eb_804d_482ae391c4berow2_col13,#T_08ef7548_1e4e_11eb_804d_482ae391c4berow9_col4,#T_08ef7548_1e4e_11eb_804d_482ae391c4berow13_col2,#T_08ef7548_1e4e_11eb_804d_482ae391c4berow13_col23{\n",
       "            background-color:  #cde5cd;\n",
       "            color:  #000000;\n",
       "        }#T_08ef7548_1e4e_11eb_804d_482ae391c4berow1_col6,#T_08ef7548_1e4e_11eb_804d_482ae391c4berow6_col1,#T_08ef7548_1e4e_11eb_804d_482ae391c4berow6_col11,#T_08ef7548_1e4e_11eb_804d_482ae391c4berow9_col20,#T_08ef7548_1e4e_11eb_804d_482ae391c4berow9_col21,#T_08ef7548_1e4e_11eb_804d_482ae391c4berow11_col6,#T_08ef7548_1e4e_11eb_804d_482ae391c4berow11_col9,#T_08ef7548_1e4e_11eb_804d_482ae391c4berow15_col9,#T_08ef7548_1e4e_11eb_804d_482ae391c4berow15_col12,#T_08ef7548_1e4e_11eb_804d_482ae391c4berow17_col1,#T_08ef7548_1e4e_11eb_804d_482ae391c4berow17_col20,#T_08ef7548_1e4e_11eb_804d_482ae391c4berow18_col21,#T_08ef7548_1e4e_11eb_804d_482ae391c4berow19_col9,#T_08ef7548_1e4e_11eb_804d_482ae391c4berow19_col18,#T_08ef7548_1e4e_11eb_804d_482ae391c4berow20_col17,#T_08ef7548_1e4e_11eb_804d_482ae391c4berow20_col18,#T_08ef7548_1e4e_11eb_804d_482ae391c4berow21_col6{\n",
       "            background-color:  #e8f2e8;\n",
       "            color:  #000000;\n",
       "        }#T_08ef7548_1e4e_11eb_804d_482ae391c4berow1_col8,#T_08ef7548_1e4e_11eb_804d_482ae391c4berow4_col17,#T_08ef7548_1e4e_11eb_804d_482ae391c4berow8_col17,#T_08ef7548_1e4e_11eb_804d_482ae391c4berow10_col12,#T_08ef7548_1e4e_11eb_804d_482ae391c4berow11_col10,#T_08ef7548_1e4e_11eb_804d_482ae391c4berow14_col18,#T_08ef7548_1e4e_11eb_804d_482ae391c4berow15_col19,#T_08ef7548_1e4e_11eb_804d_482ae391c4berow17_col10,#T_08ef7548_1e4e_11eb_804d_482ae391c4berow17_col16,#T_08ef7548_1e4e_11eb_804d_482ae391c4berow18_col8,#T_08ef7548_1e4e_11eb_804d_482ae391c4berow18_col14,#T_08ef7548_1e4e_11eb_804d_482ae391c4berow19_col23,#T_08ef7548_1e4e_11eb_804d_482ae391c4berow20_col22,#T_08ef7548_1e4e_11eb_804d_482ae391c4berow21_col7{\n",
       "            background-color:  #e0eedf;\n",
       "            color:  #000000;\n",
       "        }#T_08ef7548_1e4e_11eb_804d_482ae391c4berow1_col9,#T_08ef7548_1e4e_11eb_804d_482ae391c4berow1_col18,#T_08ef7548_1e4e_11eb_804d_482ae391c4berow4_col13,#T_08ef7548_1e4e_11eb_804d_482ae391c4berow9_col7,#T_08ef7548_1e4e_11eb_804d_482ae391c4berow9_col12,#T_08ef7548_1e4e_11eb_804d_482ae391c4berow12_col7,#T_08ef7548_1e4e_11eb_804d_482ae391c4berow12_col14,#T_08ef7548_1e4e_11eb_804d_482ae391c4berow13_col14,#T_08ef7548_1e4e_11eb_804d_482ae391c4berow23_col17{\n",
       "            background-color:  #d8ead8;\n",
       "            color:  #000000;\n",
       "        }#T_08ef7548_1e4e_11eb_804d_482ae391c4berow1_col10,#T_08ef7548_1e4e_11eb_804d_482ae391c4berow1_col12,#T_08ef7548_1e4e_11eb_804d_482ae391c4berow1_col20,#T_08ef7548_1e4e_11eb_804d_482ae391c4berow3_col9,#T_08ef7548_1e4e_11eb_804d_482ae391c4berow3_col17,#T_08ef7548_1e4e_11eb_804d_482ae391c4berow4_col14,#T_08ef7548_1e4e_11eb_804d_482ae391c4berow6_col2,#T_08ef7548_1e4e_11eb_804d_482ae391c4berow6_col17,#T_08ef7548_1e4e_11eb_804d_482ae391c4berow7_col15,#T_08ef7548_1e4e_11eb_804d_482ae391c4berow7_col23,#T_08ef7548_1e4e_11eb_804d_482ae391c4berow9_col18,#T_08ef7548_1e4e_11eb_804d_482ae391c4berow12_col15,#T_08ef7548_1e4e_11eb_804d_482ae391c4berow14_col3,#T_08ef7548_1e4e_11eb_804d_482ae391c4berow15_col21,#T_08ef7548_1e4e_11eb_804d_482ae391c4berow16_col2,#T_08ef7548_1e4e_11eb_804d_482ae391c4berow17_col3,#T_08ef7548_1e4e_11eb_804d_482ae391c4berow21_col15,#T_08ef7548_1e4e_11eb_804d_482ae391c4berow21_col18,#T_08ef7548_1e4e_11eb_804d_482ae391c4berow23_col0,#T_08ef7548_1e4e_11eb_804d_482ae391c4berow23_col3,#T_08ef7548_1e4e_11eb_804d_482ae391c4berow23_col7{\n",
       "            background-color:  #e9f2e9;\n",
       "            color:  #000000;\n",
       "        }#T_08ef7548_1e4e_11eb_804d_482ae391c4berow1_col13,#T_08ef7548_1e4e_11eb_804d_482ae391c4berow4_col18,#T_08ef7548_1e4e_11eb_804d_482ae391c4berow14_col6,#T_08ef7548_1e4e_11eb_804d_482ae391c4berow14_col9,#T_08ef7548_1e4e_11eb_804d_482ae391c4berow15_col14,#T_08ef7548_1e4e_11eb_804d_482ae391c4berow16_col15,#T_08ef7548_1e4e_11eb_804d_482ae391c4berow16_col18,#T_08ef7548_1e4e_11eb_804d_482ae391c4berow18_col16,#T_08ef7548_1e4e_11eb_804d_482ae391c4berow22_col7,#T_08ef7548_1e4e_11eb_804d_482ae391c4berow23_col2{\n",
       "            background-color:  #ddecdd;\n",
       "            color:  #000000;\n",
       "        }#T_08ef7548_1e4e_11eb_804d_482ae391c4berow1_col15,#T_08ef7548_1e4e_11eb_804d_482ae391c4berow3_col7,#T_08ef7548_1e4e_11eb_804d_482ae391c4berow6_col9,#T_08ef7548_1e4e_11eb_804d_482ae391c4berow6_col12,#T_08ef7548_1e4e_11eb_804d_482ae391c4berow6_col22,#T_08ef7548_1e4e_11eb_804d_482ae391c4berow9_col2,#T_08ef7548_1e4e_11eb_804d_482ae391c4berow14_col1,#T_08ef7548_1e4e_11eb_804d_482ae391c4berow14_col11,#T_08ef7548_1e4e_11eb_804d_482ae391c4berow14_col17,#T_08ef7548_1e4e_11eb_804d_482ae391c4berow16_col1,#T_08ef7548_1e4e_11eb_804d_482ae391c4berow16_col20,#T_08ef7548_1e4e_11eb_804d_482ae391c4berow19_col4,#T_08ef7548_1e4e_11eb_804d_482ae391c4berow20_col8,#T_08ef7548_1e4e_11eb_804d_482ae391c4berow22_col4,#T_08ef7548_1e4e_11eb_804d_482ae391c4berow22_col18{\n",
       "            background-color:  #e2efe2;\n",
       "            color:  #000000;\n",
       "        }#T_08ef7548_1e4e_11eb_804d_482ae391c4berow1_col19,#T_08ef7548_1e4e_11eb_804d_482ae391c4berow3_col5,#T_08ef7548_1e4e_11eb_804d_482ae391c4berow5_col3,#T_08ef7548_1e4e_11eb_804d_482ae391c4berow7_col20,#T_08ef7548_1e4e_11eb_804d_482ae391c4berow10_col9,#T_08ef7548_1e4e_11eb_804d_482ae391c4berow18_col5,#T_08ef7548_1e4e_11eb_804d_482ae391c4berow22_col16,#T_08ef7548_1e4e_11eb_804d_482ae391c4berow23_col11{\n",
       "            background-color:  #d9ead9;\n",
       "            color:  #000000;\n",
       "        }#T_08ef7548_1e4e_11eb_804d_482ae391c4berow2_col1,#T_08ef7548_1e4e_11eb_804d_482ae391c4berow5_col6{\n",
       "            background-color:  #a0cea0;\n",
       "            color:  #000000;\n",
       "        }#T_08ef7548_1e4e_11eb_804d_482ae391c4berow2_col4,#T_08ef7548_1e4e_11eb_804d_482ae391c4berow8_col0,#T_08ef7548_1e4e_11eb_804d_482ae391c4berow9_col13,#T_08ef7548_1e4e_11eb_804d_482ae391c4berow9_col16,#T_08ef7548_1e4e_11eb_804d_482ae391c4berow10_col7,#T_08ef7548_1e4e_11eb_804d_482ae391c4berow11_col8,#T_08ef7548_1e4e_11eb_804d_482ae391c4berow14_col10,#T_08ef7548_1e4e_11eb_804d_482ae391c4berow14_col16,#T_08ef7548_1e4e_11eb_804d_482ae391c4berow15_col4,#T_08ef7548_1e4e_11eb_804d_482ae391c4berow15_col23,#T_08ef7548_1e4e_11eb_804d_482ae391c4berow16_col6,#T_08ef7548_1e4e_11eb_804d_482ae391c4berow16_col14,#T_08ef7548_1e4e_11eb_804d_482ae391c4berow19_col14{\n",
       "            background-color:  #d4e8d4;\n",
       "            color:  #000000;\n",
       "        }#T_08ef7548_1e4e_11eb_804d_482ae391c4berow2_col7,#T_08ef7548_1e4e_11eb_804d_482ae391c4berow4_col0{\n",
       "            background-color:  #c2dfc2;\n",
       "            color:  #000000;\n",
       "        }#T_08ef7548_1e4e_11eb_804d_482ae391c4berow2_col8,#T_08ef7548_1e4e_11eb_804d_482ae391c4berow6_col7,#T_08ef7548_1e4e_11eb_804d_482ae391c4berow7_col6,#T_08ef7548_1e4e_11eb_804d_482ae391c4berow8_col9,#T_08ef7548_1e4e_11eb_804d_482ae391c4berow16_col4{\n",
       "            background-color:  #c3e0c3;\n",
       "            color:  #000000;\n",
       "        }#T_08ef7548_1e4e_11eb_804d_482ae391c4berow2_col11,#T_08ef7548_1e4e_11eb_804d_482ae391c4berow8_col14,#T_08ef7548_1e4e_11eb_804d_482ae391c4berow11_col2{\n",
       "            background-color:  #d1e6d1;\n",
       "            color:  #000000;\n",
       "        }#T_08ef7548_1e4e_11eb_804d_482ae391c4berow2_col12,#T_08ef7548_1e4e_11eb_804d_482ae391c4berow7_col0,#T_08ef7548_1e4e_11eb_804d_482ae391c4berow7_col22,#T_08ef7548_1e4e_11eb_804d_482ae391c4berow8_col20,#T_08ef7548_1e4e_11eb_804d_482ae391c4berow8_col21,#T_08ef7548_1e4e_11eb_804d_482ae391c4berow9_col14,#T_08ef7548_1e4e_11eb_804d_482ae391c4berow10_col18,#T_08ef7548_1e4e_11eb_804d_482ae391c4berow12_col2,#T_08ef7548_1e4e_11eb_804d_482ae391c4berow12_col9,#T_08ef7548_1e4e_11eb_804d_482ae391c4berow13_col4,#T_08ef7548_1e4e_11eb_804d_482ae391c4berow14_col15,#T_08ef7548_1e4e_11eb_804d_482ae391c4berow18_col12,#T_08ef7548_1e4e_11eb_804d_482ae391c4berow19_col8,#T_08ef7548_1e4e_11eb_804d_482ae391c4berow23_col4{\n",
       "            background-color:  #dcecdc;\n",
       "            color:  #000000;\n",
       "        }#T_08ef7548_1e4e_11eb_804d_482ae391c4berow2_col23,#T_08ef7548_1e4e_11eb_804d_482ae391c4berow4_col19,#T_08ef7548_1e4e_11eb_804d_482ae391c4berow4_col22,#T_08ef7548_1e4e_11eb_804d_482ae391c4berow5_col22,#T_08ef7548_1e4e_11eb_804d_482ae391c4berow7_col11,#T_08ef7548_1e4e_11eb_804d_482ae391c4berow7_col14,#T_08ef7548_1e4e_11eb_804d_482ae391c4berow7_col21,#T_08ef7548_1e4e_11eb_804d_482ae391c4berow9_col22,#T_08ef7548_1e4e_11eb_804d_482ae391c4berow10_col11,#T_08ef7548_1e4e_11eb_804d_482ae391c4berow10_col17,#T_08ef7548_1e4e_11eb_804d_482ae391c4berow11_col16,#T_08ef7548_1e4e_11eb_804d_482ae391c4berow12_col11,#T_08ef7548_1e4e_11eb_804d_482ae391c4berow12_col17,#T_08ef7548_1e4e_11eb_804d_482ae391c4berow16_col0,#T_08ef7548_1e4e_11eb_804d_482ae391c4berow16_col17,#T_08ef7548_1e4e_11eb_804d_482ae391c4berow18_col4,#T_08ef7548_1e4e_11eb_804d_482ae391c4berow22_col5,#T_08ef7548_1e4e_11eb_804d_482ae391c4berow22_col20{\n",
       "            background-color:  #dfeddf;\n",
       "            color:  #000000;\n",
       "        }#T_08ef7548_1e4e_11eb_804d_482ae391c4berow3_col1,#T_08ef7548_1e4e_11eb_804d_482ae391c4berow3_col8,#T_08ef7548_1e4e_11eb_804d_482ae391c4berow5_col20,#T_08ef7548_1e4e_11eb_804d_482ae391c4berow6_col0,#T_08ef7548_1e4e_11eb_804d_482ae391c4berow8_col12,#T_08ef7548_1e4e_11eb_804d_482ae391c4berow9_col11,#T_08ef7548_1e4e_11eb_804d_482ae391c4berow9_col15,#T_08ef7548_1e4e_11eb_804d_482ae391c4berow9_col19,#T_08ef7548_1e4e_11eb_804d_482ae391c4berow10_col19,#T_08ef7548_1e4e_11eb_804d_482ae391c4berow11_col14,#T_08ef7548_1e4e_11eb_804d_482ae391c4berow11_col15,#T_08ef7548_1e4e_11eb_804d_482ae391c4berow14_col5,#T_08ef7548_1e4e_11eb_804d_482ae391c4berow14_col20,#T_08ef7548_1e4e_11eb_804d_482ae391c4berow15_col11,#T_08ef7548_1e4e_11eb_804d_482ae391c4berow16_col3,#T_08ef7548_1e4e_11eb_804d_482ae391c4berow17_col14,#T_08ef7548_1e4e_11eb_804d_482ae391c4berow20_col5,#T_08ef7548_1e4e_11eb_804d_482ae391c4berow20_col13,#T_08ef7548_1e4e_11eb_804d_482ae391c4berow20_col16,#T_08ef7548_1e4e_11eb_804d_482ae391c4berow21_col5,#T_08ef7548_1e4e_11eb_804d_482ae391c4berow22_col0,#T_08ef7548_1e4e_11eb_804d_482ae391c4berow22_col2,#T_08ef7548_1e4e_11eb_804d_482ae391c4berow23_col5{\n",
       "            background-color:  #e4f0e4;\n",
       "            color:  #000000;\n",
       "        }#T_08ef7548_1e4e_11eb_804d_482ae391c4berow4_col1,#T_08ef7548_1e4e_11eb_804d_482ae391c4berow8_col13,#T_08ef7548_1e4e_11eb_804d_482ae391c4berow8_col15,#T_08ef7548_1e4e_11eb_804d_482ae391c4berow23_col12{\n",
       "            background-color:  #c9e3c9;\n",
       "            color:  #000000;\n",
       "        }#T_08ef7548_1e4e_11eb_804d_482ae391c4berow4_col2,#T_08ef7548_1e4e_11eb_804d_482ae391c4berow4_col15,#T_08ef7548_1e4e_11eb_804d_482ae391c4berow10_col8{\n",
       "            background-color:  #d0e6d0;\n",
       "            color:  #000000;\n",
       "        }#T_08ef7548_1e4e_11eb_804d_482ae391c4berow4_col3,#T_08ef7548_1e4e_11eb_804d_482ae391c4berow7_col12,#T_08ef7548_1e4e_11eb_804d_482ae391c4berow9_col1,#T_08ef7548_1e4e_11eb_804d_482ae391c4berow9_col10,#T_08ef7548_1e4e_11eb_804d_482ae391c4berow10_col14,#T_08ef7548_1e4e_11eb_804d_482ae391c4berow12_col22,#T_08ef7548_1e4e_11eb_804d_482ae391c4berow14_col12,#T_08ef7548_1e4e_11eb_804d_482ae391c4berow14_col13,#T_08ef7548_1e4e_11eb_804d_482ae391c4berow16_col9,#T_08ef7548_1e4e_11eb_804d_482ae391c4berow16_col13,#T_08ef7548_1e4e_11eb_804d_482ae391c4berow22_col23{\n",
       "            background-color:  #d6e9d6;\n",
       "            color:  #000000;\n",
       "        }#T_08ef7548_1e4e_11eb_804d_482ae391c4berow4_col5{\n",
       "            background-color:  #93c893;\n",
       "            color:  #000000;\n",
       "        }#T_08ef7548_1e4e_11eb_804d_482ae391c4berow4_col6,#T_08ef7548_1e4e_11eb_804d_482ae391c4berow16_col8{\n",
       "            background-color:  #b7dab7;\n",
       "            color:  #000000;\n",
       "        }#T_08ef7548_1e4e_11eb_804d_482ae391c4berow4_col7{\n",
       "            background-color:  #bddcbd;\n",
       "            color:  #000000;\n",
       "        }#T_08ef7548_1e4e_11eb_804d_482ae391c4berow4_col8,#T_08ef7548_1e4e_11eb_804d_482ae391c4berow22_col14{\n",
       "            background-color:  #7cbd7c;\n",
       "            color:  #000000;\n",
       "        }#T_08ef7548_1e4e_11eb_804d_482ae391c4berow4_col16,#T_08ef7548_1e4e_11eb_804d_482ae391c4berow7_col2{\n",
       "            background-color:  #c1dfc1;\n",
       "            color:  #000000;\n",
       "        }#T_08ef7548_1e4e_11eb_804d_482ae391c4berow5_col1,#T_08ef7548_1e4e_11eb_804d_482ae391c4berow5_col12,#T_08ef7548_1e4e_11eb_804d_482ae391c4berow9_col23,#T_08ef7548_1e4e_11eb_804d_482ae391c4berow12_col5,#T_08ef7548_1e4e_11eb_804d_482ae391c4berow14_col23,#T_08ef7548_1e4e_11eb_804d_482ae391c4berow15_col8,#T_08ef7548_1e4e_11eb_804d_482ae391c4berow23_col10,#T_08ef7548_1e4e_11eb_804d_482ae391c4berow23_col14{\n",
       "            background-color:  #cee5ce;\n",
       "            color:  #000000;\n",
       "        }#T_08ef7548_1e4e_11eb_804d_482ae391c4berow5_col4{\n",
       "            background-color:  #96c996;\n",
       "            color:  #000000;\n",
       "        }#T_08ef7548_1e4e_11eb_804d_482ae391c4berow5_col7{\n",
       "            background-color:  #a8d2a8;\n",
       "            color:  #000000;\n",
       "        }#T_08ef7548_1e4e_11eb_804d_482ae391c4berow5_col8{\n",
       "            background-color:  #a6d2a6;\n",
       "            color:  #000000;\n",
       "        }#T_08ef7548_1e4e_11eb_804d_482ae391c4berow5_col9{\n",
       "            background-color:  #aed5ae;\n",
       "            color:  #000000;\n",
       "        }#T_08ef7548_1e4e_11eb_804d_482ae391c4berow5_col10,#T_08ef7548_1e4e_11eb_804d_482ae391c4berow8_col10,#T_08ef7548_1e4e_11eb_804d_482ae391c4berow10_col5,#T_08ef7548_1e4e_11eb_804d_482ae391c4berow12_col23{\n",
       "            background-color:  #cae3ca;\n",
       "            color:  #000000;\n",
       "        }#T_08ef7548_1e4e_11eb_804d_482ae391c4berow5_col13,#T_08ef7548_1e4e_11eb_804d_482ae391c4berow13_col5{\n",
       "            background-color:  #c0dec0;\n",
       "            color:  #000000;\n",
       "        }#T_08ef7548_1e4e_11eb_804d_482ae391c4berow5_col16,#T_08ef7548_1e4e_11eb_804d_482ae391c4berow16_col23,#T_08ef7548_1e4e_11eb_804d_482ae391c4berow23_col16{\n",
       "            background-color:  #c8e2c8;\n",
       "            color:  #000000;\n",
       "        }#T_08ef7548_1e4e_11eb_804d_482ae391c4berow6_col4{\n",
       "            background-color:  #b9dbb9;\n",
       "            color:  #000000;\n",
       "        }#T_08ef7548_1e4e_11eb_804d_482ae391c4berow6_col8{\n",
       "            background-color:  #c4e0c4;\n",
       "            color:  #000000;\n",
       "        }#T_08ef7548_1e4e_11eb_804d_482ae391c4berow6_col10{\n",
       "            background-color:  #afd6af;\n",
       "            color:  #000000;\n",
       "        }#T_08ef7548_1e4e_11eb_804d_482ae391c4berow7_col4{\n",
       "            background-color:  #beddbe;\n",
       "            color:  #000000;\n",
       "        }#T_08ef7548_1e4e_11eb_804d_482ae391c4berow7_col5{\n",
       "            background-color:  #a7d2a7;\n",
       "            color:  #000000;\n",
       "        }#T_08ef7548_1e4e_11eb_804d_482ae391c4berow7_col8{\n",
       "            background-color:  #bcdcbc;\n",
       "            color:  #000000;\n",
       "        }#T_08ef7548_1e4e_11eb_804d_482ae391c4berow7_col10,#T_08ef7548_1e4e_11eb_804d_482ae391c4berow14_col19,#T_08ef7548_1e4e_11eb_804d_482ae391c4berow23_col15{\n",
       "            background-color:  #d3e7d3;\n",
       "            color:  #000000;\n",
       "        }#T_08ef7548_1e4e_11eb_804d_482ae391c4berow7_col13{\n",
       "            background-color:  #7dbd7d;\n",
       "            color:  #000000;\n",
       "        }#T_08ef7548_1e4e_11eb_804d_482ae391c4berow8_col2{\n",
       "            background-color:  #bdddbd;\n",
       "            color:  #000000;\n",
       "        }#T_08ef7548_1e4e_11eb_804d_482ae391c4berow8_col4,#T_08ef7548_1e4e_11eb_804d_482ae391c4berow14_col22{\n",
       "            background-color:  #7bbc7b;\n",
       "            color:  #000000;\n",
       "        }#T_08ef7548_1e4e_11eb_804d_482ae391c4berow8_col5,#T_08ef7548_1e4e_11eb_804d_482ae391c4berow16_col12{\n",
       "            background-color:  #a2cfa2;\n",
       "            color:  #000000;\n",
       "        }#T_08ef7548_1e4e_11eb_804d_482ae391c4berow8_col6{\n",
       "            background-color:  #bfdebf;\n",
       "            color:  #000000;\n",
       "        }#T_08ef7548_1e4e_11eb_804d_482ae391c4berow8_col7{\n",
       "            background-color:  #b8dab8;\n",
       "            color:  #000000;\n",
       "        }#T_08ef7548_1e4e_11eb_804d_482ae391c4berow8_col11,#T_08ef7548_1e4e_11eb_804d_482ae391c4berow10_col23,#T_08ef7548_1e4e_11eb_804d_482ae391c4berow13_col8,#T_08ef7548_1e4e_11eb_804d_482ae391c4berow23_col9{\n",
       "            background-color:  #cfe5cf;\n",
       "            color:  #000000;\n",
       "        }#T_08ef7548_1e4e_11eb_804d_482ae391c4berow8_col16{\n",
       "            background-color:  #b3d8b3;\n",
       "            color:  #000000;\n",
       "        }#T_08ef7548_1e4e_11eb_804d_482ae391c4berow8_col23{\n",
       "            background-color:  #a9d3a9;\n",
       "            color:  #000000;\n",
       "        }#T_08ef7548_1e4e_11eb_804d_482ae391c4berow9_col0{\n",
       "            background-color:  #d2e7d2;\n",
       "            color:  #000000;\n",
       "        }#T_08ef7548_1e4e_11eb_804d_482ae391c4berow9_col5{\n",
       "            background-color:  #acd4ac;\n",
       "            color:  #000000;\n",
       "        }#T_08ef7548_1e4e_11eb_804d_482ae391c4berow9_col8{\n",
       "            background-color:  #c5e0c5;\n",
       "            color:  #000000;\n",
       "        }#T_08ef7548_1e4e_11eb_804d_482ae391c4berow10_col6{\n",
       "            background-color:  #b0d6b0;\n",
       "            color:  #000000;\n",
       "        }#T_08ef7548_1e4e_11eb_804d_482ae391c4berow10_col16{\n",
       "            background-color:  #a4d0a4;\n",
       "            color:  #000000;\n",
       "        }#T_08ef7548_1e4e_11eb_804d_482ae391c4berow12_col16,#T_08ef7548_1e4e_11eb_804d_482ae391c4berow16_col10{\n",
       "            background-color:  #a3d0a3;\n",
       "            color:  #000000;\n",
       "        }#T_08ef7548_1e4e_11eb_804d_482ae391c4berow13_col7{\n",
       "            background-color:  #7ebe7e;\n",
       "            color:  #000000;\n",
       "        }#T_08ef7548_1e4e_11eb_804d_482ae391c4berow15_col18{\n",
       "            background-color:  #9ccd9c;\n",
       "            color:  #000000;\n",
       "        }#T_08ef7548_1e4e_11eb_804d_482ae391c4berow16_col5,#T_08ef7548_1e4e_11eb_804d_482ae391c4berow17_col15,#T_08ef7548_1e4e_11eb_804d_482ae391c4berow17_col18{\n",
       "            background-color:  #c7e1c7;\n",
       "            color:  #000000;\n",
       "        }#T_08ef7548_1e4e_11eb_804d_482ae391c4berow18_col15{\n",
       "            background-color:  #9bcc9b;\n",
       "            color:  #000000;\n",
       "        }#T_08ef7548_1e4e_11eb_804d_482ae391c4berow23_col8{\n",
       "            background-color:  #add5ad;\n",
       "            color:  #000000;\n",
       "        }</style><table id=\"T_08ef7548_1e4e_11eb_804d_482ae391c4be\" ><thead>    <tr>        <th class=\"blank level0\" ></th>        <th class=\"col_heading level0 col0\" >time</th>        <th class=\"col_heading level0 col1\" >anytime_expire_flag</th>        <th class=\"col_heading level0 col2\" >icu_admit_age</th>        <th class=\"col_heading level0 col3\" >female</th>        <th class=\"col_heading level0 col4\" >CSRU</th>        <th class=\"col_heading level0 col5\" >MICU</th>        <th class=\"col_heading level0 col6\" >SICU</th>        <th class=\"col_heading level0 col7\" >TSICU</th>        <th class=\"col_heading level0 col8\" >cardio</th>        <th class=\"col_heading level0 col9\" >infection</th>        <th class=\"col_heading level0 col10\" >brain</th>        <th class=\"col_heading level0 col11\" >mental</th>        <th class=\"col_heading level0 col12\" >gastro</th>        <th class=\"col_heading level0 col13\" >trauma</th>        <th class=\"col_heading level0 col14\" >respiratory</th>        <th class=\"col_heading level0 col15\" >organ</th>        <th class=\"col_heading level0 col16\" >blood</th>        <th class=\"col_heading level0 col17\" >acute</th>        <th class=\"col_heading level0 col18\" >failure</th>        <th class=\"col_heading level0 col19\" >cancer</th>        <th class=\"col_heading level0 col20\" >back</th>        <th class=\"col_heading level0 col21\" >bone</th>        <th class=\"col_heading level0 col22\" >pain</th>        <th class=\"col_heading level0 col23\" >other</th>    </tr></thead><tbody>\n",
       "                <tr>\n",
       "                        <th id=\"T_08ef7548_1e4e_11eb_804d_482ae391c4belevel0_row0\" class=\"row_heading level0 row0\" >time</th>\n",
       "                        <td id=\"T_08ef7548_1e4e_11eb_804d_482ae391c4berow0_col0\" class=\"data row0 col0\" >1.000000</td>\n",
       "                        <td id=\"T_08ef7548_1e4e_11eb_804d_482ae391c4berow0_col1\" class=\"data row0 col1\" >0.961010</td>\n",
       "                        <td id=\"T_08ef7548_1e4e_11eb_804d_482ae391c4berow0_col2\" class=\"data row0 col2\" >0.313258</td>\n",
       "                        <td id=\"T_08ef7548_1e4e_11eb_804d_482ae391c4berow0_col3\" class=\"data row0 col3\" >0.034641</td>\n",
       "                        <td id=\"T_08ef7548_1e4e_11eb_804d_482ae391c4berow0_col4\" class=\"data row0 col4\" >0.174102</td>\n",
       "                        <td id=\"T_08ef7548_1e4e_11eb_804d_482ae391c4berow0_col5\" class=\"data row0 col5\" >0.145827</td>\n",
       "                        <td id=\"T_08ef7548_1e4e_11eb_804d_482ae391c4berow0_col6\" class=\"data row0 col6\" >0.030858</td>\n",
       "                        <td id=\"T_08ef7548_1e4e_11eb_804d_482ae391c4berow0_col7\" class=\"data row0 col7\" >0.064780</td>\n",
       "                        <td id=\"T_08ef7548_1e4e_11eb_804d_482ae391c4berow0_col8\" class=\"data row0 col8\" >0.096841</td>\n",
       "                        <td id=\"T_08ef7548_1e4e_11eb_804d_482ae391c4berow0_col9\" class=\"data row0 col9\" >0.105884</td>\n",
       "                        <td id=\"T_08ef7548_1e4e_11eb_804d_482ae391c4berow0_col10\" class=\"data row0 col10\" >0.023812</td>\n",
       "                        <td id=\"T_08ef7548_1e4e_11eb_804d_482ae391c4berow0_col11\" class=\"data row0 col11\" >0.024498</td>\n",
       "                        <td id=\"T_08ef7548_1e4e_11eb_804d_482ae391c4berow0_col12\" class=\"data row0 col12\" >0.000045</td>\n",
       "                        <td id=\"T_08ef7548_1e4e_11eb_804d_482ae391c4berow0_col13\" class=\"data row0 col13\" >0.069609</td>\n",
       "                        <td id=\"T_08ef7548_1e4e_11eb_804d_482ae391c4berow0_col14\" class=\"data row0 col14\" >0.042363</td>\n",
       "                        <td id=\"T_08ef7548_1e4e_11eb_804d_482ae391c4berow0_col15\" class=\"data row0 col15\" >0.045259</td>\n",
       "                        <td id=\"T_08ef7548_1e4e_11eb_804d_482ae391c4berow0_col16\" class=\"data row0 col16\" >0.051742</td>\n",
       "                        <td id=\"T_08ef7548_1e4e_11eb_804d_482ae391c4berow0_col17\" class=\"data row0 col17\" >0.020477</td>\n",
       "                        <td id=\"T_08ef7548_1e4e_11eb_804d_482ae391c4berow0_col18\" class=\"data row0 col18\" >0.091011</td>\n",
       "                        <td id=\"T_08ef7548_1e4e_11eb_804d_482ae391c4berow0_col19\" class=\"data row0 col19\" >0.085903</td>\n",
       "                        <td id=\"T_08ef7548_1e4e_11eb_804d_482ae391c4berow0_col20\" class=\"data row0 col20\" >0.007552</td>\n",
       "                        <td id=\"T_08ef7548_1e4e_11eb_804d_482ae391c4berow0_col21\" class=\"data row0 col21\" >0.005554</td>\n",
       "                        <td id=\"T_08ef7548_1e4e_11eb_804d_482ae391c4berow0_col22\" class=\"data row0 col22\" >0.028726</td>\n",
       "                        <td id=\"T_08ef7548_1e4e_11eb_804d_482ae391c4berow0_col23\" class=\"data row0 col23\" >0.008495</td>\n",
       "            </tr>\n",
       "            <tr>\n",
       "                        <th id=\"T_08ef7548_1e4e_11eb_804d_482ae391c4belevel0_row1\" class=\"row_heading level0 row1\" >anytime_expire_flag</th>\n",
       "                        <td id=\"T_08ef7548_1e4e_11eb_804d_482ae391c4berow1_col0\" class=\"data row1 col0\" >0.961010</td>\n",
       "                        <td id=\"T_08ef7548_1e4e_11eb_804d_482ae391c4berow1_col1\" class=\"data row1 col1\" >1.000000</td>\n",
       "                        <td id=\"T_08ef7548_1e4e_11eb_804d_482ae391c4berow1_col2\" class=\"data row1 col2\" >0.322144</td>\n",
       "                        <td id=\"T_08ef7548_1e4e_11eb_804d_482ae391c4berow1_col3\" class=\"data row1 col3\" >0.034187</td>\n",
       "                        <td id=\"T_08ef7548_1e4e_11eb_804d_482ae391c4berow1_col4\" class=\"data row1 col4\" >0.146804</td>\n",
       "                        <td id=\"T_08ef7548_1e4e_11eb_804d_482ae391c4berow1_col5\" class=\"data row1 col5\" >0.128721</td>\n",
       "                        <td id=\"T_08ef7548_1e4e_11eb_804d_482ae391c4berow1_col6\" class=\"data row1 col6\" >0.020256</td>\n",
       "                        <td id=\"T_08ef7548_1e4e_11eb_804d_482ae391c4berow1_col7\" class=\"data row1 col7\" >0.074600</td>\n",
       "                        <td id=\"T_08ef7548_1e4e_11eb_804d_482ae391c4berow1_col8\" class=\"data row1 col8\" >0.076143</td>\n",
       "                        <td id=\"T_08ef7548_1e4e_11eb_804d_482ae391c4berow1_col9\" class=\"data row1 col9\" >0.093187</td>\n",
       "                        <td id=\"T_08ef7548_1e4e_11eb_804d_482ae391c4berow1_col10\" class=\"data row1 col10\" >0.012902</td>\n",
       "                        <td id=\"T_08ef7548_1e4e_11eb_804d_482ae391c4berow1_col11\" class=\"data row1 col11\" >0.028130</td>\n",
       "                        <td id=\"T_08ef7548_1e4e_11eb_804d_482ae391c4berow1_col12\" class=\"data row1 col12\" >0.010207</td>\n",
       "                        <td id=\"T_08ef7548_1e4e_11eb_804d_482ae391c4berow1_col13\" class=\"data row1 col13\" >0.064575</td>\n",
       "                        <td id=\"T_08ef7548_1e4e_11eb_804d_482ae391c4berow1_col14\" class=\"data row1 col14\" >0.043197</td>\n",
       "                        <td id=\"T_08ef7548_1e4e_11eb_804d_482ae391c4berow1_col15\" class=\"data row1 col15\" >0.040530</td>\n",
       "                        <td id=\"T_08ef7548_1e4e_11eb_804d_482ae391c4berow1_col16\" class=\"data row1 col16\" >0.042801</td>\n",
       "                        <td id=\"T_08ef7548_1e4e_11eb_804d_482ae391c4berow1_col17\" class=\"data row1 col17\" >0.022225</td>\n",
       "                        <td id=\"T_08ef7548_1e4e_11eb_804d_482ae391c4berow1_col18\" class=\"data row1 col18\" >0.089076</td>\n",
       "                        <td id=\"T_08ef7548_1e4e_11eb_804d_482ae391c4berow1_col19\" class=\"data row1 col19\" >0.077083</td>\n",
       "                        <td id=\"T_08ef7548_1e4e_11eb_804d_482ae391c4berow1_col20\" class=\"data row1 col20\" >0.010297</td>\n",
       "                        <td id=\"T_08ef7548_1e4e_11eb_804d_482ae391c4berow1_col21\" class=\"data row1 col21\" >0.006840</td>\n",
       "                        <td id=\"T_08ef7548_1e4e_11eb_804d_482ae391c4berow1_col22\" class=\"data row1 col22\" >0.023268</td>\n",
       "                        <td id=\"T_08ef7548_1e4e_11eb_804d_482ae391c4berow1_col23\" class=\"data row1 col23\" >0.009710</td>\n",
       "            </tr>\n",
       "            <tr>\n",
       "                        <th id=\"T_08ef7548_1e4e_11eb_804d_482ae391c4belevel0_row2\" class=\"row_heading level0 row2\" >icu_admit_age</th>\n",
       "                        <td id=\"T_08ef7548_1e4e_11eb_804d_482ae391c4berow2_col0\" class=\"data row2 col0\" >0.313258</td>\n",
       "                        <td id=\"T_08ef7548_1e4e_11eb_804d_482ae391c4berow2_col1\" class=\"data row2 col1\" >0.322144</td>\n",
       "                        <td id=\"T_08ef7548_1e4e_11eb_804d_482ae391c4berow2_col2\" class=\"data row2 col2\" >1.000000</td>\n",
       "                        <td id=\"T_08ef7548_1e4e_11eb_804d_482ae391c4berow2_col3\" class=\"data row2 col3\" >0.069596</td>\n",
       "                        <td id=\"T_08ef7548_1e4e_11eb_804d_482ae391c4berow2_col4\" class=\"data row2 col4\" >0.113530</td>\n",
       "                        <td id=\"T_08ef7548_1e4e_11eb_804d_482ae391c4berow2_col5\" class=\"data row2 col5\" >0.041175</td>\n",
       "                        <td id=\"T_08ef7548_1e4e_11eb_804d_482ae391c4berow2_col6\" class=\"data row2 col6\" >0.010939</td>\n",
       "                        <td id=\"T_08ef7548_1e4e_11eb_804d_482ae391c4berow2_col7\" class=\"data row2 col7\" >0.178620</td>\n",
       "                        <td id=\"T_08ef7548_1e4e_11eb_804d_482ae391c4berow2_col8\" class=\"data row2 col8\" >0.193925</td>\n",
       "                        <td id=\"T_08ef7548_1e4e_11eb_804d_482ae391c4berow2_col9\" class=\"data row2 col9\" >0.037017</td>\n",
       "                        <td id=\"T_08ef7548_1e4e_11eb_804d_482ae391c4berow2_col10\" class=\"data row2 col10\" >0.022094</td>\n",
       "                        <td id=\"T_08ef7548_1e4e_11eb_804d_482ae391c4berow2_col11\" class=\"data row2 col11\" >0.111537</td>\n",
       "                        <td id=\"T_08ef7548_1e4e_11eb_804d_482ae391c4berow2_col12\" class=\"data row2 col12\" >0.062844</td>\n",
       "                        <td id=\"T_08ef7548_1e4e_11eb_804d_482ae391c4berow2_col13\" class=\"data row2 col13\" >0.127811</td>\n",
       "                        <td id=\"T_08ef7548_1e4e_11eb_804d_482ae391c4berow2_col14\" class=\"data row2 col14\" >0.042936</td>\n",
       "                        <td id=\"T_08ef7548_1e4e_11eb_804d_482ae391c4berow2_col15\" class=\"data row2 col15\" >0.045886</td>\n",
       "                        <td id=\"T_08ef7548_1e4e_11eb_804d_482ae391c4berow2_col16\" class=\"data row2 col16\" >0.011270</td>\n",
       "                        <td id=\"T_08ef7548_1e4e_11eb_804d_482ae391c4berow2_col17\" class=\"data row2 col17\" >0.025221</td>\n",
       "                        <td id=\"T_08ef7548_1e4e_11eb_804d_482ae391c4berow2_col18\" class=\"data row2 col18\" >0.034930</td>\n",
       "                        <td id=\"T_08ef7548_1e4e_11eb_804d_482ae391c4berow2_col19\" class=\"data row2 col19\" >0.000054</td>\n",
       "                        <td id=\"T_08ef7548_1e4e_11eb_804d_482ae391c4berow2_col20\" class=\"data row2 col20\" >0.016494</td>\n",
       "                        <td id=\"T_08ef7548_1e4e_11eb_804d_482ae391c4berow2_col21\" class=\"data row2 col21\" >0.007486</td>\n",
       "                        <td id=\"T_08ef7548_1e4e_11eb_804d_482ae391c4berow2_col22\" class=\"data row2 col22\" >0.029582</td>\n",
       "                        <td id=\"T_08ef7548_1e4e_11eb_804d_482ae391c4berow2_col23\" class=\"data row2 col23\" >0.062379</td>\n",
       "            </tr>\n",
       "            <tr>\n",
       "                        <th id=\"T_08ef7548_1e4e_11eb_804d_482ae391c4belevel0_row3\" class=\"row_heading level0 row3\" >female</th>\n",
       "                        <td id=\"T_08ef7548_1e4e_11eb_804d_482ae391c4berow3_col0\" class=\"data row3 col0\" >0.034641</td>\n",
       "                        <td id=\"T_08ef7548_1e4e_11eb_804d_482ae391c4berow3_col1\" class=\"data row3 col1\" >0.034187</td>\n",
       "                        <td id=\"T_08ef7548_1e4e_11eb_804d_482ae391c4berow3_col2\" class=\"data row3 col2\" >0.069596</td>\n",
       "                        <td id=\"T_08ef7548_1e4e_11eb_804d_482ae391c4berow3_col3\" class=\"data row3 col3\" >1.000000</td>\n",
       "                        <td id=\"T_08ef7548_1e4e_11eb_804d_482ae391c4berow3_col4\" class=\"data row3 col4\" >0.089557</td>\n",
       "                        <td id=\"T_08ef7548_1e4e_11eb_804d_482ae391c4berow3_col5\" class=\"data row3 col5\" >0.077377</td>\n",
       "                        <td id=\"T_08ef7548_1e4e_11eb_804d_482ae391c4berow3_col6\" class=\"data row3 col6\" >0.044157</td>\n",
       "                        <td id=\"T_08ef7548_1e4e_11eb_804d_482ae391c4berow3_col7\" class=\"data row3 col7\" >0.041834</td>\n",
       "                        <td id=\"T_08ef7548_1e4e_11eb_804d_482ae391c4berow3_col8\" class=\"data row3 col8\" >0.057405</td>\n",
       "                        <td id=\"T_08ef7548_1e4e_11eb_804d_482ae391c4berow3_col9\" class=\"data row3 col9\" >0.026522</td>\n",
       "                        <td id=\"T_08ef7548_1e4e_11eb_804d_482ae391c4berow3_col10\" class=\"data row3 col10\" >0.023449</td>\n",
       "                        <td id=\"T_08ef7548_1e4e_11eb_804d_482ae391c4berow3_col11\" class=\"data row3 col11\" >0.021527</td>\n",
       "                        <td id=\"T_08ef7548_1e4e_11eb_804d_482ae391c4berow3_col12\" class=\"data row3 col12\" >0.004770</td>\n",
       "                        <td id=\"T_08ef7548_1e4e_11eb_804d_482ae391c4berow3_col13\" class=\"data row3 col13\" >0.045112</td>\n",
       "                        <td id=\"T_08ef7548_1e4e_11eb_804d_482ae391c4berow3_col14\" class=\"data row3 col14\" >0.008686</td>\n",
       "                        <td id=\"T_08ef7548_1e4e_11eb_804d_482ae391c4berow3_col15\" class=\"data row3 col15\" >0.002937</td>\n",
       "                        <td id=\"T_08ef7548_1e4e_11eb_804d_482ae391c4berow3_col16\" class=\"data row3 col16\" >0.029099</td>\n",
       "                        <td id=\"T_08ef7548_1e4e_11eb_804d_482ae391c4berow3_col17\" class=\"data row3 col17\" >0.012231</td>\n",
       "                        <td id=\"T_08ef7548_1e4e_11eb_804d_482ae391c4berow3_col18\" class=\"data row3 col18\" >0.008245</td>\n",
       "                        <td id=\"T_08ef7548_1e4e_11eb_804d_482ae391c4berow3_col19\" class=\"data row3 col19\" >0.024378</td>\n",
       "                        <td id=\"T_08ef7548_1e4e_11eb_804d_482ae391c4berow3_col20\" class=\"data row3 col20\" >0.000774</td>\n",
       "                        <td id=\"T_08ef7548_1e4e_11eb_804d_482ae391c4berow3_col21\" class=\"data row3 col21\" >0.026626</td>\n",
       "                        <td id=\"T_08ef7548_1e4e_11eb_804d_482ae391c4berow3_col22\" class=\"data row3 col22\" >0.004044</td>\n",
       "                        <td id=\"T_08ef7548_1e4e_11eb_804d_482ae391c4berow3_col23\" class=\"data row3 col23\" >0.012119</td>\n",
       "            </tr>\n",
       "            <tr>\n",
       "                        <th id=\"T_08ef7548_1e4e_11eb_804d_482ae391c4belevel0_row4\" class=\"row_heading level0 row4\" >CSRU</th>\n",
       "                        <td id=\"T_08ef7548_1e4e_11eb_804d_482ae391c4berow4_col0\" class=\"data row4 col0\" >0.174102</td>\n",
       "                        <td id=\"T_08ef7548_1e4e_11eb_804d_482ae391c4berow4_col1\" class=\"data row4 col1\" >0.146804</td>\n",
       "                        <td id=\"T_08ef7548_1e4e_11eb_804d_482ae391c4berow4_col2\" class=\"data row4 col2\" >0.113530</td>\n",
       "                        <td id=\"T_08ef7548_1e4e_11eb_804d_482ae391c4berow4_col3\" class=\"data row4 col3\" >0.089557</td>\n",
       "                        <td id=\"T_08ef7548_1e4e_11eb_804d_482ae391c4berow4_col4\" class=\"data row4 col4\" >1.000000</td>\n",
       "                        <td id=\"T_08ef7548_1e4e_11eb_804d_482ae391c4berow4_col5\" class=\"data row4 col5\" >0.372953</td>\n",
       "                        <td id=\"T_08ef7548_1e4e_11eb_804d_482ae391c4berow4_col6\" class=\"data row4 col6\" >0.226430</td>\n",
       "                        <td id=\"T_08ef7548_1e4e_11eb_804d_482ae391c4berow4_col7\" class=\"data row4 col7\" >0.202767</td>\n",
       "                        <td id=\"T_08ef7548_1e4e_11eb_804d_482ae391c4berow4_col8\" class=\"data row4 col8\" >0.484036</td>\n",
       "                        <td id=\"T_08ef7548_1e4e_11eb_804d_482ae391c4berow4_col9\" class=\"data row4 col9\" >0.142876</td>\n",
       "                        <td id=\"T_08ef7548_1e4e_11eb_804d_482ae391c4berow4_col10\" class=\"data row4 col10\" >0.072709</td>\n",
       "                        <td id=\"T_08ef7548_1e4e_11eb_804d_482ae391c4berow4_col11\" class=\"data row4 col11\" >0.084771</td>\n",
       "                        <td id=\"T_08ef7548_1e4e_11eb_804d_482ae391c4berow4_col12\" class=\"data row4 col12\" >0.019899</td>\n",
       "                        <td id=\"T_08ef7548_1e4e_11eb_804d_482ae391c4berow4_col13\" class=\"data row4 col13\" >0.082936</td>\n",
       "                        <td id=\"T_08ef7548_1e4e_11eb_804d_482ae391c4berow4_col14\" class=\"data row4 col14\" >0.017976</td>\n",
       "                        <td id=\"T_08ef7548_1e4e_11eb_804d_482ae391c4berow4_col15\" class=\"data row4 col15\" >0.116103</td>\n",
       "                        <td id=\"T_08ef7548_1e4e_11eb_804d_482ae391c4berow4_col16\" class=\"data row4 col16\" >0.183416</td>\n",
       "                        <td id=\"T_08ef7548_1e4e_11eb_804d_482ae391c4berow4_col17\" class=\"data row4 col17\" >0.050936</td>\n",
       "                        <td id=\"T_08ef7548_1e4e_11eb_804d_482ae391c4berow4_col18\" class=\"data row4 col18\" >0.068411</td>\n",
       "                        <td id=\"T_08ef7548_1e4e_11eb_804d_482ae391c4berow4_col19\" class=\"data row4 col19\" >0.053427</td>\n",
       "                        <td id=\"T_08ef7548_1e4e_11eb_804d_482ae391c4berow4_col20\" class=\"data row4 col20\" >0.042661</td>\n",
       "                        <td id=\"T_08ef7548_1e4e_11eb_804d_482ae391c4berow4_col21\" class=\"data row4 col21\" >0.042015</td>\n",
       "                        <td id=\"T_08ef7548_1e4e_11eb_804d_482ae391c4berow4_col22\" class=\"data row4 col22\" >0.055018</td>\n",
       "                        <td id=\"T_08ef7548_1e4e_11eb_804d_482ae391c4berow4_col23\" class=\"data row4 col23\" >0.079698</td>\n",
       "            </tr>\n",
       "            <tr>\n",
       "                        <th id=\"T_08ef7548_1e4e_11eb_804d_482ae391c4belevel0_row5\" class=\"row_heading level0 row5\" >MICU</th>\n",
       "                        <td id=\"T_08ef7548_1e4e_11eb_804d_482ae391c4berow5_col0\" class=\"data row5 col0\" >0.145827</td>\n",
       "                        <td id=\"T_08ef7548_1e4e_11eb_804d_482ae391c4berow5_col1\" class=\"data row5 col1\" >0.128721</td>\n",
       "                        <td id=\"T_08ef7548_1e4e_11eb_804d_482ae391c4berow5_col2\" class=\"data row5 col2\" >0.041175</td>\n",
       "                        <td id=\"T_08ef7548_1e4e_11eb_804d_482ae391c4berow5_col3\" class=\"data row5 col3\" >0.077377</td>\n",
       "                        <td id=\"T_08ef7548_1e4e_11eb_804d_482ae391c4berow5_col4\" class=\"data row5 col4\" >0.372953</td>\n",
       "                        <td id=\"T_08ef7548_1e4e_11eb_804d_482ae391c4berow5_col5\" class=\"data row5 col5\" >1.000000</td>\n",
       "                        <td id=\"T_08ef7548_1e4e_11eb_804d_482ae391c4berow5_col6\" class=\"data row5 col6\" >0.322683</td>\n",
       "                        <td id=\"T_08ef7548_1e4e_11eb_804d_482ae391c4berow5_col7\" class=\"data row5 col7\" >0.288962</td>\n",
       "                        <td id=\"T_08ef7548_1e4e_11eb_804d_482ae391c4berow5_col8\" class=\"data row5 col8\" >0.309451</td>\n",
       "                        <td id=\"T_08ef7548_1e4e_11eb_804d_482ae391c4berow5_col9\" class=\"data row5 col9\" >0.270395</td>\n",
       "                        <td id=\"T_08ef7548_1e4e_11eb_804d_482ae391c4berow5_col10\" class=\"data row5 col10\" >0.139803</td>\n",
       "                        <td id=\"T_08ef7548_1e4e_11eb_804d_482ae391c4berow5_col11\" class=\"data row5 col11\" >0.159698</td>\n",
       "                        <td id=\"T_08ef7548_1e4e_11eb_804d_482ae391c4berow5_col12\" class=\"data row5 col12\" >0.122252</td>\n",
       "                        <td id=\"T_08ef7548_1e4e_11eb_804d_482ae391c4berow5_col13\" class=\"data row5 col13\" >0.183176</td>\n",
       "                        <td id=\"T_08ef7548_1e4e_11eb_804d_482ae391c4berow5_col14\" class=\"data row5 col14\" >0.028847</td>\n",
       "                        <td id=\"T_08ef7548_1e4e_11eb_804d_482ae391c4berow5_col15\" class=\"data row5 col15\" >0.094110</td>\n",
       "                        <td id=\"T_08ef7548_1e4e_11eb_804d_482ae391c4berow5_col16\" class=\"data row5 col16\" >0.155816</td>\n",
       "                        <td id=\"T_08ef7548_1e4e_11eb_804d_482ae391c4berow5_col17\" class=\"data row5 col17\" >0.001236</td>\n",
       "                        <td id=\"T_08ef7548_1e4e_11eb_804d_482ae391c4berow5_col18\" class=\"data row5 col18\" >0.076438</td>\n",
       "                        <td id=\"T_08ef7548_1e4e_11eb_804d_482ae391c4berow5_col19\" class=\"data row5 col19\" >0.071851</td>\n",
       "                        <td id=\"T_08ef7548_1e4e_11eb_804d_482ae391c4berow5_col20\" class=\"data row5 col20\" >0.030748</td>\n",
       "                        <td id=\"T_08ef7548_1e4e_11eb_804d_482ae391c4berow5_col21\" class=\"data row5 col21\" >0.028936</td>\n",
       "                        <td id=\"T_08ef7548_1e4e_11eb_804d_482ae391c4berow5_col22\" class=\"data row5 col22\" >0.053771</td>\n",
       "                        <td id=\"T_08ef7548_1e4e_11eb_804d_482ae391c4berow5_col23\" class=\"data row5 col23\" >0.030363</td>\n",
       "            </tr>\n",
       "            <tr>\n",
       "                        <th id=\"T_08ef7548_1e4e_11eb_804d_482ae391c4belevel0_row6\" class=\"row_heading level0 row6\" >SICU</th>\n",
       "                        <td id=\"T_08ef7548_1e4e_11eb_804d_482ae391c4berow6_col0\" class=\"data row6 col0\" >0.030858</td>\n",
       "                        <td id=\"T_08ef7548_1e4e_11eb_804d_482ae391c4berow6_col1\" class=\"data row6 col1\" >0.020256</td>\n",
       "                        <td id=\"T_08ef7548_1e4e_11eb_804d_482ae391c4berow6_col2\" class=\"data row6 col2\" >0.010939</td>\n",
       "                        <td id=\"T_08ef7548_1e4e_11eb_804d_482ae391c4berow6_col3\" class=\"data row6 col3\" >0.044157</td>\n",
       "                        <td id=\"T_08ef7548_1e4e_11eb_804d_482ae391c4berow6_col4\" class=\"data row6 col4\" >0.226430</td>\n",
       "                        <td id=\"T_08ef7548_1e4e_11eb_804d_482ae391c4berow6_col5\" class=\"data row6 col5\" >0.322683</td>\n",
       "                        <td id=\"T_08ef7548_1e4e_11eb_804d_482ae391c4berow6_col6\" class=\"data row6 col6\" >1.000000</td>\n",
       "                        <td id=\"T_08ef7548_1e4e_11eb_804d_482ae391c4berow6_col7\" class=\"data row6 col7\" >0.175437</td>\n",
       "                        <td id=\"T_08ef7548_1e4e_11eb_804d_482ae391c4berow6_col8\" class=\"data row6 col8\" >0.189126</td>\n",
       "                        <td id=\"T_08ef7548_1e4e_11eb_804d_482ae391c4berow6_col9\" class=\"data row6 col9\" >0.051630</td>\n",
       "                        <td id=\"T_08ef7548_1e4e_11eb_804d_482ae391c4berow6_col10\" class=\"data row6 col10\" >0.257437</td>\n",
       "                        <td id=\"T_08ef7548_1e4e_11eb_804d_482ae391c4berow6_col11\" class=\"data row6 col11\" >0.017412</td>\n",
       "                        <td id=\"T_08ef7548_1e4e_11eb_804d_482ae391c4berow6_col12\" class=\"data row6 col12\" >0.037651</td>\n",
       "                        <td id=\"T_08ef7548_1e4e_11eb_804d_482ae391c4berow6_col13\" class=\"data row6 col13\" >0.022969</td>\n",
       "                        <td id=\"T_08ef7548_1e4e_11eb_804d_482ae391c4berow6_col14\" class=\"data row6 col14\" >0.066388</td>\n",
       "                        <td id=\"T_08ef7548_1e4e_11eb_804d_482ae391c4berow6_col15\" class=\"data row6 col15\" >0.072569</td>\n",
       "                        <td id=\"T_08ef7548_1e4e_11eb_804d_482ae391c4berow6_col16\" class=\"data row6 col16\" >0.100465</td>\n",
       "                        <td id=\"T_08ef7548_1e4e_11eb_804d_482ae391c4berow6_col17\" class=\"data row6 col17\" >0.011307</td>\n",
       "                        <td id=\"T_08ef7548_1e4e_11eb_804d_482ae391c4berow6_col18\" class=\"data row6 col18\" >0.030080</td>\n",
       "                        <td id=\"T_08ef7548_1e4e_11eb_804d_482ae391c4berow6_col19\" class=\"data row6 col19\" >0.004997</td>\n",
       "                        <td id=\"T_08ef7548_1e4e_11eb_804d_482ae391c4berow6_col20\" class=\"data row6 col20\" >0.044405</td>\n",
       "                        <td id=\"T_08ef7548_1e4e_11eb_804d_482ae391c4berow6_col21\" class=\"data row6 col21\" >0.019147</td>\n",
       "                        <td id=\"T_08ef7548_1e4e_11eb_804d_482ae391c4berow6_col22\" class=\"data row6 col22\" >0.037959</td>\n",
       "                        <td id=\"T_08ef7548_1e4e_11eb_804d_482ae391c4berow6_col23\" class=\"data row6 col23\" >0.078508</td>\n",
       "            </tr>\n",
       "            <tr>\n",
       "                        <th id=\"T_08ef7548_1e4e_11eb_804d_482ae391c4belevel0_row7\" class=\"row_heading level0 row7\" >TSICU</th>\n",
       "                        <td id=\"T_08ef7548_1e4e_11eb_804d_482ae391c4berow7_col0\" class=\"data row7 col0\" >0.064780</td>\n",
       "                        <td id=\"T_08ef7548_1e4e_11eb_804d_482ae391c4berow7_col1\" class=\"data row7 col1\" >0.074600</td>\n",
       "                        <td id=\"T_08ef7548_1e4e_11eb_804d_482ae391c4berow7_col2\" class=\"data row7 col2\" >0.178620</td>\n",
       "                        <td id=\"T_08ef7548_1e4e_11eb_804d_482ae391c4berow7_col3\" class=\"data row7 col3\" >0.041834</td>\n",
       "                        <td id=\"T_08ef7548_1e4e_11eb_804d_482ae391c4berow7_col4\" class=\"data row7 col4\" >0.202767</td>\n",
       "                        <td id=\"T_08ef7548_1e4e_11eb_804d_482ae391c4berow7_col5\" class=\"data row7 col5\" >0.288962</td>\n",
       "                        <td id=\"T_08ef7548_1e4e_11eb_804d_482ae391c4berow7_col6\" class=\"data row7 col6\" >0.175437</td>\n",
       "                        <td id=\"T_08ef7548_1e4e_11eb_804d_482ae391c4berow7_col7\" class=\"data row7 col7\" >1.000000</td>\n",
       "                        <td id=\"T_08ef7548_1e4e_11eb_804d_482ae391c4berow7_col8\" class=\"data row7 col8\" >0.222881</td>\n",
       "                        <td id=\"T_08ef7548_1e4e_11eb_804d_482ae391c4berow7_col9\" class=\"data row7 col9\" >0.085668</td>\n",
       "                        <td id=\"T_08ef7548_1e4e_11eb_804d_482ae391c4berow7_col10\" class=\"data row7 col10\" >0.106069</td>\n",
       "                        <td id=\"T_08ef7548_1e4e_11eb_804d_482ae391c4berow7_col11\" class=\"data row7 col11\" >0.053202</td>\n",
       "                        <td id=\"T_08ef7548_1e4e_11eb_804d_482ae391c4berow7_col12\" class=\"data row7 col12\" >0.086962</td>\n",
       "                        <td id=\"T_08ef7548_1e4e_11eb_804d_482ae391c4berow7_col13\" class=\"data row7 col13\" >0.468310</td>\n",
       "                        <td id=\"T_08ef7548_1e4e_11eb_804d_482ae391c4berow7_col14\" class=\"data row7 col14\" >0.062308</td>\n",
       "                        <td id=\"T_08ef7548_1e4e_11eb_804d_482ae391c4berow7_col15\" class=\"data row7 col15\" >0.014406</td>\n",
       "                        <td id=\"T_08ef7548_1e4e_11eb_804d_482ae391c4berow7_col16\" class=\"data row7 col16\" >0.008351</td>\n",
       "                        <td id=\"T_08ef7548_1e4e_11eb_804d_482ae391c4berow7_col17\" class=\"data row7 col17\" >0.046074</td>\n",
       "                        <td id=\"T_08ef7548_1e4e_11eb_804d_482ae391c4berow7_col18\" class=\"data row7 col18\" >0.076115</td>\n",
       "                        <td id=\"T_08ef7548_1e4e_11eb_804d_482ae391c4berow7_col19\" class=\"data row7 col19\" >0.006918</td>\n",
       "                        <td id=\"T_08ef7548_1e4e_11eb_804d_482ae391c4berow7_col20\" class=\"data row7 col20\" >0.077167</td>\n",
       "                        <td id=\"T_08ef7548_1e4e_11eb_804d_482ae391c4berow7_col21\" class=\"data row7 col21\" >0.054167</td>\n",
       "                        <td id=\"T_08ef7548_1e4e_11eb_804d_482ae391c4berow7_col22\" class=\"data row7 col22\" >0.065740</td>\n",
       "                        <td id=\"T_08ef7548_1e4e_11eb_804d_482ae391c4berow7_col23\" class=\"data row7 col23\" >0.017315</td>\n",
       "            </tr>\n",
       "            <tr>\n",
       "                        <th id=\"T_08ef7548_1e4e_11eb_804d_482ae391c4belevel0_row8\" class=\"row_heading level0 row8\" >cardio</th>\n",
       "                        <td id=\"T_08ef7548_1e4e_11eb_804d_482ae391c4berow8_col0\" class=\"data row8 col0\" >0.096841</td>\n",
       "                        <td id=\"T_08ef7548_1e4e_11eb_804d_482ae391c4berow8_col1\" class=\"data row8 col1\" >0.076143</td>\n",
       "                        <td id=\"T_08ef7548_1e4e_11eb_804d_482ae391c4berow8_col2\" class=\"data row8 col2\" >0.193925</td>\n",
       "                        <td id=\"T_08ef7548_1e4e_11eb_804d_482ae391c4berow8_col3\" class=\"data row8 col3\" >0.057405</td>\n",
       "                        <td id=\"T_08ef7548_1e4e_11eb_804d_482ae391c4berow8_col4\" class=\"data row8 col4\" >0.484036</td>\n",
       "                        <td id=\"T_08ef7548_1e4e_11eb_804d_482ae391c4berow8_col5\" class=\"data row8 col5\" >0.309451</td>\n",
       "                        <td id=\"T_08ef7548_1e4e_11eb_804d_482ae391c4berow8_col6\" class=\"data row8 col6\" >0.189126</td>\n",
       "                        <td id=\"T_08ef7548_1e4e_11eb_804d_482ae391c4berow8_col7\" class=\"data row8 col7\" >0.222881</td>\n",
       "                        <td id=\"T_08ef7548_1e4e_11eb_804d_482ae391c4berow8_col8\" class=\"data row8 col8\" >1.000000</td>\n",
       "                        <td id=\"T_08ef7548_1e4e_11eb_804d_482ae391c4berow8_col9\" class=\"data row8 col9\" >0.183943</td>\n",
       "                        <td id=\"T_08ef7548_1e4e_11eb_804d_482ae391c4berow8_col10\" class=\"data row8 col10\" >0.139979</td>\n",
       "                        <td id=\"T_08ef7548_1e4e_11eb_804d_482ae391c4berow8_col11\" class=\"data row8 col11\" >0.120600</td>\n",
       "                        <td id=\"T_08ef7548_1e4e_11eb_804d_482ae391c4berow8_col12\" class=\"data row8 col12\" >0.028221</td>\n",
       "                        <td id=\"T_08ef7548_1e4e_11eb_804d_482ae391c4berow8_col13\" class=\"data row8 col13\" >0.144515</td>\n",
       "                        <td id=\"T_08ef7548_1e4e_11eb_804d_482ae391c4berow8_col14\" class=\"data row8 col14\" >0.117891</td>\n",
       "                        <td id=\"T_08ef7548_1e4e_11eb_804d_482ae391c4berow8_col15\" class=\"data row8 col15\" >0.145904</td>\n",
       "                        <td id=\"T_08ef7548_1e4e_11eb_804d_482ae391c4berow8_col16\" class=\"data row8 col16\" >0.242354</td>\n",
       "                        <td id=\"T_08ef7548_1e4e_11eb_804d_482ae391c4berow8_col17\" class=\"data row8 col17\" >0.049309</td>\n",
       "                        <td id=\"T_08ef7548_1e4e_11eb_804d_482ae391c4berow8_col18\" class=\"data row8 col18\" >0.075648</td>\n",
       "                        <td id=\"T_08ef7548_1e4e_11eb_804d_482ae391c4berow8_col19\" class=\"data row8 col19\" >0.091187</td>\n",
       "                        <td id=\"T_08ef7548_1e4e_11eb_804d_482ae391c4berow8_col20\" class=\"data row8 col20\" >0.064515</td>\n",
       "                        <td id=\"T_08ef7548_1e4e_11eb_804d_482ae391c4berow8_col21\" class=\"data row8 col21\" >0.067313</td>\n",
       "                        <td id=\"T_08ef7548_1e4e_11eb_804d_482ae391c4berow8_col22\" class=\"data row8 col22\" >0.073570</td>\n",
       "                        <td id=\"T_08ef7548_1e4e_11eb_804d_482ae391c4berow8_col23\" class=\"data row8 col23\" >0.283529</td>\n",
       "            </tr>\n",
       "            <tr>\n",
       "                        <th id=\"T_08ef7548_1e4e_11eb_804d_482ae391c4belevel0_row9\" class=\"row_heading level0 row9\" >infection</th>\n",
       "                        <td id=\"T_08ef7548_1e4e_11eb_804d_482ae391c4berow9_col0\" class=\"data row9 col0\" >0.105884</td>\n",
       "                        <td id=\"T_08ef7548_1e4e_11eb_804d_482ae391c4berow9_col1\" class=\"data row9 col1\" >0.093187</td>\n",
       "                        <td id=\"T_08ef7548_1e4e_11eb_804d_482ae391c4berow9_col2\" class=\"data row9 col2\" >0.037017</td>\n",
       "                        <td id=\"T_08ef7548_1e4e_11eb_804d_482ae391c4berow9_col3\" class=\"data row9 col3\" >0.026522</td>\n",
       "                        <td id=\"T_08ef7548_1e4e_11eb_804d_482ae391c4berow9_col4\" class=\"data row9 col4\" >0.142876</td>\n",
       "                        <td id=\"T_08ef7548_1e4e_11eb_804d_482ae391c4berow9_col5\" class=\"data row9 col5\" >0.270395</td>\n",
       "                        <td id=\"T_08ef7548_1e4e_11eb_804d_482ae391c4berow9_col6\" class=\"data row9 col6\" >0.051630</td>\n",
       "                        <td id=\"T_08ef7548_1e4e_11eb_804d_482ae391c4berow9_col7\" class=\"data row9 col7\" >0.085668</td>\n",
       "                        <td id=\"T_08ef7548_1e4e_11eb_804d_482ae391c4berow9_col8\" class=\"data row9 col8\" >0.183943</td>\n",
       "                        <td id=\"T_08ef7548_1e4e_11eb_804d_482ae391c4berow9_col9\" class=\"data row9 col9\" >1.000000</td>\n",
       "                        <td id=\"T_08ef7548_1e4e_11eb_804d_482ae391c4berow9_col10\" class=\"data row9 col10\" >0.092366</td>\n",
       "                        <td id=\"T_08ef7548_1e4e_11eb_804d_482ae391c4berow9_col11\" class=\"data row9 col11\" >0.031347</td>\n",
       "                        <td id=\"T_08ef7548_1e4e_11eb_804d_482ae391c4berow9_col12\" class=\"data row9 col12\" >0.078185</td>\n",
       "                        <td id=\"T_08ef7548_1e4e_11eb_804d_482ae391c4berow9_col13\" class=\"data row9 col13\" >0.100293</td>\n",
       "                        <td id=\"T_08ef7548_1e4e_11eb_804d_482ae391c4berow9_col14\" class=\"data row9 col14\" >0.073874</td>\n",
       "                        <td id=\"T_08ef7548_1e4e_11eb_804d_482ae391c4berow9_col15\" class=\"data row9 col15\" >0.030543</td>\n",
       "                        <td id=\"T_08ef7548_1e4e_11eb_804d_482ae391c4berow9_col16\" class=\"data row9 col16\" >0.102963</td>\n",
       "                        <td id=\"T_08ef7548_1e4e_11eb_804d_482ae391c4berow9_col17\" class=\"data row9 col17\" >0.021177</td>\n",
       "                        <td id=\"T_08ef7548_1e4e_11eb_804d_482ae391c4berow9_col18\" class=\"data row9 col18\" >0.017096</td>\n",
       "                        <td id=\"T_08ef7548_1e4e_11eb_804d_482ae391c4berow9_col19\" class=\"data row9 col19\" >0.029064</td>\n",
       "                        <td id=\"T_08ef7548_1e4e_11eb_804d_482ae391c4berow9_col20\" class=\"data row9 col20\" >0.016027</td>\n",
       "                        <td id=\"T_08ef7548_1e4e_11eb_804d_482ae391c4berow9_col21\" class=\"data row9 col21\" >0.016961</td>\n",
       "                        <td id=\"T_08ef7548_1e4e_11eb_804d_482ae391c4berow9_col22\" class=\"data row9 col22\" >0.055697</td>\n",
       "                        <td id=\"T_08ef7548_1e4e_11eb_804d_482ae391c4berow9_col23\" class=\"data row9 col23\" >0.131516</td>\n",
       "            </tr>\n",
       "            <tr>\n",
       "                        <th id=\"T_08ef7548_1e4e_11eb_804d_482ae391c4belevel0_row10\" class=\"row_heading level0 row10\" >brain</th>\n",
       "                        <td id=\"T_08ef7548_1e4e_11eb_804d_482ae391c4berow10_col0\" class=\"data row10 col0\" >0.023812</td>\n",
       "                        <td id=\"T_08ef7548_1e4e_11eb_804d_482ae391c4berow10_col1\" class=\"data row10 col1\" >0.012902</td>\n",
       "                        <td id=\"T_08ef7548_1e4e_11eb_804d_482ae391c4berow10_col2\" class=\"data row10 col2\" >0.022094</td>\n",
       "                        <td id=\"T_08ef7548_1e4e_11eb_804d_482ae391c4berow10_col3\" class=\"data row10 col3\" >0.023449</td>\n",
       "                        <td id=\"T_08ef7548_1e4e_11eb_804d_482ae391c4berow10_col4\" class=\"data row10 col4\" >0.072709</td>\n",
       "                        <td id=\"T_08ef7548_1e4e_11eb_804d_482ae391c4berow10_col5\" class=\"data row10 col5\" >0.139803</td>\n",
       "                        <td id=\"T_08ef7548_1e4e_11eb_804d_482ae391c4berow10_col6\" class=\"data row10 col6\" >0.257437</td>\n",
       "                        <td id=\"T_08ef7548_1e4e_11eb_804d_482ae391c4berow10_col7\" class=\"data row10 col7\" >0.106069</td>\n",
       "                        <td id=\"T_08ef7548_1e4e_11eb_804d_482ae391c4berow10_col8\" class=\"data row10 col8\" >0.139979</td>\n",
       "                        <td id=\"T_08ef7548_1e4e_11eb_804d_482ae391c4berow10_col9\" class=\"data row10 col9\" >0.092366</td>\n",
       "                        <td id=\"T_08ef7548_1e4e_11eb_804d_482ae391c4berow10_col10\" class=\"data row10 col10\" >1.000000</td>\n",
       "                        <td id=\"T_08ef7548_1e4e_11eb_804d_482ae391c4berow10_col11\" class=\"data row10 col11\" >0.053029</td>\n",
       "                        <td id=\"T_08ef7548_1e4e_11eb_804d_482ae391c4berow10_col12\" class=\"data row10 col12\" >0.049628</td>\n",
       "                        <td id=\"T_08ef7548_1e4e_11eb_804d_482ae391c4berow10_col13\" class=\"data row10 col13\" >0.003134</td>\n",
       "                        <td id=\"T_08ef7548_1e4e_11eb_804d_482ae391c4berow10_col14\" class=\"data row10 col14\" >0.096654</td>\n",
       "                        <td id=\"T_08ef7548_1e4e_11eb_804d_482ae391c4berow10_col15\" class=\"data row10 col15\" >0.074162</td>\n",
       "                        <td id=\"T_08ef7548_1e4e_11eb_804d_482ae391c4berow10_col16\" class=\"data row10 col16\" >0.309384</td>\n",
       "                        <td id=\"T_08ef7548_1e4e_11eb_804d_482ae391c4berow10_col17\" class=\"data row10 col17\" >0.052003</td>\n",
       "                        <td id=\"T_08ef7548_1e4e_11eb_804d_482ae391c4berow10_col18\" class=\"data row10 col18\" >0.073188</td>\n",
       "                        <td id=\"T_08ef7548_1e4e_11eb_804d_482ae391c4berow10_col19\" class=\"data row10 col19\" >0.029566</td>\n",
       "                        <td id=\"T_08ef7548_1e4e_11eb_804d_482ae391c4berow10_col20\" class=\"data row10 col20\" >0.023467</td>\n",
       "                        <td id=\"T_08ef7548_1e4e_11eb_804d_482ae391c4berow10_col21\" class=\"data row10 col21\" >0.026014</td>\n",
       "                        <td id=\"T_08ef7548_1e4e_11eb_804d_482ae391c4berow10_col22\" class=\"data row10 col22\" >0.071573</td>\n",
       "                        <td id=\"T_08ef7548_1e4e_11eb_804d_482ae391c4berow10_col23\" class=\"data row10 col23\" >0.127732</td>\n",
       "            </tr>\n",
       "            <tr>\n",
       "                        <th id=\"T_08ef7548_1e4e_11eb_804d_482ae391c4belevel0_row11\" class=\"row_heading level0 row11\" >mental</th>\n",
       "                        <td id=\"T_08ef7548_1e4e_11eb_804d_482ae391c4berow11_col0\" class=\"data row11 col0\" >0.024498</td>\n",
       "                        <td id=\"T_08ef7548_1e4e_11eb_804d_482ae391c4berow11_col1\" class=\"data row11 col1\" >0.028130</td>\n",
       "                        <td id=\"T_08ef7548_1e4e_11eb_804d_482ae391c4berow11_col2\" class=\"data row11 col2\" >0.111537</td>\n",
       "                        <td id=\"T_08ef7548_1e4e_11eb_804d_482ae391c4berow11_col3\" class=\"data row11 col3\" >0.021527</td>\n",
       "                        <td id=\"T_08ef7548_1e4e_11eb_804d_482ae391c4berow11_col4\" class=\"data row11 col4\" >0.084771</td>\n",
       "                        <td id=\"T_08ef7548_1e4e_11eb_804d_482ae391c4berow11_col5\" class=\"data row11 col5\" >0.159698</td>\n",
       "                        <td id=\"T_08ef7548_1e4e_11eb_804d_482ae391c4berow11_col6\" class=\"data row11 col6\" >0.017412</td>\n",
       "                        <td id=\"T_08ef7548_1e4e_11eb_804d_482ae391c4berow11_col7\" class=\"data row11 col7\" >0.053202</td>\n",
       "                        <td id=\"T_08ef7548_1e4e_11eb_804d_482ae391c4berow11_col8\" class=\"data row11 col8\" >0.120600</td>\n",
       "                        <td id=\"T_08ef7548_1e4e_11eb_804d_482ae391c4berow11_col9\" class=\"data row11 col9\" >0.031347</td>\n",
       "                        <td id=\"T_08ef7548_1e4e_11eb_804d_482ae391c4berow11_col10\" class=\"data row11 col10\" >0.053029</td>\n",
       "                        <td id=\"T_08ef7548_1e4e_11eb_804d_482ae391c4berow11_col11\" class=\"data row11 col11\" >1.000000</td>\n",
       "                        <td id=\"T_08ef7548_1e4e_11eb_804d_482ae391c4berow11_col12\" class=\"data row11 col12\" >0.055799</td>\n",
       "                        <td id=\"T_08ef7548_1e4e_11eb_804d_482ae391c4berow11_col13\" class=\"data row11 col13\" >0.057188</td>\n",
       "                        <td id=\"T_08ef7548_1e4e_11eb_804d_482ae391c4berow11_col14\" class=\"data row11 col14\" >0.038941</td>\n",
       "                        <td id=\"T_08ef7548_1e4e_11eb_804d_482ae391c4berow11_col15\" class=\"data row11 col15\" >0.032752</td>\n",
       "                        <td id=\"T_08ef7548_1e4e_11eb_804d_482ae391c4berow11_col16\" class=\"data row11 col16\" >0.060159</td>\n",
       "                        <td id=\"T_08ef7548_1e4e_11eb_804d_482ae391c4berow11_col17\" class=\"data row11 col17\" >0.019393</td>\n",
       "                        <td id=\"T_08ef7548_1e4e_11eb_804d_482ae391c4berow11_col18\" class=\"data row11 col18\" >0.024585</td>\n",
       "                        <td id=\"T_08ef7548_1e4e_11eb_804d_482ae391c4berow11_col19\" class=\"data row11 col19\" >0.002148</td>\n",
       "                        <td id=\"T_08ef7548_1e4e_11eb_804d_482ae391c4berow11_col20\" class=\"data row11 col20\" >0.017776</td>\n",
       "                        <td id=\"T_08ef7548_1e4e_11eb_804d_482ae391c4berow11_col21\" class=\"data row11 col21\" >0.019810</td>\n",
       "                        <td id=\"T_08ef7548_1e4e_11eb_804d_482ae391c4berow11_col22\" class=\"data row11 col22\" >0.042718</td>\n",
       "                        <td id=\"T_08ef7548_1e4e_11eb_804d_482ae391c4berow11_col23\" class=\"data row11 col23\" >0.079201</td>\n",
       "            </tr>\n",
       "            <tr>\n",
       "                        <th id=\"T_08ef7548_1e4e_11eb_804d_482ae391c4belevel0_row12\" class=\"row_heading level0 row12\" >gastro</th>\n",
       "                        <td id=\"T_08ef7548_1e4e_11eb_804d_482ae391c4berow12_col0\" class=\"data row12 col0\" >0.000045</td>\n",
       "                        <td id=\"T_08ef7548_1e4e_11eb_804d_482ae391c4berow12_col1\" class=\"data row12 col1\" >0.010207</td>\n",
       "                        <td id=\"T_08ef7548_1e4e_11eb_804d_482ae391c4berow12_col2\" class=\"data row12 col2\" >0.062844</td>\n",
       "                        <td id=\"T_08ef7548_1e4e_11eb_804d_482ae391c4berow12_col3\" class=\"data row12 col3\" >0.004770</td>\n",
       "                        <td id=\"T_08ef7548_1e4e_11eb_804d_482ae391c4berow12_col4\" class=\"data row12 col4\" >0.019899</td>\n",
       "                        <td id=\"T_08ef7548_1e4e_11eb_804d_482ae391c4berow12_col5\" class=\"data row12 col5\" >0.122252</td>\n",
       "                        <td id=\"T_08ef7548_1e4e_11eb_804d_482ae391c4berow12_col6\" class=\"data row12 col6\" >0.037651</td>\n",
       "                        <td id=\"T_08ef7548_1e4e_11eb_804d_482ae391c4berow12_col7\" class=\"data row12 col7\" >0.086962</td>\n",
       "                        <td id=\"T_08ef7548_1e4e_11eb_804d_482ae391c4berow12_col8\" class=\"data row12 col8\" >0.028221</td>\n",
       "                        <td id=\"T_08ef7548_1e4e_11eb_804d_482ae391c4berow12_col9\" class=\"data row12 col9\" >0.078185</td>\n",
       "                        <td id=\"T_08ef7548_1e4e_11eb_804d_482ae391c4berow12_col10\" class=\"data row12 col10\" >0.049628</td>\n",
       "                        <td id=\"T_08ef7548_1e4e_11eb_804d_482ae391c4berow12_col11\" class=\"data row12 col11\" >0.055799</td>\n",
       "                        <td id=\"T_08ef7548_1e4e_11eb_804d_482ae391c4berow12_col12\" class=\"data row12 col12\" >1.000000</td>\n",
       "                        <td id=\"T_08ef7548_1e4e_11eb_804d_482ae391c4berow12_col13\" class=\"data row12 col13\" >0.002457</td>\n",
       "                        <td id=\"T_08ef7548_1e4e_11eb_804d_482ae391c4berow12_col14\" class=\"data row12 col14\" >0.088010</td>\n",
       "                        <td id=\"T_08ef7548_1e4e_11eb_804d_482ae391c4berow12_col15\" class=\"data row12 col15\" >0.014334</td>\n",
       "                        <td id=\"T_08ef7548_1e4e_11eb_804d_482ae391c4berow12_col16\" class=\"data row12 col16\" >0.312181</td>\n",
       "                        <td id=\"T_08ef7548_1e4e_11eb_804d_482ae391c4berow12_col17\" class=\"data row12 col17\" >0.055033</td>\n",
       "                        <td id=\"T_08ef7548_1e4e_11eb_804d_482ae391c4berow12_col18\" class=\"data row12 col18\" >0.065878</td>\n",
       "                        <td id=\"T_08ef7548_1e4e_11eb_804d_482ae391c4berow12_col19\" class=\"data row12 col19\" >0.040623</td>\n",
       "                        <td id=\"T_08ef7548_1e4e_11eb_804d_482ae391c4berow12_col20\" class=\"data row12 col20\" >0.035196</td>\n",
       "                        <td id=\"T_08ef7548_1e4e_11eb_804d_482ae391c4berow12_col21\" class=\"data row12 col21\" >0.034808</td>\n",
       "                        <td id=\"T_08ef7548_1e4e_11eb_804d_482ae391c4berow12_col22\" class=\"data row12 col22\" >0.091700</td>\n",
       "                        <td id=\"T_08ef7548_1e4e_11eb_804d_482ae391c4berow12_col23\" class=\"data row12 col23\" >0.144537</td>\n",
       "            </tr>\n",
       "            <tr>\n",
       "                        <th id=\"T_08ef7548_1e4e_11eb_804d_482ae391c4belevel0_row13\" class=\"row_heading level0 row13\" >trauma</th>\n",
       "                        <td id=\"T_08ef7548_1e4e_11eb_804d_482ae391c4berow13_col0\" class=\"data row13 col0\" >0.069609</td>\n",
       "                        <td id=\"T_08ef7548_1e4e_11eb_804d_482ae391c4berow13_col1\" class=\"data row13 col1\" >0.064575</td>\n",
       "                        <td id=\"T_08ef7548_1e4e_11eb_804d_482ae391c4berow13_col2\" class=\"data row13 col2\" >0.127811</td>\n",
       "                        <td id=\"T_08ef7548_1e4e_11eb_804d_482ae391c4berow13_col3\" class=\"data row13 col3\" >0.045112</td>\n",
       "                        <td id=\"T_08ef7548_1e4e_11eb_804d_482ae391c4berow13_col4\" class=\"data row13 col4\" >0.082936</td>\n",
       "                        <td id=\"T_08ef7548_1e4e_11eb_804d_482ae391c4berow13_col5\" class=\"data row13 col5\" >0.183176</td>\n",
       "                        <td id=\"T_08ef7548_1e4e_11eb_804d_482ae391c4berow13_col6\" class=\"data row13 col6\" >0.022969</td>\n",
       "                        <td id=\"T_08ef7548_1e4e_11eb_804d_482ae391c4berow13_col7\" class=\"data row13 col7\" >0.468310</td>\n",
       "                        <td id=\"T_08ef7548_1e4e_11eb_804d_482ae391c4berow13_col8\" class=\"data row13 col8\" >0.144515</td>\n",
       "                        <td id=\"T_08ef7548_1e4e_11eb_804d_482ae391c4berow13_col9\" class=\"data row13 col9\" >0.100293</td>\n",
       "                        <td id=\"T_08ef7548_1e4e_11eb_804d_482ae391c4berow13_col10\" class=\"data row13 col10\" >0.003134</td>\n",
       "                        <td id=\"T_08ef7548_1e4e_11eb_804d_482ae391c4berow13_col11\" class=\"data row13 col11\" >0.057188</td>\n",
       "                        <td id=\"T_08ef7548_1e4e_11eb_804d_482ae391c4berow13_col12\" class=\"data row13 col12\" >0.002457</td>\n",
       "                        <td id=\"T_08ef7548_1e4e_11eb_804d_482ae391c4berow13_col13\" class=\"data row13 col13\" >1.000000</td>\n",
       "                        <td id=\"T_08ef7548_1e4e_11eb_804d_482ae391c4berow13_col14\" class=\"data row13 col14\" >0.088959</td>\n",
       "                        <td id=\"T_08ef7548_1e4e_11eb_804d_482ae391c4berow13_col15\" class=\"data row13 col15\" >0.069788</td>\n",
       "                        <td id=\"T_08ef7548_1e4e_11eb_804d_482ae391c4berow13_col16\" class=\"data row13 col16\" >0.090549</td>\n",
       "                        <td id=\"T_08ef7548_1e4e_11eb_804d_482ae391c4berow13_col17\" class=\"data row13 col17\" >0.027547</td>\n",
       "                        <td id=\"T_08ef7548_1e4e_11eb_804d_482ae391c4berow13_col18\" class=\"data row13 col18\" >0.074742</td>\n",
       "                        <td id=\"T_08ef7548_1e4e_11eb_804d_482ae391c4berow13_col19\" class=\"data row13 col19\" >0.044968</td>\n",
       "                        <td id=\"T_08ef7548_1e4e_11eb_804d_482ae391c4berow13_col20\" class=\"data row13 col20\" >0.032338</td>\n",
       "                        <td id=\"T_08ef7548_1e4e_11eb_804d_482ae391c4berow13_col21\" class=\"data row13 col21\" >0.150154</td>\n",
       "                        <td id=\"T_08ef7548_1e4e_11eb_804d_482ae391c4berow13_col22\" class=\"data row13 col22\" >0.070053</td>\n",
       "                        <td id=\"T_08ef7548_1e4e_11eb_804d_482ae391c4berow13_col23\" class=\"data row13 col23\" >0.134285</td>\n",
       "            </tr>\n",
       "            <tr>\n",
       "                        <th id=\"T_08ef7548_1e4e_11eb_804d_482ae391c4belevel0_row14\" class=\"row_heading level0 row14\" >respiratory</th>\n",
       "                        <td id=\"T_08ef7548_1e4e_11eb_804d_482ae391c4berow14_col0\" class=\"data row14 col0\" >0.042363</td>\n",
       "                        <td id=\"T_08ef7548_1e4e_11eb_804d_482ae391c4berow14_col1\" class=\"data row14 col1\" >0.043197</td>\n",
       "                        <td id=\"T_08ef7548_1e4e_11eb_804d_482ae391c4berow14_col2\" class=\"data row14 col2\" >0.042936</td>\n",
       "                        <td id=\"T_08ef7548_1e4e_11eb_804d_482ae391c4berow14_col3\" class=\"data row14 col3\" >0.008686</td>\n",
       "                        <td id=\"T_08ef7548_1e4e_11eb_804d_482ae391c4berow14_col4\" class=\"data row14 col4\" >0.017976</td>\n",
       "                        <td id=\"T_08ef7548_1e4e_11eb_804d_482ae391c4berow14_col5\" class=\"data row14 col5\" >0.028847</td>\n",
       "                        <td id=\"T_08ef7548_1e4e_11eb_804d_482ae391c4berow14_col6\" class=\"data row14 col6\" >0.066388</td>\n",
       "                        <td id=\"T_08ef7548_1e4e_11eb_804d_482ae391c4berow14_col7\" class=\"data row14 col7\" >0.062308</td>\n",
       "                        <td id=\"T_08ef7548_1e4e_11eb_804d_482ae391c4berow14_col8\" class=\"data row14 col8\" >0.117891</td>\n",
       "                        <td id=\"T_08ef7548_1e4e_11eb_804d_482ae391c4berow14_col9\" class=\"data row14 col9\" >0.073874</td>\n",
       "                        <td id=\"T_08ef7548_1e4e_11eb_804d_482ae391c4berow14_col10\" class=\"data row14 col10\" >0.096654</td>\n",
       "                        <td id=\"T_08ef7548_1e4e_11eb_804d_482ae391c4berow14_col11\" class=\"data row14 col11\" >0.038941</td>\n",
       "                        <td id=\"T_08ef7548_1e4e_11eb_804d_482ae391c4berow14_col12\" class=\"data row14 col12\" >0.088010</td>\n",
       "                        <td id=\"T_08ef7548_1e4e_11eb_804d_482ae391c4berow14_col13\" class=\"data row14 col13\" >0.088959</td>\n",
       "                        <td id=\"T_08ef7548_1e4e_11eb_804d_482ae391c4berow14_col14\" class=\"data row14 col14\" >1.000000</td>\n",
       "                        <td id=\"T_08ef7548_1e4e_11eb_804d_482ae391c4berow14_col15\" class=\"data row14 col15\" >0.067406</td>\n",
       "                        <td id=\"T_08ef7548_1e4e_11eb_804d_482ae391c4berow14_col16\" class=\"data row14 col16\" >0.106823</td>\n",
       "                        <td id=\"T_08ef7548_1e4e_11eb_804d_482ae391c4berow14_col17\" class=\"data row14 col17\" >0.038085</td>\n",
       "                        <td id=\"T_08ef7548_1e4e_11eb_804d_482ae391c4berow14_col18\" class=\"data row14 col18\" >0.058525</td>\n",
       "                        <td id=\"T_08ef7548_1e4e_11eb_804d_482ae391c4berow14_col19\" class=\"data row14 col19\" >0.102756</td>\n",
       "                        <td id=\"T_08ef7548_1e4e_11eb_804d_482ae391c4berow14_col20\" class=\"data row14 col20\" >0.028803</td>\n",
       "                        <td id=\"T_08ef7548_1e4e_11eb_804d_482ae391c4berow14_col21\" class=\"data row14 col21\" >0.026968</td>\n",
       "                        <td id=\"T_08ef7548_1e4e_11eb_804d_482ae391c4berow14_col22\" class=\"data row14 col22\" >0.476448</td>\n",
       "                        <td id=\"T_08ef7548_1e4e_11eb_804d_482ae391c4berow14_col23\" class=\"data row14 col23\" >0.131051</td>\n",
       "            </tr>\n",
       "            <tr>\n",
       "                        <th id=\"T_08ef7548_1e4e_11eb_804d_482ae391c4belevel0_row15\" class=\"row_heading level0 row15\" >organ</th>\n",
       "                        <td id=\"T_08ef7548_1e4e_11eb_804d_482ae391c4berow15_col0\" class=\"data row15 col0\" >0.045259</td>\n",
       "                        <td id=\"T_08ef7548_1e4e_11eb_804d_482ae391c4berow15_col1\" class=\"data row15 col1\" >0.040530</td>\n",
       "                        <td id=\"T_08ef7548_1e4e_11eb_804d_482ae391c4berow15_col2\" class=\"data row15 col2\" >0.045886</td>\n",
       "                        <td id=\"T_08ef7548_1e4e_11eb_804d_482ae391c4berow15_col3\" class=\"data row15 col3\" >0.002937</td>\n",
       "                        <td id=\"T_08ef7548_1e4e_11eb_804d_482ae391c4berow15_col4\" class=\"data row15 col4\" >0.116103</td>\n",
       "                        <td id=\"T_08ef7548_1e4e_11eb_804d_482ae391c4berow15_col5\" class=\"data row15 col5\" >0.094110</td>\n",
       "                        <td id=\"T_08ef7548_1e4e_11eb_804d_482ae391c4berow15_col6\" class=\"data row15 col6\" >0.072569</td>\n",
       "                        <td id=\"T_08ef7548_1e4e_11eb_804d_482ae391c4berow15_col7\" class=\"data row15 col7\" >0.014406</td>\n",
       "                        <td id=\"T_08ef7548_1e4e_11eb_804d_482ae391c4berow15_col8\" class=\"data row15 col8\" >0.145904</td>\n",
       "                        <td id=\"T_08ef7548_1e4e_11eb_804d_482ae391c4berow15_col9\" class=\"data row15 col9\" >0.030543</td>\n",
       "                        <td id=\"T_08ef7548_1e4e_11eb_804d_482ae391c4berow15_col10\" class=\"data row15 col10\" >0.074162</td>\n",
       "                        <td id=\"T_08ef7548_1e4e_11eb_804d_482ae391c4berow15_col11\" class=\"data row15 col11\" >0.032752</td>\n",
       "                        <td id=\"T_08ef7548_1e4e_11eb_804d_482ae391c4berow15_col12\" class=\"data row15 col12\" >0.014334</td>\n",
       "                        <td id=\"T_08ef7548_1e4e_11eb_804d_482ae391c4berow15_col13\" class=\"data row15 col13\" >0.069788</td>\n",
       "                        <td id=\"T_08ef7548_1e4e_11eb_804d_482ae391c4berow15_col14\" class=\"data row15 col14\" >0.067406</td>\n",
       "                        <td id=\"T_08ef7548_1e4e_11eb_804d_482ae391c4berow15_col15\" class=\"data row15 col15\" >1.000000</td>\n",
       "                        <td id=\"T_08ef7548_1e4e_11eb_804d_482ae391c4berow15_col16\" class=\"data row15 col16\" >0.063278</td>\n",
       "                        <td id=\"T_08ef7548_1e4e_11eb_804d_482ae391c4berow15_col17\" class=\"data row15 col17\" >0.158201</td>\n",
       "                        <td id=\"T_08ef7548_1e4e_11eb_804d_482ae391c4berow15_col18\" class=\"data row15 col18\" >0.340016</td>\n",
       "                        <td id=\"T_08ef7548_1e4e_11eb_804d_482ae391c4berow15_col19\" class=\"data row15 col19\" >0.049580</td>\n",
       "                        <td id=\"T_08ef7548_1e4e_11eb_804d_482ae391c4berow15_col20\" class=\"data row15 col20\" >0.023656</td>\n",
       "                        <td id=\"T_08ef7548_1e4e_11eb_804d_482ae391c4berow15_col21\" class=\"data row15 col21\" >0.013008</td>\n",
       "                        <td id=\"T_08ef7548_1e4e_11eb_804d_482ae391c4berow15_col22\" class=\"data row15 col22\" >0.047087</td>\n",
       "                        <td id=\"T_08ef7548_1e4e_11eb_804d_482ae391c4berow15_col23\" class=\"data row15 col23\" >0.107108</td>\n",
       "            </tr>\n",
       "            <tr>\n",
       "                        <th id=\"T_08ef7548_1e4e_11eb_804d_482ae391c4belevel0_row16\" class=\"row_heading level0 row16\" >blood</th>\n",
       "                        <td id=\"T_08ef7548_1e4e_11eb_804d_482ae391c4berow16_col0\" class=\"data row16 col0\" >0.051742</td>\n",
       "                        <td id=\"T_08ef7548_1e4e_11eb_804d_482ae391c4berow16_col1\" class=\"data row16 col1\" >0.042801</td>\n",
       "                        <td id=\"T_08ef7548_1e4e_11eb_804d_482ae391c4berow16_col2\" class=\"data row16 col2\" >0.011270</td>\n",
       "                        <td id=\"T_08ef7548_1e4e_11eb_804d_482ae391c4berow16_col3\" class=\"data row16 col3\" >0.029099</td>\n",
       "                        <td id=\"T_08ef7548_1e4e_11eb_804d_482ae391c4berow16_col4\" class=\"data row16 col4\" >0.183416</td>\n",
       "                        <td id=\"T_08ef7548_1e4e_11eb_804d_482ae391c4berow16_col5\" class=\"data row16 col5\" >0.155816</td>\n",
       "                        <td id=\"T_08ef7548_1e4e_11eb_804d_482ae391c4berow16_col6\" class=\"data row16 col6\" >0.100465</td>\n",
       "                        <td id=\"T_08ef7548_1e4e_11eb_804d_482ae391c4berow16_col7\" class=\"data row16 col7\" >0.008351</td>\n",
       "                        <td id=\"T_08ef7548_1e4e_11eb_804d_482ae391c4berow16_col8\" class=\"data row16 col8\" >0.242354</td>\n",
       "                        <td id=\"T_08ef7548_1e4e_11eb_804d_482ae391c4berow16_col9\" class=\"data row16 col9\" >0.102963</td>\n",
       "                        <td id=\"T_08ef7548_1e4e_11eb_804d_482ae391c4berow16_col10\" class=\"data row16 col10\" >0.309384</td>\n",
       "                        <td id=\"T_08ef7548_1e4e_11eb_804d_482ae391c4berow16_col11\" class=\"data row16 col11\" >0.060159</td>\n",
       "                        <td id=\"T_08ef7548_1e4e_11eb_804d_482ae391c4berow16_col12\" class=\"data row16 col12\" >0.312181</td>\n",
       "                        <td id=\"T_08ef7548_1e4e_11eb_804d_482ae391c4berow16_col13\" class=\"data row16 col13\" >0.090549</td>\n",
       "                        <td id=\"T_08ef7548_1e4e_11eb_804d_482ae391c4berow16_col14\" class=\"data row16 col14\" >0.106823</td>\n",
       "                        <td id=\"T_08ef7548_1e4e_11eb_804d_482ae391c4berow16_col15\" class=\"data row16 col15\" >0.063278</td>\n",
       "                        <td id=\"T_08ef7548_1e4e_11eb_804d_482ae391c4berow16_col16\" class=\"data row16 col16\" >1.000000</td>\n",
       "                        <td id=\"T_08ef7548_1e4e_11eb_804d_482ae391c4berow16_col17\" class=\"data row16 col17\" >0.054854</td>\n",
       "                        <td id=\"T_08ef7548_1e4e_11eb_804d_482ae391c4berow16_col18\" class=\"data row16 col18\" >0.066743</td>\n",
       "                        <td id=\"T_08ef7548_1e4e_11eb_804d_482ae391c4berow16_col19\" class=\"data row16 col19\" >0.041646</td>\n",
       "                        <td id=\"T_08ef7548_1e4e_11eb_804d_482ae391c4berow16_col20\" class=\"data row16 col20\" >0.037738</td>\n",
       "                        <td id=\"T_08ef7548_1e4e_11eb_804d_482ae391c4berow16_col21\" class=\"data row16 col21\" >0.024809</td>\n",
       "                        <td id=\"T_08ef7548_1e4e_11eb_804d_482ae391c4berow16_col22\" class=\"data row16 col22\" >0.085405</td>\n",
       "                        <td id=\"T_08ef7548_1e4e_11eb_804d_482ae391c4berow16_col23\" class=\"data row16 col23\" >0.159120</td>\n",
       "            </tr>\n",
       "            <tr>\n",
       "                        <th id=\"T_08ef7548_1e4e_11eb_804d_482ae391c4belevel0_row17\" class=\"row_heading level0 row17\" >acute</th>\n",
       "                        <td id=\"T_08ef7548_1e4e_11eb_804d_482ae391c4berow17_col0\" class=\"data row17 col0\" >0.020477</td>\n",
       "                        <td id=\"T_08ef7548_1e4e_11eb_804d_482ae391c4berow17_col1\" class=\"data row17 col1\" >0.022225</td>\n",
       "                        <td id=\"T_08ef7548_1e4e_11eb_804d_482ae391c4berow17_col2\" class=\"data row17 col2\" >0.025221</td>\n",
       "                        <td id=\"T_08ef7548_1e4e_11eb_804d_482ae391c4berow17_col3\" class=\"data row17 col3\" >0.012231</td>\n",
       "                        <td id=\"T_08ef7548_1e4e_11eb_804d_482ae391c4berow17_col4\" class=\"data row17 col4\" >0.050936</td>\n",
       "                        <td id=\"T_08ef7548_1e4e_11eb_804d_482ae391c4berow17_col5\" class=\"data row17 col5\" >0.001236</td>\n",
       "                        <td id=\"T_08ef7548_1e4e_11eb_804d_482ae391c4berow17_col6\" class=\"data row17 col6\" >0.011307</td>\n",
       "                        <td id=\"T_08ef7548_1e4e_11eb_804d_482ae391c4berow17_col7\" class=\"data row17 col7\" >0.046074</td>\n",
       "                        <td id=\"T_08ef7548_1e4e_11eb_804d_482ae391c4berow17_col8\" class=\"data row17 col8\" >0.049309</td>\n",
       "                        <td id=\"T_08ef7548_1e4e_11eb_804d_482ae391c4berow17_col9\" class=\"data row17 col9\" >0.021177</td>\n",
       "                        <td id=\"T_08ef7548_1e4e_11eb_804d_482ae391c4berow17_col10\" class=\"data row17 col10\" >0.052003</td>\n",
       "                        <td id=\"T_08ef7548_1e4e_11eb_804d_482ae391c4berow17_col11\" class=\"data row17 col11\" >0.019393</td>\n",
       "                        <td id=\"T_08ef7548_1e4e_11eb_804d_482ae391c4berow17_col12\" class=\"data row17 col12\" >0.055033</td>\n",
       "                        <td id=\"T_08ef7548_1e4e_11eb_804d_482ae391c4berow17_col13\" class=\"data row17 col13\" >0.027547</td>\n",
       "                        <td id=\"T_08ef7548_1e4e_11eb_804d_482ae391c4berow17_col14\" class=\"data row17 col14\" >0.038085</td>\n",
       "                        <td id=\"T_08ef7548_1e4e_11eb_804d_482ae391c4berow17_col15\" class=\"data row17 col15\" >0.158201</td>\n",
       "                        <td id=\"T_08ef7548_1e4e_11eb_804d_482ae391c4berow17_col16\" class=\"data row17 col16\" >0.054854</td>\n",
       "                        <td id=\"T_08ef7548_1e4e_11eb_804d_482ae391c4berow17_col17\" class=\"data row17 col17\" >1.000000</td>\n",
       "                        <td id=\"T_08ef7548_1e4e_11eb_804d_482ae391c4berow17_col18\" class=\"data row17 col18\" >0.159829</td>\n",
       "                        <td id=\"T_08ef7548_1e4e_11eb_804d_482ae391c4berow17_col19\" class=\"data row17 col19\" >0.045360</td>\n",
       "                        <td id=\"T_08ef7548_1e4e_11eb_804d_482ae391c4berow17_col20\" class=\"data row17 col20\" >0.013521</td>\n",
       "                        <td id=\"T_08ef7548_1e4e_11eb_804d_482ae391c4berow17_col21\" class=\"data row17 col21\" >0.008759</td>\n",
       "                        <td id=\"T_08ef7548_1e4e_11eb_804d_482ae391c4berow17_col22\" class=\"data row17 col22\" >0.035875</td>\n",
       "                        <td id=\"T_08ef7548_1e4e_11eb_804d_482ae391c4berow17_col23\" class=\"data row17 col23\" >0.079881</td>\n",
       "            </tr>\n",
       "            <tr>\n",
       "                        <th id=\"T_08ef7548_1e4e_11eb_804d_482ae391c4belevel0_row18\" class=\"row_heading level0 row18\" >failure</th>\n",
       "                        <td id=\"T_08ef7548_1e4e_11eb_804d_482ae391c4berow18_col0\" class=\"data row18 col0\" >0.091011</td>\n",
       "                        <td id=\"T_08ef7548_1e4e_11eb_804d_482ae391c4berow18_col1\" class=\"data row18 col1\" >0.089076</td>\n",
       "                        <td id=\"T_08ef7548_1e4e_11eb_804d_482ae391c4berow18_col2\" class=\"data row18 col2\" >0.034930</td>\n",
       "                        <td id=\"T_08ef7548_1e4e_11eb_804d_482ae391c4berow18_col3\" class=\"data row18 col3\" >0.008245</td>\n",
       "                        <td id=\"T_08ef7548_1e4e_11eb_804d_482ae391c4berow18_col4\" class=\"data row18 col4\" >0.068411</td>\n",
       "                        <td id=\"T_08ef7548_1e4e_11eb_804d_482ae391c4berow18_col5\" class=\"data row18 col5\" >0.076438</td>\n",
       "                        <td id=\"T_08ef7548_1e4e_11eb_804d_482ae391c4berow18_col6\" class=\"data row18 col6\" >0.030080</td>\n",
       "                        <td id=\"T_08ef7548_1e4e_11eb_804d_482ae391c4berow18_col7\" class=\"data row18 col7\" >0.076115</td>\n",
       "                        <td id=\"T_08ef7548_1e4e_11eb_804d_482ae391c4berow18_col8\" class=\"data row18 col8\" >0.075648</td>\n",
       "                        <td id=\"T_08ef7548_1e4e_11eb_804d_482ae391c4berow18_col9\" class=\"data row18 col9\" >0.017096</td>\n",
       "                        <td id=\"T_08ef7548_1e4e_11eb_804d_482ae391c4berow18_col10\" class=\"data row18 col10\" >0.073188</td>\n",
       "                        <td id=\"T_08ef7548_1e4e_11eb_804d_482ae391c4berow18_col11\" class=\"data row18 col11\" >0.024585</td>\n",
       "                        <td id=\"T_08ef7548_1e4e_11eb_804d_482ae391c4berow18_col12\" class=\"data row18 col12\" >0.065878</td>\n",
       "                        <td id=\"T_08ef7548_1e4e_11eb_804d_482ae391c4berow18_col13\" class=\"data row18 col13\" >0.074742</td>\n",
       "                        <td id=\"T_08ef7548_1e4e_11eb_804d_482ae391c4berow18_col14\" class=\"data row18 col14\" >0.058525</td>\n",
       "                        <td id=\"T_08ef7548_1e4e_11eb_804d_482ae391c4berow18_col15\" class=\"data row18 col15\" >0.340016</td>\n",
       "                        <td id=\"T_08ef7548_1e4e_11eb_804d_482ae391c4berow18_col16\" class=\"data row18 col16\" >0.066743</td>\n",
       "                        <td id=\"T_08ef7548_1e4e_11eb_804d_482ae391c4berow18_col17\" class=\"data row18 col17\" >0.159829</td>\n",
       "                        <td id=\"T_08ef7548_1e4e_11eb_804d_482ae391c4berow18_col18\" class=\"data row18 col18\" >1.000000</td>\n",
       "                        <td id=\"T_08ef7548_1e4e_11eb_804d_482ae391c4berow18_col19\" class=\"data row18 col19\" >0.020980</td>\n",
       "                        <td id=\"T_08ef7548_1e4e_11eb_804d_482ae391c4berow18_col20\" class=\"data row18 col20\" >0.021766</td>\n",
       "                        <td id=\"T_08ef7548_1e4e_11eb_804d_482ae391c4berow18_col21\" class=\"data row18 col21\" >0.015999</td>\n",
       "                        <td id=\"T_08ef7548_1e4e_11eb_804d_482ae391c4berow18_col22\" class=\"data row18 col22\" >0.045034</td>\n",
       "                        <td id=\"T_08ef7548_1e4e_11eb_804d_482ae391c4berow18_col23\" class=\"data row18 col23\" >0.100414</td>\n",
       "            </tr>\n",
       "            <tr>\n",
       "                        <th id=\"T_08ef7548_1e4e_11eb_804d_482ae391c4belevel0_row19\" class=\"row_heading level0 row19\" >cancer</th>\n",
       "                        <td id=\"T_08ef7548_1e4e_11eb_804d_482ae391c4berow19_col0\" class=\"data row19 col0\" >0.085903</td>\n",
       "                        <td id=\"T_08ef7548_1e4e_11eb_804d_482ae391c4berow19_col1\" class=\"data row19 col1\" >0.077083</td>\n",
       "                        <td id=\"T_08ef7548_1e4e_11eb_804d_482ae391c4berow19_col2\" class=\"data row19 col2\" >0.000054</td>\n",
       "                        <td id=\"T_08ef7548_1e4e_11eb_804d_482ae391c4berow19_col3\" class=\"data row19 col3\" >0.024378</td>\n",
       "                        <td id=\"T_08ef7548_1e4e_11eb_804d_482ae391c4berow19_col4\" class=\"data row19 col4\" >0.053427</td>\n",
       "                        <td id=\"T_08ef7548_1e4e_11eb_804d_482ae391c4berow19_col5\" class=\"data row19 col5\" >0.071851</td>\n",
       "                        <td id=\"T_08ef7548_1e4e_11eb_804d_482ae391c4berow19_col6\" class=\"data row19 col6\" >0.004997</td>\n",
       "                        <td id=\"T_08ef7548_1e4e_11eb_804d_482ae391c4berow19_col7\" class=\"data row19 col7\" >0.006918</td>\n",
       "                        <td id=\"T_08ef7548_1e4e_11eb_804d_482ae391c4berow19_col8\" class=\"data row19 col8\" >0.091187</td>\n",
       "                        <td id=\"T_08ef7548_1e4e_11eb_804d_482ae391c4berow19_col9\" class=\"data row19 col9\" >0.029064</td>\n",
       "                        <td id=\"T_08ef7548_1e4e_11eb_804d_482ae391c4berow19_col10\" class=\"data row19 col10\" >0.029566</td>\n",
       "                        <td id=\"T_08ef7548_1e4e_11eb_804d_482ae391c4berow19_col11\" class=\"data row19 col11\" >0.002148</td>\n",
       "                        <td id=\"T_08ef7548_1e4e_11eb_804d_482ae391c4berow19_col12\" class=\"data row19 col12\" >0.040623</td>\n",
       "                        <td id=\"T_08ef7548_1e4e_11eb_804d_482ae391c4berow19_col13\" class=\"data row19 col13\" >0.044968</td>\n",
       "                        <td id=\"T_08ef7548_1e4e_11eb_804d_482ae391c4berow19_col14\" class=\"data row19 col14\" >0.102756</td>\n",
       "                        <td id=\"T_08ef7548_1e4e_11eb_804d_482ae391c4berow19_col15\" class=\"data row19 col15\" >0.049580</td>\n",
       "                        <td id=\"T_08ef7548_1e4e_11eb_804d_482ae391c4berow19_col16\" class=\"data row19 col16\" >0.041646</td>\n",
       "                        <td id=\"T_08ef7548_1e4e_11eb_804d_482ae391c4berow19_col17\" class=\"data row19 col17\" >0.045360</td>\n",
       "                        <td id=\"T_08ef7548_1e4e_11eb_804d_482ae391c4berow19_col18\" class=\"data row19 col18\" >0.020980</td>\n",
       "                        <td id=\"T_08ef7548_1e4e_11eb_804d_482ae391c4berow19_col19\" class=\"data row19 col19\" >1.000000</td>\n",
       "                        <td id=\"T_08ef7548_1e4e_11eb_804d_482ae391c4berow19_col20\" class=\"data row19 col20\" >0.006695</td>\n",
       "                        <td id=\"T_08ef7548_1e4e_11eb_804d_482ae391c4berow19_col21\" class=\"data row19 col21\" >0.005193</td>\n",
       "                        <td id=\"T_08ef7548_1e4e_11eb_804d_482ae391c4berow19_col22\" class=\"data row19 col22\" >0.026878</td>\n",
       "                        <td id=\"T_08ef7548_1e4e_11eb_804d_482ae391c4berow19_col23\" class=\"data row19 col23\" >0.057498</td>\n",
       "            </tr>\n",
       "            <tr>\n",
       "                        <th id=\"T_08ef7548_1e4e_11eb_804d_482ae391c4belevel0_row20\" class=\"row_heading level0 row20\" >back</th>\n",
       "                        <td id=\"T_08ef7548_1e4e_11eb_804d_482ae391c4berow20_col0\" class=\"data row20 col0\" >0.007552</td>\n",
       "                        <td id=\"T_08ef7548_1e4e_11eb_804d_482ae391c4berow20_col1\" class=\"data row20 col1\" >0.010297</td>\n",
       "                        <td id=\"T_08ef7548_1e4e_11eb_804d_482ae391c4berow20_col2\" class=\"data row20 col2\" >0.016494</td>\n",
       "                        <td id=\"T_08ef7548_1e4e_11eb_804d_482ae391c4berow20_col3\" class=\"data row20 col3\" >0.000774</td>\n",
       "                        <td id=\"T_08ef7548_1e4e_11eb_804d_482ae391c4berow20_col4\" class=\"data row20 col4\" >0.042661</td>\n",
       "                        <td id=\"T_08ef7548_1e4e_11eb_804d_482ae391c4berow20_col5\" class=\"data row20 col5\" >0.030748</td>\n",
       "                        <td id=\"T_08ef7548_1e4e_11eb_804d_482ae391c4berow20_col6\" class=\"data row20 col6\" >0.044405</td>\n",
       "                        <td id=\"T_08ef7548_1e4e_11eb_804d_482ae391c4berow20_col7\" class=\"data row20 col7\" >0.077167</td>\n",
       "                        <td id=\"T_08ef7548_1e4e_11eb_804d_482ae391c4berow20_col8\" class=\"data row20 col8\" >0.064515</td>\n",
       "                        <td id=\"T_08ef7548_1e4e_11eb_804d_482ae391c4berow20_col9\" class=\"data row20 col9\" >0.016027</td>\n",
       "                        <td id=\"T_08ef7548_1e4e_11eb_804d_482ae391c4berow20_col10\" class=\"data row20 col10\" >0.023467</td>\n",
       "                        <td id=\"T_08ef7548_1e4e_11eb_804d_482ae391c4berow20_col11\" class=\"data row20 col11\" >0.017776</td>\n",
       "                        <td id=\"T_08ef7548_1e4e_11eb_804d_482ae391c4berow20_col12\" class=\"data row20 col12\" >0.035196</td>\n",
       "                        <td id=\"T_08ef7548_1e4e_11eb_804d_482ae391c4berow20_col13\" class=\"data row20 col13\" >0.032338</td>\n",
       "                        <td id=\"T_08ef7548_1e4e_11eb_804d_482ae391c4berow20_col14\" class=\"data row20 col14\" >0.028803</td>\n",
       "                        <td id=\"T_08ef7548_1e4e_11eb_804d_482ae391c4berow20_col15\" class=\"data row20 col15\" >0.023656</td>\n",
       "                        <td id=\"T_08ef7548_1e4e_11eb_804d_482ae391c4berow20_col16\" class=\"data row20 col16\" >0.037738</td>\n",
       "                        <td id=\"T_08ef7548_1e4e_11eb_804d_482ae391c4berow20_col17\" class=\"data row20 col17\" >0.013521</td>\n",
       "                        <td id=\"T_08ef7548_1e4e_11eb_804d_482ae391c4berow20_col18\" class=\"data row20 col18\" >0.021766</td>\n",
       "                        <td id=\"T_08ef7548_1e4e_11eb_804d_482ae391c4berow20_col19\" class=\"data row20 col19\" >0.006695</td>\n",
       "                        <td id=\"T_08ef7548_1e4e_11eb_804d_482ae391c4berow20_col20\" class=\"data row20 col20\" >1.000000</td>\n",
       "                        <td id=\"T_08ef7548_1e4e_11eb_804d_482ae391c4berow20_col21\" class=\"data row20 col21\" >0.006489</td>\n",
       "                        <td id=\"T_08ef7548_1e4e_11eb_804d_482ae391c4berow20_col22\" class=\"data row20 col22\" >0.051935</td>\n",
       "                        <td id=\"T_08ef7548_1e4e_11eb_804d_482ae391c4berow20_col23\" class=\"data row20 col23\" >0.042402</td>\n",
       "            </tr>\n",
       "            <tr>\n",
       "                        <th id=\"T_08ef7548_1e4e_11eb_804d_482ae391c4belevel0_row21\" class=\"row_heading level0 row21\" >bone</th>\n",
       "                        <td id=\"T_08ef7548_1e4e_11eb_804d_482ae391c4berow21_col0\" class=\"data row21 col0\" >0.005554</td>\n",
       "                        <td id=\"T_08ef7548_1e4e_11eb_804d_482ae391c4berow21_col1\" class=\"data row21 col1\" >0.006840</td>\n",
       "                        <td id=\"T_08ef7548_1e4e_11eb_804d_482ae391c4berow21_col2\" class=\"data row21 col2\" >0.007486</td>\n",
       "                        <td id=\"T_08ef7548_1e4e_11eb_804d_482ae391c4berow21_col3\" class=\"data row21 col3\" >0.026626</td>\n",
       "                        <td id=\"T_08ef7548_1e4e_11eb_804d_482ae391c4berow21_col4\" class=\"data row21 col4\" >0.042015</td>\n",
       "                        <td id=\"T_08ef7548_1e4e_11eb_804d_482ae391c4berow21_col5\" class=\"data row21 col5\" >0.028936</td>\n",
       "                        <td id=\"T_08ef7548_1e4e_11eb_804d_482ae391c4berow21_col6\" class=\"data row21 col6\" >0.019147</td>\n",
       "                        <td id=\"T_08ef7548_1e4e_11eb_804d_482ae391c4berow21_col7\" class=\"data row21 col7\" >0.054167</td>\n",
       "                        <td id=\"T_08ef7548_1e4e_11eb_804d_482ae391c4berow21_col8\" class=\"data row21 col8\" >0.067313</td>\n",
       "                        <td id=\"T_08ef7548_1e4e_11eb_804d_482ae391c4berow21_col9\" class=\"data row21 col9\" >0.016961</td>\n",
       "                        <td id=\"T_08ef7548_1e4e_11eb_804d_482ae391c4berow21_col10\" class=\"data row21 col10\" >0.026014</td>\n",
       "                        <td id=\"T_08ef7548_1e4e_11eb_804d_482ae391c4berow21_col11\" class=\"data row21 col11\" >0.019810</td>\n",
       "                        <td id=\"T_08ef7548_1e4e_11eb_804d_482ae391c4berow21_col12\" class=\"data row21 col12\" >0.034808</td>\n",
       "                        <td id=\"T_08ef7548_1e4e_11eb_804d_482ae391c4berow21_col13\" class=\"data row21 col13\" >0.150154</td>\n",
       "                        <td id=\"T_08ef7548_1e4e_11eb_804d_482ae391c4berow21_col14\" class=\"data row21 col14\" >0.026968</td>\n",
       "                        <td id=\"T_08ef7548_1e4e_11eb_804d_482ae391c4berow21_col15\" class=\"data row21 col15\" >0.013008</td>\n",
       "                        <td id=\"T_08ef7548_1e4e_11eb_804d_482ae391c4berow21_col16\" class=\"data row21 col16\" >0.024809</td>\n",
       "                        <td id=\"T_08ef7548_1e4e_11eb_804d_482ae391c4berow21_col17\" class=\"data row21 col17\" >0.008759</td>\n",
       "                        <td id=\"T_08ef7548_1e4e_11eb_804d_482ae391c4berow21_col18\" class=\"data row21 col18\" >0.015999</td>\n",
       "                        <td id=\"T_08ef7548_1e4e_11eb_804d_482ae391c4berow21_col19\" class=\"data row21 col19\" >0.005193</td>\n",
       "                        <td id=\"T_08ef7548_1e4e_11eb_804d_482ae391c4berow21_col20\" class=\"data row21 col20\" >0.006489</td>\n",
       "                        <td id=\"T_08ef7548_1e4e_11eb_804d_482ae391c4berow21_col21\" class=\"data row21 col21\" >1.000000</td>\n",
       "                        <td id=\"T_08ef7548_1e4e_11eb_804d_482ae391c4berow21_col22\" class=\"data row21 col22\" >0.002651</td>\n",
       "                        <td id=\"T_08ef7548_1e4e_11eb_804d_482ae391c4berow21_col23\" class=\"data row21 col23\" >0.041968</td>\n",
       "            </tr>\n",
       "            <tr>\n",
       "                        <th id=\"T_08ef7548_1e4e_11eb_804d_482ae391c4belevel0_row22\" class=\"row_heading level0 row22\" >pain</th>\n",
       "                        <td id=\"T_08ef7548_1e4e_11eb_804d_482ae391c4berow22_col0\" class=\"data row22 col0\" >0.028726</td>\n",
       "                        <td id=\"T_08ef7548_1e4e_11eb_804d_482ae391c4berow22_col1\" class=\"data row22 col1\" >0.023268</td>\n",
       "                        <td id=\"T_08ef7548_1e4e_11eb_804d_482ae391c4berow22_col2\" class=\"data row22 col2\" >0.029582</td>\n",
       "                        <td id=\"T_08ef7548_1e4e_11eb_804d_482ae391c4berow22_col3\" class=\"data row22 col3\" >0.004044</td>\n",
       "                        <td id=\"T_08ef7548_1e4e_11eb_804d_482ae391c4berow22_col4\" class=\"data row22 col4\" >0.055018</td>\n",
       "                        <td id=\"T_08ef7548_1e4e_11eb_804d_482ae391c4berow22_col5\" class=\"data row22 col5\" >0.053771</td>\n",
       "                        <td id=\"T_08ef7548_1e4e_11eb_804d_482ae391c4berow22_col6\" class=\"data row22 col6\" >0.037959</td>\n",
       "                        <td id=\"T_08ef7548_1e4e_11eb_804d_482ae391c4berow22_col7\" class=\"data row22 col7\" >0.065740</td>\n",
       "                        <td id=\"T_08ef7548_1e4e_11eb_804d_482ae391c4berow22_col8\" class=\"data row22 col8\" >0.073570</td>\n",
       "                        <td id=\"T_08ef7548_1e4e_11eb_804d_482ae391c4berow22_col9\" class=\"data row22 col9\" >0.055697</td>\n",
       "                        <td id=\"T_08ef7548_1e4e_11eb_804d_482ae391c4berow22_col10\" class=\"data row22 col10\" >0.071573</td>\n",
       "                        <td id=\"T_08ef7548_1e4e_11eb_804d_482ae391c4berow22_col11\" class=\"data row22 col11\" >0.042718</td>\n",
       "                        <td id=\"T_08ef7548_1e4e_11eb_804d_482ae391c4berow22_col12\" class=\"data row22 col12\" >0.091700</td>\n",
       "                        <td id=\"T_08ef7548_1e4e_11eb_804d_482ae391c4berow22_col13\" class=\"data row22 col13\" >0.070053</td>\n",
       "                        <td id=\"T_08ef7548_1e4e_11eb_804d_482ae391c4berow22_col14\" class=\"data row22 col14\" >0.476448</td>\n",
       "                        <td id=\"T_08ef7548_1e4e_11eb_804d_482ae391c4berow22_col15\" class=\"data row22 col15\" >0.047087</td>\n",
       "                        <td id=\"T_08ef7548_1e4e_11eb_804d_482ae391c4berow22_col16\" class=\"data row22 col16\" >0.085405</td>\n",
       "                        <td id=\"T_08ef7548_1e4e_11eb_804d_482ae391c4berow22_col17\" class=\"data row22 col17\" >0.035875</td>\n",
       "                        <td id=\"T_08ef7548_1e4e_11eb_804d_482ae391c4berow22_col18\" class=\"data row22 col18\" >0.045034</td>\n",
       "                        <td id=\"T_08ef7548_1e4e_11eb_804d_482ae391c4berow22_col19\" class=\"data row22 col19\" >0.026878</td>\n",
       "                        <td id=\"T_08ef7548_1e4e_11eb_804d_482ae391c4berow22_col20\" class=\"data row22 col20\" >0.051935</td>\n",
       "                        <td id=\"T_08ef7548_1e4e_11eb_804d_482ae391c4berow22_col21\" class=\"data row22 col21\" >0.002651</td>\n",
       "                        <td id=\"T_08ef7548_1e4e_11eb_804d_482ae391c4berow22_col22\" class=\"data row22 col22\" >1.000000</td>\n",
       "                        <td id=\"T_08ef7548_1e4e_11eb_804d_482ae391c4berow22_col23\" class=\"data row22 col23\" >0.094917</td>\n",
       "            </tr>\n",
       "            <tr>\n",
       "                        <th id=\"T_08ef7548_1e4e_11eb_804d_482ae391c4belevel0_row23\" class=\"row_heading level0 row23\" >other</th>\n",
       "                        <td id=\"T_08ef7548_1e4e_11eb_804d_482ae391c4berow23_col0\" class=\"data row23 col0\" >0.008495</td>\n",
       "                        <td id=\"T_08ef7548_1e4e_11eb_804d_482ae391c4berow23_col1\" class=\"data row23 col1\" >0.009710</td>\n",
       "                        <td id=\"T_08ef7548_1e4e_11eb_804d_482ae391c4berow23_col2\" class=\"data row23 col2\" >0.062379</td>\n",
       "                        <td id=\"T_08ef7548_1e4e_11eb_804d_482ae391c4berow23_col3\" class=\"data row23 col3\" >0.012119</td>\n",
       "                        <td id=\"T_08ef7548_1e4e_11eb_804d_482ae391c4berow23_col4\" class=\"data row23 col4\" >0.079698</td>\n",
       "                        <td id=\"T_08ef7548_1e4e_11eb_804d_482ae391c4berow23_col5\" class=\"data row23 col5\" >0.030363</td>\n",
       "                        <td id=\"T_08ef7548_1e4e_11eb_804d_482ae391c4berow23_col6\" class=\"data row23 col6\" >0.078508</td>\n",
       "                        <td id=\"T_08ef7548_1e4e_11eb_804d_482ae391c4berow23_col7\" class=\"data row23 col7\" >0.017315</td>\n",
       "                        <td id=\"T_08ef7548_1e4e_11eb_804d_482ae391c4berow23_col8\" class=\"data row23 col8\" >0.283529</td>\n",
       "                        <td id=\"T_08ef7548_1e4e_11eb_804d_482ae391c4berow23_col9\" class=\"data row23 col9\" >0.131516</td>\n",
       "                        <td id=\"T_08ef7548_1e4e_11eb_804d_482ae391c4berow23_col10\" class=\"data row23 col10\" >0.127732</td>\n",
       "                        <td id=\"T_08ef7548_1e4e_11eb_804d_482ae391c4berow23_col11\" class=\"data row23 col11\" >0.079201</td>\n",
       "                        <td id=\"T_08ef7548_1e4e_11eb_804d_482ae391c4berow23_col12\" class=\"data row23 col12\" >0.144537</td>\n",
       "                        <td id=\"T_08ef7548_1e4e_11eb_804d_482ae391c4berow23_col13\" class=\"data row23 col13\" >0.134285</td>\n",
       "                        <td id=\"T_08ef7548_1e4e_11eb_804d_482ae391c4berow23_col14\" class=\"data row23 col14\" >0.131051</td>\n",
       "                        <td id=\"T_08ef7548_1e4e_11eb_804d_482ae391c4berow23_col15\" class=\"data row23 col15\" >0.107108</td>\n",
       "                        <td id=\"T_08ef7548_1e4e_11eb_804d_482ae391c4berow23_col16\" class=\"data row23 col16\" >0.159120</td>\n",
       "                        <td id=\"T_08ef7548_1e4e_11eb_804d_482ae391c4berow23_col17\" class=\"data row23 col17\" >0.079881</td>\n",
       "                        <td id=\"T_08ef7548_1e4e_11eb_804d_482ae391c4berow23_col18\" class=\"data row23 col18\" >0.100414</td>\n",
       "                        <td id=\"T_08ef7548_1e4e_11eb_804d_482ae391c4berow23_col19\" class=\"data row23 col19\" >0.057498</td>\n",
       "                        <td id=\"T_08ef7548_1e4e_11eb_804d_482ae391c4berow23_col20\" class=\"data row23 col20\" >0.042402</td>\n",
       "                        <td id=\"T_08ef7548_1e4e_11eb_804d_482ae391c4berow23_col21\" class=\"data row23 col21\" >0.041968</td>\n",
       "                        <td id=\"T_08ef7548_1e4e_11eb_804d_482ae391c4berow23_col22\" class=\"data row23 col22\" >0.094917</td>\n",
       "                        <td id=\"T_08ef7548_1e4e_11eb_804d_482ae391c4berow23_col23\" class=\"data row23 col23\" >1.000000</td>\n",
       "            </tr>\n",
       "    </tbody></table>"
      ],
      "text/plain": [
       "<pandas.io.formats.style.Styler at 0x1e179c19448>"
      ]
     },
     "execution_count": 57,
     "metadata": {},
     "output_type": "execute_result"
    }
   ],
   "source": [
    "cm = sns.light_palette('green', as_cmap=True)\n",
    "train_input.corr().abs().style.background_gradient(cmap=cm, axis=0)"
   ]
  },
  {
   "cell_type": "code",
   "execution_count": 58,
   "metadata": {},
   "outputs": [],
   "source": [
    "test_data = pd.read_csv(test_path)\n",
    "test_data['time'] = pd.to_timedelta(test_data['time_until_death']) / np.timedelta64(1, 'D')\n",
    "test_data.time = test_data.time.fillna(test_data.time.max()).apply(math.floor)\n",
    "test_input = pd.concat([test_data[['time', 'anytime_expire_flag', 'icu_admit_age']],\n",
    "                        test_data.loc[:, 'female':'TSICU'],\n",
    "                        test_data.loc[:, 'cardio' :'other']], axis = 1)\n",
    "scaler = MinMaxScaler()\n",
    "test_input.icu_admit_age = scaler.fit_transform(test_input.icu_admit_age.values.reshape(-1, 1))\n"
   ]
  },
  {
   "cell_type": "code",
   "execution_count": 84,
   "metadata": {},
   "outputs": [
    {
     "data": {
      "text/plain": [
       "<lifelines.CoxPHFitter: fitted with 23392 total observations, 14239 right-censored observations>"
      ]
     },
     "execution_count": 84,
     "metadata": {},
     "output_type": "execute_result"
    }
   ],
   "source": [
    "# Fit Cox regression to determine which variables have strong coefficient\n",
    "coxph = CoxPHFitter()\n",
    "coxph.fit(train_input, 'time', event_col='anytime_expire_flag')\n",
    "cox_vars = coxph.summary.coef.abs()\n",
    "strong_vars = cox_vars[cox_vars > 0.2].index.to_list()\n",
    "\n",
    "# Fit new model with strong variables\n",
    "n_train_input = train_input[['time', 'anytime_expire_flag'] + strong_vars]\n",
    "n_coxph = CoxPHFitter()\n",
    "n_coxph.fit(n_train_input, 'time', event_col='anytime_expire_flag')"
   ]
  },
  {
   "cell_type": "code",
   "execution_count": 120,
   "metadata": {},
   "outputs": [
    {
     "data": {
      "text/plain": [
       "Text(0.5, 1.0, 'Strongest Variables')"
      ]
     },
     "execution_count": 120,
     "metadata": {},
     "output_type": "execute_result"
    },
    {
     "data": {
      "image/png": "[encoded data removed]",
      "text/plain": [
       "<Figure size 432x288 with 1 Axes>"
      ]
     },
     "metadata": {
      "needs_background": "light"
     },
     "output_type": "display_data"
    }
   ],
   "source": [
    "# TODO: Generate graph of the strongest variables for Cox Regression\n",
    "cox_vars.sort_values(ascending= False)[:10].plot.barh()\n",
    "plt.xlabel('Coefficient (Absolute)')\n",
    "plt.ylabel('Covariate')\n",
    "plt.title('Strongest Variables')"
   ]
  },
  {
   "cell_type": "code",
   "execution_count": 90,
   "metadata": {},
   "outputs": [],
   "source": [
    "test_curve = n_coxph.predict_survival_function(test_input[['time', 'anytime_expire_flag'] + strong_vars])"
   ]
  },
  {
   "cell_type": "code",
   "execution_count": 230,
   "metadata": {},
   "outputs": [
    {
     "data": {
      "text/plain": [
       "Text(0.5, 1.0, 'Highest Risk Patients')"
      ]
     },
     "execution_count": 230,
     "metadata": {},
     "output_type": "execute_result"
    },
    {
     "data": {
      "image/png": "[encoded data removed]",
      "text/plain": [
       "<Figure size 432x288 with 1 Axes>"
      ]
     },
     "metadata": {
      "needs_background": "light"
     },
     "output_type": "display_data"
    }
   ],
   "source": [
    "# test_curve\n",
    "# Level 1: 100-90\n",
    "# Level 2: 90-80\n",
    "# Level 3: 80-70\n",
    "# Level 4: 70-60\n",
    "# Level 5: <60\n",
    "\n",
    "test_curve.T.sort_values(by=30).T.iloc[:31, :8].plot()\n",
    "plt.ylabel('Survival S(t)')\n",
    "plt.xlabel('Time (Days)')\n",
    "plt.title('Highest Risk Patients')"
   ]
  },
  {
   "cell_type": "code",
   "execution_count": 134,
   "metadata": {},
   "outputs": [],
   "source": [
    "def classify_risk(score):\n",
    "    \n",
    "    if score >= 0.9:\n",
    "        risk = 'Level 1'\n",
    "    elif score >= 0.8:\n",
    "        risk = 'Level 2'\n",
    "    elif score >= 0.7:\n",
    "        risk = 'Level 3'\n",
    "    elif score >= 0.6:\n",
    "        risk = 'Level 4'\n",
    "    else:\n",
    "        risk = 'Level 5'\n",
    "    \n",
    "    return risk\n",
    "    "
   ]
  },
  {
   "cell_type": "code",
   "execution_count": 208,
   "metadata": {},
   "outputs": [
    {
     "data": {
      "text/html": [
       "<div>\n",
       "<style scoped>\n",
       "    .dataframe tbody tr th:only-of-type {\n",
       "        vertical-align: middle;\n",
       "    }\n",
       "\n",
       "    .dataframe tbody tr th {\n",
       "        vertical-align: top;\n",
       "    }\n",
       "\n",
       "    .dataframe thead th {\n",
       "        text-align: right;\n",
       "    }\n",
       "</style>\n",
       "<table border=\"1\" class=\"dataframe\">\n",
       "  <thead>\n",
       "    <tr style=\"text-align: right;\">\n",
       "      <th></th>\n",
       "      <th>0</th>\n",
       "      <th>1</th>\n",
       "      <th>2</th>\n",
       "      <th>3</th>\n",
       "      <th>4</th>\n",
       "      <th>5</th>\n",
       "      <th>6</th>\n",
       "      <th>7</th>\n",
       "      <th>8</th>\n",
       "      <th>9</th>\n",
       "      <th>...</th>\n",
       "      <th>40</th>\n",
       "      <th>41</th>\n",
       "      <th>42</th>\n",
       "      <th>43</th>\n",
       "      <th>44</th>\n",
       "      <th>45</th>\n",
       "      <th>46</th>\n",
       "      <th>47</th>\n",
       "      <th>48</th>\n",
       "      <th>49</th>\n",
       "    </tr>\n",
       "  </thead>\n",
       "  <tbody>\n",
       "    <tr>\n",
       "      <th>0.0</th>\n",
       "      <td>Level 1</td>\n",
       "      <td>Level 1</td>\n",
       "      <td>Level 1</td>\n",
       "      <td>Level 1</td>\n",
       "      <td>Level 1</td>\n",
       "      <td>Level 1</td>\n",
       "      <td>Level 1</td>\n",
       "      <td>Level 1</td>\n",
       "      <td>Level 1</td>\n",
       "      <td>Level 1</td>\n",
       "      <td>...</td>\n",
       "      <td>Level 1</td>\n",
       "      <td>Level 1</td>\n",
       "      <td>Level 1</td>\n",
       "      <td>Level 1</td>\n",
       "      <td>Level 1</td>\n",
       "      <td>Level 1</td>\n",
       "      <td>Level 1</td>\n",
       "      <td>Level 1</td>\n",
       "      <td>Level 1</td>\n",
       "      <td>Level 1</td>\n",
       "    </tr>\n",
       "    <tr>\n",
       "      <th>1.0</th>\n",
       "      <td>Level 1</td>\n",
       "      <td>Level 1</td>\n",
       "      <td>Level 1</td>\n",
       "      <td>Level 1</td>\n",
       "      <td>Level 1</td>\n",
       "      <td>Level 1</td>\n",
       "      <td>Level 1</td>\n",
       "      <td>Level 1</td>\n",
       "      <td>Level 1</td>\n",
       "      <td>Level 1</td>\n",
       "      <td>...</td>\n",
       "      <td>Level 1</td>\n",
       "      <td>Level 1</td>\n",
       "      <td>Level 1</td>\n",
       "      <td>Level 1</td>\n",
       "      <td>Level 1</td>\n",
       "      <td>Level 1</td>\n",
       "      <td>Level 1</td>\n",
       "      <td>Level 1</td>\n",
       "      <td>Level 1</td>\n",
       "      <td>Level 1</td>\n",
       "    </tr>\n",
       "    <tr>\n",
       "      <th>2.0</th>\n",
       "      <td>Level 1</td>\n",
       "      <td>Level 1</td>\n",
       "      <td>Level 1</td>\n",
       "      <td>Level 1</td>\n",
       "      <td>Level 1</td>\n",
       "      <td>Level 1</td>\n",
       "      <td>Level 1</td>\n",
       "      <td>Level 1</td>\n",
       "      <td>Level 1</td>\n",
       "      <td>Level 1</td>\n",
       "      <td>...</td>\n",
       "      <td>Level 1</td>\n",
       "      <td>Level 1</td>\n",
       "      <td>Level 1</td>\n",
       "      <td>Level 1</td>\n",
       "      <td>Level 1</td>\n",
       "      <td>Level 1</td>\n",
       "      <td>Level 1</td>\n",
       "      <td>Level 1</td>\n",
       "      <td>Level 1</td>\n",
       "      <td>Level 1</td>\n",
       "    </tr>\n",
       "    <tr>\n",
       "      <th>3.0</th>\n",
       "      <td>Level 1</td>\n",
       "      <td>Level 1</td>\n",
       "      <td>Level 1</td>\n",
       "      <td>Level 1</td>\n",
       "      <td>Level 1</td>\n",
       "      <td>Level 1</td>\n",
       "      <td>Level 1</td>\n",
       "      <td>Level 1</td>\n",
       "      <td>Level 1</td>\n",
       "      <td>Level 1</td>\n",
       "      <td>...</td>\n",
       "      <td>Level 1</td>\n",
       "      <td>Level 1</td>\n",
       "      <td>Level 2</td>\n",
       "      <td>Level 1</td>\n",
       "      <td>Level 1</td>\n",
       "      <td>Level 1</td>\n",
       "      <td>Level 1</td>\n",
       "      <td>Level 1</td>\n",
       "      <td>Level 1</td>\n",
       "      <td>Level 1</td>\n",
       "    </tr>\n",
       "    <tr>\n",
       "      <th>4.0</th>\n",
       "      <td>Level 1</td>\n",
       "      <td>Level 1</td>\n",
       "      <td>Level 1</td>\n",
       "      <td>Level 1</td>\n",
       "      <td>Level 1</td>\n",
       "      <td>Level 2</td>\n",
       "      <td>Level 1</td>\n",
       "      <td>Level 1</td>\n",
       "      <td>Level 1</td>\n",
       "      <td>Level 1</td>\n",
       "      <td>...</td>\n",
       "      <td>Level 1</td>\n",
       "      <td>Level 1</td>\n",
       "      <td>Level 2</td>\n",
       "      <td>Level 1</td>\n",
       "      <td>Level 1</td>\n",
       "      <td>Level 1</td>\n",
       "      <td>Level 1</td>\n",
       "      <td>Level 1</td>\n",
       "      <td>Level 1</td>\n",
       "      <td>Level 1</td>\n",
       "    </tr>\n",
       "    <tr>\n",
       "      <th>...</th>\n",
       "      <td>...</td>\n",
       "      <td>...</td>\n",
       "      <td>...</td>\n",
       "      <td>...</td>\n",
       "      <td>...</td>\n",
       "      <td>...</td>\n",
       "      <td>...</td>\n",
       "      <td>...</td>\n",
       "      <td>...</td>\n",
       "      <td>...</td>\n",
       "      <td>...</td>\n",
       "      <td>...</td>\n",
       "      <td>...</td>\n",
       "      <td>...</td>\n",
       "      <td>...</td>\n",
       "      <td>...</td>\n",
       "      <td>...</td>\n",
       "      <td>...</td>\n",
       "      <td>...</td>\n",
       "      <td>...</td>\n",
       "      <td>...</td>\n",
       "    </tr>\n",
       "    <tr>\n",
       "      <th>360.0</th>\n",
       "      <td>Level 3</td>\n",
       "      <td>Level 4</td>\n",
       "      <td>Level 4</td>\n",
       "      <td>Level 3</td>\n",
       "      <td>Level 3</td>\n",
       "      <td>Level 5</td>\n",
       "      <td>Level 3</td>\n",
       "      <td>Level 3</td>\n",
       "      <td>Level 2</td>\n",
       "      <td>Level 4</td>\n",
       "      <td>...</td>\n",
       "      <td>Level 3</td>\n",
       "      <td>Level 2</td>\n",
       "      <td>Level 5</td>\n",
       "      <td>Level 2</td>\n",
       "      <td>Level 3</td>\n",
       "      <td>Level 2</td>\n",
       "      <td>Level 3</td>\n",
       "      <td>Level 2</td>\n",
       "      <td>Level 4</td>\n",
       "      <td>Level 2</td>\n",
       "    </tr>\n",
       "    <tr>\n",
       "      <th>361.0</th>\n",
       "      <td>Level 3</td>\n",
       "      <td>Level 4</td>\n",
       "      <td>Level 4</td>\n",
       "      <td>Level 3</td>\n",
       "      <td>Level 3</td>\n",
       "      <td>Level 5</td>\n",
       "      <td>Level 3</td>\n",
       "      <td>Level 3</td>\n",
       "      <td>Level 2</td>\n",
       "      <td>Level 4</td>\n",
       "      <td>...</td>\n",
       "      <td>Level 3</td>\n",
       "      <td>Level 2</td>\n",
       "      <td>Level 5</td>\n",
       "      <td>Level 2</td>\n",
       "      <td>Level 3</td>\n",
       "      <td>Level 2</td>\n",
       "      <td>Level 3</td>\n",
       "      <td>Level 2</td>\n",
       "      <td>Level 4</td>\n",
       "      <td>Level 2</td>\n",
       "    </tr>\n",
       "    <tr>\n",
       "      <th>362.0</th>\n",
       "      <td>Level 3</td>\n",
       "      <td>Level 4</td>\n",
       "      <td>Level 4</td>\n",
       "      <td>Level 3</td>\n",
       "      <td>Level 3</td>\n",
       "      <td>Level 5</td>\n",
       "      <td>Level 3</td>\n",
       "      <td>Level 3</td>\n",
       "      <td>Level 2</td>\n",
       "      <td>Level 4</td>\n",
       "      <td>...</td>\n",
       "      <td>Level 3</td>\n",
       "      <td>Level 2</td>\n",
       "      <td>Level 5</td>\n",
       "      <td>Level 2</td>\n",
       "      <td>Level 3</td>\n",
       "      <td>Level 2</td>\n",
       "      <td>Level 3</td>\n",
       "      <td>Level 2</td>\n",
       "      <td>Level 4</td>\n",
       "      <td>Level 2</td>\n",
       "    </tr>\n",
       "    <tr>\n",
       "      <th>363.0</th>\n",
       "      <td>Level 3</td>\n",
       "      <td>Level 4</td>\n",
       "      <td>Level 4</td>\n",
       "      <td>Level 3</td>\n",
       "      <td>Level 3</td>\n",
       "      <td>Level 5</td>\n",
       "      <td>Level 3</td>\n",
       "      <td>Level 3</td>\n",
       "      <td>Level 2</td>\n",
       "      <td>Level 4</td>\n",
       "      <td>...</td>\n",
       "      <td>Level 3</td>\n",
       "      <td>Level 2</td>\n",
       "      <td>Level 5</td>\n",
       "      <td>Level 2</td>\n",
       "      <td>Level 3</td>\n",
       "      <td>Level 2</td>\n",
       "      <td>Level 3</td>\n",
       "      <td>Level 2</td>\n",
       "      <td>Level 4</td>\n",
       "      <td>Level 2</td>\n",
       "    </tr>\n",
       "    <tr>\n",
       "      <th>364.0</th>\n",
       "      <td>Level 3</td>\n",
       "      <td>Level 4</td>\n",
       "      <td>Level 4</td>\n",
       "      <td>Level 3</td>\n",
       "      <td>Level 3</td>\n",
       "      <td>Level 5</td>\n",
       "      <td>Level 3</td>\n",
       "      <td>Level 3</td>\n",
       "      <td>Level 2</td>\n",
       "      <td>Level 4</td>\n",
       "      <td>...</td>\n",
       "      <td>Level 3</td>\n",
       "      <td>Level 2</td>\n",
       "      <td>Level 5</td>\n",
       "      <td>Level 2</td>\n",
       "      <td>Level 3</td>\n",
       "      <td>Level 2</td>\n",
       "      <td>Level 3</td>\n",
       "      <td>Level 2</td>\n",
       "      <td>Level 4</td>\n",
       "      <td>Level 2</td>\n",
       "    </tr>\n",
       "  </tbody>\n",
       "</table>\n",
       "<p>365 rows × 50 columns</p>\n",
       "</div>"
      ],
      "text/plain": [
       "            0        1        2        3        4        5        6        7   \\\n",
       "0.0    Level 1  Level 1  Level 1  Level 1  Level 1  Level 1  Level 1  Level 1   \n",
       "1.0    Level 1  Level 1  Level 1  Level 1  Level 1  Level 1  Level 1  Level 1   \n",
       "2.0    Level 1  Level 1  Level 1  Level 1  Level 1  Level 1  Level 1  Level 1   \n",
       "3.0    Level 1  Level 1  Level 1  Level 1  Level 1  Level 1  Level 1  Level 1   \n",
       "4.0    Level 1  Level 1  Level 1  Level 1  Level 1  Level 2  Level 1  Level 1   \n",
       "...        ...      ...      ...      ...      ...      ...      ...      ...   \n",
       "360.0  Level 3  Level 4  Level 4  Level 3  Level 3  Level 5  Level 3  Level 3   \n",
       "361.0  Level 3  Level 4  Level 4  Level 3  Level 3  Level 5  Level 3  Level 3   \n",
       "362.0  Level 3  Level 4  Level 4  Level 3  Level 3  Level 5  Level 3  Level 3   \n",
       "363.0  Level 3  Level 4  Level 4  Level 3  Level 3  Level 5  Level 3  Level 3   \n",
       "364.0  Level 3  Level 4  Level 4  Level 3  Level 3  Level 5  Level 3  Level 3   \n",
       "\n",
       "            8        9   ...       40       41       42       43       44  \\\n",
       "0.0    Level 1  Level 1  ...  Level 1  Level 1  Level 1  Level 1  Level 1   \n",
       "1.0    Level 1  Level 1  ...  Level 1  Level 1  Level 1  Level 1  Level 1   \n",
       "2.0    Level 1  Level 1  ...  Level 1  Level 1  Level 1  Level 1  Level 1   \n",
       "3.0    Level 1  Level 1  ...  Level 1  Level 1  Level 2  Level 1  Level 1   \n",
       "4.0    Level 1  Level 1  ...  Level 1  Level 1  Level 2  Level 1  Level 1   \n",
       "...        ...      ...  ...      ...      ...      ...      ...      ...   \n",
       "360.0  Level 2  Level 4  ...  Level 3  Level 2  Level 5  Level 2  Level 3   \n",
       "361.0  Level 2  Level 4  ...  Level 3  Level 2  Level 5  Level 2  Level 3   \n",
       "362.0  Level 2  Level 4  ...  Level 3  Level 2  Level 5  Level 2  Level 3   \n",
       "363.0  Level 2  Level 4  ...  Level 3  Level 2  Level 5  Level 2  Level 3   \n",
       "364.0  Level 2  Level 4  ...  Level 3  Level 2  Level 5  Level 2  Level 3   \n",
       "\n",
       "            45       46       47       48       49  \n",
       "0.0    Level 1  Level 1  Level 1  Level 1  Level 1  \n",
       "1.0    Level 1  Level 1  Level 1  Level 1  Level 1  \n",
       "2.0    Level 1  Level 1  Level 1  Level 1  Level 1  \n",
       "3.0    Level 1  Level 1  Level 1  Level 1  Level 1  \n",
       "4.0    Level 1  Level 1  Level 1  Level 1  Level 1  \n",
       "...        ...      ...      ...      ...      ...  \n",
       "360.0  Level 2  Level 3  Level 2  Level 4  Level 2  \n",
       "361.0  Level 2  Level 3  Level 2  Level 4  Level 2  \n",
       "362.0  Level 2  Level 3  Level 2  Level 4  Level 2  \n",
       "363.0  Level 2  Level 3  Level 2  Level 4  Level 2  \n",
       "364.0  Level 2  Level 3  Level 2  Level 4  Level 2  \n",
       "\n",
       "[365 rows x 50 columns]"
      ]
     },
     "execution_count": 208,
     "metadata": {},
     "output_type": "execute_result"
    }
   ],
   "source": [
    "# level_counts = Counter(test_curve.T[30].apply(classify_risk))\n",
    "# levels, counts = level_counts.keys(), level_counts.values()\n",
    "# test_curve.T[30].apply(classify_risk)\n",
    "risk_levels = test_curve.iloc[:365,:50].applymap(classify_risk)\n",
    "risk_levels"
   ]
  },
  {
   "cell_type": "code",
   "execution_count": 223,
   "metadata": {},
   "outputs": [
    {
     "data": {
      "text/plain": [
       "Text(0, 0.5, 'Patients')"
      ]
     },
     "execution_count": 223,
     "metadata": {},
     "output_type": "execute_result"
    },
    {
     "data": {
      "image/png": "[encoded data removed]",
      "text/plain": [
       "<Figure size 432x288 with 1 Axes>"
      ]
     },
     "metadata": {
      "needs_background": "light"
     },
     "output_type": "display_data"
    }
   ],
   "source": [
    "risk_counts = risk_levels.apply(Counter, axis = 1)\n",
    "count_risks = pd.DataFrame.from_dict(risk_counts.to_list(), orient='columns')\n",
    "count_risks[count_risks.index.isin([10, 20, 30, 40, 50, 60, 70])].plot.bar(stacked = True)\n",
    "plt.title('Risk Levels over Time')\n",
    "plt.xlabel('Days')\n",
    "plt.ylabel('Patients')"
   ]
  },
  {
   "cell_type": "code",
   "execution_count": 61,
   "metadata": {},
   "outputs": [
    {
     "data": {
      "image/png": "[encoded data removed]",
      "text/plain": [
       "<Figure size 432x288 with 1 Axes>"
      ]
     },
     "metadata": {
      "needs_background": "light"
     },
     "output_type": "display_data"
    }
   ],
   "source": [
    "test_curve.iloc[0:365, 0:7].plot()\n",
    "plt.title('Survival Function for each Patient')\n",
    "plt.xlabel('Time (Days)')\n",
    "plt.ylabel('Survival S(t)')\n",
    "plt.legend().remove()"
   ]
  },
  {
   "cell_type": "code",
   "execution_count": 62,
   "metadata": {},
   "outputs": [
    {
     "data": {
      "text/plain": [
       "0.6834075745949734"
      ]
     },
     "execution_count": 62,
     "metadata": {},
     "output_type": "execute_result"
    }
   ],
   "source": [
    "# math.sqrt(mean_squared_error(test_data.time, test_data.prediction))\n",
    "n_coxph.score(test_input[['time', 'anytime_expire_flag'] + strong_vars], scoring_method= 'concordance_index')\n",
    "\n",
    "# Run against test set"
   ]
  },
  {
   "cell_type": "code",
   "execution_count": 63,
   "metadata": {},
   "outputs": [
    {
     "data": {
      "text/plain": [
       "0.6932407692003139"
      ]
     },
     "execution_count": 63,
     "metadata": {},
     "output_type": "execute_result"
    }
   ],
   "source": [
    "# Finally, we run against validation\n",
    "val_data = pd.read_csv(val_path)\n",
    "val_data['time'] = pd.to_timedelta(val_data['time_until_death']) / np.timedelta64(1, 'D')\n",
    "val_data.time = val_data.time.fillna(val_data.time.max()).apply(math.floor)\n",
    "val_input = pd.concat([val_data[['time', 'anytime_expire_flag', 'icu_admit_age']],\n",
    "                       val_data.loc[:, 'female':'TSICU'],\n",
    "                       val_data.loc[:, 'cardio' :'other']], axis = 1)\n",
    "scaler = MinMaxScaler()\n",
    "val_input.icu_admit_age = scaler.fit_transform(val_input.icu_admit_age.values.reshape(-1, 1))\n",
    "strong_val = val_input[['time', 'anytime_expire_flag'] + strong_vars]\n",
    "\n",
    "n_coxph.score(strong_val, scoring_method='concordance_index')"
   ]
  },
  {
   "cell_type": "markdown",
   "metadata": {},
   "source": [
    "# Accelerated Failure Time Model (AFT)\n",
    "Next we will work with the AFT model to try to handle non-constant hazards, and improve time to event prediction."
   ]
  },
  {
   "cell_type": "code",
   "execution_count": 64,
   "metadata": {},
   "outputs": [
    {
     "data": {
      "text/plain": [
       "<lifelines.WeibullAFTFitter: fitted with 22923 total observations, 14239 right-censored observations>"
      ]
     },
     "execution_count": 64,
     "metadata": {},
     "output_type": "execute_result"
    }
   ],
   "source": [
    "aft_input = train_input[train_input.time > 0]\n",
    "# train_input.time = train_input.time.apply(lambda x: 0.1 if x==0 else x)\n",
    "\n",
    "aft = WeibullAFTFitter()\n",
    "aft.fit(aft_input, 'time', event_col='anytime_expire_flag')"
   ]
  },
  {
   "cell_type": "code",
   "execution_count": 65,
   "metadata": {},
   "outputs": [
    {
     "data": {
      "text/plain": [
       "<AxesSubplot:>"
      ]
     },
     "execution_count": 65,
     "metadata": {},
     "output_type": "execute_result"
    },
    {
     "data": {
      "image/png": "[encoded data removed]",
      "text/plain": [
       "<Figure size 432x288 with 1 Axes>"
      ]
     },
     "metadata": {
      "needs_background": "light"
     },
     "output_type": "display_data"
    }
   ],
   "source": [
    "test_pred_aft = aft.predict_survival_function(test_input[test_input.time > 0])\n",
    "test_pred_aft.iloc[0:365, 0:7].plot()\n",
    "plt.title('Accelerated Failure Time')\n",
    "plt.xlabel('')"
   ]
  },
  {
   "cell_type": "code",
   "execution_count": 66,
   "metadata": {},
   "outputs": [
    {
     "data": {
      "text/plain": [
       "0.6984475742640722"
      ]
     },
     "execution_count": 66,
     "metadata": {},
     "output_type": "execute_result"
    }
   ],
   "source": [
    "aft.score(val_input[val_input.time > 0], scoring_method='concordance_index')\n",
    "# aft.predict_expectation(test_input)"
   ]
  },
  {
   "cell_type": "markdown",
   "metadata": {},
   "source": [
    "# Boosting for Prediction\n",
    "We will need to incorporate ensemble modeling if we are going to optimize time to event prediction. For this we are going to use the XGBoost library with both Cox Proportional Hazards and Accelerated Failure Time."
   ]
  },
  {
   "cell_type": "markdown",
   "metadata": {},
   "source": [
    "## Cox Regression\n",
    "First we will need to reformat our data to meet the input and target requirements for XGBoost"
   ]
  },
  {
   "cell_type": "code",
   "execution_count": 67,
   "metadata": {},
   "outputs": [
    {
     "name": "stdout",
     "output_type": "stream",
     "text": [
      "[22:30:29] WARNING: C:\\Users\\Administrator\\workspace\\xgboost-win64_release_1.2.0\\src\\learner.cc:516: \n",
      "Parameters: { eval-metric } might not be used.\n",
      "\n",
      "  This may not be accurate due to some parameters are only used in language bindings but\n",
      "  passed down to XGBoost core.  Or some parameters are not used but slip through this\n",
      "  verification. Please open an issue if you find above cases.\n",
      "\n",
      "\n"
     ]
    }
   ],
   "source": [
    "x_train = train_input\n",
    "\n",
    "# Make dates of censoring\n",
    "censor_date = x_train.time.max()\n",
    "x_target = x_train.time.apply(lambda x: -x if x == censor_date else x)\n",
    "\n",
    "# Reformat data to work with XGBoost format\n",
    "x_input = x_train.drop(['time', 'anytime_expire_flag'], axis=1)\n",
    "D_train = xgb.DMatrix(x_input, label = x_target)\n",
    "\n",
    "param ={\n",
    "    'eta' : 0.3,\n",
    "    'objective' : 'survival:cox',\n",
    "    'eval-metric' : 'cox-nloglik'\n",
    "}\n",
    "\n",
    "rounds = 30\n",
    "\n",
    "cox = xgb.train(param, D_train, rounds)"
   ]
  },
  {
   "cell_type": "code",
   "execution_count": 68,
   "metadata": {},
   "outputs": [],
   "source": [
    "# Reformat Test data\n",
    "x_test = test_input\n",
    "\n",
    "# Make dates of censoring\n",
    "test_censor = x_test.time.max()\n",
    "x_test_target = x_test.time.apply(lambda x: -x if x == test_censor else x)\n",
    "\n",
    "# Reformat data to work with XGBoost format\n",
    "x_test_input = x_test.drop(['time', 'anytime_expire_flag'], axis=1)\n",
    "D_test = xgb.DMatrix(x_test_input, label=x_test_target)"
   ]
  },
  {
   "cell_type": "code",
   "execution_count": 69,
   "metadata": {},
   "outputs": [
    {
     "data": {
      "text/plain": [
       "array([0.43423882, 0.93792796, 0.9799387 , ..., 0.56164014, 0.24252996,\n",
       "       0.5841647 ], dtype=float32)"
      ]
     },
     "execution_count": 69,
     "metadata": {},
     "output_type": "execute_result"
    }
   ],
   "source": [
    "cox.predict(D_test)"
   ]
  },
  {
   "cell_type": "markdown",
   "metadata": {},
   "source": [
    "Now we will try with scikit-survival"
   ]
  },
  {
   "cell_type": "code",
   "execution_count": 70,
   "metadata": {},
   "outputs": [
    {
     "name": "stderr",
     "output_type": "stream",
     "text": [
      "C:\\Users\\mgaut\\Anaconda3\\envs\\infovis\\lib\\site-packages\\pandas\\core\\generic.py:5168: SettingWithCopyWarning: \n",
      "A value is trying to be set on a copy of a slice from a DataFrame.\n",
      "Try using .loc[row_indexer,col_indexer] = value instead\n",
      "\n",
      "See the caveats in the documentation: https://pandas.pydata.org/pandas-docs/stable/user_guide/indexing.html#returning-a-view-versus-a-copy\n",
      "  self[name] = value\n"
     ]
    }
   ],
   "source": [
    "s_input = train_input.loc[:, 'icu_admit_age':]\n",
    "s_target = train_input[['anytime_expire_flag', 'time']]\n",
    "s_target.anytime_expire_flag = s_target.anytime_expire_flag.apply(lambda x: False if x==0 else True)\n",
    "s_target = s_target.to_records(index=False)\n",
    "\n",
    "s_test = test_input.loc[:, 'icu_admit_age':]\n",
    "s_test_target = test_input[['anytime_expire_flag', 'time']]\n",
    "s_test_target.anytime_expire_flag = s_test_target.anytime_expire_flag.apply(lambda x: False if x==0 else True)\n",
    "s_test_target = s_test_target.to_records(index=False)\n",
    "\n",
    "coxph = CoxPHSurvivalAnalysis()\n",
    "estimator = coxph.fit(s_input, s_target)"
   ]
  },
  {
   "cell_type": "code",
   "execution_count": 246,
   "metadata": {},
   "outputs": [
    {
     "data": {
      "text/plain": [
       "['icu_admit_age',\n",
       " 'CSRU',\n",
       " 'TSICU',\n",
       " 'infection',\n",
       " 'brain',\n",
       " 'respiratory',\n",
       " 'failure',\n",
       " 'cancer',\n",
       " 'pain']"
      ]
     },
     "execution_count": 246,
     "metadata": {},
     "output_type": "execute_result"
    }
   ],
   "source": [
    "s_vars = pd.Series(estimator.coef_, index=s_input.columns).abs()\n",
    "strong_vars = s_vars[s_vars>=0.2].index.values.tolist()\n",
    "strong_vars"
   ]
  },
  {
   "cell_type": "code",
   "execution_count": 72,
   "metadata": {},
   "outputs": [
    {
     "data": {
      "text/plain": [
       "0.6878381231857951"
      ]
     },
     "execution_count": 72,
     "metadata": {},
     "output_type": "execute_result"
    }
   ],
   "source": [
    "estimator.score(s_test, s_test_target)"
   ]
  },
  {
   "cell_type": "code",
   "execution_count": 247,
   "metadata": {},
   "outputs": [],
   "source": [
    "n_estimator = CoxPHSurvivalAnalysis().fit(s_input[strong_vars], s_target)"
   ]
  },
  {
   "cell_type": "code",
   "execution_count": 248,
   "metadata": {},
   "outputs": [
    {
     "data": {
      "text/plain": [
       "0.6834106915361906"
      ]
     },
     "execution_count": 248,
     "metadata": {},
     "output_type": "execute_result"
    }
   ],
   "source": [
    "n_estimator.score(s_test[strong_vars], s_test_target)"
   ]
  },
  {
   "cell_type": "code",
   "execution_count": 284,
   "metadata": {},
   "outputs": [
    {
     "name": "stderr",
     "output_type": "stream",
     "text": [
      "C:\\Users\\mgaut\\Anaconda3\\envs\\infovis\\lib\\site-packages\\pandas\\core\\generic.py:5168: SettingWithCopyWarning: \n",
      "A value is trying to be set on a copy of a slice from a DataFrame.\n",
      "Try using .loc[row_indexer,col_indexer] = value instead\n",
      "\n",
      "See the caveats in the documentation: https://pandas.pydata.org/pandas-docs/stable/user_guide/indexing.html#returning-a-view-versus-a-copy\n",
      "  self[name] = value\n"
     ]
    }
   ],
   "source": [
    "a_train = train_input[train_input.time > 0]\n",
    "a_input = a_train.loc[:, 'icu_admit_age':]\n",
    "a_target = a_train[['anytime_expire_flag', 'time']]\n",
    "a_target.anytime_expire_flag = a_target.anytime_expire_flag.apply(lambda x: False if x==0 else True)\n",
    "a_target = a_target.to_records(index=False)\n",
    "# aft = IPCRidge().fit(a_input, a_target)"
   ]
  },
  {
   "cell_type": "markdown",
   "metadata": {},
   "source": [
    "Now we will try Boosting and Random Forest using the scikit-survival library"
   ]
  },
  {
   "cell_type": "code",
   "execution_count": 81,
   "metadata": {},
   "outputs": [
    {
     "name": "stdout",
     "output_type": "stream",
     "text": [
      "6m 44.86538124084473s\n"
     ]
    }
   ],
   "source": [
    "# Need to perform GridSearchCV for learning rate & number of trees\n",
    "start = time.time()\n",
    "cox_boost = GradientBoostingSurvivalAnalysis(\n",
    "    n_estimators = 50,\n",
    "    max_depth = 5\n",
    ")\n",
    "cox_boost.fit(s_input, s_target)\n",
    "end = time.time()\n",
    "\n",
    "total = end - start\n",
    "print(str(int(total/60)) + 'm ' + str(total % 60)+'s')"
   ]
  },
  {
   "cell_type": "code",
   "execution_count": 82,
   "metadata": {},
   "outputs": [
    {
     "data": {
      "text/plain": [
       "0.6889772124094597"
      ]
     },
     "execution_count": 82,
     "metadata": {},
     "output_type": "execute_result"
    }
   ],
   "source": [
    "cox_boost.score(s_test, s_test_target)"
   ]
  },
  {
   "cell_type": "code",
   "execution_count": 75,
   "metadata": {},
   "outputs": [
    {
     "data": {
      "text/plain": [
       "RandomSurvivalForest()"
      ]
     },
     "execution_count": 75,
     "metadata": {},
     "output_type": "execute_result"
    }
   ],
   "source": [
    "cox_rf = RandomSurvivalForest()\n",
    "cox_rf.fit(s_input, s_target)"
   ]
  },
  {
   "cell_type": "code",
   "execution_count": 76,
   "metadata": {},
   "outputs": [
    {
     "data": {
      "text/plain": [
       "0.6854777736116701"
      ]
     },
     "execution_count": 76,
     "metadata": {},
     "output_type": "execute_result"
    }
   ],
   "source": [
    "cox_rf.score(s_test, s_test_target)"
   ]
  }
 ],
 "metadata": {
  "kernelspec": {
   "display_name": "infovis",
   "language": "python",
   "name": "infovis"
  },
  "language_info": {
   "codemirror_mode": {
    "name": "ipython",
    "version": 3
   },
   "file_extension": ".py",
   "mimetype": "text/x-python",
   "name": "python",
   "nbconvert_exporter": "python",
   "pygments_lexer": "ipython3",
   "version": "3.7.9"
  }
 },
 "nbformat": 4,
 "nbformat_minor": 4
}
