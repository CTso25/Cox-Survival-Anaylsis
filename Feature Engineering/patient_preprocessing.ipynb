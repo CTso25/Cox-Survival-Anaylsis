{
  "nbformat": 4,
  "nbformat_minor": 0,
  "metadata": {
    "colab": {
      "name": "patient_preprocessing.ipynb",
      "provenance": [],
      "collapsed_sections": [
        "WOydxJneRYYf"
      ]
    },
    "kernelspec": {
      "name": "python3",
      "display_name": "Python 3"
    }
  },
  "cells": [
    {
      "cell_type": "code",
      "metadata": {
        "id": "jKq3L2x-D1iN"
      },
      "source": [
        "import pandas as pd\n",
        "import numpy as np\n",
        "import feather\n",
        "\n",
        "import matplotlib.pyplot as plt\n",
        "plt.style.use('ggplot')\n",
        "\n",
        "# Set to true for export of the training, validation and test set to be done\n",
        "proceed_export = False\n",
        "rdata_export = False\n",
        "populate_type = ['train','val','test'][0]"
      ],
      "execution_count": null,
      "outputs": []
    },
    {
      "cell_type": "markdown",
      "metadata": {
        "id": "A6etEeusk_s-"
      },
      "source": [
        "# Import Data"
      ]
    },
    {
      "cell_type": "code",
      "metadata": {
        "id": "icfoOgPpLMt4"
      },
      "source": [
        "df = pd.read_csv('static_patient_data_v2.csv',\n",
        "                 parse_dates = ['intime', 'outtime','hospital_deathtime', 'DOD','DOD_HOSP','DOD_SSN','admittime'],\n",
        "                 dtype={\n",
        "                     'days_live':'Int64'\n",
        "                     ,'years_live': 'Int64'\n",
        "                     }\n",
        "                 ).drop(['intime_1'], axis = 1)"
      ],
      "execution_count": null,
      "outputs": []
    },
    {
      "cell_type": "code",
      "metadata": {
        "id": "I0e3V4S1l2oT"
      },
      "source": [
        "df.describe()"
      ],
      "execution_count": null,
      "outputs": []
    },
    {
      "cell_type": "code",
      "metadata": {
        "id": "LSnjSvUIoAWG"
      },
      "source": [
        "df.dtypes"
      ],
      "execution_count": null,
      "outputs": []
    },
    {
      "cell_type": "markdown",
      "metadata": {
        "id": "bwqzLcI7k1cC"
      },
      "source": [
        "# Identify Unique Patient Rows\n",
        "Extracts the first icustay_id based upon entry"
      ]
    },
    {
      "cell_type": "code",
      "metadata": {
        "id": "pqUaXg7sBXoB",
        "colab": {
          "base_uri": "https://localhost:8080/"
        },
        "outputId": "e25e3f2e-8005-4bb6-c706-f456faf10900"
      },
      "source": [
        "patient_df = df[df['ICUSTAY_AGE_GROUP'] == 'adult'].sort_values(by='intime', ascending = True).drop_duplicates(subset='subject_id', keep='first')\n",
        "\n",
        "patient_df.drop('ICUSTAY_AGE_GROUP', axis = 1, inplace = True)\n",
        "\n",
        "print(len(patient_df))"
      ],
      "execution_count": null,
      "outputs": [
        {
          "output_type": "stream",
          "text": [
            "36616\n"
          ],
          "name": "stdout"
        }
      ]
    },
    {
      "cell_type": "markdown",
      "metadata": {
        "id": "v513sRPPViGK"
      },
      "source": [
        "# Generate Time to Death and Flags on Anytime/Hospital/ICU location of death\n",
        "Includes analysis for consistency, and removal of unneseary fields "
      ]
    },
    {
      "cell_type": "code",
      "metadata": {
        "id": "Qe3Ru6_r82ao"
      },
      "source": [
        "patient_df['time_of_death'] = np.where(patient_df['hospital_deathtime'].notnull(), patient_df['hospital_deathtime'], patient_df['DOD'])"
      ],
      "execution_count": null,
      "outputs": []
    },
    {
      "cell_type": "code",
      "metadata": {
        "id": "P79ZAsSAEd4k"
      },
      "source": [
        "patient_df['time_until_death']  = patient_df['time_of_death'] - patient_df['intime']"
      ],
      "execution_count": null,
      "outputs": []
    },
    {
      "cell_type": "code",
      "metadata": {
        "id": "vnwItQVKlqwn"
      },
      "source": [
        "# Excludes records with negative time until death. Around 70 records.\n",
        "patient_df = patient_df[np.logical_not(patient_df['time_until_death'] < pd.Timedelta(-1,'s'))].sort_values(by='time_until_death', ascending = True)"
      ],
      "execution_count": null,
      "outputs": []
    },
    {
      "cell_type": "code",
      "metadata": {
        "id": "bYx6HYXytVk8",
        "colab": {
          "base_uri": "https://localhost:8080/"
        },
        "outputId": "89bc64e4-b242-4832-acbf-19fc14aa3a43"
      },
      "source": [
        "print(len(patient_df))"
      ],
      "execution_count": null,
      "outputs": [
        {
          "output_type": "stream",
          "text": [
            "36550\n"
          ],
          "name": "stdout"
        }
      ]
    },
    {
      "cell_type": "code",
      "metadata": {
        "id": "0FgBBMIk71kO"
      },
      "source": [
        "# 5 records when DOD is after the Hospital Deathtime in the time_of_death. The earlier death in time_of_death should be better.\n",
        "# hospital_deathtime is sometimes right before DOD_SNN, and earlier time (which should be better) is stored in time_of_death\n",
        "# Some inconstiencies where DOD_SNN is null when someone died in a hospital, but the hospital time of death is included in Time of Death\n",
        "# patient_df[['anytime_expire_flag','hospital_expire_flag','icu_expire_flag']].groupby(by=['anytime_expire_flag','hospital_expire_flag','icu_expire_flag']).size().reset_index()\n",
        "\n",
        "# Renaming fields as well as dropping fields that are no longer needed\n",
        "patient_df = patient_df.drop(['DOD_SSN','DOD_HOSP','hospital_deathtime','DOD'], axis = 1).rename(columns = {\n",
        "    'EXPIRE_FLAG': 'anytime_expire_flag'\n",
        "    , 'ICUSTAY_EXPIRE_FLAG': 'icu_expire_flag'\n",
        "    ,'ICUSTAY_AGE_GROUP': 'icustay_age_group'\n",
        "    })"
      ],
      "execution_count": null,
      "outputs": []
    },
    {
      "cell_type": "code",
      "metadata": {
        "id": "pAnfmoRQ_8G9"
      },
      "source": [
        "patient_df = patient_df.sort_values(by='intime', ascending = True).reset_index().drop(['index'], axis = 1)"
      ],
      "execution_count": null,
      "outputs": []
    },
    {
      "cell_type": "code",
      "metadata": {
        "id": "IqupjDTiBG-t"
      },
      "source": [
        "# 89 records had a year difference from age at admission and age at ICU admission, so using the ICU admission age.\n",
        "patient_df = patient_df.drop(['admit_age'], axis = 1)"
      ],
      "execution_count": null,
      "outputs": []
    },
    {
      "cell_type": "code",
      "metadata": {
        "id": "hCSzqJuiNaxS"
      },
      "source": [
        "# Changing order of fields for easy use\n",
        "patient_df = patient_df[['subject_id', 'hadm_id', 'icustay_id', 'time_of_death', 'time_until_death',\n",
        "       'anytime_expire_flag', 'hospital_expire_flag', 'icu_expire_flag', 'admittime', 'intime',\n",
        "       'gender', 'icu_admit_age']]"
      ],
      "execution_count": null,
      "outputs": []
    },
    {
      "cell_type": "code",
      "metadata": {
        "id": "t-HWONYZir9y"
      },
      "source": [
        "patient_df.sort_values(by = 'time_until_death', ascending = True)"
      ],
      "execution_count": null,
      "outputs": []
    },
    {
      "cell_type": "markdown",
      "metadata": {
        "id": "OfQGzbDD92UO"
      },
      "source": [
        "# Train/ Validate/ Test Split\n",
        "Validate can be used to give us some statistics during the phase 1 report that we can use to inform our final models which can be evaluated on the test set"
      ]
    },
    {
      "cell_type": "code",
      "metadata": {
        "id": "zVGOBIlp9-Zg"
      },
      "source": [
        "from sklearn.model_selection import train_test_split\n",
        "\n",
        "patient_train, patient_test = train_test_split(\n",
        "patient_df, test_size=0.20, random_state=5, shuffle = True)"
      ],
      "execution_count": null,
      "outputs": []
    },
    {
      "cell_type": "code",
      "metadata": {
        "id": "zWr78UKkAkps"
      },
      "source": [
        "patient_df[['anytime_expire_flag','hospital_expire_flag','icu_expire_flag']].groupby(by=['anytime_expire_flag','hospital_expire_flag','icu_expire_flag']).size().reset_index()"
      ],
      "execution_count": null,
      "outputs": []
    },
    {
      "cell_type": "code",
      "metadata": {
        "id": "7zDT03_Of7xS"
      },
      "source": [
        "patient_train[['anytime_expire_flag','hospital_expire_flag','icu_expire_flag']].groupby(by=['anytime_expire_flag','hospital_expire_flag','icu_expire_flag']).size().reset_index()"
      ],
      "execution_count": null,
      "outputs": []
    },
    {
      "cell_type": "code",
      "metadata": {
        "id": "xvW06xj3Ar5c",
        "colab": {
          "base_uri": "https://localhost:8080/"
        },
        "outputId": "ead96e1a-709d-48f3-cd1b-743dfa5f04f4"
      },
      "source": [
        "\n",
        "# Confirm train split is done correctly\n",
        "saved_train_distribution = patient_train[['anytime_expire_flag','hospital_expire_flag','icu_expire_flag']].groupby(by=['anytime_expire_flag','hospital_expire_flag','icu_expire_flag']).size().reset_index()\n",
        "\n",
        "if saved_train_distribution[0].tolist() == [17879, 8232, 861, 2268]:\n",
        "    print('Train Split Done Correctly')\n",
        "else:\n",
        "    raise ValueError('Split was done incorrectly, review')"
      ],
      "execution_count": null,
      "outputs": [
        {
          "output_type": "stream",
          "text": [
            "Train Split Done Correctly\n"
          ],
          "name": "stdout"
        }
      ]
    },
    {
      "cell_type": "code",
      "metadata": {
        "id": "FVdgOzwrA3kk"
      },
      "source": [
        "patient_test[['anytime_expire_flag','hospital_expire_flag','icu_expire_flag']].groupby(by=['anytime_expire_flag','hospital_expire_flag','icu_expire_flag']).size().reset_index()"
      ],
      "execution_count": null,
      "outputs": []
    },
    {
      "cell_type": "code",
      "metadata": {
        "id": "6WX1og2YA9jx"
      },
      "source": [
        "# Split into a validation set"
      ],
      "execution_count": null,
      "outputs": []
    },
    {
      "cell_type": "code",
      "metadata": {
        "id": "UwcQkDIJB6z3"
      },
      "source": [
        "patient_train, patient_val = train_test_split(\n",
        "patient_train, test_size=0.20, random_state=14, shuffle = False)"
      ],
      "execution_count": null,
      "outputs": []
    },
    {
      "cell_type": "code",
      "metadata": {
        "id": "I6XSP6GLgGYl"
      },
      "source": [
        "patient_train[['anytime_expire_flag','hospital_expire_flag','icu_expire_flag']].groupby(by=['anytime_expire_flag','hospital_expire_flag','icu_expire_flag']).size().reset_index()"
      ],
      "execution_count": null,
      "outputs": []
    },
    {
      "cell_type": "code",
      "metadata": {
        "id": "BVHIG80hCHPj",
        "colab": {
          "base_uri": "https://localhost:8080/"
        },
        "outputId": "9c0583f4-f880-4d1e-a678-9e6757ad844c"
      },
      "source": [
        "# Confirm second train and validation split is done correctly\n",
        "\n",
        "# Check overall count for each class\n",
        "saved_train_distribution = patient_train[['anytime_expire_flag','hospital_expire_flag','icu_expire_flag']].groupby(by=['anytime_expire_flag','hospital_expire_flag','icu_expire_flag']).size().reset_index()\n",
        "\n",
        "if saved_train_distribution[0].tolist() == [14239, 6649, 696, 1808]:\n",
        "    print('Second train split done correctly with proper distribution between classes')\n",
        "else:\n",
        "    raise ValueError('Split was done incorrectly, review')\n",
        "\n",
        "# Check first 5 records are correct\n",
        "if patient_train.head().index.tolist() == [34451, 8697, 31360, 19754, 36435]:\n",
        "    print('Second train split done correctly as the first 5 records in the training set are expected')\n",
        "else:\n",
        "    raise ValueError('Split was done incorrectly, first 5 records are incorrect')"
      ],
      "execution_count": null,
      "outputs": [
        {
          "output_type": "stream",
          "text": [
            "Second train split done correctly with proper distribution between classes\n",
            "Second train split done correctly as the first 5 records in the training set are expected\n"
          ],
          "name": "stdout"
        }
      ]
    },
    {
      "cell_type": "code",
      "metadata": {
        "id": "CYPPPMAaCNLS"
      },
      "source": [
        "patient_val[['anytime_expire_flag','hospital_expire_flag','icu_expire_flag']].groupby(by=['anytime_expire_flag','hospital_expire_flag','icu_expire_flag']).size().reset_index()"
      ],
      "execution_count": null,
      "outputs": []
    },
    {
      "cell_type": "code",
      "metadata": {
        "id": "-Itga9yidaZs"
      },
      "source": [
        "print(len(patient_train), len(patient_val), len(patient_test))\n",
        "total = len(patient_train) + len(patient_val) + len(patient_test)\n",
        "print(len(patient_train)/total, len(patient_val)/total, len(patient_test)/total)\n",
        "print(total)"
      ],
      "execution_count": null,
      "outputs": []
    },
    {
      "cell_type": "markdown",
      "metadata": {
        "id": "xJVKLgFpdbEG"
      },
      "source": [
        "# Populate Train, Val, or Test"
      ]
    },
    {
      "cell_type": "code",
      "metadata": {
        "id": "-_CKUFxLdeCk"
      },
      "source": [
        "if populate_type == 'train':\n",
        "  patient_split = patient_train\n",
        "elif populate_type == 'val':\n",
        "  patient_split = patient_val\n",
        "elif populate_type == 'test':\n",
        "  patient_split = patient_test\n",
        "else:\n",
        "  raise ValueError('Incorrect type of data used')"
      ],
      "execution_count": null,
      "outputs": []
    },
    {
      "cell_type": "code",
      "metadata": {
        "id": "Ph4VQSY6uyzH"
      },
      "source": [
        ""
      ],
      "execution_count": null,
      "outputs": []
    },
    {
      "cell_type": "markdown",
      "metadata": {
        "id": "iZWTuhz2Cm6N"
      },
      "source": [
        "# Calculation of Time until enter ICU"
      ]
    },
    {
      "cell_type": "code",
      "metadata": {
        "id": "273GPvKVCue4",
        "colab": {
          "base_uri": "https://localhost:8080/"
        },
        "outputId": "f1dea9f7-d820-4a06-fb7a-d3cf32927ef8"
      },
      "source": [
        "patient_split['admission_time_until_icu'] = patient_split['intime'] - patient_split['admittime']"
      ],
      "execution_count": null,
      "outputs": [
        {
          "output_type": "stream",
          "text": [
            "/usr/local/lib/python3.6/dist-packages/ipykernel_launcher.py:1: SettingWithCopyWarning: \n",
            "A value is trying to be set on a copy of a slice from a DataFrame.\n",
            "Try using .loc[row_indexer,col_indexer] = value instead\n",
            "\n",
            "See the caveats in the documentation: https://pandas.pydata.org/pandas-docs/stable/user_guide/indexing.html#returning-a-view-versus-a-copy\n",
            "  \"\"\"Entry point for launching an IPython kernel.\n"
          ],
          "name": "stderr"
        }
      ]
    },
    {
      "cell_type": "code",
      "metadata": {
        "id": "TbFsSZAZK9bW",
        "colab": {
          "base_uri": "https://localhost:8080/"
        },
        "outputId": "13aa2595-80fa-4c9b-c247-23c76d42fe75"
      },
      "source": [
        "mask = (patient_split['admission_time_until_icu'] < pd.Timedelta(-1,'s'))\n",
        "\n",
        "print('Total Records with proper admission time until ICU', len(patient_split[mask]) )\n",
        "              \n",
        "#patient_split[mask]\n",
        "patient_split.loc[mask,'admission_time_until_icu'] = pd.Timedelta(0,'s')"
      ],
      "execution_count": null,
      "outputs": [
        {
          "output_type": "stream",
          "text": [
            "Total Records with proper admission time until ICU 82\n"
          ],
          "name": "stdout"
        },
        {
          "output_type": "stream",
          "text": [
            "/usr/local/lib/python3.6/dist-packages/pandas/core/indexing.py:1763: SettingWithCopyWarning: \n",
            "A value is trying to be set on a copy of a slice from a DataFrame.\n",
            "Try using .loc[row_indexer,col_indexer] = value instead\n",
            "\n",
            "See the caveats in the documentation: https://pandas.pydata.org/pandas-docs/stable/user_guide/indexing.html#returning-a-view-versus-a-copy\n",
            "  isetter(loc, value)\n"
          ],
          "name": "stderr"
        }
      ]
    },
    {
      "cell_type": "code",
      "metadata": {
        "id": "WQlz97vsPHnr",
        "colab": {
          "base_uri": "https://localhost:8080/",
          "height": 69
        },
        "outputId": "fab6b9a2-9c82-472a-8888-432afb1447bd"
      },
      "source": [
        "# Confirming no records remain\n",
        "patient_split[patient_split['admission_time_until_icu'] < pd.Timedelta(-1,'s')]"
      ],
      "execution_count": null,
      "outputs": [
        {
          "output_type": "execute_result",
          "data": {
            "text/html": [
              "<div>\n",
              "<style scoped>\n",
              "    .dataframe tbody tr th:only-of-type {\n",
              "        vertical-align: middle;\n",
              "    }\n",
              "\n",
              "    .dataframe tbody tr th {\n",
              "        vertical-align: top;\n",
              "    }\n",
              "\n",
              "    .dataframe thead th {\n",
              "        text-align: right;\n",
              "    }\n",
              "</style>\n",
              "<table border=\"1\" class=\"dataframe\">\n",
              "  <thead>\n",
              "    <tr style=\"text-align: right;\">\n",
              "      <th></th>\n",
              "      <th>subject_id</th>\n",
              "      <th>hadm_id</th>\n",
              "      <th>icustay_id</th>\n",
              "      <th>time_of_death</th>\n",
              "      <th>time_until_death</th>\n",
              "      <th>anytime_expire_flag</th>\n",
              "      <th>hospital_expire_flag</th>\n",
              "      <th>icu_expire_flag</th>\n",
              "      <th>admittime</th>\n",
              "      <th>intime</th>\n",
              "      <th>gender</th>\n",
              "      <th>icu_admit_age</th>\n",
              "      <th>admission_time_until_icu</th>\n",
              "    </tr>\n",
              "  </thead>\n",
              "  <tbody>\n",
              "  </tbody>\n",
              "</table>\n",
              "</div>"
            ],
            "text/plain": [
              "Empty DataFrame\n",
              "Columns: [subject_id, hadm_id, icustay_id, time_of_death, time_until_death, anytime_expire_flag, hospital_expire_flag, icu_expire_flag, admittime, intime, gender, icu_admit_age, admission_time_until_icu]\n",
              "Index: []"
            ]
          },
          "metadata": {
            "tags": []
          },
          "execution_count": 243
        }
      ]
    },
    {
      "cell_type": "code",
      "metadata": {
        "id": "CYHVT1quwUS0",
        "colab": {
          "base_uri": "https://localhost:8080/"
        },
        "outputId": "0604d1c1-b4be-4dba-ce8e-ce8f4a7c0403"
      },
      "source": [
        "patient_split['hours_until_icu_admission'] = patient_split['admission_time_until_icu'].astype('timedelta64[h]')"
      ],
      "execution_count": null,
      "outputs": [
        {
          "output_type": "stream",
          "text": [
            "/usr/local/lib/python3.6/dist-packages/ipykernel_launcher.py:1: SettingWithCopyWarning: \n",
            "A value is trying to be set on a copy of a slice from a DataFrame.\n",
            "Try using .loc[row_indexer,col_indexer] = value instead\n",
            "\n",
            "See the caveats in the documentation: https://pandas.pydata.org/pandas-docs/stable/user_guide/indexing.html#returning-a-view-versus-a-copy\n",
            "  \"\"\"Entry point for launching an IPython kernel.\n"
          ],
          "name": "stderr"
        }
      ]
    },
    {
      "cell_type": "code",
      "metadata": {
        "id": "7HkqdDazPWQ6"
      },
      "source": [
        "patient_split.sort_values(by='hours_until_icu_admission', ascending = True).head()"
      ],
      "execution_count": null,
      "outputs": []
    },
    {
      "cell_type": "code",
      "metadata": {
        "id": "u9ejwlJvRb-A",
        "colab": {
          "base_uri": "https://localhost:8080/"
        },
        "outputId": "98a07723-ffb3-4f90-f938-0ebf6c386055"
      },
      "source": [
        "len(patient_split)"
      ],
      "execution_count": null,
      "outputs": [
        {
          "output_type": "execute_result",
          "data": {
            "text/plain": [
              "7310"
            ]
          },
          "metadata": {
            "tags": []
          },
          "execution_count": 246
        }
      ]
    },
    {
      "cell_type": "code",
      "metadata": {
        "id": "jlVc3IfAQPpp"
      },
      "source": [
        "plt.hist(patient_split['admission_time_until_icu'].astype('timedelta64[h]'), 10000)\n",
        "plt.xlim(0, 6)\n",
        "plt.xlabel('Hours until Enter ICU')\n",
        "plt.ylabel('Frequency')\n",
        "plt.title('Arounud half of all ICU admissions are very fast, in the first hour')\n",
        "plt.grid(True)"
      ],
      "execution_count": null,
      "outputs": []
    },
    {
      "cell_type": "code",
      "metadata": {
        "id": "baH-fSOoRmDP"
      },
      "source": [
        "plt.hist(patient_split['admission_time_until_icu'].dropna().astype('timedelta64[h]') , bins = 1000, cumulative=True, density=True, histtype='step',\n",
        "                            label='Empirical')\n",
        "plt.xlim(0, 72)\n",
        "plt.xlabel('Hours admitted to hospital before ICU entry')\n",
        "plt.ylabel('Cumulative Distribution')\n",
        "plt.title('90% of all admission to ICU happen in the first 3 days of general admission to a hospital')\n",
        "plt.grid(True)\n",
        "\n",
        "plt.show()"
      ],
      "execution_count": null,
      "outputs": []
    },
    {
      "cell_type": "markdown",
      "metadata": {
        "id": "3OVLh0uNg5A0"
      },
      "source": [
        "# entire_mimiciii_clinical_icustays_table Features:\n",
        "1. dbsource\n",
        "2. first_careunit"
      ]
    },
    {
      "cell_type": "code",
      "metadata": {
        "id": "RVGm_9Org7eW"
      },
      "source": [
        "icustays = pd.read_csv('entire_mimic_iii_exported_tables/entire_mimiciii_clinical_icustays_table.csv',\n",
        "                parse_dates = ['INTIME', 'OUTTIME']\n",
        "                 )"
      ],
      "execution_count": null,
      "outputs": []
    },
    {
      "cell_type": "code",
      "metadata": {
        "id": "N7nH0jgRlyrM"
      },
      "source": [
        "icustays.dtypes"
      ],
      "execution_count": null,
      "outputs": []
    },
    {
      "cell_type": "code",
      "metadata": {
        "id": "JLcOl5ITngGJ"
      },
      "source": [
        "icustays.isnull().sum()"
      ],
      "execution_count": null,
      "outputs": []
    },
    {
      "cell_type": "code",
      "metadata": {
        "id": "aAUohxIlliG8"
      },
      "source": [
        "icustays = icustays[['ICUSTAY_ID','DBSOURCE','FIRST_CAREUNIT','INTIME','OUTTIME']]\n",
        "icustays = icustays.rename(columns = {'ICUSTAY_ID': 'icustay_id',\n",
        "                                      'DBSOURCE': 'dbsource', \n",
        "                                    'FIRST_CAREUNIT': 'first_careunit'})\n",
        "icustays.head(1)"
      ],
      "execution_count": null,
      "outputs": []
    },
    {
      "cell_type": "code",
      "metadata": {
        "id": "RUzWZO8QljH3"
      },
      "source": [
        "patient_split = patient_split.merge(icustays, on = 'icustay_id', how = 'left')"
      ],
      "execution_count": null,
      "outputs": []
    },
    {
      "cell_type": "code",
      "metadata": {
        "id": "jQRrR2JRoT2x"
      },
      "source": [
        "patient_split.head()"
      ],
      "execution_count": null,
      "outputs": []
    },
    {
      "cell_type": "code",
      "metadata": {
        "id": "B9K7Bts4oj3a"
      },
      "source": [
        "patient_split.groupby(by='dbsource').count()['subject_id']"
      ],
      "execution_count": null,
      "outputs": []
    },
    {
      "cell_type": "code",
      "metadata": {
        "id": "ZfT3aVYj33y2"
      },
      "source": [
        "patient_split.groupby(by='first_careunit').count()['subject_id']\n",
        "# SICU is Surgical Intensive Care Unit, TSICU is Trauma Surgical Intensive Care Unit, ect"
      ],
      "execution_count": null,
      "outputs": []
    },
    {
      "cell_type": "markdown",
      "metadata": {
        "id": "fAzM0Zzo8fxD"
      },
      "source": [
        "# mimiciii_clinical.admissions_table Features:\n",
        "1. ADMISSION_TYPE\n",
        "2. DIAGNOSIS"
      ]
    },
    {
      "cell_type": "code",
      "metadata": {
        "id": "433_bwXM8MP1",
        "colab": {
          "base_uri": "https://localhost:8080/"
        },
        "outputId": "ef802fce-9508-45c5-a839-67eb8f4d669c"
      },
      "source": [
        "admissions = pd.read_csv('entire_mimic_iii_exported_tables/entire_mimiciii_clinical.admissions_table.csv',\n",
        "                parse_dates = ['DISCHTIME']\n",
        "                 )"
      ],
      "execution_count": null,
      "outputs": [
        {
          "output_type": "stream",
          "text": [
            "/usr/local/lib/python3.6/dist-packages/IPython/core/interactiveshell.py:2718: DtypeWarning: Columns (5) have mixed types.Specify dtype option on import or set low_memory=False.\n",
            "  interactivity=interactivity, compiler=compiler, result=result)\n"
          ],
          "name": "stderr"
        }
      ]
    },
    {
      "cell_type": "code",
      "metadata": {
        "id": "dWtoWPTC8YxG"
      },
      "source": [
        "admissions.dtypes"
      ],
      "execution_count": null,
      "outputs": []
    },
    {
      "cell_type": "code",
      "metadata": {
        "id": "sIcvcyhfveNU"
      },
      "source": [
        "admissions"
      ],
      "execution_count": null,
      "outputs": []
    },
    {
      "cell_type": "code",
      "metadata": {
        "id": "hvnI8aFAv9N7"
      },
      "source": [
        "admissions.groupby(by='MARITAL_STATUS')['ROW_ID'].count()"
      ],
      "execution_count": null,
      "outputs": []
    },
    {
      "cell_type": "code",
      "metadata": {
        "id": "NlZIDxiAvpzO"
      },
      "source": [
        "admissions.groupby(by='INSURANCE')['ROW_ID'].count()"
      ],
      "execution_count": null,
      "outputs": []
    },
    {
      "cell_type": "code",
      "metadata": {
        "id": "oHunEbx7nKCH"
      },
      "source": [
        "# #.join(pd.get_dummies(admissions[['ADMISSION_TYPE','MARITAL_STATUS','INSURANCE']], drop_first = False))\n",
        "admissions = admissions[['DISCHTIME', 'HADM_ID','ADMISSION_TYPE','MARITAL_STATUS','INSURANCE']] \\\n",
        "  .rename(columns= {'HADM_ID': 'hadm_id'\n",
        "  ,'ADMISSION_TYPE': 'admission_type'\n",
        "  , 'MARITAL_STATUS': 'marital_status'\n",
        "  , 'INSURANCE': 'insurance'\n",
        "  , 'DISCHTIME': 'dischtime'}) \n",
        "  #.drop(['admission_type','marital_status','insurance','ADMISSION_TYPE_NEWBORN'], axis = 1)"
      ],
      "execution_count": null,
      "outputs": []
    },
    {
      "cell_type": "code",
      "metadata": {
        "id": "I4SPAMiLnavL"
      },
      "source": [
        "patient_split.merge(admissions, on = 'hadm_id', how = 'inner').rename(columns= {\n",
        "    'OUTTIME': 'outtime'}).drop(['INTIME'], axis = 1)"
      ],
      "execution_count": null,
      "outputs": []
    },
    {
      "cell_type": "code",
      "metadata": {
        "id": "gmdGiX8sxCRH",
        "colab": {
          "base_uri": "https://localhost:8080/"
        },
        "outputId": "b59d09ba-daa0-4a52-c62a-06ebadb043f1"
      },
      "source": [
        "print(len(patient_split))\n",
        "patient_split = patient_split.merge(admissions, on = 'hadm_id', how = 'inner').rename(columns= {\n",
        "    'OUTTIME': 'outtime'}).drop(['INTIME'], axis = 1)\n",
        "\n",
        "# Time from enter ICU to leave hospital (converted to days)\n",
        "patient_split['time_until_hospital_exit'] = patient_split['dischtime'] - patient_split['intime'] # time from ICU entry to hospital exit\n",
        "patient_split['days_until_hospital_exit'] = patient_split['time_until_hospital_exit'].astype('timedelta64[D]')\n",
        "\n",
        "# cleaning one record with missing data\n",
        "patient_split.loc[patient_split['time_until_hospital_exit'] < pd.Timedelta(0,'s'),'time_until_hospital_exit'] = pd.Timedelta(0,'s')\n",
        "patient_split.loc[patient_split['days_until_hospital_exit'] < 0,'days_until_hospital_exit'] = 0"
      ],
      "execution_count": null,
      "outputs": [
        {
          "output_type": "stream",
          "text": [
            "7310\n"
          ],
          "name": "stdout"
        }
      ]
    },
    {
      "cell_type": "markdown",
      "metadata": {
        "id": "8Rqw-4bA9arV"
      },
      "source": [
        "# Merge in ICD Groups"
      ]
    },
    {
      "cell_type": "code",
      "metadata": {
        "id": "FsGY6jS-9ggR"
      },
      "source": [
        "icd_data = pd.read_csv('diag.csv'\n",
        "                #, parse_dates = ['DISCHTIME']\n",
        "                 )\n",
        "\n",
        "icd_data = icd_data[['HADM_ID'] + icd_data.columns.tolist()[-17:]].add_prefix('icd_').rename(columns= {'icd_HADM_ID': 'hadm_id'})"
      ],
      "execution_count": null,
      "outputs": []
    },
    {
      "cell_type": "code",
      "metadata": {
        "id": "TV5zTy6__CPa"
      },
      "source": [
        "patient_split = patient_split.merge(icd_data, on = 'hadm_id', how = 'left')\n",
        "\n",
        "patient_split[icd_data.columns.tolist()[1:]] = patient_split[icd_data.columns.tolist()[1:]].fillna(value=0)"
      ],
      "execution_count": null,
      "outputs": []
    },
    {
      "cell_type": "markdown",
      "metadata": {
        "id": "eYLcQ9DvYOnd"
      },
      "source": [
        "# Feature Selection\n",
        "### Transform Features to Numeric prior to analysis"
      ]
    },
    {
      "cell_type": "code",
      "metadata": {
        "id": "GTNK7LfvYQon"
      },
      "source": [
        "patient_split#.dtypes"
      ],
      "execution_count": null,
      "outputs": []
    },
    {
      "cell_type": "code",
      "metadata": {
        "id": "8SLKavL2YvvQ"
      },
      "source": [
        "# Time until death -> Hours until death\n",
        "\n",
        "patient_split['hours_until_death'] = patient_split['time_until_death'].astype('timedelta64[h]')\n",
        "\n",
        "patient_split['days_until_death'] = patient_split['time_until_death'].astype('timedelta64[D]')"
      ],
      "execution_count": null,
      "outputs": []
    },
    {
      "cell_type": "code",
      "metadata": {
        "id": "OvTRqT_vdt2p"
      },
      "source": [
        "# Gender -> female boolean\n",
        "\n",
        "patient_split['female'] = np.where(patient_split['gender']== 'F', 1, 0)\n",
        "patient_split = patient_split.drop(['gender'], axis = 1)"
      ],
      "execution_count": null,
      "outputs": []
    },
    {
      "cell_type": "code",
      "metadata": {
        "id": "ufeKZ_uxePMs"
      },
      "source": [
        "# first_careunit -> dummy variables (CCU\tCSRU\tMICU\tSICU\tTSICU)\n",
        "# patient_split = patient_split.join(pd.get_dummies(patient_split[\"first_careunit\"], drop_first = True))\n",
        "# patient_split = patient_split.drop(['first_careunit'], axis = 1)\n",
        "# http://data.patientcarelink.org/staffing/acronyms.cfm"
      ],
      "execution_count": null,
      "outputs": []
    },
    {
      "cell_type": "markdown",
      "metadata": {
        "id": "uFBkfR2bZkOP"
      },
      "source": [
        "## Set values for Living Patients"
      ]
    },
    {
      "cell_type": "code",
      "metadata": {
        "id": "P4D6dJwnaDjA"
      },
      "source": [
        "# Hours until Death\n",
        "\n",
        "max_time_until_death = patient_split['hours_until_death'].max()\n",
        "mask = patient_split['hours_until_death'].isnull()\n",
        "mask"
      ],
      "execution_count": null,
      "outputs": []
    },
    {
      "cell_type": "code",
      "metadata": {
        "id": "Q1l9QLfsb4vP",
        "colab": {
          "base_uri": "https://localhost:8080/"
        },
        "outputId": "0031fffe-4e39-4122-ccf9-9210a287779e"
      },
      "source": [
        "max_time_until_death"
      ],
      "execution_count": null,
      "outputs": [
        {
          "output_type": "execute_result",
          "data": {
            "text/plain": [
              "103969.0"
            ]
          },
          "metadata": {
            "tags": []
          },
          "execution_count": 272
        }
      ]
    },
    {
      "cell_type": "code",
      "metadata": {
        "id": "R3HRb4SyFIWS"
      },
      "source": [
        "index_hours_until_death = patient_split.columns.tolist().index('hours_until_death')"
      ],
      "execution_count": null,
      "outputs": []
    },
    {
      "cell_type": "code",
      "metadata": {
        "id": "neWP-tbLbcfs"
      },
      "source": [
        "patient_split.iloc[mask[mask].index, index_hours_until_death]= max_time_until_death"
      ],
      "execution_count": null,
      "outputs": []
    },
    {
      "cell_type": "markdown",
      "metadata": {
        "id": "jsWt4vsddIb4"
      },
      "source": [
        "# Merge in Validation Diagnosis"
      ]
    },
    {
      "cell_type": "code",
      "metadata": {
        "id": "KDID8qw6dG2c",
        "colab": {
          "base_uri": "https://localhost:8080/"
        },
        "outputId": "c98c101e-1de2-4e7a-a5fa-6b90df066e8b"
      },
      "source": [
        "diagnosis = pd.read_csv('static_' + populate_type + '_data_diag.csv',\n",
        "                  parse_dates = ['dischtime']\n",
        "                        )\n",
        "print(diagnosis.dtypes[-21:])"
      ],
      "execution_count": null,
      "outputs": [
        {
          "output_type": "stream",
          "text": [
            "subject_id_y               int64\n",
            "diagnosis                 object\n",
            "admission_type            object\n",
            "dischtime         datetime64[ns]\n",
            "cardio                     int64\n",
            "infection                  int64\n",
            "brain                      int64\n",
            "mental                     int64\n",
            "gastro                     int64\n",
            "trauma                     int64\n",
            "respiratory                int64\n",
            "organ                      int64\n",
            "blood                      int64\n",
            "acute                      int64\n",
            "failure                    int64\n",
            "cancer                     int64\n",
            "back                       int64\n",
            "bone                       int64\n",
            "pain                       int64\n",
            "other                      int64\n",
            "totalcats                  int64\n",
            "dtype: object\n"
          ],
          "name": "stdout"
        }
      ]
    },
    {
      "cell_type": "code",
      "metadata": {
        "id": "ZARa3KjUfsYk"
      },
      "source": [
        "diagnosis = diagnosis.iloc[:,-21:].rename(columns={'subject_id_y':'subject_id'})"
      ],
      "execution_count": null,
      "outputs": []
    },
    {
      "cell_type": "code",
      "metadata": {
        "id": "6d7j6TImhW4S"
      },
      "source": [
        "patient_split = patient_split.merge(diagnosis, on = 'subject_id', how = 'inner')"
      ],
      "execution_count": null,
      "outputs": []
    },
    {
      "cell_type": "code",
      "metadata": {
        "id": "-XX9heAgi1ri"
      },
      "source": [
        "print(len(patient_split))"
      ],
      "execution_count": null,
      "outputs": []
    },
    {
      "cell_type": "code",
      "metadata": {
        "id": "xY2cs3Qzqj82"
      },
      "source": [
        "patient_split = patient_split.rename(columns = {\n",
        "    'dischtime_x': 'dischtime'\n",
        "    ,'admission_type_x':'admission_type'}).drop(['admission_type_y','dischtime_y'], axis = 1)"
      ],
      "execution_count": null,
      "outputs": []
    },
    {
      "cell_type": "markdown",
      "metadata": {
        "id": "m3JPpOhE77-o"
      },
      "source": [
        "# Calculate Length of Time in ICU"
      ]
    },
    {
      "cell_type": "code",
      "metadata": {
        "id": "XSGzHeTR8YuC"
      },
      "source": [
        "patient_split"
      ],
      "execution_count": null,
      "outputs": []
    },
    {
      "cell_type": "code",
      "metadata": {
        "id": "y5MsnIdG762G"
      },
      "source": [
        "patient_split['time_until_leave_ICU']  = patient_split['outtime'] - patient_split['intime']\n",
        "patient_split['hours_until_leave_ICU'] = patient_split['time_until_leave_ICU'].astype('timedelta64[h]')\n",
        "\n",
        "# cleaning one record with missing data\n",
        "patient_split.loc[patient_split['time_until_leave_ICU'].isnull(),'time_until_leave_ICU'] = pd.Timedelta(0,'s')\n",
        "patient_split.loc[patient_split['hours_until_leave_ICU'].isnull(),'hours_until_leave_ICU'] = 0"
      ],
      "execution_count": null,
      "outputs": []
    },
    {
      "cell_type": "code",
      "metadata": {
        "id": "r8-deY0I-SYC"
      },
      "source": [
        "patient_split['time_until_leave_ICU'].describe()\n",
        "\n",
        "# What is the average time until an ICU patient leaves the hospital?\n",
        "# Maybe predicting ICU patients and when they would leave ICU, can use patients that survive to get larger sample, but figure out factoring patients who die... (NEED TO EXCLUDE WITH MODEL..)"
      ],
      "execution_count": null,
      "outputs": []
    },
    {
      "cell_type": "code",
      "metadata": {
        "id": "BNot0Fzn9Xev"
      },
      "source": [
        "plt.hist(patient_split['time_until_leave_ICU'].astype('timedelta64[D]'), 10)\n",
        "\n",
        "plt.xlabel('Age')\n",
        "plt.ylabel('Frequency')\n",
        "plt.title('Age of Adult Patients is High, Clustering around 70')\n",
        "plt.grid(True)\n",
        "\n",
        "plt.show()"
      ],
      "execution_count": null,
      "outputs": []
    },
    {
      "cell_type": "code",
      "metadata": {
        "id": "Fr8UmzsR9uIZ",
        "colab": {
          "base_uri": "https://localhost:8080/"
        },
        "outputId": "8e418128-642c-4855-ea6c-4adf26134daf"
      },
      "source": [
        "len(set(patient_split['subject_id'].tolist()))"
      ],
      "execution_count": null,
      "outputs": [
        {
          "output_type": "execute_result",
          "data": {
            "text/plain": [
              "7310"
            ]
          },
          "metadata": {
            "tags": []
          },
          "execution_count": 284
        }
      ]
    },
    {
      "cell_type": "markdown",
      "metadata": {
        "id": "wtO71JmL9u97"
      },
      "source": [
        "# Time Enter ICU and Mock Statistics"
      ]
    },
    {
      "cell_type": "code",
      "metadata": {
        "id": "J98EqOdUbyJZ"
      },
      "source": [
        "patient_split = patient_split.sort_values(by='intime', ascending = True)"
      ],
      "execution_count": null,
      "outputs": []
    },
    {
      "cell_type": "code",
      "metadata": {
        "colab": {
          "base_uri": "https://localhost:8080/"
        },
        "id": "K9IaQQoy0y7D",
        "outputId": "255cd9c6-26f0-4e8a-ae10-88057fd27c8c"
      },
      "source": [
        "def convert_year_month_day(x):\n",
        "  string_date = str(x.year) + '-' + str(x.month) + '-' + str(x.day)\n",
        "  #print(string_date)\n",
        "  #print(type(string_date))\n",
        "  #return(pd.to_datetime(string_date, format='%Y%m%d', errors = 'ignore') )\n",
        "  try:\n",
        "    return(pd.to_datetime(string_date, format='%Y-%m-%d', errors = 'coerce'))\n",
        "    #return(datetime.date(dt.year, dt.month, dt.day))\n",
        "  except ValueError:\n",
        "    return(np.NaN)\n",
        "\n",
        "convert_year_month_day(pd.to_datetime('2012-1-1', format='%Y-%m-%d', errors = 'coerce'))"
      ],
      "execution_count": null,
      "outputs": [
        {
          "output_type": "execute_result",
          "data": {
            "text/plain": [
              "Timestamp('2012-01-01 00:00:00')"
            ]
          },
          "metadata": {
            "tags": []
          },
          "execution_count": 286
        }
      ]
    },
    {
      "cell_type": "code",
      "metadata": {
        "colab": {
          "base_uri": "https://localhost:8080/"
        },
        "id": "FYyYcRKZQD2-",
        "outputId": "b67ac816-5a41-4859-9da9-8594d5025929"
      },
      "source": [
        "patient_split['first_day_of_hospital'] = pd.to_datetime('20111130', format='%Y%m%d', errors='ignore')\n",
        "\n",
        "# Generate list of number of days until enter ICU\n",
        "\n",
        "new_patients_a_day = 3\n",
        "\n",
        "num_rows = len(patient_split)\n",
        "print('num rows:', num_rows)\n",
        "num_admissions = int(num_rows/new_patients_a_day)\n",
        "print('Number of admissions:', num_admissions)\n",
        "#num_rows = 52\n",
        "\n",
        "extra_rows =  num_rows%new_patients_a_day\n",
        "print(extra_rows)\n",
        "extra_row_list = extra_rows * [num_admissions + 1]\n",
        "\n",
        "t = [new_patients_a_day * [i] for i in range(num_admissions) ] \n",
        "\n",
        "t.append(extra_row_list)\n",
        "\n",
        "days_until_entry = []\n",
        "for sublist in t:\n",
        "    for item in sublist:\n",
        "        days_until_entry.append(item)\n",
        "\n",
        "print(len(days_until_entry), days_until_entry[-10:])\n",
        "\n",
        "patient_split['TEST_days_until_icu_entry'] = days_until_entry\n",
        "\n",
        "patient_split['TEST_date_diff_days_until_icu_entry'] = patient_split['TEST_days_until_icu_entry'].apply(lambda x: pd.Timedelta(x,'D'))\n",
        "\n",
        "patient_split['TEST_date_enter_icu'] = patient_split['first_day_of_hospital'] + patient_split['TEST_date_diff_days_until_icu_entry']"
      ],
      "execution_count": null,
      "outputs": [
        {
          "output_type": "stream",
          "text": [
            "num rows: 7310\n",
            "Number of admissions: 2436\n",
            "2\n",
            "7310 [2433, 2433, 2434, 2434, 2434, 2435, 2435, 2435, 2437, 2437]\n"
          ],
          "name": "stdout"
        }
      ]
    },
    {
      "cell_type": "code",
      "metadata": {
        "id": "OWrnJYLsHqrS"
      },
      "source": [
        "patient_split['TEST_date_pass_away']  = patient_split['time_until_death'] + patient_split['TEST_date_enter_icu']\n",
        "patient_split['TEST_date_pass_away'] = patient_split['TEST_date_pass_away'].apply(lambda x: convert_year_month_day(x))\n",
        "\n",
        "patient_split['TEST_date_leave_icu']  = patient_split['time_until_leave_ICU'] + patient_split['TEST_date_enter_icu']\n",
        "patient_split['TEST_date_leave_icu'] = patient_split['TEST_date_leave_icu'].apply(lambda x: convert_year_month_day(x))\n",
        "\n",
        "patient_split['TEST_date_leave_hospital']  = patient_split['time_until_hospital_exit'] + patient_split['TEST_date_enter_icu']\n",
        "patient_split['TEST_date_leave_hospital'] = patient_split['TEST_date_leave_hospital'].apply(lambda x: convert_year_month_day(x))\n",
        "\n",
        "# Need to use hours of the day when someone enters the ICU..."
      ],
      "execution_count": null,
      "outputs": []
    },
    {
      "cell_type": "code",
      "metadata": {
        "id": "YKA2qZB_iCE4"
      },
      "source": [
        "patient_split[patient_split['subject_id'] == 4246]"
      ],
      "execution_count": null,
      "outputs": []
    },
    {
      "cell_type": "code",
      "metadata": {
        "id": "K-bvtbEC6QVR"
      },
      "source": [
        "index = pd.DataFrame(index=pd.date_range(patient_split.TEST_date_enter_icu.min(), patient_split.TEST_date_leave_icu.max()))\n",
        "\n",
        "df1 = patient_split[patient_split['TEST_date_leave_icu'] < pd.to_datetime('20121231', format='%Y%m%d', errors='ignore')][['subject_id','TEST_date_enter_icu','TEST_date_leave_icu']]\n",
        "index = pd.DataFrame(index=pd.date_range(pd.to_datetime('20111130', format='%Y%m%d', errors='ignore'), pd.to_datetime('20121231', format='%Y%m%d', errors='ignore')))\n",
        "indices_of_time = index.index.tolist()"
      ],
      "execution_count": null,
      "outputs": []
    },
    {
      "cell_type": "code",
      "metadata": {
        "id": "dut1I6unIiNO"
      },
      "source": [
        "patients_over_time = list()\n",
        "for index_num, date in enumerate(index.index.tolist()):\n",
        "  str_date = str(date)[0:10]\n",
        "  #print(index_num, str_date)\n",
        "  num_patients = len(patient_split[(patient_split['TEST_date_enter_icu'] <= indices_of_time[index_num]) & (patient_split['TEST_date_leave_icu'] >= indices_of_time[index_num]) ])\n",
        "  patients_over_time.append(num_patients)\n",
        "\n",
        "print(len(patients_over_time))\n",
        "\n",
        "print(patients_over_time[31], indices_of_time[31])\n",
        "print(patients_over_time[32], indices_of_time[32])\n",
        "print(patients_over_time[39], indices_of_time[39])\n",
        "print(patients_over_time[46], indices_of_time[46])\n",
        "\n",
        "patients_over_time[-5:]\n",
        "plt.rcParams[\"figure.figsize\"]=10,5\n",
        "plt.plot(indices_of_time[32:46], patients_over_time[32:46],)\n",
        "plt.xlabel('Date')\n",
        "plt.ylabel('Patients in ICU (Daily Total)')\n",
        "plt.title('Count of Patients in ICU')"
      ],
      "execution_count": null,
      "outputs": []
    },
    {
      "cell_type": "code",
      "metadata": {
        "id": "XJ7FEWQI9p6G"
      },
      "source": [
        ""
      ],
      "execution_count": null,
      "outputs": []
    },
    {
      "cell_type": "code",
      "metadata": {
        "colab": {
          "base_uri": "https://localhost:8080/"
        },
        "id": "vSz4736cWEF7",
        "outputId": "dffc1077-4aac-4863-8274-ad8e5bd19f31"
      },
      "source": [
        "patients_over_time[30], patients_over_time[31], indices_of_time[30]"
      ],
      "execution_count": null,
      "outputs": [
        {
          "output_type": "execute_result",
          "data": {
            "text/plain": [
              "(12, 11, Timestamp('2011-12-30 00:00:00', freq='D'))"
            ]
          },
          "metadata": {
            "tags": []
          },
          "execution_count": 292
        }
      ]
    },
    {
      "cell_type": "code",
      "metadata": {
        "id": "3-0xtpSJQcnj"
      },
      "source": [
        "# Projected Patients in Future\n",
        "projected_patients = list()\n",
        "for index_num, date in enumerate(index.index.tolist()):\n",
        "  str_date = str(date)[0:10]\n",
        "  #print(index_num, str_date)\n",
        "  num_patients = len(patient_split[(patient_split['TEST_date_enter_icu'] <= indices_of_time[index_num]) & (patient_split['TEST_date_leave_icu'] >= indices_of_time[index_num]) ])\n",
        "  patients_over_time.append(num_patients)\n",
        "\n",
        "print(len(patients_over_time))\n",
        "patients_over_time[-5:]\n",
        "\n",
        "plt.rcParams[\"figure.figsize\"]=10,5\n",
        "plt.plot(indices_of_time[31:61], patients_over_time[31:61],)\n",
        "plt.xlabel('Date')\n",
        "plt.ylabel('Patients in ICU (Daily Total)')\n",
        "plt.title('Count of Patients in ICU')"
      ],
      "execution_count": null,
      "outputs": []
    },
    {
      "cell_type": "code",
      "metadata": {
        "id": "Kq_pHPwuBMdx"
      },
      "source": [
        "count_patients_in_icu = pd.DataFrame({'date': indices_of_time[32:398], 'patients_in_icu': patients_over_time[32:398]})\n",
        "path = 'mimic_patients_in_icu_' + populate_type + '.feather'\n",
        "feather.write_dataframe(count_patients_in_icu, path)"
      ],
      "execution_count": null,
      "outputs": []
    },
    {
      "cell_type": "code",
      "metadata": {
        "id": "IQhlqFlIXXdc"
      },
      "source": [
        "patient_split = patient_split.drop(['first_day_of_hospital','TEST_days_until_icu_entry','TEST_date_diff_days_until_icu_entry'], axis = 1)"
      ],
      "execution_count": null,
      "outputs": []
    },
    {
      "cell_type": "markdown",
      "metadata": {
        "id": "NdcO5ZIKdfpM"
      },
      "source": [
        "# Correlation Results"
      ]
    },
    {
      "cell_type": "code",
      "metadata": {
        "id": "ywEn8gHBkiMT"
      },
      "source": [
        "index_of_columns = (\n",
        "    ('time_of_death', 7)\n",
        " ,('time_until_death', 7)\n",
        "    ,('hours_until_death', 8)\n",
        "    ,('days_until_death',9)\n",
        "    ,('dischtime',11)\n",
        "    ,('outtime', 13)\n",
        ",('time_until_hospital_exit', 14)\n",
        " ,('days_until_hospital_exit', 15)\n",
        "    ,('hours_until_leave_ICU', 16)\n",
        "    ,('admission_time_until_icu', 17)\n",
        "     ,('hours_until_icu_admission', 18)\n",
        "           ,('time_until_leave_ICU', 19)\n",
        "    ,('hours_until_leave_ICU', 20)\n",
        " ,('icu_admit_age', 20)\n",
        " ,('female', 21)\n",
        " ,('TEST_date_enter_icu', 22)\n",
        " ,('TEST_date_leave_icu', 23)\n",
        " ,('TEST_date_leave_hospital', 24)\n",
        "  ,('TEST_date_pass_away', 25)\n",
        ")\n",
        "columns_of_df = patient_split.columns.tolist()\n",
        "for column_name, new_index in index_of_columns:\n",
        "  #print(column_name, columns_of_df.index(column_name))\n",
        "  columns_of_df.remove(column_name)\n",
        "  columns_of_df.insert(new_index, column_name)\n",
        "#columns_of_df\n",
        "\n",
        "patient_split = patient_split[columns_of_df]"
      ],
      "execution_count": null,
      "outputs": []
    },
    {
      "cell_type": "code",
      "metadata": {
        "id": "LUHlKDUAdBt2"
      },
      "source": [
        "patient_split.head(5) # Fields of time_of_death, admittime, intime, gender, first_careunit, hours_until_death"
      ],
      "execution_count": null,
      "outputs": []
    },
    {
      "cell_type": "code",
      "metadata": {
        "id": "86fRV5ZsYhig"
      },
      "source": [
        "patient_split.corr()['hours_until_death']"
      ],
      "execution_count": null,
      "outputs": []
    },
    {
      "cell_type": "code",
      "metadata": {
        "id": "d5eaegg5p23p"
      },
      "source": [
        "# Correlations of a little less than 1% to hours until death\n",
        "\n",
        "\n",
        "import seaborn as sns\n",
        "cmap = sns.diverging_palette(h_neg=133, h_pos = 10, as_cmap=True)\n",
        "#data = data.style.background_gradient(cmap=cmap)\n",
        "#['days_until_death']\n",
        "#patient_split.corr().iloc[6:,6:].style.background_gradient(cmap=cmap)\n",
        "plt.style.use('ggplot')\n",
        "# https://stackoverflow.com/questions/50682797/seaborn-diverging-palette-with-more-than-2-color-tones\n",
        "with sns.axes_style(\"white\"):\n",
        "    ax = sns.heatmap(patient_split.corr().iloc[6:,6:], annot=True\n",
        "                     , fmt='.2f'\n",
        "    , cmap=cmap\n",
        "                    , vmin=-1\n",
        "                     #, vmax=.99\n",
        "                     , center=0.00\n",
        "                ,square=True\n",
        "                , linewidths= 4\n",
        "                , annot_kws={\"size\": 8}\n",
        "                #, cbar_kws={\"shrink\": .5}\n",
        "                )\n",
        "plt.show()\n",
        "\n",
        "# The collinearity between the related features is around 40% maxinum, so that isn't high enough to cause issues in convergences. If we have issues in convergence, or non-sensical coefficients then features can be removed.\n",
        "# CSRU: Adult Critical Care - Cardiothoracic\n",
        "# MICU: Medical Intensive Care Unit\n",
        "\n",
        "# Can see how there is overlap between the two ICU admission fields, so the less granular of Elective, Emergency, Newborn, Urgent can dropped"
      ],
      "execution_count": null,
      "outputs": []
    },
    {
      "cell_type": "code",
      "metadata": {
        "id": "c5diUM16oZc_"
      },
      "source": [
        "# Absolute Correlation Between All Variables\n",
        "cm = sns.light_palette('green', as_cmap=True)\n",
        "\n",
        "s = patient_split.corr().iloc[3:,3:].abs().style.background_gradient(cmap=cm, axis=0)\n",
        "s"
      ],
      "execution_count": null,
      "outputs": []
    },
    {
      "cell_type": "code",
      "metadata": {
        "id": "8fxwV8MeUF5G",
        "colab": {
          "base_uri": "https://localhost:8080/"
        },
        "outputId": "4d06f77c-7274-4d84-f408-c3a092f06f3d"
      },
      "source": [
        "icd_mask_array = patient_split.corr().columns.str.startswith('icd_')\n",
        "icd_mask_array[6] = True\n",
        "icd_mask_array"
      ],
      "execution_count": null,
      "outputs": [
        {
          "output_type": "execute_result",
          "data": {
            "text/plain": [
              "array([False, False, False, False, False, False,  True, False, False,\n",
              "       False, False, False, False,  True,  True,  True,  True,  True,\n",
              "        True,  True,  True,  True,  True,  True,  True,  True,  True,\n",
              "        True,  True,  True, False, False, False, False, False, False,\n",
              "       False, False, False, False, False, False, False, False, False,\n",
              "       False, False])"
            ]
          },
          "metadata": {
            "tags": []
          },
          "execution_count": 301
        }
      ]
    },
    {
      "cell_type": "code",
      "metadata": {
        "id": "-dyYuS1YOHlY"
      },
      "source": [
        "# Correlation of ICD versus Diagonsis Features\n",
        "\n",
        "cm = sns.light_palette('red', as_cmap=True)\n",
        "\n",
        "s = patient_split.corr().loc[:,icd_mask_array].abs().iloc[-17:,:].style.background_gradient(cmap=cm, axis=0)\n",
        "s"
      ],
      "execution_count": null,
      "outputs": []
    },
    {
      "cell_type": "markdown",
      "metadata": {
        "id": "q2iodL5dPB1V"
      },
      "source": [
        "Analysis of Multi-collinearity, 100% of multi-collinearity above .25 is listed below\n",
        " \n",
        "---- High multi-collinearity with definitionally similar entities. Suggest picking one or other based on better fit to training set if lasso fails. One heuristic of better correlation on training set is based upon the correlation in the parenthesis with hours until death (which is a the max date if someone lives)\n",
        "\n",
        "---- Elevated Multi-collinearity that also has some logical but not definitional connection. Suggest keeping all.\n",
        "\n",
        "---- Lower multi-collinearity than expected, all other expected areas of multi-collinearity are covered above"
      ]
    },
    {
      "cell_type": "code",
      "metadata": {
        "id": "TU32Dk3NgUDK"
      },
      "source": [
        "#cm = sns.light_palette('green', as_cmap=True)\n",
        "cm = sns.diverging_palette(h_neg=133, h_pos = 10, as_cmap=True)\n",
        "\n",
        "s = patient_split.corr().iloc[3:,3:].style.background_gradient(cmap=cm, axis=0, vmin=-1)\n",
        "s"
      ],
      "execution_count": null,
      "outputs": []
    },
    {
      "cell_type": "markdown",
      "metadata": {
        "id": "YFPn71yhiSLU"
      },
      "source": [
        "# Export to Modeling (ICU LOS + Survival Analysis)"
      ]
    },
    {
      "cell_type": "code",
      "metadata": {
        "id": "-RsYJjQMCqCl",
        "colab": {
          "base_uri": "https://localhost:8080/"
        },
        "outputId": "ba81b20f-b644-4677-8743-6bc55d29dca7"
      },
      "source": [
        "if proceed_export:\n",
        "    patient_split.to_csv('static_' + populate_type + '_data.csv')\n",
        "    print('Exported data of', populate_type)\n",
        "else:\n",
        "    print('Not exported, existing files were used instead')"
      ],
      "execution_count": null,
      "outputs": [
        {
          "output_type": "stream",
          "text": [
            "Not exported, existing files were used instead\n"
          ],
          "name": "stdout"
        }
      ]
    },
    {
      "cell_type": "markdown",
      "metadata": {
        "id": "Pznc_5hqQmlC"
      },
      "source": [
        "# Download and Merge ICU Survival Analysis\n",
        "Note: Only static data when someone leaves the ICU is available, so that is being used as proxy for the ICU Patient View system"
      ]
    },
    {
      "cell_type": "code",
      "metadata": {
        "id": "diXhzyVAil6S"
      },
      "source": [
        "# Uses the day 0 hazard to determine the class, each day 0 hazard is associated with a different day\n",
        "\n",
        "survival_static_leave_ICU = pd.read_csv('test_curves.csv').drop(['Unnamed: 0'], axis = 1).iloc[:, :367]\n",
        "survival_static_leave_ICU"
      ],
      "execution_count": null,
      "outputs": []
    },
    {
      "cell_type": "code",
      "metadata": {
        "id": "kh1gd8pE4p-x"
      },
      "source": [
        "# ICU SURV CURVES\n",
        "#survival_static = pd.read_csv('icu_surv_curves.csv').drop(['Unnamed: 0'], axis = 1)#.iloc[:, :367]\n",
        "#survival_static\n",
        "\n",
        "\n",
        "survival_static = pd.read_csv('unbalanced_icu_surv_curves.csv').drop(['Unnamed: 0'], axis = 1)#.iloc[:, :367]\n",
        "survival_static"
      ],
      "execution_count": null,
      "outputs": []
    },
    {
      "cell_type": "code",
      "metadata": {
        "id": "6QMt4HrF9Bbz"
      },
      "source": [
        "num_cols = len(survival_static.columns)\n",
        "print(num_cols)\n",
        "column_names = list()\n",
        "column_names.append('subject_id')\n",
        "for x in range(0, num_cols, 24):\n",
        "  #print(x)\n",
        "  column_names.append(str(x))\n",
        "survival_static = survival_static[column_names]\n",
        "\n",
        "for x in range(0, num_cols, 24):\n",
        "    survival_static[str(x)] = survival_static[str(x)].apply(lambda x: 1-x)\n",
        "    survival_static = survival_static.rename(columns={str(x): str(int(x/24))})\n",
        "survival_static"
      ],
      "execution_count": null,
      "outputs": []
    },
    {
      "cell_type": "code",
      "metadata": {
        "colab": {
          "base_uri": "https://localhost:8080/"
        },
        "id": "54xbPa5mzs2M",
        "outputId": "985fd4fd-13fd-4dcf-e116-a505a5d44155"
      },
      "source": [
        "len(survival_static_leave_ICU.merge(survival_static, on = 'subject_id', how = 'inner'))"
      ],
      "execution_count": null,
      "outputs": [
        {
          "output_type": "execute_result",
          "data": {
            "text/plain": [
              "6541"
            ]
          },
          "metadata": {
            "tags": []
          },
          "execution_count": 308
        }
      ]
    },
    {
      "cell_type": "code",
      "metadata": {
        "id": "0W_uq9IRotCM"
      },
      "source": [
        "merged = patient_split.merge(survival_static, on = 'subject_id', how = 'inner')\n",
        "print('Total number of shared records', len(merged))\n",
        "\n",
        "length_forecasts = survival_static.shape[1] - 1\n",
        "print('Length of forecasts', length_forecasts)\n",
        "\n",
        "#for num in range (0, length_forecasts):\n",
        "#  merged[str(num)] = merged[str(num)].apply(lambda x: x)\n",
        "\n",
        "# *** Used for patients who left ICU\n",
        "#merged = merged[merged['icu_expire_flag'] == 0 ]\n",
        "#merged = merged[(merged['TEST_date_leave_icu'] <= current_date_string) & ((merged['TEST_date_pass_away'] >= current_date_string) | (merged['TEST_date_pass_away'].isnull()))]\n",
        "\n",
        "# *** Used for patients who enter the ICU\n",
        "current_date_string = '2012-01-01'\n",
        "merged = merged[(merged['TEST_date_enter_icu'] <= current_date_string) & (merged['TEST_date_leave_icu'] >= current_date_string) & ((merged['TEST_date_pass_away'] >= current_date_string) | (merged['TEST_date_pass_away'].isnull()))]\n",
        "print('Number of patients', len(merged))\n",
        "\n",
        "# Even though there is data prior to this point, the current date is the date that the data will be visualized\n",
        "print('Total number of patients in the ICU on December 1, 2012:', len(merged))\n",
        "starting_date = convert_year_month_day(pd.to_datetime('2011-12-27', format='%Y-%m-%d', errors = 'coerce'))\n",
        "print('starting_date:', starting_date)\n",
        "\n",
        "import datetime as datetime\n",
        "\n",
        "list_cols_to_forecast = list()\n",
        "\n",
        "# Loops across all days with forecasts (Takes 1-2 minutes to complete for around 50 records)\n",
        "for index_day_to_forecast in range(0, length_forecasts): # 365\n",
        "    #print(index_day_to_forecast)\n",
        "    day_to_forecast = starting_date + datetime.timedelta(days=index_day_to_forecast)\n",
        "    #print(day_to_forecast)\n",
        "    col_day_to_forecast = str(day_to_forecast)[0:10]\n",
        "    print('col_day_to_forecast:', col_day_to_forecast, day_to_forecast)\n",
        "    list_cols_to_forecast.append(col_day_to_forecast)\n",
        "    merged[col_day_to_forecast] = np.nan\n",
        "    print('index_day_to_forecast', index_day_to_forecast)\n",
        "    # Loop through rows of patients\n",
        "    for index, row in merged.iloc[:,].iterrows():\n",
        "\n",
        "        # look through all previous index dates to look for matches.\n",
        "        #print('check will run up from ',row['TEST_date_enter_icu'] ,'to', row['TEST_date_enter_icu'] + datetime.timedelta(days=index_day_to_forecast + 2), 'leave icu', row['TEST_date_leave_icu'])\n",
        "        for previous_index_to_forecast in range(0, index_day_to_forecast + 2):\n",
        "          # If day to enter the ICU plus index day to forecast is equal to the desired day to forecast, then we must populate a value\n",
        "          #print('Current row date:', row['TEST_date_enter_icu'] + datetime.timedelta(days=previous_index_to_forecast))\n",
        "          if row['TEST_date_enter_icu'] + datetime.timedelta(days=previous_index_to_forecast) == day_to_forecast:\n",
        "              #print('Found a date match!')\n",
        "              # *** Used if leaving ICU\n",
        "              #if row['TEST_date_leave_icu'] + datetime.timedelta(days=previous_index_to_forecast) == day_to_forecast:\n",
        "              value_to_populate = row[str(index_day_to_forecast)]\n",
        "              merged.loc[merged.index == index, col_day_to_forecast] = value_to_populate\n",
        "          else:\n",
        "              #print('Found none')\n",
        "              # Keeps cell as NAN\n",
        "              pass\n",
        "\n",
        "# Delete the integer named columns with hazard functions\n",
        "str_nums = list()\n",
        "for num in range (0, length_forecasts):\n",
        "    str_nums.append(str(num))\n",
        "merged = merged.drop(str_nums, axis = 1)\n",
        "\n",
        "merged = merged[~merged[current_date_string].isnull()]"
      ],
      "execution_count": null,
      "outputs": []
    },
    {
      "cell_type": "code",
      "metadata": {
        "id": "XsC9LOZwCTlB"
      },
      "source": [
        "#The average score on January 1st is 35% comapred to the 3/15 (20%) of patients who passed away soon after January 1st. In this way, the metric possibly seems to suggest the chance that a patient will pass away by that time, when there is a large risk of them passing away on day 1 for many patients.\n",
        "\n",
        "merged[['subject_id','TEST_date_enter_icu','TEST_date_leave_icu','TEST_date_leave_hospital','TEST_date_pass_away'] + list_cols_to_forecast].sort_values(by='TEST_date_enter_icu')"
      ],
      "execution_count": null,
      "outputs": []
    },
    {
      "cell_type": "code",
      "metadata": {
        "id": "hZoEwqYqyESX"
      },
      "source": [
        "merged = merged.sort_values(by=[current_date_string], ascending = False)\n",
        "\n",
        "def populate_risk_class(x):\n",
        "    if x > .20:\n",
        "        return 'high'\n",
        "    elif x > .10:\n",
        "        return 'med'\n",
        "    else:\n",
        "        return 'low'\n",
        "\n",
        "merged['risk_class'] = merged[current_date_string].apply(lambda x: populate_risk_class(x))"
      ],
      "execution_count": null,
      "outputs": []
    },
    {
      "cell_type": "code",
      "metadata": {
        "id": "obABl4lKfpLx"
      },
      "source": [
        "merged[[current_date_string,'risk_class']]"
      ],
      "execution_count": null,
      "outputs": []
    },
    {
      "cell_type": "markdown",
      "metadata": {
        "id": "QU9T-q41NGek"
      },
      "source": [
        "# Merge in Static Length of Stay in ICU"
      ]
    },
    {
      "cell_type": "code",
      "metadata": {
        "id": "tJaUZoPfAOn6"
      },
      "source": [
        "# ICU LOS\n",
        "import math\n",
        "los_static = pd.read_csv('static_test_icu_los.csv')[['subject_id','LOS']].rename(columns = {'LOS': 'ICU_LOS'})\n",
        "\n",
        "los_static['ICU_LOS'] = los_static['ICU_LOS'].apply(lambda x: math.floor(x))\n",
        "\n",
        "merged = merged.merge(los_static, on = 'subject_id', how = 'inner')"
      ],
      "execution_count": null,
      "outputs": []
    },
    {
      "cell_type": "code",
      "metadata": {
        "id": "G9m-6Pv9_LGz"
      },
      "source": [
        "\n",
        "# Hosp LOS\n",
        "# los_static = pd.read_csv('static_test_icu_los.csv')[['subject_id','LOS']].rename(columns = {'LOS': 'ICU_LOS'})\n",
        "\n",
        "\n",
        "# merged['date_forecast_los_hosp_diff'] = merged['HOSP_LOS'].apply(lambda x: datetime.timedelta(days=x)) \n",
        "# merged['TEST_date_forecast_los_hosp'] = merged['date_forecast_los_hosp_diff'] + merged['TEST_date_enter_icu'] - merged['admission_time_until_icu']\n",
        "\n",
        "# merged = merged.merge(los_static, on = 'subject_id', how = 'inner')"
      ],
      "execution_count": null,
      "outputs": []
    },
    {
      "cell_type": "markdown",
      "metadata": {
        "id": "NMnrQKJ7zAzh"
      },
      "source": [
        "# Export to R Shiny Application"
      ]
    },
    {
      "cell_type": "code",
      "metadata": {
        "id": "HM_RxpVJeNvy"
      },
      "source": [
        "# Prepare data to have columns that can be processed by application\n",
        "#pd.set_option('display.max_columns', 500)\n",
        "#merged[['TEST_date_enter_icu','2011-12-01']].head()"
      ],
      "execution_count": null,
      "outputs": []
    },
    {
      "cell_type": "code",
      "metadata": {
        "id": "v_iYR1Iv3Fnn"
      },
      "source": [
        "if populate_type == 'test':\n",
        "  merged_total = patient_split.merge(survival_static, on = 'subject_id', how = 'inner')\n",
        "\n",
        "  train_diagnosis_statistics = pd.DataFrame()\n",
        "  for disease in ('cardio','infection','brain','mental','gastro','trauma','respiratory','organ','blood','acute','failure','cancer','back','bone','pain','other'):\n",
        "      disease_df = merged_total[merged_total[disease] == 1].copy(deep = True)\n",
        "      #days_until_leave_ICU = disease_df['hours_until_leave_ICU'].mean() / 24\n",
        "      #average_time_until_death = disease_df['time_until_death'].quantile(0.20)\n",
        "      enter_average_risk = round(disease_df['0'].mean(),4)\n",
        "      enter_median_risk = round(disease_df['0'].median(),4)\n",
        "      week_average_risk = round(disease_df['7'].mean(),3)\n",
        "      week_median_risk = round(disease_df['7'].median(),3)\n",
        "\n",
        "      train_diagnosis_statistics = train_diagnosis_statistics.append({'Disease_Group': disease, 'average_risk':enter_average_risk, 'median_risk':enter_median_risk, 'week_average_risk':week_average_risk, 'week_median_risk':week_median_risk}, ignore_index = True)\n",
        "  if rdata_export:\n",
        "    train_diagnosis_statistics.to_csv(populate_type + '_survival_stat_by_disease_group.csv')\n",
        "    print('Refreshed Survival Stats by Disease Group')\n",
        "  else:\n",
        "    print('Creating new Survival Stats by Disease Group object')\n",
        "    display(train_diagnosis_statistics)\n",
        "else:\n",
        "    print('No survival data availabe for', populate_type)"
      ],
      "execution_count": null,
      "outputs": []
    },
    {
      "cell_type": "code",
      "metadata": {
        "colab": {
          "base_uri": "https://localhost:8080/"
        },
        "id": "whe1uMW_BOYt",
        "outputId": "94095170-168b-4e34-a457-f406da698d54"
      },
      "source": [
        "if populate_type == 'train':\n",
        "  train_diagnosis_statistics = pd.DataFrame()\n",
        "  for disease in ('cardio','infection','brain','mental','gastro','trauma','respiratory','organ','blood','acute','failure','cancer','back','bone','pain','other'):\n",
        "      disease_df = patient_split[patient_split[disease] == 1].copy(deep = True)\n",
        "      days_until_leave_ICU = int(round(disease_df['hours_until_leave_ICU'].mean() / 24, 0))\n",
        "      train_diagnosis_statistics = train_diagnosis_statistics.append({'Disease_Group': disease\n",
        "                                                                      , 'Average ICU LOS': days_until_leave_ICU}, ignore_index = True)\n",
        "  train_diagnosis_statistics['Average ICU LOS'] = train_diagnosis_statistics['Average ICU LOS'].astype(int)\n",
        "  if rdata_export:\n",
        "      train_diagnosis_statistics.to_csv('train_disease_group_stats.csv')\n",
        "      print('Updating train disease group stats')\n",
        "  else:\n",
        "      print('Generating new train disease group stats, but not exporting')\n",
        "else:\n",
        "  print('Not chaning train disease group stats')\n",
        "  #test_disease_group_stats = pd.read_csv('test_survival_stat_by_disease_group.csv')\n"
      ],
      "execution_count": null,
      "outputs": [
        {
          "output_type": "stream",
          "text": [
            "Not chaning train disease group stats\n"
          ],
          "name": "stdout"
        }
      ]
    },
    {
      "cell_type": "code",
      "metadata": {
        "id": "lzXeRvWn6LnC"
      },
      "source": [
        "disease_group_stats = pd.read_csv('test_survival_stat_by_disease_group.csv').merge(pd.read_csv('train_disease_group_stats.csv'), on = 'Disease_Group').drop(['Unnamed: 0_x','Unnamed: 0_y'], axis = 1)\n",
        "\n",
        "if rdata_export:\n",
        "    path = 'disease_group_stats.feather'\n",
        "    feather.write_dataframe(disease_group_stats, path)\n",
        "    print('Disease group feather updated')\n",
        "else:\n",
        "    print('Not changing feather')\n",
        "disease_group_stats"
      ],
      "execution_count": null,
      "outputs": []
    },
    {
      "cell_type": "code",
      "metadata": {
        "id": "wltM38aLy7tC",
        "colab": {
          "base_uri": "https://localhost:8080/"
        },
        "outputId": "556d9113-6a52-41e3-b959-973220c3533a"
      },
      "source": [
        "rdata_export = True\n",
        "\n",
        "r_data = merged.copy(deep = True)\n",
        "\n",
        "r_data[['cardio','infection','brain','mental','gastro','trauma','respiratory','organ','blood','acute','failure','cancer','back','bone','pain','other']]\n",
        "\n",
        "def create_string(x):\n",
        "    if x == 1:\n",
        "        return(', ' + disease)\n",
        "    else:\n",
        "        return('')\n",
        "\n",
        "r_data['Disease_Groups'] = ''\n",
        "for disease in ('cardio','infection','brain','mental','gastro','trauma','respiratory','organ','blood','acute','failure','cancer','back','bone','pain','other'):\n",
        "    r_data['Disease_Groups'] = r_data['Disease_Groups'] + r_data[disease].apply(create_string)\n",
        "\n",
        "def strip_text(x):\n",
        "    total_len = len(x)\n",
        "    if total_len > 0:\n",
        "        return(x[2:])\n",
        "    else:\n",
        "        return ''\n",
        "\n",
        "r_data['Disease_Groups'] = r_data['Disease_Groups'].apply(strip_text)\n",
        "\n",
        "print('Exporting to Feater')\n",
        "r_data['gender'] = r_data['female'].apply(lambda x: 'F' if x == 1 else 'M')\n",
        "r_data['TEST_date_forecast_los_icu'] = r_data['ICU_LOS'].apply(lambda x: datetime.timedelta(days=x)) + convert_year_month_day(pd.to_datetime('2012-01-01', format='%Y-%m-%d', errors = 'coerce')) \n",
        "\n",
        "r_data = r_data.drop(['female','time_until_death','admission_time_until_icu','time_until_leave_ICU','time_until_hospital_exit'], axis = 1)\n",
        "\n",
        "index_of_columns = (\n",
        "('gender', 21)\n",
        ",('Disease_Groups',22)\n",
        ",('ICU_LOS', 23)\n",
        ",('TEST_date_forecast_los_icu', 24)\n",
        ",('risk_class', 25)\n",
        ")\n",
        "columns_of_df = r_data.columns.tolist()\n",
        "for column_name, new_index in index_of_columns:\n",
        "    print(column_name)\n",
        "    columns_of_df.remove(column_name)\n",
        "    columns_of_df.insert(new_index, column_name)\n",
        "r_data = r_data[columns_of_df]\n",
        "\n",
        "\n",
        "for column in ('dbsource','admission_type','marital_status'):\n",
        "    r_data[column] = r_data[column].str.title()\n",
        "\n",
        "for column in ('diagnosis','diagnosis'):\n",
        "    r_data[column] = r_data[column].str.lower()\n",
        "\n",
        "if rdata_export:\n",
        "    path = 'mimic_data_' + populate_type + '.feather'\n",
        "    feather.write_dataframe(r_data, path)\n",
        "else:\n",
        "    print('Not exporting to feather')\n",
        "    display(r_data)"
      ],
      "execution_count": null,
      "outputs": [
        {
          "output_type": "stream",
          "text": [
            "Exporting to Feater\n",
            "gender\n",
            "Disease_Groups\n",
            "ICU_LOS\n",
            "TEST_date_forecast_los_icu\n",
            "risk_class\n"
          ],
          "name": "stdout"
        }
      ]
    },
    {
      "cell_type": "code",
      "metadata": {
        "id": "o_al69brtLlj"
      },
      "source": [
        "#current_date_string\n",
        "\n",
        "#r_data[['subject_id','risk_class' ,'2011-12-29','2011-12-30','2011-12-31','2012-01-01']]\n",
        "\n",
        "r_data[['subject_id','risk_class' ,'2011-12-29','2011-12-30','2011-12-31','2012-01-01']]"
      ],
      "execution_count": null,
      "outputs": []
    },
    {
      "cell_type": "code",
      "metadata": {
        "id": "_Rv7N82A4a1C"
      },
      "source": [
        ""
      ],
      "execution_count": null,
      "outputs": []
    },
    {
      "cell_type": "markdown",
      "metadata": {
        "id": "I9vytz5XCecm"
      },
      "source": [
        "# EDA"
      ]
    },
    {
      "cell_type": "code",
      "metadata": {
        "id": "4TZcnuT8Heaz"
      },
      "source": [
        "patient_split['icu_admit_age'].describe()"
      ],
      "execution_count": null,
      "outputs": []
    },
    {
      "cell_type": "code",
      "metadata": {
        "id": "38icU8MHggHP",
        "colab": {
          "base_uri": "https://localhost:8080/"
        },
        "outputId": "6e2faf9d-09ff-4b88-fbb8-b7519f764345"
      },
      "source": [
        "patient_split['icu_admit_age'].mode()"
      ],
      "execution_count": null,
      "outputs": [
        {
          "output_type": "execute_result",
          "data": {
            "text/plain": [
              "0    69\n",
              "dtype: int64"
            ]
          },
          "metadata": {
            "tags": []
          },
          "execution_count": 278
        }
      ]
    },
    {
      "cell_type": "code",
      "metadata": {
        "id": "Rs7SwgTo7kdi"
      },
      "source": [
        "# Descriptive\n",
        "\n",
        "plt.hist(patient_split['icu_admit_age'], 10)\n",
        "\n",
        "plt.xlabel('Age (Years)')\n",
        "plt.ylabel('Frequency')\n",
        "plt.title('Age of Adult Patients is High, Clustering around 70')\n",
        "plt.grid(True)\n",
        "\n",
        "plt.show()"
      ],
      "execution_count": null,
      "outputs": []
    },
    {
      "cell_type": "code",
      "metadata": {
        "id": "UKOUNZVu_RqJ"
      },
      "source": [
        "# Formal\n",
        "\n",
        "plt.hist(patient_split['icu_admit_age'], bins = 10)\n",
        "\n",
        "plt.xlabel('Age (Years)')\n",
        "plt.ylabel('Frequency')\n",
        "plt.title('Age of Adult Patients')\n",
        "plt.grid(True)\n",
        "\n",
        "plt.show()"
      ],
      "execution_count": null,
      "outputs": []
    },
    {
      "cell_type": "code",
      "metadata": {
        "id": "fHKRJAVQnwEZ"
      },
      "source": [
        "grouped_df = patient_split[patient_split['anytime_expire_flag'] == 1][['time_until_death','icu_admit_age']]\n",
        "print(len(grouped_df))\n",
        "grouped_df['Days_Until_Death'] = grouped_df.time_until_death.astype('timedelta64[D]')\n",
        "\n",
        "groups = grouped_df.groupby([ pd.cut(grouped_df.icu_admit_age\n",
        "                                     #, bins = 10 #\n",
        "                                     , bins=range(10, 100, 10)\n",
        ")]\n",
        "                                     )\n",
        "\n",
        "groups = groups.agg({'Days_Until_Death': ['mean', 'count']})\n",
        "print(groups['Days_Until_Death']['count'].sum())\n",
        "groups = groups['Days_Until_Death']['mean']\n",
        "groups.index = ['11 - 20','21 - 30','31 - 40','41 - 50','51 - 60','61 - 70','71 - 80','81 - 90']\n",
        "\n",
        "plt.plot(groups)\n",
        "\n",
        "plt.xlabel('Age Range (Years)')\n",
        "plt.ylabel('Average Time until Death (Days)')\n",
        "plt.title('Average Days until Passing Away by Age')\n",
        "plt.grid(True)"
      ],
      "execution_count": null,
      "outputs": []
    },
    {
      "cell_type": "code",
      "metadata": {
        "id": "OOZwXr1XN1MG"
      },
      "source": [
        "grouped_df = patient_split[['anytime_expire_flag','icu_admit_age']]\n",
        "print(len(grouped_df))\n",
        "\n",
        "groups = grouped_df.groupby([ pd.cut(grouped_df.icu_admit_age\n",
        "                                     , bins=range(10, 100, 10))])\n",
        "\n",
        "\n",
        "groups = groups.agg({'anytime_expire_flag': ['mean', 'count']})\n",
        "print(groups['anytime_expire_flag']['count'].sum())\n",
        "groups = groups['anytime_expire_flag']['mean']\n",
        "groups.index = ['11 - 20','21 - 30','31 - 40','41 - 50','51 - 60','61 - 70','71 - 80','81 - 90']\n",
        "\n",
        "\n",
        "plt.plot(groups)\n",
        "\n",
        "plt.xlabel('Age Range (Years)')\n",
        "plt.ylabel('Percentage Pass Away after ICU Entry')\n",
        "plt.title('Percent Pass Away after ICU Entry by Age')\n",
        "plt.grid(True)"
      ],
      "execution_count": null,
      "outputs": []
    },
    {
      "cell_type": "code",
      "metadata": {
        "id": "5kbBpQOJrWV_"
      },
      "source": [
        "patient_split"
      ],
      "execution_count": null,
      "outputs": []
    },
    {
      "cell_type": "code",
      "metadata": {
        "id": "Wsjd82TunYOE"
      },
      "source": [
        "plt.hist(patient_split['icu_admit_age'], bins = 10)\n",
        "\n",
        "plt.xlabel('Age (Years)')\n",
        "plt.ylabel('Frequency')\n",
        "plt.title('Age of Adult Patients')\n",
        "plt.grid(True)\n",
        "\n",
        "plt.show()"
      ],
      "execution_count": null,
      "outputs": []
    },
    {
      "cell_type": "code",
      "metadata": {
        "id": "DDw-1RlvkNAJ"
      },
      "source": [
        "patient_split"
      ],
      "execution_count": null,
      "outputs": []
    },
    {
      "cell_type": "code",
      "metadata": {
        "id": "tCn8t_xA_XBx"
      },
      "source": [
        "# Descriptive\n",
        "plt.hist(patient_split['time_until_death'].dropna().astype('timedelta64[M]') / 12 , bins = 100, density=True, histtype='step',\n",
        "                           cumulative=True, label='Empirical', color='g')\n",
        "plt.xlabel('Years until Passing Away')\n",
        "plt.ylabel('Cumulative Distribution')\n",
        "plt.title('90% of deaths in 5 years, with spike early on')\n",
        "plt.axvline(5, color='g')\n",
        "plt.xticks(np.arange(0, 13, step= 1))\n",
        "plt.hlines(.90, xmin=0, xmax=12, color='g')\n",
        "plt.grid(True)\n",
        "\n",
        "plt.show()"
      ],
      "execution_count": null,
      "outputs": []
    },
    {
      "cell_type": "code",
      "metadata": {
        "id": "ltBjtZYsvX-c"
      },
      "source": [
        "# Formal\n",
        "plt.hist(patient_split['time_until_death'].dropna().astype('timedelta64[M]') / 12 , bins = 100, density=True, histtype='step',\n",
        "                           cumulative=True, label='Empirical', color='g')\n",
        "plt.axis(xmin=0, xmax=11)\n",
        "plt.xlabel('Time until Passing Away (Years)')\n",
        "plt.ylabel('Cumulative Distribution')\n",
        "plt.title('Cumulative Distribution of Patients Passing Away')\n",
        "plt.axvline(5, color='g')\n",
        "plt.xticks(np.arange(0, 12, step= 1))\n",
        "plt.hlines(.90, xmin=0, xmax=11, color='g')\n",
        "plt.grid(True)\n",
        "\n",
        "plt.show()"
      ],
      "execution_count": null,
      "outputs": []
    },
    {
      "cell_type": "code",
      "metadata": {
        "id": "YtbguKYz5HxF"
      },
      "source": [
        "# Descriptive\n",
        "plt.hist(patient_split['time_until_death'].dropna().astype('timedelta64[D]') , bins = 10000, density=True, histtype='step',\n",
        "                           cumulative=True, label='Empirical')\n",
        "plt.xlim(0, 90)\n",
        "plt.xlabel('Days until Passing Away')\n",
        "plt.ylabel('Cumulative Distribution')\n",
        "plt.title('Spike in first 70 days, half in first week')\n",
        "#plt.xticks(np.arange(0, 13, 1))\n",
        "plt.axvline(7, color='g')\n",
        "plt.hlines(.20, xmin=0, xmax=90, color='g')\n",
        "plt.grid(True)\n",
        "\n",
        "plt.show()"
      ],
      "execution_count": null,
      "outputs": []
    },
    {
      "cell_type": "code",
      "metadata": {
        "id": "OAduxJ8TxjDd"
      },
      "source": [
        "# Formal\n",
        "plt.hist(patient_split['time_until_death'].dropna().astype('timedelta64[D]') , bins = 10000, density=True, histtype='step',\n",
        "                           cumulative=True, label='Empirical')\n",
        "plt.xlim(0, 90)\n",
        "plt.xlabel('Time until Passing Away (Days)')\n",
        "plt.ylabel('Cumulative Distribution')\n",
        "plt.title('90 Day Cumulative Distribution until Patients Passing Away')\n",
        "#plt.xticks(np.arange(0, 13, 1))\n",
        "plt.axvline(7, color='g')\n",
        "plt.hlines(.20, xmin=0, xmax=90, color='g')\n",
        "plt.grid(True)\n",
        "\n",
        "plt.show()"
      ],
      "execution_count": null,
      "outputs": []
    },
    {
      "cell_type": "code",
      "metadata": {
        "id": "BF8nOofFCZnM"
      },
      "source": [
        "\n",
        "plt.hist(patient_split[patient_split['icu_expire_flag'] == 1]['time_until_death'].dropna().astype('timedelta64[D]') , bins = 10000, density=True, histtype='step',\n",
        "                           cumulative=True, label='Empirical')\n",
        "\n",
        "\n",
        "\n",
        "#plt.hist(patient_split[patient_split['icu_expire_flag'] == 1]['time_until_death'].astype('timedelta64[D]'), 10)\n",
        "plt.xlabel('Days until Death in ICU')\n",
        "plt.axvline(14, color='g')\n",
        "plt.hlines(.90, xmin=0, xmax=100, color='g')\n",
        "plt.ylabel('Frequency')\n",
        "plt.title('Almost all ICU Deaths Occur in the first 2 weeks (See 14 Days from ICU Admission)')\n",
        "plt.grid(True)\n",
        "\n",
        "\n"
      ],
      "execution_count": null,
      "outputs": []
    },
    {
      "cell_type": "code",
      "metadata": {
        "id": "aWOb5JeOGpDo"
      },
      "source": [
        "plt.hist(patient_split[patient_split['icu_expire_flag'] == 1]['time_until_death'].dropna().astype('timedelta64[D]') , bins = 10000, density=True, histtype='step',\n",
        "                           cumulative=True, label='Empirical')\n",
        "plt.xlim(0, 10)\n",
        "plt.xlabel('Days until Death in ICU')\n",
        "plt.ylabel('Frequency')\n",
        "plt.title('Almost all ICU Deaths Occur in first few days')\n",
        "plt.grid(True)\n"
      ],
      "execution_count": null,
      "outputs": []
    },
    {
      "cell_type": "code",
      "metadata": {
        "id": "ZI9bQH5sq40a"
      },
      "source": [
        "plt.hist(patient_split[(patient_split['anytime_expire_flag'] == 1)]['time_until_death'].astype('timedelta64[h]'), 20000)\n",
        "plt.xlim(0, 72)\n",
        "plt.xlabel('Days until Death')\n",
        "plt.ylabel('Frequency')\n",
        "plt.title('Time until death drops constantly until 30-48 hours when it levels off')\n",
        "plt.grid(True)\n"
      ],
      "execution_count": null,
      "outputs": []
    },
    {
      "cell_type": "code",
      "metadata": {
        "id": "Yws7jIhds3Bw"
      },
      "source": [
        "plt.hist(patient_split[(patient_split['anytime_expire_flag'] == 1) & (patient_split['hospital_expire_flag'] == 0)]['time_until_death'].astype('timedelta64[h]'), 2000)\n",
        "#plt.xlim(0, 72)\n",
        "plt.xlabel('Days until Death')\n",
        "plt.ylabel('Frequency')\n",
        "plt.title('Time until death drops constantly until 30-48 hours when it levels off')\n",
        "plt.grid(True)"
      ],
      "execution_count": null,
      "outputs": []
    },
    {
      "cell_type": "code",
      "metadata": {
        "id": "0iOxil_HtJEH"
      },
      "source": [
        "plt.hist(patient_split[(patient_split['anytime_expire_flag'] == 1) & (patient_split['hospital_expire_flag'] == 0)]['time_until_death'].astype('timedelta64[D]'), 200)\n",
        "plt.xlim(0, 360)\n",
        "plt.xlabel('Days until Death')\n",
        "plt.ylabel('Frequency')\n",
        "plt.title('For those who pass away while at home distribution\\nis a longer tail than in hospital patients')\n",
        "plt.grid(True)"
      ],
      "execution_count": null,
      "outputs": []
    },
    {
      "cell_type": "code",
      "metadata": {
        "id": "Iz6DmonWrT1U"
      },
      "source": [
        ""
      ],
      "execution_count": null,
      "outputs": []
    },
    {
      "cell_type": "markdown",
      "metadata": {
        "id": "LcI-qjderUXH"
      },
      "source": [
        ""
      ]
    },
    {
      "cell_type": "code",
      "metadata": {
        "id": "IclG7x6SF5na"
      },
      "source": [
        "plt.hist(patient_split[(patient_split['icu_expire_flag'] == 1) & (patient_split['hospital_expire_flag'] == 1)]['time_until_death'].astype('timedelta64[h]'), 400)\n",
        "plt.xlim(0, 72)\n",
        "plt.xlabel('Days until Death in ICU')\n",
        "plt.ylabel('Frequency')\n",
        "plt.title('Time Until Death in Hospital drops considerably after 24-30 hour mark')\n",
        "plt.grid(True)\n"
      ],
      "execution_count": null,
      "outputs": []
    },
    {
      "cell_type": "code",
      "metadata": {
        "id": "HK2DiS0HHN9c"
      },
      "source": [
        "# data = patient_split[(patient_split['icu_expire_flag'] == 1) & (patient_df['time_until_death'] < pd.Timedelta(48,'h'))]\n",
        "\n",
        "# data['minutes_until_death'] = data['time_until_death'].astype('timedelta64[m]')\n",
        "\n",
        "# data\n",
        "\n",
        "# plt.hist(data['minutes_until_death'] , 10)\n",
        "# # plt.xlim(0, 24)\n",
        "# plt.xlabel('Hours')\n",
        "# plt.ylabel('Cumulative Distribution')\n",
        "# plt.title('Around 70% of all deaths are before the first year')\n",
        "# plt.grid(True)\n",
        "\n",
        "# plt.show()"
      ],
      "execution_count": null,
      "outputs": []
    },
    {
      "cell_type": "code",
      "metadata": {
        "id": "7kC8AeUAaKe0",
        "colab": {
          "base_uri": "https://localhost:8080/"
        },
        "outputId": "a61b4587-e51b-461a-e796-9fc9cd8adfdd"
      },
      "source": [
        "patient_split.dtypes"
      ],
      "execution_count": null,
      "outputs": [
        {
          "output_type": "execute_result",
          "data": {
            "text/plain": [
              "subject_id              int64\n",
              "hadm_id                 int64\n",
              "icustay_id              int64\n",
              "anytime_expire_flag     int64\n",
              "hospital_expire_flag    int64\n",
              "                        ...  \n",
              "back                    int64\n",
              "bone                    int64\n",
              "pain                    int64\n",
              "other                   int64\n",
              "totalcats               int64\n",
              "Length: 66, dtype: object"
            ]
          },
          "metadata": {
            "tags": []
          },
          "execution_count": 297
        }
      ]
    },
    {
      "cell_type": "code",
      "metadata": {
        "id": "y7eMIgkR9dJH"
      },
      "source": [
        ""
      ],
      "execution_count": null,
      "outputs": []
    },
    {
      "cell_type": "code",
      "metadata": {
        "id": "Io5Y237-yAON"
      },
      "source": [
        ""
      ],
      "execution_count": null,
      "outputs": []
    }
  ]
}