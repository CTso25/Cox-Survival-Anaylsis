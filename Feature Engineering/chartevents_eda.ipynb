{
  "nbformat": 4,
  "nbformat_minor": 0,
  "metadata": {
    "colab": {
      "name": "chartevents",
      "provenance": [],
      "collapsed_sections": []
    },
    "kernelspec": {
      "name": "python3",
      "display_name": "Python 3"
    }
  },
  "cells": [
    {
      "cell_type": "code",
      "metadata": {
        "id": "fHbkJLcTHveb"
      },
      "source": [
        "import matplotlib.pyplot as plt\n",
        "import pandas as pd\n",
        "import numpy as np\n",
        "import seaborn as sns\n",
        "from collections import Counter\n",
        "import os\n",
        "from IPython.display import clear_output\n"
      ],
      "execution_count": null,
      "outputs": []
    },
    {
      "cell_type": "code",
      "metadata": {
        "id": "cB47HEbbH9s-",
        "colab": {
          "base_uri": "https://localhost:8080/"
        },
        "outputId": "87712409-d53e-4e04-85ee-3ad083a7e6e2"
      },
      "source": [
        "from google.colab import drive\n",
        "drive.mount('/content/drive')"
      ],
      "execution_count": null,
      "outputs": [
        {
          "output_type": "stream",
          "text": [
            "Drive already mounted at /content/drive; to attempt to forcibly remount, call drive.mount(\"/content/drive\", force_remount=True).\n"
          ],
          "name": "stdout"
        }
      ]
    },
    {
      "cell_type": "code",
      "metadata": {
        "id": "ev5GschYIIGY",
        "colab": {
          "base_uri": "https://localhost:8080/"
        },
        "outputId": "2033bf46-9b6d-43ce-c586-10a2c8282d33"
      },
      "source": [
        "import os\n",
        "!pwd\n",
        "!ls\n",
        "os.chdir(\"/content/drive/My Drive/DS5500 Applications in Data Science/Project/MIMIC_Survival_Analysis\")\n"
      ],
      "execution_count": null,
      "outputs": [
        {
          "output_type": "stream",
          "text": [
            "/content/drive/.shortcut-targets-by-id/10BsjhKdgzzKZGvv6gvrJPAE2TlliJlTG/MIMIC_Survival_Analysis\n",
            " abp_alarm.csv\t\t\t       spO2_alarm.csv\n",
            " chartevents.ipynb\t\t       static_patient_data_v2.csv\n",
            " chartevents_test_og.csv\t       static_test_data.csv\n",
            " chartevents_train.csv\t\t       static_test_data_diag.csv\n",
            " cumhaz_curves.feather\t\t       static_test_icu_los.csv\n",
            " diag.csv\t\t\t       static_test_predict.csv\n",
            "'Diagnosis TimeToDeath EDA.ipynb'      static_test_predict_los.csv\n",
            " disease_group_stats.feather\t       static_train_data.csv\n",
            " entire_mimic_iii_exported_tables      static_train_data_diag.csv\n",
            " hours_until_leave_icu.ipynb\t       static_train_icu_los.csv\n",
            " hr_alarm.csv\t\t\t       static_train_icu_los.gsheet\n",
            " hr_spo02_resp.csv\t\t       static_train_predict.csv\n",
            " kaplan_cox_regression\t\t       static_train_predict_los.csv\n",
            " mimic_data_test.feather\t       static_train_test_model.ipynb\n",
            " mimic_data_train.feather\t       static_val_data.csv\n",
            " mimic_patients_in_icu_test.feather    static_val_data_diag.csv\n",
            " mimic_patients_in_icu_train.feather   test_curves.csv\n",
            " nbp_alarm.csv\t\t\t       test_curves.feather\n",
            " patient_preprocessing.ipynb\t       test_survival_stat_by_disease_group.csv\n",
            " Presentation_and_Report_Documents     train_disease_group_stats.csv\n",
            " resp_alarm.csv\t\t\t       wholefile.csv\n",
            " sa02_nbp_wt.csv\n"
          ],
          "name": "stdout"
        }
      ]
    },
    {
      "cell_type": "markdown",
      "metadata": {
        "id": "Fc7_-ZpOhe9m"
      },
      "source": [
        "# Create Train Set"
      ]
    },
    {
      "cell_type": "code",
      "metadata": {
        "id": "UFjePyUwKe9P",
        "colab": {
          "base_uri": "https://localhost:8080/",
          "height": 406
        },
        "outputId": "ee15134f-fc32-4e92-89e3-0dafc7470060"
      },
      "source": [
        "chartevents1 = pd.read_csv('sa02_nbp_wt.csv')\n",
        "chartevents1"
      ],
      "execution_count": null,
      "outputs": [
        {
          "output_type": "execute_result",
          "data": {
            "text/html": [
              "<div>\n",
              "<style scoped>\n",
              "    .dataframe tbody tr th:only-of-type {\n",
              "        vertical-align: middle;\n",
              "    }\n",
              "\n",
              "    .dataframe tbody tr th {\n",
              "        vertical-align: top;\n",
              "    }\n",
              "\n",
              "    .dataframe thead th {\n",
              "        text-align: right;\n",
              "    }\n",
              "</style>\n",
              "<table border=\"1\" class=\"dataframe\">\n",
              "  <thead>\n",
              "    <tr style=\"text-align: right;\">\n",
              "      <th></th>\n",
              "      <th>subject_id</th>\n",
              "      <th>itemid</th>\n",
              "      <th>charttime</th>\n",
              "      <th>label</th>\n",
              "      <th>category</th>\n",
              "      <th>value</th>\n",
              "      <th>valuenum</th>\n",
              "      <th>valueuom</th>\n",
              "    </tr>\n",
              "  </thead>\n",
              "  <tbody>\n",
              "    <tr>\n",
              "      <th>0</th>\n",
              "      <td>16076</td>\n",
              "      <td>5817</td>\n",
              "      <td>2180-07-31 12:00:00</td>\n",
              "      <td>NBP Alarm [Low]</td>\n",
              "      <td>NaN</td>\n",
              "      <td>85.0</td>\n",
              "      <td>85.0</td>\n",
              "      <td>mmHg</td>\n",
              "    </tr>\n",
              "    <tr>\n",
              "      <th>1</th>\n",
              "      <td>16076</td>\n",
              "      <td>5817</td>\n",
              "      <td>2180-08-14 21:00:00</td>\n",
              "      <td>NBP Alarm [Low]</td>\n",
              "      <td>NaN</td>\n",
              "      <td>90.0</td>\n",
              "      <td>90.0</td>\n",
              "      <td>mmHg</td>\n",
              "    </tr>\n",
              "    <tr>\n",
              "      <th>2</th>\n",
              "      <td>16076</td>\n",
              "      <td>8551</td>\n",
              "      <td>2180-07-30 18:30:00</td>\n",
              "      <td>NBP Alarm [High]</td>\n",
              "      <td>NaN</td>\n",
              "      <td>160.0</td>\n",
              "      <td>160.0</td>\n",
              "      <td>mmHg</td>\n",
              "    </tr>\n",
              "    <tr>\n",
              "      <th>3</th>\n",
              "      <td>16076</td>\n",
              "      <td>8551</td>\n",
              "      <td>2180-08-12 08:00:00</td>\n",
              "      <td>NBP Alarm [High]</td>\n",
              "      <td>NaN</td>\n",
              "      <td>160.0</td>\n",
              "      <td>160.0</td>\n",
              "      <td>mmHg</td>\n",
              "    </tr>\n",
              "    <tr>\n",
              "      <th>4</th>\n",
              "      <td>16076</td>\n",
              "      <td>5817</td>\n",
              "      <td>2180-07-30 17:47:00</td>\n",
              "      <td>NBP Alarm [Low]</td>\n",
              "      <td>NaN</td>\n",
              "      <td>90.0</td>\n",
              "      <td>90.0</td>\n",
              "      <td>mmHg</td>\n",
              "    </tr>\n",
              "    <tr>\n",
              "      <th>...</th>\n",
              "      <td>...</td>\n",
              "      <td>...</td>\n",
              "      <td>...</td>\n",
              "      <td>...</td>\n",
              "      <td>...</td>\n",
              "      <td>...</td>\n",
              "      <td>...</td>\n",
              "      <td>...</td>\n",
              "    </tr>\n",
              "    <tr>\n",
              "      <th>6441013</th>\n",
              "      <td>32810</td>\n",
              "      <td>5813</td>\n",
              "      <td>2100-09-28 18:00:00</td>\n",
              "      <td>ABP Alarm [Low]</td>\n",
              "      <td>NaN</td>\n",
              "      <td>85.0</td>\n",
              "      <td>85.0</td>\n",
              "      <td>mmHg</td>\n",
              "    </tr>\n",
              "    <tr>\n",
              "      <th>6441014</th>\n",
              "      <td>32810</td>\n",
              "      <td>5817</td>\n",
              "      <td>2100-09-22 08:00:00</td>\n",
              "      <td>NBP Alarm [Low]</td>\n",
              "      <td>NaN</td>\n",
              "      <td>90.0</td>\n",
              "      <td>90.0</td>\n",
              "      <td>mmHg</td>\n",
              "    </tr>\n",
              "    <tr>\n",
              "      <th>6441015</th>\n",
              "      <td>32810</td>\n",
              "      <td>8547</td>\n",
              "      <td>2100-09-24 22:00:00</td>\n",
              "      <td>ABP Alarm [High]</td>\n",
              "      <td>NaN</td>\n",
              "      <td>160.0</td>\n",
              "      <td>160.0</td>\n",
              "      <td>mmHg</td>\n",
              "    </tr>\n",
              "    <tr>\n",
              "      <th>6441016</th>\n",
              "      <td>32810</td>\n",
              "      <td>5817</td>\n",
              "      <td>2100-09-27 07:00:00</td>\n",
              "      <td>NBP Alarm [Low]</td>\n",
              "      <td>NaN</td>\n",
              "      <td>90.0</td>\n",
              "      <td>90.0</td>\n",
              "      <td>mmHg</td>\n",
              "    </tr>\n",
              "    <tr>\n",
              "      <th>6441017</th>\n",
              "      <td>32810</td>\n",
              "      <td>8551</td>\n",
              "      <td>2100-10-02 06:00:00</td>\n",
              "      <td>NBP Alarm [High]</td>\n",
              "      <td>NaN</td>\n",
              "      <td>180.0</td>\n",
              "      <td>180.0</td>\n",
              "      <td>mmHg</td>\n",
              "    </tr>\n",
              "  </tbody>\n",
              "</table>\n",
              "<p>6441018 rows × 8 columns</p>\n",
              "</div>"
            ],
            "text/plain": [
              "         subject_id  itemid            charttime  ...  value  valuenum  valueuom\n",
              "0             16076    5817  2180-07-31 12:00:00  ...   85.0      85.0      mmHg\n",
              "1             16076    5817  2180-08-14 21:00:00  ...   90.0      90.0      mmHg\n",
              "2             16076    8551  2180-07-30 18:30:00  ...  160.0     160.0      mmHg\n",
              "3             16076    8551  2180-08-12 08:00:00  ...  160.0     160.0      mmHg\n",
              "4             16076    5817  2180-07-30 17:47:00  ...   90.0      90.0      mmHg\n",
              "...             ...     ...                  ...  ...    ...       ...       ...\n",
              "6441013       32810    5813  2100-09-28 18:00:00  ...   85.0      85.0      mmHg\n",
              "6441014       32810    5817  2100-09-22 08:00:00  ...   90.0      90.0      mmHg\n",
              "6441015       32810    8547  2100-09-24 22:00:00  ...  160.0     160.0      mmHg\n",
              "6441016       32810    5817  2100-09-27 07:00:00  ...   90.0      90.0      mmHg\n",
              "6441017       32810    8551  2100-10-02 06:00:00  ...  180.0     180.0      mmHg\n",
              "\n",
              "[6441018 rows x 8 columns]"
            ]
          },
          "metadata": {
            "tags": []
          },
          "execution_count": 4
        }
      ]
    },
    {
      "cell_type": "code",
      "metadata": {
        "colab": {
          "base_uri": "https://localhost:8080/"
        },
        "id": "M8m7MkHoZQG5",
        "outputId": "c9fed859-a303-4d81-95a4-9144db7e3eda"
      },
      "source": [
        "chartevents1.label.unique()"
      ],
      "execution_count": null,
      "outputs": [
        {
          "output_type": "execute_result",
          "data": {
            "text/plain": [
              "array(['NBP Alarm [Low]', 'NBP Alarm [High]', 'ABP Alarm [High]',\n",
              "       'ABP Alarm [Low]'], dtype=object)"
            ]
          },
          "metadata": {
            "tags": []
          },
          "execution_count": 5
        }
      ]
    },
    {
      "cell_type": "code",
      "metadata": {
        "id": "YjDZlY4Y_mji",
        "colab": {
          "base_uri": "https://localhost:8080/",
          "height": 406
        },
        "outputId": "33fe1c82-578d-4603-b079-1d30a6bb0123"
      },
      "source": [
        "chartevents2 = pd.read_csv('hr_spo02_resp.csv')\n",
        "chartevents2"
      ],
      "execution_count": null,
      "outputs": [
        {
          "output_type": "execute_result",
          "data": {
            "text/html": [
              "<div>\n",
              "<style scoped>\n",
              "    .dataframe tbody tr th:only-of-type {\n",
              "        vertical-align: middle;\n",
              "    }\n",
              "\n",
              "    .dataframe tbody tr th {\n",
              "        vertical-align: top;\n",
              "    }\n",
              "\n",
              "    .dataframe thead th {\n",
              "        text-align: right;\n",
              "    }\n",
              "</style>\n",
              "<table border=\"1\" class=\"dataframe\">\n",
              "  <thead>\n",
              "    <tr style=\"text-align: right;\">\n",
              "      <th></th>\n",
              "      <th>subject_id</th>\n",
              "      <th>itemid</th>\n",
              "      <th>charttime</th>\n",
              "      <th>label</th>\n",
              "      <th>category</th>\n",
              "      <th>value</th>\n",
              "      <th>valuenum</th>\n",
              "      <th>valueuom</th>\n",
              "    </tr>\n",
              "  </thead>\n",
              "  <tbody>\n",
              "    <tr>\n",
              "      <th>0</th>\n",
              "      <td>27661</td>\n",
              "      <td>5815</td>\n",
              "      <td>2129-10-10 11:30:00</td>\n",
              "      <td>HR Alarm [Low]</td>\n",
              "      <td>NaN</td>\n",
              "      <td>60.0</td>\n",
              "      <td>60.0</td>\n",
              "      <td>BPM</td>\n",
              "    </tr>\n",
              "    <tr>\n",
              "      <th>1</th>\n",
              "      <td>27661</td>\n",
              "      <td>5815</td>\n",
              "      <td>2129-09-21 08:00:00</td>\n",
              "      <td>HR Alarm [Low]</td>\n",
              "      <td>NaN</td>\n",
              "      <td>60.0</td>\n",
              "      <td>60.0</td>\n",
              "      <td>BPM</td>\n",
              "    </tr>\n",
              "    <tr>\n",
              "      <th>2</th>\n",
              "      <td>27661</td>\n",
              "      <td>5815</td>\n",
              "      <td>2129-07-26 08:00:00</td>\n",
              "      <td>HR Alarm [Low]</td>\n",
              "      <td>NaN</td>\n",
              "      <td>60.0</td>\n",
              "      <td>60.0</td>\n",
              "      <td>BPM</td>\n",
              "    </tr>\n",
              "    <tr>\n",
              "      <th>3</th>\n",
              "      <td>27661</td>\n",
              "      <td>5820</td>\n",
              "      <td>2129-06-14 08:00:00</td>\n",
              "      <td>SpO2 Alarm [Low]</td>\n",
              "      <td>NaN</td>\n",
              "      <td>90.0</td>\n",
              "      <td>90.0</td>\n",
              "      <td>%</td>\n",
              "    </tr>\n",
              "    <tr>\n",
              "      <th>4</th>\n",
              "      <td>27661</td>\n",
              "      <td>8549</td>\n",
              "      <td>2129-10-02 02:00:00</td>\n",
              "      <td>HR Alarm [High]</td>\n",
              "      <td>NaN</td>\n",
              "      <td>120.0</td>\n",
              "      <td>120.0</td>\n",
              "      <td>BPM</td>\n",
              "    </tr>\n",
              "    <tr>\n",
              "      <th>...</th>\n",
              "      <td>...</td>\n",
              "      <td>...</td>\n",
              "      <td>...</td>\n",
              "      <td>...</td>\n",
              "      <td>...</td>\n",
              "      <td>...</td>\n",
              "      <td>...</td>\n",
              "      <td>...</td>\n",
              "    </tr>\n",
              "    <tr>\n",
              "      <th>15100879</th>\n",
              "      <td>22780</td>\n",
              "      <td>8554</td>\n",
              "      <td>2128-04-01 04:00:00</td>\n",
              "      <td>SpO2 Alarm [High]</td>\n",
              "      <td>NaN</td>\n",
              "      <td>100.0</td>\n",
              "      <td>100.0</td>\n",
              "      <td>%</td>\n",
              "    </tr>\n",
              "    <tr>\n",
              "      <th>15100880</th>\n",
              "      <td>22780</td>\n",
              "      <td>5820</td>\n",
              "      <td>2128-04-01 14:00:00</td>\n",
              "      <td>SpO2 Alarm [Low]</td>\n",
              "      <td>NaN</td>\n",
              "      <td>93.0</td>\n",
              "      <td>93.0</td>\n",
              "      <td>%</td>\n",
              "    </tr>\n",
              "    <tr>\n",
              "      <th>15100881</th>\n",
              "      <td>22780</td>\n",
              "      <td>5819</td>\n",
              "      <td>2128-03-26 09:00:00</td>\n",
              "      <td>Resp Alarm [Low]</td>\n",
              "      <td>NaN</td>\n",
              "      <td>8.0</td>\n",
              "      <td>8.0</td>\n",
              "      <td>BPM</td>\n",
              "    </tr>\n",
              "    <tr>\n",
              "      <th>15100882</th>\n",
              "      <td>22780</td>\n",
              "      <td>8554</td>\n",
              "      <td>2128-03-31 10:00:00</td>\n",
              "      <td>SpO2 Alarm [High]</td>\n",
              "      <td>NaN</td>\n",
              "      <td>100.0</td>\n",
              "      <td>100.0</td>\n",
              "      <td>%</td>\n",
              "    </tr>\n",
              "    <tr>\n",
              "      <th>15100883</th>\n",
              "      <td>22780</td>\n",
              "      <td>8553</td>\n",
              "      <td>2128-03-29 21:00:00</td>\n",
              "      <td>Resp Alarm [High]</td>\n",
              "      <td>NaN</td>\n",
              "      <td>40.0</td>\n",
              "      <td>40.0</td>\n",
              "      <td>BPM</td>\n",
              "    </tr>\n",
              "  </tbody>\n",
              "</table>\n",
              "<p>15100884 rows × 8 columns</p>\n",
              "</div>"
            ],
            "text/plain": [
              "          subject_id  itemid            charttime  ...  value  valuenum  valueuom\n",
              "0              27661    5815  2129-10-10 11:30:00  ...   60.0      60.0       BPM\n",
              "1              27661    5815  2129-09-21 08:00:00  ...   60.0      60.0       BPM\n",
              "2              27661    5815  2129-07-26 08:00:00  ...   60.0      60.0       BPM\n",
              "3              27661    5820  2129-06-14 08:00:00  ...   90.0      90.0         %\n",
              "4              27661    8549  2129-10-02 02:00:00  ...  120.0     120.0       BPM\n",
              "...              ...     ...                  ...  ...    ...       ...       ...\n",
              "15100879       22780    8554  2128-04-01 04:00:00  ...  100.0     100.0         %\n",
              "15100880       22780    5820  2128-04-01 14:00:00  ...   93.0      93.0         %\n",
              "15100881       22780    5819  2128-03-26 09:00:00  ...    8.0       8.0       BPM\n",
              "15100882       22780    8554  2128-03-31 10:00:00  ...  100.0     100.0         %\n",
              "15100883       22780    8553  2128-03-29 21:00:00  ...   40.0      40.0       BPM\n",
              "\n",
              "[15100884 rows x 8 columns]"
            ]
          },
          "metadata": {
            "tags": []
          },
          "execution_count": 6
        }
      ]
    },
    {
      "cell_type": "code",
      "metadata": {
        "colab": {
          "base_uri": "https://localhost:8080/"
        },
        "id": "d5B0ebecZhv_",
        "outputId": "598f2e8a-7b21-41af-92a4-44f2d82b2a7a"
      },
      "source": [
        "chartevents2.label.unique()"
      ],
      "execution_count": null,
      "outputs": [
        {
          "output_type": "execute_result",
          "data": {
            "text/plain": [
              "array(['HR Alarm [Low]', 'SpO2 Alarm [Low]', 'HR Alarm [High]',\n",
              "       'Resp Alarm [High]', 'Resp Alarm [Low]', 'SpO2 Alarm [High]'],\n",
              "      dtype=object)"
            ]
          },
          "metadata": {
            "tags": []
          },
          "execution_count": 7
        }
      ]
    },
    {
      "cell_type": "code",
      "metadata": {
        "id": "pU0kW0opIySa"
      },
      "source": [
        "chartevents_train = chartevents1.append(chartevents2)"
      ],
      "execution_count": null,
      "outputs": []
    },
    {
      "cell_type": "code",
      "metadata": {
        "colab": {
          "base_uri": "https://localhost:8080/",
          "height": 406
        },
        "id": "AXyyLSIzK00P",
        "outputId": "2d5d5276-5d0b-47fd-d530-eadb71beea71"
      },
      "source": [
        "chartevents_train"
      ],
      "execution_count": null,
      "outputs": [
        {
          "output_type": "execute_result",
          "data": {
            "text/html": [
              "<div>\n",
              "<style scoped>\n",
              "    .dataframe tbody tr th:only-of-type {\n",
              "        vertical-align: middle;\n",
              "    }\n",
              "\n",
              "    .dataframe tbody tr th {\n",
              "        vertical-align: top;\n",
              "    }\n",
              "\n",
              "    .dataframe thead th {\n",
              "        text-align: right;\n",
              "    }\n",
              "</style>\n",
              "<table border=\"1\" class=\"dataframe\">\n",
              "  <thead>\n",
              "    <tr style=\"text-align: right;\">\n",
              "      <th></th>\n",
              "      <th>subject_id</th>\n",
              "      <th>itemid</th>\n",
              "      <th>charttime</th>\n",
              "      <th>label</th>\n",
              "      <th>category</th>\n",
              "      <th>value</th>\n",
              "      <th>valuenum</th>\n",
              "      <th>valueuom</th>\n",
              "    </tr>\n",
              "  </thead>\n",
              "  <tbody>\n",
              "    <tr>\n",
              "      <th>0</th>\n",
              "      <td>16076</td>\n",
              "      <td>5817</td>\n",
              "      <td>2180-07-31 12:00:00</td>\n",
              "      <td>NBP Alarm [Low]</td>\n",
              "      <td>NaN</td>\n",
              "      <td>85.0</td>\n",
              "      <td>85.0</td>\n",
              "      <td>mmHg</td>\n",
              "    </tr>\n",
              "    <tr>\n",
              "      <th>1</th>\n",
              "      <td>16076</td>\n",
              "      <td>5817</td>\n",
              "      <td>2180-08-14 21:00:00</td>\n",
              "      <td>NBP Alarm [Low]</td>\n",
              "      <td>NaN</td>\n",
              "      <td>90.0</td>\n",
              "      <td>90.0</td>\n",
              "      <td>mmHg</td>\n",
              "    </tr>\n",
              "    <tr>\n",
              "      <th>2</th>\n",
              "      <td>16076</td>\n",
              "      <td>8551</td>\n",
              "      <td>2180-07-30 18:30:00</td>\n",
              "      <td>NBP Alarm [High]</td>\n",
              "      <td>NaN</td>\n",
              "      <td>160.0</td>\n",
              "      <td>160.0</td>\n",
              "      <td>mmHg</td>\n",
              "    </tr>\n",
              "    <tr>\n",
              "      <th>3</th>\n",
              "      <td>16076</td>\n",
              "      <td>8551</td>\n",
              "      <td>2180-08-12 08:00:00</td>\n",
              "      <td>NBP Alarm [High]</td>\n",
              "      <td>NaN</td>\n",
              "      <td>160.0</td>\n",
              "      <td>160.0</td>\n",
              "      <td>mmHg</td>\n",
              "    </tr>\n",
              "    <tr>\n",
              "      <th>4</th>\n",
              "      <td>16076</td>\n",
              "      <td>5817</td>\n",
              "      <td>2180-07-30 17:47:00</td>\n",
              "      <td>NBP Alarm [Low]</td>\n",
              "      <td>NaN</td>\n",
              "      <td>90.0</td>\n",
              "      <td>90.0</td>\n",
              "      <td>mmHg</td>\n",
              "    </tr>\n",
              "    <tr>\n",
              "      <th>...</th>\n",
              "      <td>...</td>\n",
              "      <td>...</td>\n",
              "      <td>...</td>\n",
              "      <td>...</td>\n",
              "      <td>...</td>\n",
              "      <td>...</td>\n",
              "      <td>...</td>\n",
              "      <td>...</td>\n",
              "    </tr>\n",
              "    <tr>\n",
              "      <th>15100879</th>\n",
              "      <td>22780</td>\n",
              "      <td>8554</td>\n",
              "      <td>2128-04-01 04:00:00</td>\n",
              "      <td>SpO2 Alarm [High]</td>\n",
              "      <td>NaN</td>\n",
              "      <td>100.0</td>\n",
              "      <td>100.0</td>\n",
              "      <td>%</td>\n",
              "    </tr>\n",
              "    <tr>\n",
              "      <th>15100880</th>\n",
              "      <td>22780</td>\n",
              "      <td>5820</td>\n",
              "      <td>2128-04-01 14:00:00</td>\n",
              "      <td>SpO2 Alarm [Low]</td>\n",
              "      <td>NaN</td>\n",
              "      <td>93.0</td>\n",
              "      <td>93.0</td>\n",
              "      <td>%</td>\n",
              "    </tr>\n",
              "    <tr>\n",
              "      <th>15100881</th>\n",
              "      <td>22780</td>\n",
              "      <td>5819</td>\n",
              "      <td>2128-03-26 09:00:00</td>\n",
              "      <td>Resp Alarm [Low]</td>\n",
              "      <td>NaN</td>\n",
              "      <td>8.0</td>\n",
              "      <td>8.0</td>\n",
              "      <td>BPM</td>\n",
              "    </tr>\n",
              "    <tr>\n",
              "      <th>15100882</th>\n",
              "      <td>22780</td>\n",
              "      <td>8554</td>\n",
              "      <td>2128-03-31 10:00:00</td>\n",
              "      <td>SpO2 Alarm [High]</td>\n",
              "      <td>NaN</td>\n",
              "      <td>100.0</td>\n",
              "      <td>100.0</td>\n",
              "      <td>%</td>\n",
              "    </tr>\n",
              "    <tr>\n",
              "      <th>15100883</th>\n",
              "      <td>22780</td>\n",
              "      <td>8553</td>\n",
              "      <td>2128-03-29 21:00:00</td>\n",
              "      <td>Resp Alarm [High]</td>\n",
              "      <td>NaN</td>\n",
              "      <td>40.0</td>\n",
              "      <td>40.0</td>\n",
              "      <td>BPM</td>\n",
              "    </tr>\n",
              "  </tbody>\n",
              "</table>\n",
              "<p>21541902 rows × 8 columns</p>\n",
              "</div>"
            ],
            "text/plain": [
              "          subject_id  itemid            charttime  ...  value  valuenum  valueuom\n",
              "0              16076    5817  2180-07-31 12:00:00  ...   85.0      85.0      mmHg\n",
              "1              16076    5817  2180-08-14 21:00:00  ...   90.0      90.0      mmHg\n",
              "2              16076    8551  2180-07-30 18:30:00  ...  160.0     160.0      mmHg\n",
              "3              16076    8551  2180-08-12 08:00:00  ...  160.0     160.0      mmHg\n",
              "4              16076    5817  2180-07-30 17:47:00  ...   90.0      90.0      mmHg\n",
              "...              ...     ...                  ...  ...    ...       ...       ...\n",
              "15100879       22780    8554  2128-04-01 04:00:00  ...  100.0     100.0         %\n",
              "15100880       22780    5820  2128-04-01 14:00:00  ...   93.0      93.0         %\n",
              "15100881       22780    5819  2128-03-26 09:00:00  ...    8.0       8.0       BPM\n",
              "15100882       22780    8554  2128-03-31 10:00:00  ...  100.0     100.0         %\n",
              "15100883       22780    8553  2128-03-29 21:00:00  ...   40.0      40.0       BPM\n",
              "\n",
              "[21541902 rows x 8 columns]"
            ]
          },
          "metadata": {
            "tags": []
          },
          "execution_count": 9
        }
      ]
    },
    {
      "cell_type": "markdown",
      "metadata": {
        "id": "5ZsoNgJIedPQ"
      },
      "source": [
        "# Encode variables"
      ]
    },
    {
      "cell_type": "code",
      "metadata": {
        "id": "I16MjkhrOmQd"
      },
      "source": [
        "chartevents_encoded = pd.get_dummies(chartevents_train['label'])"
      ],
      "execution_count": null,
      "outputs": []
    },
    {
      "cell_type": "code",
      "metadata": {
        "colab": {
          "base_uri": "https://localhost:8080/",
          "height": 406
        },
        "id": "LVicIFa-QQtQ",
        "outputId": "0ba8256b-1a62-427b-c26a-b72f7e24b52d"
      },
      "source": [
        "chartevents_encoded"
      ],
      "execution_count": null,
      "outputs": [
        {
          "output_type": "execute_result",
          "data": {
            "text/html": [
              "<div>\n",
              "<style scoped>\n",
              "    .dataframe tbody tr th:only-of-type {\n",
              "        vertical-align: middle;\n",
              "    }\n",
              "\n",
              "    .dataframe tbody tr th {\n",
              "        vertical-align: top;\n",
              "    }\n",
              "\n",
              "    .dataframe thead th {\n",
              "        text-align: right;\n",
              "    }\n",
              "</style>\n",
              "<table border=\"1\" class=\"dataframe\">\n",
              "  <thead>\n",
              "    <tr style=\"text-align: right;\">\n",
              "      <th></th>\n",
              "      <th>ABP Alarm [High]</th>\n",
              "      <th>ABP Alarm [Low]</th>\n",
              "      <th>HR Alarm [High]</th>\n",
              "      <th>HR Alarm [Low]</th>\n",
              "      <th>NBP Alarm [High]</th>\n",
              "      <th>NBP Alarm [Low]</th>\n",
              "      <th>Resp Alarm [High]</th>\n",
              "      <th>Resp Alarm [Low]</th>\n",
              "      <th>SpO2 Alarm [High]</th>\n",
              "      <th>SpO2 Alarm [Low]</th>\n",
              "    </tr>\n",
              "  </thead>\n",
              "  <tbody>\n",
              "    <tr>\n",
              "      <th>0</th>\n",
              "      <td>0</td>\n",
              "      <td>0</td>\n",
              "      <td>0</td>\n",
              "      <td>0</td>\n",
              "      <td>0</td>\n",
              "      <td>1</td>\n",
              "      <td>0</td>\n",
              "      <td>0</td>\n",
              "      <td>0</td>\n",
              "      <td>0</td>\n",
              "    </tr>\n",
              "    <tr>\n",
              "      <th>1</th>\n",
              "      <td>0</td>\n",
              "      <td>0</td>\n",
              "      <td>0</td>\n",
              "      <td>0</td>\n",
              "      <td>0</td>\n",
              "      <td>1</td>\n",
              "      <td>0</td>\n",
              "      <td>0</td>\n",
              "      <td>0</td>\n",
              "      <td>0</td>\n",
              "    </tr>\n",
              "    <tr>\n",
              "      <th>2</th>\n",
              "      <td>0</td>\n",
              "      <td>0</td>\n",
              "      <td>0</td>\n",
              "      <td>0</td>\n",
              "      <td>1</td>\n",
              "      <td>0</td>\n",
              "      <td>0</td>\n",
              "      <td>0</td>\n",
              "      <td>0</td>\n",
              "      <td>0</td>\n",
              "    </tr>\n",
              "    <tr>\n",
              "      <th>3</th>\n",
              "      <td>0</td>\n",
              "      <td>0</td>\n",
              "      <td>0</td>\n",
              "      <td>0</td>\n",
              "      <td>1</td>\n",
              "      <td>0</td>\n",
              "      <td>0</td>\n",
              "      <td>0</td>\n",
              "      <td>0</td>\n",
              "      <td>0</td>\n",
              "    </tr>\n",
              "    <tr>\n",
              "      <th>4</th>\n",
              "      <td>0</td>\n",
              "      <td>0</td>\n",
              "      <td>0</td>\n",
              "      <td>0</td>\n",
              "      <td>0</td>\n",
              "      <td>1</td>\n",
              "      <td>0</td>\n",
              "      <td>0</td>\n",
              "      <td>0</td>\n",
              "      <td>0</td>\n",
              "    </tr>\n",
              "    <tr>\n",
              "      <th>...</th>\n",
              "      <td>...</td>\n",
              "      <td>...</td>\n",
              "      <td>...</td>\n",
              "      <td>...</td>\n",
              "      <td>...</td>\n",
              "      <td>...</td>\n",
              "      <td>...</td>\n",
              "      <td>...</td>\n",
              "      <td>...</td>\n",
              "      <td>...</td>\n",
              "    </tr>\n",
              "    <tr>\n",
              "      <th>15100879</th>\n",
              "      <td>0</td>\n",
              "      <td>0</td>\n",
              "      <td>0</td>\n",
              "      <td>0</td>\n",
              "      <td>0</td>\n",
              "      <td>0</td>\n",
              "      <td>0</td>\n",
              "      <td>0</td>\n",
              "      <td>1</td>\n",
              "      <td>0</td>\n",
              "    </tr>\n",
              "    <tr>\n",
              "      <th>15100880</th>\n",
              "      <td>0</td>\n",
              "      <td>0</td>\n",
              "      <td>0</td>\n",
              "      <td>0</td>\n",
              "      <td>0</td>\n",
              "      <td>0</td>\n",
              "      <td>0</td>\n",
              "      <td>0</td>\n",
              "      <td>0</td>\n",
              "      <td>1</td>\n",
              "    </tr>\n",
              "    <tr>\n",
              "      <th>15100881</th>\n",
              "      <td>0</td>\n",
              "      <td>0</td>\n",
              "      <td>0</td>\n",
              "      <td>0</td>\n",
              "      <td>0</td>\n",
              "      <td>0</td>\n",
              "      <td>0</td>\n",
              "      <td>1</td>\n",
              "      <td>0</td>\n",
              "      <td>0</td>\n",
              "    </tr>\n",
              "    <tr>\n",
              "      <th>15100882</th>\n",
              "      <td>0</td>\n",
              "      <td>0</td>\n",
              "      <td>0</td>\n",
              "      <td>0</td>\n",
              "      <td>0</td>\n",
              "      <td>0</td>\n",
              "      <td>0</td>\n",
              "      <td>0</td>\n",
              "      <td>1</td>\n",
              "      <td>0</td>\n",
              "    </tr>\n",
              "    <tr>\n",
              "      <th>15100883</th>\n",
              "      <td>0</td>\n",
              "      <td>0</td>\n",
              "      <td>0</td>\n",
              "      <td>0</td>\n",
              "      <td>0</td>\n",
              "      <td>0</td>\n",
              "      <td>1</td>\n",
              "      <td>0</td>\n",
              "      <td>0</td>\n",
              "      <td>0</td>\n",
              "    </tr>\n",
              "  </tbody>\n",
              "</table>\n",
              "<p>21541902 rows × 10 columns</p>\n",
              "</div>"
            ],
            "text/plain": [
              "          ABP Alarm [High]  ...  SpO2 Alarm [Low]\n",
              "0                        0  ...                 0\n",
              "1                        0  ...                 0\n",
              "2                        0  ...                 0\n",
              "3                        0  ...                 0\n",
              "4                        0  ...                 0\n",
              "...                    ...  ...               ...\n",
              "15100879                 0  ...                 0\n",
              "15100880                 0  ...                 1\n",
              "15100881                 0  ...                 0\n",
              "15100882                 0  ...                 0\n",
              "15100883                 0  ...                 0\n",
              "\n",
              "[21541902 rows x 10 columns]"
            ]
          },
          "metadata": {
            "tags": []
          },
          "execution_count": 11
        }
      ]
    },
    {
      "cell_type": "code",
      "metadata": {
        "id": "hSbvAl6mipoV"
      },
      "source": [
        "chartevents_encoded['BP Alarm [High]'] = 0\r\n",
        "chartevents_encoded['BP Alarm [Low]'] = 0\r\n",
        "\r\n",
        "chartevents_encoded['ABP Alarm [High]'] = chartevents_encoded['ABP Alarm [High]'].astype(int)\r\n",
        "chartevents_encoded['ABP Alarm [Low]'] = chartevents_encoded['ABP Alarm [Low]'].astype(int)"
      ],
      "execution_count": null,
      "outputs": []
    },
    {
      "cell_type": "code",
      "metadata": {
        "colab": {
          "base_uri": "https://localhost:8080/"
        },
        "id": "9GYn7Xzyo18W",
        "outputId": "745d4a10-0659-4e3c-ddd0-4f746f136f62"
      },
      "source": [
        "chartevents_encoded['ABP Alarm [High]'].unique()"
      ],
      "execution_count": null,
      "outputs": [
        {
          "output_type": "execute_result",
          "data": {
            "text/plain": [
              "array([0, 1])"
            ]
          },
          "metadata": {
            "tags": []
          },
          "execution_count": 13
        }
      ]
    },
    {
      "cell_type": "code",
      "metadata": {
        "colab": {
          "base_uri": "https://localhost:8080/"
        },
        "id": "xowEk4AGmj1_",
        "outputId": "adb5afa7-13bd-4888-a8a4-d616780bda00"
      },
      "source": [
        "chartevents_encoded['ABP Alarm [High]'].dtype"
      ],
      "execution_count": null,
      "outputs": [
        {
          "output_type": "execute_result",
          "data": {
            "text/plain": [
              "dtype('int64')"
            ]
          },
          "metadata": {
            "tags": []
          },
          "execution_count": 14
        }
      ]
    },
    {
      "cell_type": "code",
      "metadata": {
        "id": "ns4PLCNpI3sB"
      },
      "source": [
        "chartevents_encoded[\"BP Alarm [High]\"] = chartevents_encoded[[\"ABP Alarm [High]\", \"NBP Alarm [High]\"]].max(axis=1)"
      ],
      "execution_count": null,
      "outputs": []
    },
    {
      "cell_type": "code",
      "metadata": {
        "id": "miTSQfjJJUTV"
      },
      "source": [
        "chartevents_encoded[\"BP Alarm [Low]\"] = chartevents_encoded[[\"ABP Alarm [Low]\", \"NBP Alarm [Low]\"]].max(axis=1)"
      ],
      "execution_count": null,
      "outputs": []
    },
    {
      "cell_type": "code",
      "metadata": {
        "id": "-S4CIjVgKKNj"
      },
      "source": [
        "check = chartevents_encoded['ABP Alarm [Low]']==1"
      ],
      "execution_count": null,
      "outputs": []
    },
    {
      "cell_type": "code",
      "metadata": {
        "colab": {
          "base_uri": "https://localhost:8080/",
          "height": 406
        },
        "id": "rjrYIu3jKer5",
        "outputId": "51b8eb4d-eeae-4a51-f94a-33ebd29535cd"
      },
      "source": [
        "chartevents_encoded[check]"
      ],
      "execution_count": null,
      "outputs": [
        {
          "output_type": "execute_result",
          "data": {
            "text/html": [
              "<div>\n",
              "<style scoped>\n",
              "    .dataframe tbody tr th:only-of-type {\n",
              "        vertical-align: middle;\n",
              "    }\n",
              "\n",
              "    .dataframe tbody tr th {\n",
              "        vertical-align: top;\n",
              "    }\n",
              "\n",
              "    .dataframe thead th {\n",
              "        text-align: right;\n",
              "    }\n",
              "</style>\n",
              "<table border=\"1\" class=\"dataframe\">\n",
              "  <thead>\n",
              "    <tr style=\"text-align: right;\">\n",
              "      <th></th>\n",
              "      <th>ABP Alarm [High]</th>\n",
              "      <th>ABP Alarm [Low]</th>\n",
              "      <th>HR Alarm [High]</th>\n",
              "      <th>HR Alarm [Low]</th>\n",
              "      <th>NBP Alarm [High]</th>\n",
              "      <th>NBP Alarm [Low]</th>\n",
              "      <th>Resp Alarm [High]</th>\n",
              "      <th>Resp Alarm [Low]</th>\n",
              "      <th>SpO2 Alarm [High]</th>\n",
              "      <th>SpO2 Alarm [Low]</th>\n",
              "      <th>BP Alarm [High]</th>\n",
              "      <th>BP Alarm [Low]</th>\n",
              "    </tr>\n",
              "  </thead>\n",
              "  <tbody>\n",
              "    <tr>\n",
              "      <th>4792</th>\n",
              "      <td>0</td>\n",
              "      <td>1</td>\n",
              "      <td>0</td>\n",
              "      <td>0</td>\n",
              "      <td>0</td>\n",
              "      <td>0</td>\n",
              "      <td>0</td>\n",
              "      <td>0</td>\n",
              "      <td>0</td>\n",
              "      <td>0</td>\n",
              "      <td>0</td>\n",
              "      <td>1</td>\n",
              "    </tr>\n",
              "    <tr>\n",
              "      <th>4794</th>\n",
              "      <td>0</td>\n",
              "      <td>1</td>\n",
              "      <td>0</td>\n",
              "      <td>0</td>\n",
              "      <td>0</td>\n",
              "      <td>0</td>\n",
              "      <td>0</td>\n",
              "      <td>0</td>\n",
              "      <td>0</td>\n",
              "      <td>0</td>\n",
              "      <td>0</td>\n",
              "      <td>1</td>\n",
              "    </tr>\n",
              "    <tr>\n",
              "      <th>4800</th>\n",
              "      <td>0</td>\n",
              "      <td>1</td>\n",
              "      <td>0</td>\n",
              "      <td>0</td>\n",
              "      <td>0</td>\n",
              "      <td>0</td>\n",
              "      <td>0</td>\n",
              "      <td>0</td>\n",
              "      <td>0</td>\n",
              "      <td>0</td>\n",
              "      <td>0</td>\n",
              "      <td>1</td>\n",
              "    </tr>\n",
              "    <tr>\n",
              "      <th>4803</th>\n",
              "      <td>0</td>\n",
              "      <td>1</td>\n",
              "      <td>0</td>\n",
              "      <td>0</td>\n",
              "      <td>0</td>\n",
              "      <td>0</td>\n",
              "      <td>0</td>\n",
              "      <td>0</td>\n",
              "      <td>0</td>\n",
              "      <td>0</td>\n",
              "      <td>0</td>\n",
              "      <td>1</td>\n",
              "    </tr>\n",
              "    <tr>\n",
              "      <th>4806</th>\n",
              "      <td>0</td>\n",
              "      <td>1</td>\n",
              "      <td>0</td>\n",
              "      <td>0</td>\n",
              "      <td>0</td>\n",
              "      <td>0</td>\n",
              "      <td>0</td>\n",
              "      <td>0</td>\n",
              "      <td>0</td>\n",
              "      <td>0</td>\n",
              "      <td>0</td>\n",
              "      <td>1</td>\n",
              "    </tr>\n",
              "    <tr>\n",
              "      <th>...</th>\n",
              "      <td>...</td>\n",
              "      <td>...</td>\n",
              "      <td>...</td>\n",
              "      <td>...</td>\n",
              "      <td>...</td>\n",
              "      <td>...</td>\n",
              "      <td>...</td>\n",
              "      <td>...</td>\n",
              "      <td>...</td>\n",
              "      <td>...</td>\n",
              "      <td>...</td>\n",
              "      <td>...</td>\n",
              "    </tr>\n",
              "    <tr>\n",
              "      <th>6440983</th>\n",
              "      <td>0</td>\n",
              "      <td>1</td>\n",
              "      <td>0</td>\n",
              "      <td>0</td>\n",
              "      <td>0</td>\n",
              "      <td>0</td>\n",
              "      <td>0</td>\n",
              "      <td>0</td>\n",
              "      <td>0</td>\n",
              "      <td>0</td>\n",
              "      <td>0</td>\n",
              "      <td>1</td>\n",
              "    </tr>\n",
              "    <tr>\n",
              "      <th>6440996</th>\n",
              "      <td>0</td>\n",
              "      <td>1</td>\n",
              "      <td>0</td>\n",
              "      <td>0</td>\n",
              "      <td>0</td>\n",
              "      <td>0</td>\n",
              "      <td>0</td>\n",
              "      <td>0</td>\n",
              "      <td>0</td>\n",
              "      <td>0</td>\n",
              "      <td>0</td>\n",
              "      <td>1</td>\n",
              "    </tr>\n",
              "    <tr>\n",
              "      <th>6441003</th>\n",
              "      <td>0</td>\n",
              "      <td>1</td>\n",
              "      <td>0</td>\n",
              "      <td>0</td>\n",
              "      <td>0</td>\n",
              "      <td>0</td>\n",
              "      <td>0</td>\n",
              "      <td>0</td>\n",
              "      <td>0</td>\n",
              "      <td>0</td>\n",
              "      <td>0</td>\n",
              "      <td>1</td>\n",
              "    </tr>\n",
              "    <tr>\n",
              "      <th>6441004</th>\n",
              "      <td>0</td>\n",
              "      <td>1</td>\n",
              "      <td>0</td>\n",
              "      <td>0</td>\n",
              "      <td>0</td>\n",
              "      <td>0</td>\n",
              "      <td>0</td>\n",
              "      <td>0</td>\n",
              "      <td>0</td>\n",
              "      <td>0</td>\n",
              "      <td>0</td>\n",
              "      <td>1</td>\n",
              "    </tr>\n",
              "    <tr>\n",
              "      <th>6441013</th>\n",
              "      <td>0</td>\n",
              "      <td>1</td>\n",
              "      <td>0</td>\n",
              "      <td>0</td>\n",
              "      <td>0</td>\n",
              "      <td>0</td>\n",
              "      <td>0</td>\n",
              "      <td>0</td>\n",
              "      <td>0</td>\n",
              "      <td>0</td>\n",
              "      <td>0</td>\n",
              "      <td>1</td>\n",
              "    </tr>\n",
              "  </tbody>\n",
              "</table>\n",
              "<p>1221134 rows × 12 columns</p>\n",
              "</div>"
            ],
            "text/plain": [
              "         ABP Alarm [High]  ABP Alarm [Low]  ...  BP Alarm [High]  BP Alarm [Low]\n",
              "4792                    0                1  ...                0               1\n",
              "4794                    0                1  ...                0               1\n",
              "4800                    0                1  ...                0               1\n",
              "4803                    0                1  ...                0               1\n",
              "4806                    0                1  ...                0               1\n",
              "...                   ...              ...  ...              ...             ...\n",
              "6440983                 0                1  ...                0               1\n",
              "6440996                 0                1  ...                0               1\n",
              "6441003                 0                1  ...                0               1\n",
              "6441004                 0                1  ...                0               1\n",
              "6441013                 0                1  ...                0               1\n",
              "\n",
              "[1221134 rows x 12 columns]"
            ]
          },
          "metadata": {
            "tags": []
          },
          "execution_count": 18
        }
      ]
    },
    {
      "cell_type": "code",
      "metadata": {
        "id": "sFcMkHzTJfcf"
      },
      "source": [
        "chartevents_encoded = chartevents_encoded.drop(['NBP Alarm [High]', 'NBP Alarm [Low]', 'ABP Alarm [Low]', 'NBP Alarm [Low]'], axis=1)"
      ],
      "execution_count": null,
      "outputs": []
    },
    {
      "cell_type": "code",
      "metadata": {
        "id": "gXBf-M5mqsDY",
        "colab": {
          "base_uri": "https://localhost:8080/",
          "height": 406
        },
        "outputId": "661a62ff-3df1-43f1-83fd-312e41f1474d"
      },
      "source": [
        "chartevents_encoded"
      ],
      "execution_count": null,
      "outputs": [
        {
          "output_type": "execute_result",
          "data": {
            "text/html": [
              "<div>\n",
              "<style scoped>\n",
              "    .dataframe tbody tr th:only-of-type {\n",
              "        vertical-align: middle;\n",
              "    }\n",
              "\n",
              "    .dataframe tbody tr th {\n",
              "        vertical-align: top;\n",
              "    }\n",
              "\n",
              "    .dataframe thead th {\n",
              "        text-align: right;\n",
              "    }\n",
              "</style>\n",
              "<table border=\"1\" class=\"dataframe\">\n",
              "  <thead>\n",
              "    <tr style=\"text-align: right;\">\n",
              "      <th></th>\n",
              "      <th>ABP Alarm [High]</th>\n",
              "      <th>HR Alarm [High]</th>\n",
              "      <th>HR Alarm [Low]</th>\n",
              "      <th>Resp Alarm [High]</th>\n",
              "      <th>Resp Alarm [Low]</th>\n",
              "      <th>SpO2 Alarm [High]</th>\n",
              "      <th>SpO2 Alarm [Low]</th>\n",
              "      <th>BP Alarm [High]</th>\n",
              "      <th>BP Alarm [Low]</th>\n",
              "    </tr>\n",
              "  </thead>\n",
              "  <tbody>\n",
              "    <tr>\n",
              "      <th>0</th>\n",
              "      <td>0</td>\n",
              "      <td>0</td>\n",
              "      <td>0</td>\n",
              "      <td>0</td>\n",
              "      <td>0</td>\n",
              "      <td>0</td>\n",
              "      <td>0</td>\n",
              "      <td>0</td>\n",
              "      <td>1</td>\n",
              "    </tr>\n",
              "    <tr>\n",
              "      <th>1</th>\n",
              "      <td>0</td>\n",
              "      <td>0</td>\n",
              "      <td>0</td>\n",
              "      <td>0</td>\n",
              "      <td>0</td>\n",
              "      <td>0</td>\n",
              "      <td>0</td>\n",
              "      <td>0</td>\n",
              "      <td>1</td>\n",
              "    </tr>\n",
              "    <tr>\n",
              "      <th>2</th>\n",
              "      <td>0</td>\n",
              "      <td>0</td>\n",
              "      <td>0</td>\n",
              "      <td>0</td>\n",
              "      <td>0</td>\n",
              "      <td>0</td>\n",
              "      <td>0</td>\n",
              "      <td>1</td>\n",
              "      <td>0</td>\n",
              "    </tr>\n",
              "    <tr>\n",
              "      <th>3</th>\n",
              "      <td>0</td>\n",
              "      <td>0</td>\n",
              "      <td>0</td>\n",
              "      <td>0</td>\n",
              "      <td>0</td>\n",
              "      <td>0</td>\n",
              "      <td>0</td>\n",
              "      <td>1</td>\n",
              "      <td>0</td>\n",
              "    </tr>\n",
              "    <tr>\n",
              "      <th>4</th>\n",
              "      <td>0</td>\n",
              "      <td>0</td>\n",
              "      <td>0</td>\n",
              "      <td>0</td>\n",
              "      <td>0</td>\n",
              "      <td>0</td>\n",
              "      <td>0</td>\n",
              "      <td>0</td>\n",
              "      <td>1</td>\n",
              "    </tr>\n",
              "    <tr>\n",
              "      <th>...</th>\n",
              "      <td>...</td>\n",
              "      <td>...</td>\n",
              "      <td>...</td>\n",
              "      <td>...</td>\n",
              "      <td>...</td>\n",
              "      <td>...</td>\n",
              "      <td>...</td>\n",
              "      <td>...</td>\n",
              "      <td>...</td>\n",
              "    </tr>\n",
              "    <tr>\n",
              "      <th>15100879</th>\n",
              "      <td>0</td>\n",
              "      <td>0</td>\n",
              "      <td>0</td>\n",
              "      <td>0</td>\n",
              "      <td>0</td>\n",
              "      <td>1</td>\n",
              "      <td>0</td>\n",
              "      <td>0</td>\n",
              "      <td>0</td>\n",
              "    </tr>\n",
              "    <tr>\n",
              "      <th>15100880</th>\n",
              "      <td>0</td>\n",
              "      <td>0</td>\n",
              "      <td>0</td>\n",
              "      <td>0</td>\n",
              "      <td>0</td>\n",
              "      <td>0</td>\n",
              "      <td>1</td>\n",
              "      <td>0</td>\n",
              "      <td>0</td>\n",
              "    </tr>\n",
              "    <tr>\n",
              "      <th>15100881</th>\n",
              "      <td>0</td>\n",
              "      <td>0</td>\n",
              "      <td>0</td>\n",
              "      <td>0</td>\n",
              "      <td>1</td>\n",
              "      <td>0</td>\n",
              "      <td>0</td>\n",
              "      <td>0</td>\n",
              "      <td>0</td>\n",
              "    </tr>\n",
              "    <tr>\n",
              "      <th>15100882</th>\n",
              "      <td>0</td>\n",
              "      <td>0</td>\n",
              "      <td>0</td>\n",
              "      <td>0</td>\n",
              "      <td>0</td>\n",
              "      <td>1</td>\n",
              "      <td>0</td>\n",
              "      <td>0</td>\n",
              "      <td>0</td>\n",
              "    </tr>\n",
              "    <tr>\n",
              "      <th>15100883</th>\n",
              "      <td>0</td>\n",
              "      <td>0</td>\n",
              "      <td>0</td>\n",
              "      <td>1</td>\n",
              "      <td>0</td>\n",
              "      <td>0</td>\n",
              "      <td>0</td>\n",
              "      <td>0</td>\n",
              "      <td>0</td>\n",
              "    </tr>\n",
              "  </tbody>\n",
              "</table>\n",
              "<p>21541902 rows × 9 columns</p>\n",
              "</div>"
            ],
            "text/plain": [
              "          ABP Alarm [High]  HR Alarm [High]  ...  BP Alarm [High]  BP Alarm [Low]\n",
              "0                        0                0  ...                0               1\n",
              "1                        0                0  ...                0               1\n",
              "2                        0                0  ...                1               0\n",
              "3                        0                0  ...                1               0\n",
              "4                        0                0  ...                0               1\n",
              "...                    ...              ...  ...              ...             ...\n",
              "15100879                 0                0  ...                0               0\n",
              "15100880                 0                0  ...                0               0\n",
              "15100881                 0                0  ...                0               0\n",
              "15100882                 0                0  ...                0               0\n",
              "15100883                 0                0  ...                0               0\n",
              "\n",
              "[21541902 rows x 9 columns]"
            ]
          },
          "metadata": {
            "tags": []
          },
          "execution_count": 20
        }
      ]
    },
    {
      "cell_type": "code",
      "metadata": {
        "id": "mSukvlSaQZ9D"
      },
      "source": [
        "chartevents_train = pd.concat([chartevents_train, chartevents_encoded], axis = 1)"
      ],
      "execution_count": null,
      "outputs": []
    },
    {
      "cell_type": "code",
      "metadata": {
        "colab": {
          "base_uri": "https://localhost:8080/",
          "height": 406
        },
        "id": "yEPgVaKfQp2M",
        "outputId": "1358e294-42f7-43c4-af82-ec16f165c687"
      },
      "source": [
        "chartevents_train"
      ],
      "execution_count": null,
      "outputs": [
        {
          "output_type": "execute_result",
          "data": {
            "text/html": [
              "<div>\n",
              "<style scoped>\n",
              "    .dataframe tbody tr th:only-of-type {\n",
              "        vertical-align: middle;\n",
              "    }\n",
              "\n",
              "    .dataframe tbody tr th {\n",
              "        vertical-align: top;\n",
              "    }\n",
              "\n",
              "    .dataframe thead th {\n",
              "        text-align: right;\n",
              "    }\n",
              "</style>\n",
              "<table border=\"1\" class=\"dataframe\">\n",
              "  <thead>\n",
              "    <tr style=\"text-align: right;\">\n",
              "      <th></th>\n",
              "      <th>subject_id</th>\n",
              "      <th>itemid</th>\n",
              "      <th>charttime</th>\n",
              "      <th>label</th>\n",
              "      <th>category</th>\n",
              "      <th>value</th>\n",
              "      <th>valuenum</th>\n",
              "      <th>valueuom</th>\n",
              "      <th>ABP Alarm [High]</th>\n",
              "      <th>HR Alarm [High]</th>\n",
              "      <th>HR Alarm [Low]</th>\n",
              "      <th>Resp Alarm [High]</th>\n",
              "      <th>Resp Alarm [Low]</th>\n",
              "      <th>SpO2 Alarm [High]</th>\n",
              "      <th>SpO2 Alarm [Low]</th>\n",
              "      <th>BP Alarm [High]</th>\n",
              "      <th>BP Alarm [Low]</th>\n",
              "    </tr>\n",
              "  </thead>\n",
              "  <tbody>\n",
              "    <tr>\n",
              "      <th>0</th>\n",
              "      <td>16076</td>\n",
              "      <td>5817</td>\n",
              "      <td>2180-07-31 12:00:00</td>\n",
              "      <td>NBP Alarm [Low]</td>\n",
              "      <td>NaN</td>\n",
              "      <td>85.0</td>\n",
              "      <td>85.0</td>\n",
              "      <td>mmHg</td>\n",
              "      <td>0</td>\n",
              "      <td>0</td>\n",
              "      <td>0</td>\n",
              "      <td>0</td>\n",
              "      <td>0</td>\n",
              "      <td>0</td>\n",
              "      <td>0</td>\n",
              "      <td>0</td>\n",
              "      <td>1</td>\n",
              "    </tr>\n",
              "    <tr>\n",
              "      <th>1</th>\n",
              "      <td>16076</td>\n",
              "      <td>5817</td>\n",
              "      <td>2180-08-14 21:00:00</td>\n",
              "      <td>NBP Alarm [Low]</td>\n",
              "      <td>NaN</td>\n",
              "      <td>90.0</td>\n",
              "      <td>90.0</td>\n",
              "      <td>mmHg</td>\n",
              "      <td>0</td>\n",
              "      <td>0</td>\n",
              "      <td>0</td>\n",
              "      <td>0</td>\n",
              "      <td>0</td>\n",
              "      <td>0</td>\n",
              "      <td>0</td>\n",
              "      <td>0</td>\n",
              "      <td>1</td>\n",
              "    </tr>\n",
              "    <tr>\n",
              "      <th>2</th>\n",
              "      <td>16076</td>\n",
              "      <td>8551</td>\n",
              "      <td>2180-07-30 18:30:00</td>\n",
              "      <td>NBP Alarm [High]</td>\n",
              "      <td>NaN</td>\n",
              "      <td>160.0</td>\n",
              "      <td>160.0</td>\n",
              "      <td>mmHg</td>\n",
              "      <td>0</td>\n",
              "      <td>0</td>\n",
              "      <td>0</td>\n",
              "      <td>0</td>\n",
              "      <td>0</td>\n",
              "      <td>0</td>\n",
              "      <td>0</td>\n",
              "      <td>1</td>\n",
              "      <td>0</td>\n",
              "    </tr>\n",
              "    <tr>\n",
              "      <th>3</th>\n",
              "      <td>16076</td>\n",
              "      <td>8551</td>\n",
              "      <td>2180-08-12 08:00:00</td>\n",
              "      <td>NBP Alarm [High]</td>\n",
              "      <td>NaN</td>\n",
              "      <td>160.0</td>\n",
              "      <td>160.0</td>\n",
              "      <td>mmHg</td>\n",
              "      <td>0</td>\n",
              "      <td>0</td>\n",
              "      <td>0</td>\n",
              "      <td>0</td>\n",
              "      <td>0</td>\n",
              "      <td>0</td>\n",
              "      <td>0</td>\n",
              "      <td>1</td>\n",
              "      <td>0</td>\n",
              "    </tr>\n",
              "    <tr>\n",
              "      <th>4</th>\n",
              "      <td>16076</td>\n",
              "      <td>5817</td>\n",
              "      <td>2180-07-30 17:47:00</td>\n",
              "      <td>NBP Alarm [Low]</td>\n",
              "      <td>NaN</td>\n",
              "      <td>90.0</td>\n",
              "      <td>90.0</td>\n",
              "      <td>mmHg</td>\n",
              "      <td>0</td>\n",
              "      <td>0</td>\n",
              "      <td>0</td>\n",
              "      <td>0</td>\n",
              "      <td>0</td>\n",
              "      <td>0</td>\n",
              "      <td>0</td>\n",
              "      <td>0</td>\n",
              "      <td>1</td>\n",
              "    </tr>\n",
              "    <tr>\n",
              "      <th>...</th>\n",
              "      <td>...</td>\n",
              "      <td>...</td>\n",
              "      <td>...</td>\n",
              "      <td>...</td>\n",
              "      <td>...</td>\n",
              "      <td>...</td>\n",
              "      <td>...</td>\n",
              "      <td>...</td>\n",
              "      <td>...</td>\n",
              "      <td>...</td>\n",
              "      <td>...</td>\n",
              "      <td>...</td>\n",
              "      <td>...</td>\n",
              "      <td>...</td>\n",
              "      <td>...</td>\n",
              "      <td>...</td>\n",
              "      <td>...</td>\n",
              "    </tr>\n",
              "    <tr>\n",
              "      <th>15100879</th>\n",
              "      <td>22780</td>\n",
              "      <td>8554</td>\n",
              "      <td>2128-04-01 04:00:00</td>\n",
              "      <td>SpO2 Alarm [High]</td>\n",
              "      <td>NaN</td>\n",
              "      <td>100.0</td>\n",
              "      <td>100.0</td>\n",
              "      <td>%</td>\n",
              "      <td>0</td>\n",
              "      <td>0</td>\n",
              "      <td>0</td>\n",
              "      <td>0</td>\n",
              "      <td>0</td>\n",
              "      <td>1</td>\n",
              "      <td>0</td>\n",
              "      <td>0</td>\n",
              "      <td>0</td>\n",
              "    </tr>\n",
              "    <tr>\n",
              "      <th>15100880</th>\n",
              "      <td>22780</td>\n",
              "      <td>5820</td>\n",
              "      <td>2128-04-01 14:00:00</td>\n",
              "      <td>SpO2 Alarm [Low]</td>\n",
              "      <td>NaN</td>\n",
              "      <td>93.0</td>\n",
              "      <td>93.0</td>\n",
              "      <td>%</td>\n",
              "      <td>0</td>\n",
              "      <td>0</td>\n",
              "      <td>0</td>\n",
              "      <td>0</td>\n",
              "      <td>0</td>\n",
              "      <td>0</td>\n",
              "      <td>1</td>\n",
              "      <td>0</td>\n",
              "      <td>0</td>\n",
              "    </tr>\n",
              "    <tr>\n",
              "      <th>15100881</th>\n",
              "      <td>22780</td>\n",
              "      <td>5819</td>\n",
              "      <td>2128-03-26 09:00:00</td>\n",
              "      <td>Resp Alarm [Low]</td>\n",
              "      <td>NaN</td>\n",
              "      <td>8.0</td>\n",
              "      <td>8.0</td>\n",
              "      <td>BPM</td>\n",
              "      <td>0</td>\n",
              "      <td>0</td>\n",
              "      <td>0</td>\n",
              "      <td>0</td>\n",
              "      <td>1</td>\n",
              "      <td>0</td>\n",
              "      <td>0</td>\n",
              "      <td>0</td>\n",
              "      <td>0</td>\n",
              "    </tr>\n",
              "    <tr>\n",
              "      <th>15100882</th>\n",
              "      <td>22780</td>\n",
              "      <td>8554</td>\n",
              "      <td>2128-03-31 10:00:00</td>\n",
              "      <td>SpO2 Alarm [High]</td>\n",
              "      <td>NaN</td>\n",
              "      <td>100.0</td>\n",
              "      <td>100.0</td>\n",
              "      <td>%</td>\n",
              "      <td>0</td>\n",
              "      <td>0</td>\n",
              "      <td>0</td>\n",
              "      <td>0</td>\n",
              "      <td>0</td>\n",
              "      <td>1</td>\n",
              "      <td>0</td>\n",
              "      <td>0</td>\n",
              "      <td>0</td>\n",
              "    </tr>\n",
              "    <tr>\n",
              "      <th>15100883</th>\n",
              "      <td>22780</td>\n",
              "      <td>8553</td>\n",
              "      <td>2128-03-29 21:00:00</td>\n",
              "      <td>Resp Alarm [High]</td>\n",
              "      <td>NaN</td>\n",
              "      <td>40.0</td>\n",
              "      <td>40.0</td>\n",
              "      <td>BPM</td>\n",
              "      <td>0</td>\n",
              "      <td>0</td>\n",
              "      <td>0</td>\n",
              "      <td>1</td>\n",
              "      <td>0</td>\n",
              "      <td>0</td>\n",
              "      <td>0</td>\n",
              "      <td>0</td>\n",
              "      <td>0</td>\n",
              "    </tr>\n",
              "  </tbody>\n",
              "</table>\n",
              "<p>21541902 rows × 17 columns</p>\n",
              "</div>"
            ],
            "text/plain": [
              "          subject_id  itemid  ... BP Alarm [High] BP Alarm [Low]\n",
              "0              16076    5817  ...               0              1\n",
              "1              16076    5817  ...               0              1\n",
              "2              16076    8551  ...               1              0\n",
              "3              16076    8551  ...               1              0\n",
              "4              16076    5817  ...               0              1\n",
              "...              ...     ...  ...             ...            ...\n",
              "15100879       22780    8554  ...               0              0\n",
              "15100880       22780    5820  ...               0              0\n",
              "15100881       22780    5819  ...               0              0\n",
              "15100882       22780    8554  ...               0              0\n",
              "15100883       22780    8553  ...               0              0\n",
              "\n",
              "[21541902 rows x 17 columns]"
            ]
          },
          "metadata": {
            "tags": []
          },
          "execution_count": 22
        }
      ]
    },
    {
      "cell_type": "code",
      "metadata": {
        "id": "AryxlcGUcC6b"
      },
      "source": [
        "chartevents_train.to_csv(\"/content/drive/My Drive/DS5500 Applications in Data Science/Project/MIMIC_Survival_Analysis/chartevents_train.csv\")"
      ],
      "execution_count": null,
      "outputs": []
    },
    {
      "cell_type": "markdown",
      "metadata": {
        "id": "hTaUWE0ksmzk"
      },
      "source": [
        "# Create Test Set\r\n"
      ]
    },
    {
      "cell_type": "code",
      "metadata": {
        "id": "bJqmgFfWsqAS"
      },
      "source": [
        "chartevents_test = pd.read_csv('chartevents_test_og.csv')"
      ],
      "execution_count": null,
      "outputs": []
    },
    {
      "cell_type": "code",
      "metadata": {
        "id": "kZhIm52ztdaL"
      },
      "source": [
        "chartevents_test_encoded = pd.get_dummies(chartevents_test['label'])"
      ],
      "execution_count": null,
      "outputs": []
    },
    {
      "cell_type": "code",
      "metadata": {
        "id": "xiikmZ4xts1l",
        "colab": {
          "base_uri": "https://localhost:8080/",
          "height": 406
        },
        "outputId": "a3e68fe3-07f1-421b-9154-194b73e1440c"
      },
      "source": [
        "chartevents_test_encoded"
      ],
      "execution_count": null,
      "outputs": [
        {
          "output_type": "execute_result",
          "data": {
            "text/html": [
              "<div>\n",
              "<style scoped>\n",
              "    .dataframe tbody tr th:only-of-type {\n",
              "        vertical-align: middle;\n",
              "    }\n",
              "\n",
              "    .dataframe tbody tr th {\n",
              "        vertical-align: top;\n",
              "    }\n",
              "\n",
              "    .dataframe thead th {\n",
              "        text-align: right;\n",
              "    }\n",
              "</style>\n",
              "<table border=\"1\" class=\"dataframe\">\n",
              "  <thead>\n",
              "    <tr style=\"text-align: right;\">\n",
              "      <th></th>\n",
              "      <th>ABP Alarm [High]</th>\n",
              "      <th>ABP Alarm [Low]</th>\n",
              "      <th>HR Alarm [High]</th>\n",
              "      <th>HR Alarm [Low]</th>\n",
              "      <th>NBP Alarm [High]</th>\n",
              "      <th>NBP Alarm [Low]</th>\n",
              "      <th>Resp Alarm [High]</th>\n",
              "      <th>Resp Alarm [Low]</th>\n",
              "      <th>SpO2 Alarm [High]</th>\n",
              "      <th>SpO2 Alarm [Low]</th>\n",
              "    </tr>\n",
              "  </thead>\n",
              "  <tbody>\n",
              "    <tr>\n",
              "      <th>0</th>\n",
              "      <td>0</td>\n",
              "      <td>0</td>\n",
              "      <td>0</td>\n",
              "      <td>0</td>\n",
              "      <td>0</td>\n",
              "      <td>0</td>\n",
              "      <td>1</td>\n",
              "      <td>0</td>\n",
              "      <td>0</td>\n",
              "      <td>0</td>\n",
              "    </tr>\n",
              "    <tr>\n",
              "      <th>1</th>\n",
              "      <td>0</td>\n",
              "      <td>0</td>\n",
              "      <td>0</td>\n",
              "      <td>0</td>\n",
              "      <td>0</td>\n",
              "      <td>0</td>\n",
              "      <td>0</td>\n",
              "      <td>1</td>\n",
              "      <td>0</td>\n",
              "      <td>0</td>\n",
              "    </tr>\n",
              "    <tr>\n",
              "      <th>2</th>\n",
              "      <td>0</td>\n",
              "      <td>0</td>\n",
              "      <td>0</td>\n",
              "      <td>0</td>\n",
              "      <td>0</td>\n",
              "      <td>0</td>\n",
              "      <td>0</td>\n",
              "      <td>0</td>\n",
              "      <td>0</td>\n",
              "      <td>1</td>\n",
              "    </tr>\n",
              "    <tr>\n",
              "      <th>3</th>\n",
              "      <td>0</td>\n",
              "      <td>0</td>\n",
              "      <td>0</td>\n",
              "      <td>0</td>\n",
              "      <td>0</td>\n",
              "      <td>0</td>\n",
              "      <td>1</td>\n",
              "      <td>0</td>\n",
              "      <td>0</td>\n",
              "      <td>0</td>\n",
              "    </tr>\n",
              "    <tr>\n",
              "      <th>4</th>\n",
              "      <td>0</td>\n",
              "      <td>0</td>\n",
              "      <td>0</td>\n",
              "      <td>1</td>\n",
              "      <td>0</td>\n",
              "      <td>0</td>\n",
              "      <td>0</td>\n",
              "      <td>0</td>\n",
              "      <td>0</td>\n",
              "      <td>0</td>\n",
              "    </tr>\n",
              "    <tr>\n",
              "      <th>...</th>\n",
              "      <td>...</td>\n",
              "      <td>...</td>\n",
              "      <td>...</td>\n",
              "      <td>...</td>\n",
              "      <td>...</td>\n",
              "      <td>...</td>\n",
              "      <td>...</td>\n",
              "      <td>...</td>\n",
              "      <td>...</td>\n",
              "      <td>...</td>\n",
              "    </tr>\n",
              "    <tr>\n",
              "      <th>7852615</th>\n",
              "      <td>1</td>\n",
              "      <td>0</td>\n",
              "      <td>0</td>\n",
              "      <td>0</td>\n",
              "      <td>0</td>\n",
              "      <td>0</td>\n",
              "      <td>0</td>\n",
              "      <td>0</td>\n",
              "      <td>0</td>\n",
              "      <td>0</td>\n",
              "    </tr>\n",
              "    <tr>\n",
              "      <th>7852616</th>\n",
              "      <td>0</td>\n",
              "      <td>0</td>\n",
              "      <td>0</td>\n",
              "      <td>0</td>\n",
              "      <td>0</td>\n",
              "      <td>0</td>\n",
              "      <td>0</td>\n",
              "      <td>0</td>\n",
              "      <td>1</td>\n",
              "      <td>0</td>\n",
              "    </tr>\n",
              "    <tr>\n",
              "      <th>7852617</th>\n",
              "      <td>0</td>\n",
              "      <td>0</td>\n",
              "      <td>0</td>\n",
              "      <td>0</td>\n",
              "      <td>0</td>\n",
              "      <td>0</td>\n",
              "      <td>0</td>\n",
              "      <td>1</td>\n",
              "      <td>0</td>\n",
              "      <td>0</td>\n",
              "    </tr>\n",
              "    <tr>\n",
              "      <th>7852618</th>\n",
              "      <td>0</td>\n",
              "      <td>0</td>\n",
              "      <td>0</td>\n",
              "      <td>0</td>\n",
              "      <td>0</td>\n",
              "      <td>0</td>\n",
              "      <td>0</td>\n",
              "      <td>0</td>\n",
              "      <td>1</td>\n",
              "      <td>0</td>\n",
              "    </tr>\n",
              "    <tr>\n",
              "      <th>7852619</th>\n",
              "      <td>0</td>\n",
              "      <td>0</td>\n",
              "      <td>0</td>\n",
              "      <td>1</td>\n",
              "      <td>0</td>\n",
              "      <td>0</td>\n",
              "      <td>0</td>\n",
              "      <td>0</td>\n",
              "      <td>0</td>\n",
              "      <td>0</td>\n",
              "    </tr>\n",
              "  </tbody>\n",
              "</table>\n",
              "<p>7852620 rows × 10 columns</p>\n",
              "</div>"
            ],
            "text/plain": [
              "         ABP Alarm [High]  ABP Alarm [Low]  ...  SpO2 Alarm [High]  SpO2 Alarm [Low]\n",
              "0                       0                0  ...                  0                 0\n",
              "1                       0                0  ...                  0                 0\n",
              "2                       0                0  ...                  0                 1\n",
              "3                       0                0  ...                  0                 0\n",
              "4                       0                0  ...                  0                 0\n",
              "...                   ...              ...  ...                ...               ...\n",
              "7852615                 1                0  ...                  0                 0\n",
              "7852616                 0                0  ...                  1                 0\n",
              "7852617                 0                0  ...                  0                 0\n",
              "7852618                 0                0  ...                  1                 0\n",
              "7852619                 0                0  ...                  0                 0\n",
              "\n",
              "[7852620 rows x 10 columns]"
            ]
          },
          "metadata": {
            "tags": []
          },
          "execution_count": 30
        }
      ]
    },
    {
      "cell_type": "code",
      "metadata": {
        "id": "hi0WY__ptxMK"
      },
      "source": [
        "chartevents_test_encoded[\"BP Alarm [High]\"] = chartevents_test_encoded[[\"ABP Alarm [High]\", \"NBP Alarm [High]\"]].max(axis=1)\r\n",
        "chartevents_test_encoded[\"BP Alarm [Low]\"] = chartevents_test_encoded[[\"ABP Alarm [Low]\", \"NBP Alarm [Low]\"]].max(axis=1)"
      ],
      "execution_count": null,
      "outputs": []
    },
    {
      "cell_type": "code",
      "metadata": {
        "colab": {
          "base_uri": "https://localhost:8080/",
          "height": 406
        },
        "id": "xavw23IXP-9m",
        "outputId": "da45ac11-c767-4184-db34-f8689677961d"
      },
      "source": [
        "chartevents_test_encoded"
      ],
      "execution_count": null,
      "outputs": [
        {
          "output_type": "execute_result",
          "data": {
            "text/html": [
              "<div>\n",
              "<style scoped>\n",
              "    .dataframe tbody tr th:only-of-type {\n",
              "        vertical-align: middle;\n",
              "    }\n",
              "\n",
              "    .dataframe tbody tr th {\n",
              "        vertical-align: top;\n",
              "    }\n",
              "\n",
              "    .dataframe thead th {\n",
              "        text-align: right;\n",
              "    }\n",
              "</style>\n",
              "<table border=\"1\" class=\"dataframe\">\n",
              "  <thead>\n",
              "    <tr style=\"text-align: right;\">\n",
              "      <th></th>\n",
              "      <th>ABP Alarm [High]</th>\n",
              "      <th>ABP Alarm [Low]</th>\n",
              "      <th>HR Alarm [High]</th>\n",
              "      <th>HR Alarm [Low]</th>\n",
              "      <th>NBP Alarm [High]</th>\n",
              "      <th>NBP Alarm [Low]</th>\n",
              "      <th>Resp Alarm [High]</th>\n",
              "      <th>Resp Alarm [Low]</th>\n",
              "      <th>SpO2 Alarm [High]</th>\n",
              "      <th>SpO2 Alarm [Low]</th>\n",
              "      <th>BP Alarm [High]</th>\n",
              "      <th>BP Alarm [Low]</th>\n",
              "    </tr>\n",
              "  </thead>\n",
              "  <tbody>\n",
              "    <tr>\n",
              "      <th>0</th>\n",
              "      <td>0</td>\n",
              "      <td>0</td>\n",
              "      <td>0</td>\n",
              "      <td>0</td>\n",
              "      <td>0</td>\n",
              "      <td>0</td>\n",
              "      <td>1</td>\n",
              "      <td>0</td>\n",
              "      <td>0</td>\n",
              "      <td>0</td>\n",
              "      <td>0</td>\n",
              "      <td>0</td>\n",
              "    </tr>\n",
              "    <tr>\n",
              "      <th>1</th>\n",
              "      <td>0</td>\n",
              "      <td>0</td>\n",
              "      <td>0</td>\n",
              "      <td>0</td>\n",
              "      <td>0</td>\n",
              "      <td>0</td>\n",
              "      <td>0</td>\n",
              "      <td>1</td>\n",
              "      <td>0</td>\n",
              "      <td>0</td>\n",
              "      <td>0</td>\n",
              "      <td>0</td>\n",
              "    </tr>\n",
              "    <tr>\n",
              "      <th>2</th>\n",
              "      <td>0</td>\n",
              "      <td>0</td>\n",
              "      <td>0</td>\n",
              "      <td>0</td>\n",
              "      <td>0</td>\n",
              "      <td>0</td>\n",
              "      <td>0</td>\n",
              "      <td>0</td>\n",
              "      <td>0</td>\n",
              "      <td>1</td>\n",
              "      <td>0</td>\n",
              "      <td>0</td>\n",
              "    </tr>\n",
              "    <tr>\n",
              "      <th>3</th>\n",
              "      <td>0</td>\n",
              "      <td>0</td>\n",
              "      <td>0</td>\n",
              "      <td>0</td>\n",
              "      <td>0</td>\n",
              "      <td>0</td>\n",
              "      <td>1</td>\n",
              "      <td>0</td>\n",
              "      <td>0</td>\n",
              "      <td>0</td>\n",
              "      <td>0</td>\n",
              "      <td>0</td>\n",
              "    </tr>\n",
              "    <tr>\n",
              "      <th>4</th>\n",
              "      <td>0</td>\n",
              "      <td>0</td>\n",
              "      <td>0</td>\n",
              "      <td>1</td>\n",
              "      <td>0</td>\n",
              "      <td>0</td>\n",
              "      <td>0</td>\n",
              "      <td>0</td>\n",
              "      <td>0</td>\n",
              "      <td>0</td>\n",
              "      <td>0</td>\n",
              "      <td>0</td>\n",
              "    </tr>\n",
              "    <tr>\n",
              "      <th>...</th>\n",
              "      <td>...</td>\n",
              "      <td>...</td>\n",
              "      <td>...</td>\n",
              "      <td>...</td>\n",
              "      <td>...</td>\n",
              "      <td>...</td>\n",
              "      <td>...</td>\n",
              "      <td>...</td>\n",
              "      <td>...</td>\n",
              "      <td>...</td>\n",
              "      <td>...</td>\n",
              "      <td>...</td>\n",
              "    </tr>\n",
              "    <tr>\n",
              "      <th>7852615</th>\n",
              "      <td>1</td>\n",
              "      <td>0</td>\n",
              "      <td>0</td>\n",
              "      <td>0</td>\n",
              "      <td>0</td>\n",
              "      <td>0</td>\n",
              "      <td>0</td>\n",
              "      <td>0</td>\n",
              "      <td>0</td>\n",
              "      <td>0</td>\n",
              "      <td>1</td>\n",
              "      <td>0</td>\n",
              "    </tr>\n",
              "    <tr>\n",
              "      <th>7852616</th>\n",
              "      <td>0</td>\n",
              "      <td>0</td>\n",
              "      <td>0</td>\n",
              "      <td>0</td>\n",
              "      <td>0</td>\n",
              "      <td>0</td>\n",
              "      <td>0</td>\n",
              "      <td>0</td>\n",
              "      <td>1</td>\n",
              "      <td>0</td>\n",
              "      <td>0</td>\n",
              "      <td>0</td>\n",
              "    </tr>\n",
              "    <tr>\n",
              "      <th>7852617</th>\n",
              "      <td>0</td>\n",
              "      <td>0</td>\n",
              "      <td>0</td>\n",
              "      <td>0</td>\n",
              "      <td>0</td>\n",
              "      <td>0</td>\n",
              "      <td>0</td>\n",
              "      <td>1</td>\n",
              "      <td>0</td>\n",
              "      <td>0</td>\n",
              "      <td>0</td>\n",
              "      <td>0</td>\n",
              "    </tr>\n",
              "    <tr>\n",
              "      <th>7852618</th>\n",
              "      <td>0</td>\n",
              "      <td>0</td>\n",
              "      <td>0</td>\n",
              "      <td>0</td>\n",
              "      <td>0</td>\n",
              "      <td>0</td>\n",
              "      <td>0</td>\n",
              "      <td>0</td>\n",
              "      <td>1</td>\n",
              "      <td>0</td>\n",
              "      <td>0</td>\n",
              "      <td>0</td>\n",
              "    </tr>\n",
              "    <tr>\n",
              "      <th>7852619</th>\n",
              "      <td>0</td>\n",
              "      <td>0</td>\n",
              "      <td>0</td>\n",
              "      <td>1</td>\n",
              "      <td>0</td>\n",
              "      <td>0</td>\n",
              "      <td>0</td>\n",
              "      <td>0</td>\n",
              "      <td>0</td>\n",
              "      <td>0</td>\n",
              "      <td>0</td>\n",
              "      <td>0</td>\n",
              "    </tr>\n",
              "  </tbody>\n",
              "</table>\n",
              "<p>7852620 rows × 12 columns</p>\n",
              "</div>"
            ],
            "text/plain": [
              "         ABP Alarm [High]  ABP Alarm [Low]  ...  BP Alarm [High]  BP Alarm [Low]\n",
              "0                       0                0  ...                0               0\n",
              "1                       0                0  ...                0               0\n",
              "2                       0                0  ...                0               0\n",
              "3                       0                0  ...                0               0\n",
              "4                       0                0  ...                0               0\n",
              "...                   ...              ...  ...              ...             ...\n",
              "7852615                 1                0  ...                1               0\n",
              "7852616                 0                0  ...                0               0\n",
              "7852617                 0                0  ...                0               0\n",
              "7852618                 0                0  ...                0               0\n",
              "7852619                 0                0  ...                0               0\n",
              "\n",
              "[7852620 rows x 12 columns]"
            ]
          },
          "metadata": {
            "tags": []
          },
          "execution_count": 33
        }
      ]
    },
    {
      "cell_type": "code",
      "metadata": {
        "id": "Yxy2NV9pt3gl"
      },
      "source": [
        "chartevents_test = pd.concat([chartevents_test, chartevents_test_encoded], axis = 1)"
      ],
      "execution_count": null,
      "outputs": []
    },
    {
      "cell_type": "code",
      "metadata": {
        "colab": {
          "base_uri": "https://localhost:8080/",
          "height": 590
        },
        "id": "KYGbr0vbQGFJ",
        "outputId": "5e69b161-172f-40e4-ff4b-6de5bae24b1b"
      },
      "source": [
        "chartevents_test"
      ],
      "execution_count": null,
      "outputs": [
        {
          "output_type": "execute_result",
          "data": {
            "text/html": [
              "<div>\n",
              "<style scoped>\n",
              "    .dataframe tbody tr th:only-of-type {\n",
              "        vertical-align: middle;\n",
              "    }\n",
              "\n",
              "    .dataframe tbody tr th {\n",
              "        vertical-align: top;\n",
              "    }\n",
              "\n",
              "    .dataframe thead th {\n",
              "        text-align: right;\n",
              "    }\n",
              "</style>\n",
              "<table border=\"1\" class=\"dataframe\">\n",
              "  <thead>\n",
              "    <tr style=\"text-align: right;\">\n",
              "      <th></th>\n",
              "      <th>subject_id</th>\n",
              "      <th>itemid</th>\n",
              "      <th>charttime</th>\n",
              "      <th>label</th>\n",
              "      <th>category</th>\n",
              "      <th>value</th>\n",
              "      <th>valuenum</th>\n",
              "      <th>valueuom</th>\n",
              "      <th>ABP Alarm [High]</th>\n",
              "      <th>ABP Alarm [Low]</th>\n",
              "      <th>HR Alarm [High]</th>\n",
              "      <th>HR Alarm [Low]</th>\n",
              "      <th>NBP Alarm [High]</th>\n",
              "      <th>NBP Alarm [Low]</th>\n",
              "      <th>Resp Alarm [High]</th>\n",
              "      <th>Resp Alarm [Low]</th>\n",
              "      <th>SpO2 Alarm [High]</th>\n",
              "      <th>SpO2 Alarm [Low]</th>\n",
              "      <th>BP Alarm [High]</th>\n",
              "      <th>BP Alarm [Low]</th>\n",
              "    </tr>\n",
              "  </thead>\n",
              "  <tbody>\n",
              "    <tr>\n",
              "      <th>0</th>\n",
              "      <td>9518</td>\n",
              "      <td>8553</td>\n",
              "      <td>2119-03-30 08:00:00</td>\n",
              "      <td>Resp Alarm [High]</td>\n",
              "      <td>NaN</td>\n",
              "      <td>35.0</td>\n",
              "      <td>35.0</td>\n",
              "      <td>BPM</td>\n",
              "      <td>0</td>\n",
              "      <td>0</td>\n",
              "      <td>0</td>\n",
              "      <td>0</td>\n",
              "      <td>0</td>\n",
              "      <td>0</td>\n",
              "      <td>1</td>\n",
              "      <td>0</td>\n",
              "      <td>0</td>\n",
              "      <td>0</td>\n",
              "      <td>0</td>\n",
              "      <td>0</td>\n",
              "    </tr>\n",
              "    <tr>\n",
              "      <th>1</th>\n",
              "      <td>9518</td>\n",
              "      <td>5819</td>\n",
              "      <td>2119-04-02 14:00:00</td>\n",
              "      <td>Resp Alarm [Low]</td>\n",
              "      <td>NaN</td>\n",
              "      <td>8.0</td>\n",
              "      <td>8.0</td>\n",
              "      <td>BPM</td>\n",
              "      <td>0</td>\n",
              "      <td>0</td>\n",
              "      <td>0</td>\n",
              "      <td>0</td>\n",
              "      <td>0</td>\n",
              "      <td>0</td>\n",
              "      <td>0</td>\n",
              "      <td>1</td>\n",
              "      <td>0</td>\n",
              "      <td>0</td>\n",
              "      <td>0</td>\n",
              "      <td>0</td>\n",
              "    </tr>\n",
              "    <tr>\n",
              "      <th>2</th>\n",
              "      <td>9518</td>\n",
              "      <td>5820</td>\n",
              "      <td>2120-08-23 16:00:00</td>\n",
              "      <td>SpO2 Alarm [Low]</td>\n",
              "      <td>NaN</td>\n",
              "      <td>88.0</td>\n",
              "      <td>88.0</td>\n",
              "      <td>%</td>\n",
              "      <td>0</td>\n",
              "      <td>0</td>\n",
              "      <td>0</td>\n",
              "      <td>0</td>\n",
              "      <td>0</td>\n",
              "      <td>0</td>\n",
              "      <td>0</td>\n",
              "      <td>0</td>\n",
              "      <td>0</td>\n",
              "      <td>1</td>\n",
              "      <td>0</td>\n",
              "      <td>0</td>\n",
              "    </tr>\n",
              "    <tr>\n",
              "      <th>3</th>\n",
              "      <td>9518</td>\n",
              "      <td>8553</td>\n",
              "      <td>2119-03-29 04:00:00</td>\n",
              "      <td>Resp Alarm [High]</td>\n",
              "      <td>NaN</td>\n",
              "      <td>35.0</td>\n",
              "      <td>35.0</td>\n",
              "      <td>BPM</td>\n",
              "      <td>0</td>\n",
              "      <td>0</td>\n",
              "      <td>0</td>\n",
              "      <td>0</td>\n",
              "      <td>0</td>\n",
              "      <td>0</td>\n",
              "      <td>1</td>\n",
              "      <td>0</td>\n",
              "      <td>0</td>\n",
              "      <td>0</td>\n",
              "      <td>0</td>\n",
              "      <td>0</td>\n",
              "    </tr>\n",
              "    <tr>\n",
              "      <th>4</th>\n",
              "      <td>9518</td>\n",
              "      <td>5815</td>\n",
              "      <td>2119-03-30 10:00:00</td>\n",
              "      <td>HR Alarm [Low]</td>\n",
              "      <td>NaN</td>\n",
              "      <td>60.0</td>\n",
              "      <td>60.0</td>\n",
              "      <td>BPM</td>\n",
              "      <td>0</td>\n",
              "      <td>0</td>\n",
              "      <td>0</td>\n",
              "      <td>1</td>\n",
              "      <td>0</td>\n",
              "      <td>0</td>\n",
              "      <td>0</td>\n",
              "      <td>0</td>\n",
              "      <td>0</td>\n",
              "      <td>0</td>\n",
              "      <td>0</td>\n",
              "      <td>0</td>\n",
              "    </tr>\n",
              "    <tr>\n",
              "      <th>...</th>\n",
              "      <td>...</td>\n",
              "      <td>...</td>\n",
              "      <td>...</td>\n",
              "      <td>...</td>\n",
              "      <td>...</td>\n",
              "      <td>...</td>\n",
              "      <td>...</td>\n",
              "      <td>...</td>\n",
              "      <td>...</td>\n",
              "      <td>...</td>\n",
              "      <td>...</td>\n",
              "      <td>...</td>\n",
              "      <td>...</td>\n",
              "      <td>...</td>\n",
              "      <td>...</td>\n",
              "      <td>...</td>\n",
              "      <td>...</td>\n",
              "      <td>...</td>\n",
              "      <td>...</td>\n",
              "      <td>...</td>\n",
              "    </tr>\n",
              "    <tr>\n",
              "      <th>7852615</th>\n",
              "      <td>9479</td>\n",
              "      <td>8547</td>\n",
              "      <td>2175-02-10 12:00:00</td>\n",
              "      <td>ABP Alarm [High]</td>\n",
              "      <td>NaN</td>\n",
              "      <td>160.0</td>\n",
              "      <td>160.0</td>\n",
              "      <td>mmHg</td>\n",
              "      <td>1</td>\n",
              "      <td>0</td>\n",
              "      <td>0</td>\n",
              "      <td>0</td>\n",
              "      <td>0</td>\n",
              "      <td>0</td>\n",
              "      <td>0</td>\n",
              "      <td>0</td>\n",
              "      <td>0</td>\n",
              "      <td>0</td>\n",
              "      <td>1</td>\n",
              "      <td>0</td>\n",
              "    </tr>\n",
              "    <tr>\n",
              "      <th>7852616</th>\n",
              "      <td>9479</td>\n",
              "      <td>8554</td>\n",
              "      <td>2175-02-10 12:00:00</td>\n",
              "      <td>SpO2 Alarm [High]</td>\n",
              "      <td>NaN</td>\n",
              "      <td>100.0</td>\n",
              "      <td>100.0</td>\n",
              "      <td>%</td>\n",
              "      <td>0</td>\n",
              "      <td>0</td>\n",
              "      <td>0</td>\n",
              "      <td>0</td>\n",
              "      <td>0</td>\n",
              "      <td>0</td>\n",
              "      <td>0</td>\n",
              "      <td>0</td>\n",
              "      <td>1</td>\n",
              "      <td>0</td>\n",
              "      <td>0</td>\n",
              "      <td>0</td>\n",
              "    </tr>\n",
              "    <tr>\n",
              "      <th>7852617</th>\n",
              "      <td>9479</td>\n",
              "      <td>5819</td>\n",
              "      <td>2175-02-11 04:00:00</td>\n",
              "      <td>Resp Alarm [Low]</td>\n",
              "      <td>NaN</td>\n",
              "      <td>8.0</td>\n",
              "      <td>8.0</td>\n",
              "      <td>BPM</td>\n",
              "      <td>0</td>\n",
              "      <td>0</td>\n",
              "      <td>0</td>\n",
              "      <td>0</td>\n",
              "      <td>0</td>\n",
              "      <td>0</td>\n",
              "      <td>0</td>\n",
              "      <td>1</td>\n",
              "      <td>0</td>\n",
              "      <td>0</td>\n",
              "      <td>0</td>\n",
              "      <td>0</td>\n",
              "    </tr>\n",
              "    <tr>\n",
              "      <th>7852618</th>\n",
              "      <td>9479</td>\n",
              "      <td>8554</td>\n",
              "      <td>2175-02-10 20:00:00</td>\n",
              "      <td>SpO2 Alarm [High]</td>\n",
              "      <td>NaN</td>\n",
              "      <td>100.0</td>\n",
              "      <td>100.0</td>\n",
              "      <td>%</td>\n",
              "      <td>0</td>\n",
              "      <td>0</td>\n",
              "      <td>0</td>\n",
              "      <td>0</td>\n",
              "      <td>0</td>\n",
              "      <td>0</td>\n",
              "      <td>0</td>\n",
              "      <td>0</td>\n",
              "      <td>1</td>\n",
              "      <td>0</td>\n",
              "      <td>0</td>\n",
              "      <td>0</td>\n",
              "    </tr>\n",
              "    <tr>\n",
              "      <th>7852619</th>\n",
              "      <td>9479</td>\n",
              "      <td>5815</td>\n",
              "      <td>2175-02-10 20:00:00</td>\n",
              "      <td>HR Alarm [Low]</td>\n",
              "      <td>NaN</td>\n",
              "      <td>60.0</td>\n",
              "      <td>60.0</td>\n",
              "      <td>BPM</td>\n",
              "      <td>0</td>\n",
              "      <td>0</td>\n",
              "      <td>0</td>\n",
              "      <td>1</td>\n",
              "      <td>0</td>\n",
              "      <td>0</td>\n",
              "      <td>0</td>\n",
              "      <td>0</td>\n",
              "      <td>0</td>\n",
              "      <td>0</td>\n",
              "      <td>0</td>\n",
              "      <td>0</td>\n",
              "    </tr>\n",
              "  </tbody>\n",
              "</table>\n",
              "<p>7852620 rows × 20 columns</p>\n",
              "</div>"
            ],
            "text/plain": [
              "         subject_id  itemid  ... BP Alarm [High] BP Alarm [Low]\n",
              "0              9518    8553  ...               0              0\n",
              "1              9518    5819  ...               0              0\n",
              "2              9518    5820  ...               0              0\n",
              "3              9518    8553  ...               0              0\n",
              "4              9518    5815  ...               0              0\n",
              "...             ...     ...  ...             ...            ...\n",
              "7852615        9479    8547  ...               1              0\n",
              "7852616        9479    8554  ...               0              0\n",
              "7852617        9479    5819  ...               0              0\n",
              "7852618        9479    8554  ...               0              0\n",
              "7852619        9479    5815  ...               0              0\n",
              "\n",
              "[7852620 rows x 20 columns]"
            ]
          },
          "metadata": {
            "tags": []
          },
          "execution_count": 35
        }
      ]
    },
    {
      "cell_type": "code",
      "metadata": {
        "id": "0SM4rqCuQI4U"
      },
      "source": [
        "chartevents_test.to_csv(\"/content/drive/My Drive/DS5500 Applications in Data Science/Project/MIMIC_Survival_Analysis/chartevents_test.csv\")"
      ],
      "execution_count": null,
      "outputs": []
    },
    {
      "cell_type": "markdown",
      "metadata": {
        "id": "kOXuxN1iel9a"
      },
      "source": [
        "# Split datasets for eda"
      ]
    },
    {
      "cell_type": "code",
      "metadata": {
        "id": "ukJ3_f3QZBs2"
      },
      "source": [
        "hr_alarm = chartevents[['subject_id', 'itemid', 'charttime', 'label', 'category','value', 'valuenum', 'valueuom', 'HR Alarm [High]', 'HR Alarm [Low]']]\n",
        "hr = ['HR Alarm [High]', 'HR Alarm [Low]']\n",
        "hr_alarm = hr_alarm[hr_alarm.label.isin(hr)]\n",
        "\n",
        "abp_alarm = chartevents[['subject_id', 'itemid', 'charttime', 'label', 'category','value', 'valuenum', 'valueuom', 'ABP Alarm [High]', 'ABP Alarm [Low]']]\n",
        "abp = ['ABP Alarm [High]', 'ABP Alarm [Low]']\n",
        "abp_alarm = abp_alarm[abp_alarm.label.isin(abp)]\n",
        "\n",
        "nbp_alarm = chartevents[['subject_id', 'itemid', 'charttime', 'label', 'category','value', 'valuenum', 'valueuom', 'ABP Alarm [High]', 'NBP Alarm [Low]']]\n",
        "nbp = ['NBP Alarm [High]', 'NBP Alarm [Low]']\n",
        "nbp_alarm = nbp_alarm[nbp_alarm.label.isin(nbp)]\n",
        "\n",
        "resp_alarm = chartevents[['subject_id', 'itemid', 'charttime', 'label', 'category','value', 'valuenum', 'valueuom', 'Resp Alarm [High]', 'Resp Alarm [Low]']]\n",
        "resp = ['Resp Alarm [High]', 'Resp Alarm [Low]']\n",
        "resp_alarm = resp_alarm[resp_alarm.label.isin(resp)]\n",
        "\n",
        "spO2_alarm = chartevents[['subject_id', 'itemid', 'charttime', 'label', 'category','value', 'valuenum', 'valueuom', 'SpO2 Alarm [High]', 'SpO2 Alarm [Low]']]\n",
        "spO2 = ['SpO2 Alarm [High]', 'SpO2 Alarm [Low]']\n",
        "spO2_alarm = spO2_alarm[spO2_alarm.label.isin(spO2)]"
      ],
      "execution_count": null,
      "outputs": []
    },
    {
      "cell_type": "code",
      "metadata": {
        "id": "goG2Erqic0Ry"
      },
      "source": [
        "hr_alarm.to_csv(\"/content/drive/My Drive/DS5500 Applications in Data Science/Project/MIMIC_Survival_Analysis/hr_alarm.csv\", index = False)\n",
        "abp_alarm.to_csv(\"/content/drive/My Drive/DS5500 Applications in Data Science/Project/MIMIC_Survival_Analysis/abp_alarm.csv\", index = False)\n",
        "nbp_alarm.to_csv(\"/content/drive/My Drive/DS5500 Applications in Data Science/Project/MIMIC_Survival_Analysis/nbp_alarm.csv\", index = False)\n",
        "resp_alarm.to_csv(\"/content/drive/My Drive/DS5500 Applications in Data Science/Project/MIMIC_Survival_Analysis/resp_alarm.csv\", index = False)\n",
        "spO2_alarm.to_csv(\"/content/drive/My Drive/DS5500 Applications in Data Science/Project/MIMIC_Survival_Analysis/spO2_alarm.csv\", index = False)"
      ],
      "execution_count": null,
      "outputs": []
    },
    {
      "cell_type": "markdown",
      "metadata": {
        "id": "-Hvk2axghm9H"
      },
      "source": [
        "# EDA"
      ]
    },
    {
      "cell_type": "code",
      "metadata": {
        "id": "C_JXBqeXJp70"
      },
      "source": [
        "import matplotlib.pyplot as plt\n",
        "import pandas as pd\n",
        "import numpy as np\n",
        "import seaborn as sns\n",
        "from collections import Counter\n",
        "import os"
      ],
      "execution_count": null,
      "outputs": []
    },
    {
      "cell_type": "code",
      "metadata": {
        "colab": {
          "base_uri": "https://localhost:8080/"
        },
        "id": "hmCfQod8Jx_r",
        "outputId": "3a994cea-7d44-4838-c15d-dff501b11b4b"
      },
      "source": [
        "from google.colab import drive\n",
        "drive.mount('/content/drive')"
      ],
      "execution_count": null,
      "outputs": [
        {
          "output_type": "stream",
          "text": [
            "Drive already mounted at /content/drive; to attempt to forcibly remount, call drive.mount(\"/content/drive\", force_remount=True).\n"
          ],
          "name": "stdout"
        }
      ]
    },
    {
      "cell_type": "code",
      "metadata": {
        "colab": {
          "base_uri": "https://localhost:8080/"
        },
        "id": "JxiWl1b8Juoc",
        "outputId": "a2a41c5a-29bf-4278-e47f-d45bfc131131"
      },
      "source": [
        "import os\n",
        "!pwd\n",
        "!ls\n",
        "os.chdir(\"/content/drive/My Drive/DS5500 Applications in Data Science/Project/MIMIC_Survival_Analysis\")"
      ],
      "execution_count": null,
      "outputs": [
        {
          "output_type": "stream",
          "text": [
            "/content\n",
            "drive  sample_data\n"
          ],
          "name": "stdout"
        }
      ]
    },
    {
      "cell_type": "code",
      "metadata": {
        "id": "_L9NjhLxPE5m"
      },
      "source": [
        "# hr_alarm = pd.read_csv('hr_alarm.csv')\n",
        "# abp_alarm = pd.read_csv('abp_alarm.csv')\n",
        "# nbp_alarm = pd.read_csv('nbp_alarm.csv')\n",
        "# resp_alarm = pd.read_csv('resp_alarm.csv')\n",
        "spO2_alarm = pd.read_csv('spO2_alarm.csv')"
      ],
      "execution_count": null,
      "outputs": []
    },
    {
      "cell_type": "code",
      "metadata": {
        "id": "rsFqQg3yvVXD"
      },
      "source": [
        "static_train_data = pd.read_csv('static_train_data.csv')\n",
        "static_val_data = pd.read_csv('static_val_data.csv')\n",
        "static_test_data = pd.read_csv('static_test_data.csv')"
      ],
      "execution_count": null,
      "outputs": []
    },
    {
      "cell_type": "code",
      "metadata": {
        "id": "31JN8QPIST5P"
      },
      "source": [
        "# hr_alarm['valuenum'] = hr_alarm['valuenum'].replace(np.nan, 0)\r\n",
        "# abp_alarm['valuenum'] = abp_alarm['valuenum'].replace(np.nan, 0)\r\n",
        "# nbp_alarm['valuenum'] = nbp_alarm['valuenum'].replace(np.nan, 0)\r\n",
        "# resp_alarm['valuenum'] = resp_alarm['valuenum'].replace(np.nan, 0)\r\n",
        "spO2_alarm['valuenum'] = spO2_alarm['valuenum'].replace(np.nan, 0)"
      ],
      "execution_count": null,
      "outputs": []
    },
    {
      "cell_type": "code",
      "metadata": {
        "id": "VPS1hN7ofvjv"
      },
      "source": [
        "# hr_alarm_train = hr_alarm.merge(static_train_data, how = 'inner')\n",
        "# abp_alarm_train = abp_alarm.merge(static_train_data, how = 'inner')\n",
        "# nbp_alarm_train = nbp_alarm.merge(static_train_data, how = 'inner')\n",
        "# resp_alarm_train = resp_alarm.merge(static_train_data, how = 'inner')\n",
        "spO2_alarm_train = spO2_alarm.merge(static_train_data, how = 'inner')"
      ],
      "execution_count": null,
      "outputs": []
    },
    {
      "cell_type": "markdown",
      "metadata": {
        "id": "fIrvqedUSctD"
      },
      "source": [
        "# Heart Rate"
      ]
    },
    {
      "cell_type": "code",
      "metadata": {
        "colab": {
          "base_uri": "https://localhost:8080/",
          "height": 793
        },
        "id": "L8tZ15r-hqTM",
        "outputId": "3b9622b3-7022-45de-bc0d-2ba1bb9d3d14"
      },
      "source": [
        "hr_alarm_train"
      ],
      "execution_count": null,
      "outputs": [
        {
          "output_type": "execute_result",
          "data": {
            "text/html": [
              "<div>\n",
              "<style scoped>\n",
              "    .dataframe tbody tr th:only-of-type {\n",
              "        vertical-align: middle;\n",
              "    }\n",
              "\n",
              "    .dataframe tbody tr th {\n",
              "        vertical-align: top;\n",
              "    }\n",
              "\n",
              "    .dataframe thead th {\n",
              "        text-align: right;\n",
              "    }\n",
              "</style>\n",
              "<table border=\"1\" class=\"dataframe\">\n",
              "  <thead>\n",
              "    <tr style=\"text-align: right;\">\n",
              "      <th></th>\n",
              "      <th>subject_id</th>\n",
              "      <th>itemid</th>\n",
              "      <th>charttime</th>\n",
              "      <th>label</th>\n",
              "      <th>category</th>\n",
              "      <th>value</th>\n",
              "      <th>valuenum</th>\n",
              "      <th>valueuom</th>\n",
              "      <th>HR Alarm [High]</th>\n",
              "      <th>HR Alarm [Low]</th>\n",
              "      <th>Unnamed: 0</th>\n",
              "      <th>hadm_id</th>\n",
              "      <th>icustay_id</th>\n",
              "      <th>anytime_expire_flag</th>\n",
              "      <th>hospital_expire_flag</th>\n",
              "      <th>icu_expire_flag</th>\n",
              "      <th>time_of_death</th>\n",
              "      <th>time_until_death</th>\n",
              "      <th>hours_until_death</th>\n",
              "      <th>days_until_death</th>\n",
              "      <th>admittime</th>\n",
              "      <th>dischtime</th>\n",
              "      <th>intime</th>\n",
              "      <th>outtime</th>\n",
              "      <th>time_until_hospital_exit</th>\n",
              "      <th>days_until_hospital_exit</th>\n",
              "      <th>admission_time_until_icu</th>\n",
              "      <th>hours_until_icu_admission</th>\n",
              "      <th>time_until_leave_ICU</th>\n",
              "      <th>hours_until_leave_ICU</th>\n",
              "      <th>icu_admit_age</th>\n",
              "      <th>female</th>\n",
              "      <th>dbsource</th>\n",
              "      <th>first_careunit</th>\n",
              "      <th>admission_type</th>\n",
              "      <th>marital_status</th>\n",
              "      <th>insurance</th>\n",
              "      <th>icd_blood</th>\n",
              "      <th>icd_circulatory</th>\n",
              "      <th>icd_congenital</th>\n",
              "      <th>icd_digestive</th>\n",
              "      <th>icd_endocrine</th>\n",
              "      <th>icd_genitourinary</th>\n",
              "      <th>icd_infectious</th>\n",
              "      <th>icd_injury</th>\n",
              "      <th>icd_mental</th>\n",
              "      <th>icd_misc</th>\n",
              "      <th>icd_muscular</th>\n",
              "      <th>icd_neoplasms</th>\n",
              "      <th>icd_nervous</th>\n",
              "      <th>icd_pregnancy</th>\n",
              "      <th>icd_prenatal</th>\n",
              "      <th>icd_respiratory</th>\n",
              "      <th>icd_skin</th>\n",
              "      <th>diagnosis</th>\n",
              "      <th>cardio</th>\n",
              "      <th>infection</th>\n",
              "      <th>brain</th>\n",
              "      <th>mental</th>\n",
              "      <th>gastro</th>\n",
              "      <th>trauma</th>\n",
              "      <th>respiratory</th>\n",
              "      <th>organ</th>\n",
              "      <th>blood</th>\n",
              "      <th>acute</th>\n",
              "      <th>failure</th>\n",
              "      <th>cancer</th>\n",
              "      <th>back</th>\n",
              "      <th>bone</th>\n",
              "      <th>pain</th>\n",
              "      <th>other</th>\n",
              "      <th>totalcats</th>\n",
              "    </tr>\n",
              "  </thead>\n",
              "  <tbody>\n",
              "    <tr>\n",
              "      <th>0</th>\n",
              "      <td>27661</td>\n",
              "      <td>5815</td>\n",
              "      <td>2129-10-10 11:30:00</td>\n",
              "      <td>HR Alarm [Low]</td>\n",
              "      <td>NaN</td>\n",
              "      <td>60.0</td>\n",
              "      <td>60.0</td>\n",
              "      <td>BPM</td>\n",
              "      <td>0</td>\n",
              "      <td>1</td>\n",
              "      <td>16832</td>\n",
              "      <td>105721</td>\n",
              "      <td>279028</td>\n",
              "      <td>1</td>\n",
              "      <td>0</td>\n",
              "      <td>0</td>\n",
              "      <td>2130-06-13 00:00:00</td>\n",
              "      <td>368 days 03:59:03</td>\n",
              "      <td>8835.0</td>\n",
              "      <td>368.0</td>\n",
              "      <td>2129-06-09 20:00:00</td>\n",
              "      <td>2129-06-15 16:20:00</td>\n",
              "      <td>2129-06-09 20:00:57</td>\n",
              "      <td>2129-06-15 16:45:34</td>\n",
              "      <td>5 days 20:19:03</td>\n",
              "      <td>5.0</td>\n",
              "      <td>0 days 00:00:57</td>\n",
              "      <td>0.0</td>\n",
              "      <td>5 days 20:44:37</td>\n",
              "      <td>140.0</td>\n",
              "      <td>79</td>\n",
              "      <td>0</td>\n",
              "      <td>carevue</td>\n",
              "      <td>MICU</td>\n",
              "      <td>EMERGENCY</td>\n",
              "      <td>MARRIED</td>\n",
              "      <td>Private</td>\n",
              "      <td>0.0</td>\n",
              "      <td>2.0</td>\n",
              "      <td>0.0</td>\n",
              "      <td>0.0</td>\n",
              "      <td>4.0</td>\n",
              "      <td>1.0</td>\n",
              "      <td>1.0</td>\n",
              "      <td>2.0</td>\n",
              "      <td>0.0</td>\n",
              "      <td>0.0</td>\n",
              "      <td>0.0</td>\n",
              "      <td>0.0</td>\n",
              "      <td>1.0</td>\n",
              "      <td>0.0</td>\n",
              "      <td>0.0</td>\n",
              "      <td>2.0</td>\n",
              "      <td>0.0</td>\n",
              "      <td>ALTERED MENTAL STATUS</td>\n",
              "      <td>0</td>\n",
              "      <td>0</td>\n",
              "      <td>0</td>\n",
              "      <td>1</td>\n",
              "      <td>0</td>\n",
              "      <td>0</td>\n",
              "      <td>0</td>\n",
              "      <td>0</td>\n",
              "      <td>0</td>\n",
              "      <td>0</td>\n",
              "      <td>0</td>\n",
              "      <td>0</td>\n",
              "      <td>0</td>\n",
              "      <td>0</td>\n",
              "      <td>0</td>\n",
              "      <td>0</td>\n",
              "      <td>1</td>\n",
              "    </tr>\n",
              "    <tr>\n",
              "      <th>1</th>\n",
              "      <td>27661</td>\n",
              "      <td>5815</td>\n",
              "      <td>2129-09-21 08:00:00</td>\n",
              "      <td>HR Alarm [Low]</td>\n",
              "      <td>NaN</td>\n",
              "      <td>60.0</td>\n",
              "      <td>60.0</td>\n",
              "      <td>BPM</td>\n",
              "      <td>0</td>\n",
              "      <td>1</td>\n",
              "      <td>16832</td>\n",
              "      <td>105721</td>\n",
              "      <td>279028</td>\n",
              "      <td>1</td>\n",
              "      <td>0</td>\n",
              "      <td>0</td>\n",
              "      <td>2130-06-13 00:00:00</td>\n",
              "      <td>368 days 03:59:03</td>\n",
              "      <td>8835.0</td>\n",
              "      <td>368.0</td>\n",
              "      <td>2129-06-09 20:00:00</td>\n",
              "      <td>2129-06-15 16:20:00</td>\n",
              "      <td>2129-06-09 20:00:57</td>\n",
              "      <td>2129-06-15 16:45:34</td>\n",
              "      <td>5 days 20:19:03</td>\n",
              "      <td>5.0</td>\n",
              "      <td>0 days 00:00:57</td>\n",
              "      <td>0.0</td>\n",
              "      <td>5 days 20:44:37</td>\n",
              "      <td>140.0</td>\n",
              "      <td>79</td>\n",
              "      <td>0</td>\n",
              "      <td>carevue</td>\n",
              "      <td>MICU</td>\n",
              "      <td>EMERGENCY</td>\n",
              "      <td>MARRIED</td>\n",
              "      <td>Private</td>\n",
              "      <td>0.0</td>\n",
              "      <td>2.0</td>\n",
              "      <td>0.0</td>\n",
              "      <td>0.0</td>\n",
              "      <td>4.0</td>\n",
              "      <td>1.0</td>\n",
              "      <td>1.0</td>\n",
              "      <td>2.0</td>\n",
              "      <td>0.0</td>\n",
              "      <td>0.0</td>\n",
              "      <td>0.0</td>\n",
              "      <td>0.0</td>\n",
              "      <td>1.0</td>\n",
              "      <td>0.0</td>\n",
              "      <td>0.0</td>\n",
              "      <td>2.0</td>\n",
              "      <td>0.0</td>\n",
              "      <td>ALTERED MENTAL STATUS</td>\n",
              "      <td>0</td>\n",
              "      <td>0</td>\n",
              "      <td>0</td>\n",
              "      <td>1</td>\n",
              "      <td>0</td>\n",
              "      <td>0</td>\n",
              "      <td>0</td>\n",
              "      <td>0</td>\n",
              "      <td>0</td>\n",
              "      <td>0</td>\n",
              "      <td>0</td>\n",
              "      <td>0</td>\n",
              "      <td>0</td>\n",
              "      <td>0</td>\n",
              "      <td>0</td>\n",
              "      <td>0</td>\n",
              "      <td>1</td>\n",
              "    </tr>\n",
              "    <tr>\n",
              "      <th>2</th>\n",
              "      <td>27661</td>\n",
              "      <td>5815</td>\n",
              "      <td>2129-07-26 08:00:00</td>\n",
              "      <td>HR Alarm [Low]</td>\n",
              "      <td>NaN</td>\n",
              "      <td>60.0</td>\n",
              "      <td>60.0</td>\n",
              "      <td>BPM</td>\n",
              "      <td>0</td>\n",
              "      <td>1</td>\n",
              "      <td>16832</td>\n",
              "      <td>105721</td>\n",
              "      <td>279028</td>\n",
              "      <td>1</td>\n",
              "      <td>0</td>\n",
              "      <td>0</td>\n",
              "      <td>2130-06-13 00:00:00</td>\n",
              "      <td>368 days 03:59:03</td>\n",
              "      <td>8835.0</td>\n",
              "      <td>368.0</td>\n",
              "      <td>2129-06-09 20:00:00</td>\n",
              "      <td>2129-06-15 16:20:00</td>\n",
              "      <td>2129-06-09 20:00:57</td>\n",
              "      <td>2129-06-15 16:45:34</td>\n",
              "      <td>5 days 20:19:03</td>\n",
              "      <td>5.0</td>\n",
              "      <td>0 days 00:00:57</td>\n",
              "      <td>0.0</td>\n",
              "      <td>5 days 20:44:37</td>\n",
              "      <td>140.0</td>\n",
              "      <td>79</td>\n",
              "      <td>0</td>\n",
              "      <td>carevue</td>\n",
              "      <td>MICU</td>\n",
              "      <td>EMERGENCY</td>\n",
              "      <td>MARRIED</td>\n",
              "      <td>Private</td>\n",
              "      <td>0.0</td>\n",
              "      <td>2.0</td>\n",
              "      <td>0.0</td>\n",
              "      <td>0.0</td>\n",
              "      <td>4.0</td>\n",
              "      <td>1.0</td>\n",
              "      <td>1.0</td>\n",
              "      <td>2.0</td>\n",
              "      <td>0.0</td>\n",
              "      <td>0.0</td>\n",
              "      <td>0.0</td>\n",
              "      <td>0.0</td>\n",
              "      <td>1.0</td>\n",
              "      <td>0.0</td>\n",
              "      <td>0.0</td>\n",
              "      <td>2.0</td>\n",
              "      <td>0.0</td>\n",
              "      <td>ALTERED MENTAL STATUS</td>\n",
              "      <td>0</td>\n",
              "      <td>0</td>\n",
              "      <td>0</td>\n",
              "      <td>1</td>\n",
              "      <td>0</td>\n",
              "      <td>0</td>\n",
              "      <td>0</td>\n",
              "      <td>0</td>\n",
              "      <td>0</td>\n",
              "      <td>0</td>\n",
              "      <td>0</td>\n",
              "      <td>0</td>\n",
              "      <td>0</td>\n",
              "      <td>0</td>\n",
              "      <td>0</td>\n",
              "      <td>0</td>\n",
              "      <td>1</td>\n",
              "    </tr>\n",
              "    <tr>\n",
              "      <th>3</th>\n",
              "      <td>27661</td>\n",
              "      <td>8549</td>\n",
              "      <td>2129-10-02 02:00:00</td>\n",
              "      <td>HR Alarm [High]</td>\n",
              "      <td>NaN</td>\n",
              "      <td>120.0</td>\n",
              "      <td>120.0</td>\n",
              "      <td>BPM</td>\n",
              "      <td>1</td>\n",
              "      <td>0</td>\n",
              "      <td>16832</td>\n",
              "      <td>105721</td>\n",
              "      <td>279028</td>\n",
              "      <td>1</td>\n",
              "      <td>0</td>\n",
              "      <td>0</td>\n",
              "      <td>2130-06-13 00:00:00</td>\n",
              "      <td>368 days 03:59:03</td>\n",
              "      <td>8835.0</td>\n",
              "      <td>368.0</td>\n",
              "      <td>2129-06-09 20:00:00</td>\n",
              "      <td>2129-06-15 16:20:00</td>\n",
              "      <td>2129-06-09 20:00:57</td>\n",
              "      <td>2129-06-15 16:45:34</td>\n",
              "      <td>5 days 20:19:03</td>\n",
              "      <td>5.0</td>\n",
              "      <td>0 days 00:00:57</td>\n",
              "      <td>0.0</td>\n",
              "      <td>5 days 20:44:37</td>\n",
              "      <td>140.0</td>\n",
              "      <td>79</td>\n",
              "      <td>0</td>\n",
              "      <td>carevue</td>\n",
              "      <td>MICU</td>\n",
              "      <td>EMERGENCY</td>\n",
              "      <td>MARRIED</td>\n",
              "      <td>Private</td>\n",
              "      <td>0.0</td>\n",
              "      <td>2.0</td>\n",
              "      <td>0.0</td>\n",
              "      <td>0.0</td>\n",
              "      <td>4.0</td>\n",
              "      <td>1.0</td>\n",
              "      <td>1.0</td>\n",
              "      <td>2.0</td>\n",
              "      <td>0.0</td>\n",
              "      <td>0.0</td>\n",
              "      <td>0.0</td>\n",
              "      <td>0.0</td>\n",
              "      <td>1.0</td>\n",
              "      <td>0.0</td>\n",
              "      <td>0.0</td>\n",
              "      <td>2.0</td>\n",
              "      <td>0.0</td>\n",
              "      <td>ALTERED MENTAL STATUS</td>\n",
              "      <td>0</td>\n",
              "      <td>0</td>\n",
              "      <td>0</td>\n",
              "      <td>1</td>\n",
              "      <td>0</td>\n",
              "      <td>0</td>\n",
              "      <td>0</td>\n",
              "      <td>0</td>\n",
              "      <td>0</td>\n",
              "      <td>0</td>\n",
              "      <td>0</td>\n",
              "      <td>0</td>\n",
              "      <td>0</td>\n",
              "      <td>0</td>\n",
              "      <td>0</td>\n",
              "      <td>0</td>\n",
              "      <td>1</td>\n",
              "    </tr>\n",
              "    <tr>\n",
              "      <th>4</th>\n",
              "      <td>27661</td>\n",
              "      <td>8549</td>\n",
              "      <td>2129-10-02 09:00:00</td>\n",
              "      <td>HR Alarm [High]</td>\n",
              "      <td>NaN</td>\n",
              "      <td>120.0</td>\n",
              "      <td>120.0</td>\n",
              "      <td>BPM</td>\n",
              "      <td>1</td>\n",
              "      <td>0</td>\n",
              "      <td>16832</td>\n",
              "      <td>105721</td>\n",
              "      <td>279028</td>\n",
              "      <td>1</td>\n",
              "      <td>0</td>\n",
              "      <td>0</td>\n",
              "      <td>2130-06-13 00:00:00</td>\n",
              "      <td>368 days 03:59:03</td>\n",
              "      <td>8835.0</td>\n",
              "      <td>368.0</td>\n",
              "      <td>2129-06-09 20:00:00</td>\n",
              "      <td>2129-06-15 16:20:00</td>\n",
              "      <td>2129-06-09 20:00:57</td>\n",
              "      <td>2129-06-15 16:45:34</td>\n",
              "      <td>5 days 20:19:03</td>\n",
              "      <td>5.0</td>\n",
              "      <td>0 days 00:00:57</td>\n",
              "      <td>0.0</td>\n",
              "      <td>5 days 20:44:37</td>\n",
              "      <td>140.0</td>\n",
              "      <td>79</td>\n",
              "      <td>0</td>\n",
              "      <td>carevue</td>\n",
              "      <td>MICU</td>\n",
              "      <td>EMERGENCY</td>\n",
              "      <td>MARRIED</td>\n",
              "      <td>Private</td>\n",
              "      <td>0.0</td>\n",
              "      <td>2.0</td>\n",
              "      <td>0.0</td>\n",
              "      <td>0.0</td>\n",
              "      <td>4.0</td>\n",
              "      <td>1.0</td>\n",
              "      <td>1.0</td>\n",
              "      <td>2.0</td>\n",
              "      <td>0.0</td>\n",
              "      <td>0.0</td>\n",
              "      <td>0.0</td>\n",
              "      <td>0.0</td>\n",
              "      <td>1.0</td>\n",
              "      <td>0.0</td>\n",
              "      <td>0.0</td>\n",
              "      <td>2.0</td>\n",
              "      <td>0.0</td>\n",
              "      <td>ALTERED MENTAL STATUS</td>\n",
              "      <td>0</td>\n",
              "      <td>0</td>\n",
              "      <td>0</td>\n",
              "      <td>1</td>\n",
              "      <td>0</td>\n",
              "      <td>0</td>\n",
              "      <td>0</td>\n",
              "      <td>0</td>\n",
              "      <td>0</td>\n",
              "      <td>0</td>\n",
              "      <td>0</td>\n",
              "      <td>0</td>\n",
              "      <td>0</td>\n",
              "      <td>0</td>\n",
              "      <td>0</td>\n",
              "      <td>0</td>\n",
              "      <td>1</td>\n",
              "    </tr>\n",
              "    <tr>\n",
              "      <th>...</th>\n",
              "      <td>...</td>\n",
              "      <td>...</td>\n",
              "      <td>...</td>\n",
              "      <td>...</td>\n",
              "      <td>...</td>\n",
              "      <td>...</td>\n",
              "      <td>...</td>\n",
              "      <td>...</td>\n",
              "      <td>...</td>\n",
              "      <td>...</td>\n",
              "      <td>...</td>\n",
              "      <td>...</td>\n",
              "      <td>...</td>\n",
              "      <td>...</td>\n",
              "      <td>...</td>\n",
              "      <td>...</td>\n",
              "      <td>...</td>\n",
              "      <td>...</td>\n",
              "      <td>...</td>\n",
              "      <td>...</td>\n",
              "      <td>...</td>\n",
              "      <td>...</td>\n",
              "      <td>...</td>\n",
              "      <td>...</td>\n",
              "      <td>...</td>\n",
              "      <td>...</td>\n",
              "      <td>...</td>\n",
              "      <td>...</td>\n",
              "      <td>...</td>\n",
              "      <td>...</td>\n",
              "      <td>...</td>\n",
              "      <td>...</td>\n",
              "      <td>...</td>\n",
              "      <td>...</td>\n",
              "      <td>...</td>\n",
              "      <td>...</td>\n",
              "      <td>...</td>\n",
              "      <td>...</td>\n",
              "      <td>...</td>\n",
              "      <td>...</td>\n",
              "      <td>...</td>\n",
              "      <td>...</td>\n",
              "      <td>...</td>\n",
              "      <td>...</td>\n",
              "      <td>...</td>\n",
              "      <td>...</td>\n",
              "      <td>...</td>\n",
              "      <td>...</td>\n",
              "      <td>...</td>\n",
              "      <td>...</td>\n",
              "      <td>...</td>\n",
              "      <td>...</td>\n",
              "      <td>...</td>\n",
              "      <td>...</td>\n",
              "      <td>...</td>\n",
              "      <td>...</td>\n",
              "      <td>...</td>\n",
              "      <td>...</td>\n",
              "      <td>...</td>\n",
              "      <td>...</td>\n",
              "      <td>...</td>\n",
              "      <td>...</td>\n",
              "      <td>...</td>\n",
              "      <td>...</td>\n",
              "      <td>...</td>\n",
              "      <td>...</td>\n",
              "      <td>...</td>\n",
              "      <td>...</td>\n",
              "      <td>...</td>\n",
              "      <td>...</td>\n",
              "      <td>...</td>\n",
              "      <td>...</td>\n",
              "    </tr>\n",
              "    <tr>\n",
              "      <th>5072767</th>\n",
              "      <td>22780</td>\n",
              "      <td>5815</td>\n",
              "      <td>2128-03-29 00:00:00</td>\n",
              "      <td>HR Alarm [Low]</td>\n",
              "      <td>NaN</td>\n",
              "      <td>50.0</td>\n",
              "      <td>50.0</td>\n",
              "      <td>BPM</td>\n",
              "      <td>0</td>\n",
              "      <td>1</td>\n",
              "      <td>19583</td>\n",
              "      <td>138174</td>\n",
              "      <td>231212</td>\n",
              "      <td>1</td>\n",
              "      <td>0</td>\n",
              "      <td>0</td>\n",
              "      <td>2129-10-24 00:00:00</td>\n",
              "      <td>581 days 02:11:41</td>\n",
              "      <td>13946.0</td>\n",
              "      <td>581.0</td>\n",
              "      <td>2128-03-19 21:25:00</td>\n",
              "      <td>2128-04-09 16:00:00</td>\n",
              "      <td>2128-03-21 21:48:19</td>\n",
              "      <td>2128-04-03 15:17:44</td>\n",
              "      <td>18 days 18:11:41</td>\n",
              "      <td>18.0</td>\n",
              "      <td>2 days 00:23:19</td>\n",
              "      <td>48.0</td>\n",
              "      <td>12 days 17:29:25</td>\n",
              "      <td>305.0</td>\n",
              "      <td>78</td>\n",
              "      <td>0</td>\n",
              "      <td>carevue</td>\n",
              "      <td>SICU</td>\n",
              "      <td>EMERGENCY</td>\n",
              "      <td>SINGLE</td>\n",
              "      <td>Medicare</td>\n",
              "      <td>1.0</td>\n",
              "      <td>8.0</td>\n",
              "      <td>0.0</td>\n",
              "      <td>1.0</td>\n",
              "      <td>1.0</td>\n",
              "      <td>1.0</td>\n",
              "      <td>0.0</td>\n",
              "      <td>7.0</td>\n",
              "      <td>0.0</td>\n",
              "      <td>1.0</td>\n",
              "      <td>0.0</td>\n",
              "      <td>0.0</td>\n",
              "      <td>0.0</td>\n",
              "      <td>0.0</td>\n",
              "      <td>0.0</td>\n",
              "      <td>2.0</td>\n",
              "      <td>0.0</td>\n",
              "      <td>RT LEG ARTERIAL OCCLUSION</td>\n",
              "      <td>0</td>\n",
              "      <td>0</td>\n",
              "      <td>0</td>\n",
              "      <td>0</td>\n",
              "      <td>0</td>\n",
              "      <td>0</td>\n",
              "      <td>0</td>\n",
              "      <td>0</td>\n",
              "      <td>0</td>\n",
              "      <td>0</td>\n",
              "      <td>0</td>\n",
              "      <td>0</td>\n",
              "      <td>0</td>\n",
              "      <td>0</td>\n",
              "      <td>0</td>\n",
              "      <td>1</td>\n",
              "      <td>0</td>\n",
              "    </tr>\n",
              "    <tr>\n",
              "      <th>5072768</th>\n",
              "      <td>22780</td>\n",
              "      <td>5815</td>\n",
              "      <td>2128-03-24 00:00:00</td>\n",
              "      <td>HR Alarm [Low]</td>\n",
              "      <td>NaN</td>\n",
              "      <td>50.0</td>\n",
              "      <td>50.0</td>\n",
              "      <td>BPM</td>\n",
              "      <td>0</td>\n",
              "      <td>1</td>\n",
              "      <td>19583</td>\n",
              "      <td>138174</td>\n",
              "      <td>231212</td>\n",
              "      <td>1</td>\n",
              "      <td>0</td>\n",
              "      <td>0</td>\n",
              "      <td>2129-10-24 00:00:00</td>\n",
              "      <td>581 days 02:11:41</td>\n",
              "      <td>13946.0</td>\n",
              "      <td>581.0</td>\n",
              "      <td>2128-03-19 21:25:00</td>\n",
              "      <td>2128-04-09 16:00:00</td>\n",
              "      <td>2128-03-21 21:48:19</td>\n",
              "      <td>2128-04-03 15:17:44</td>\n",
              "      <td>18 days 18:11:41</td>\n",
              "      <td>18.0</td>\n",
              "      <td>2 days 00:23:19</td>\n",
              "      <td>48.0</td>\n",
              "      <td>12 days 17:29:25</td>\n",
              "      <td>305.0</td>\n",
              "      <td>78</td>\n",
              "      <td>0</td>\n",
              "      <td>carevue</td>\n",
              "      <td>SICU</td>\n",
              "      <td>EMERGENCY</td>\n",
              "      <td>SINGLE</td>\n",
              "      <td>Medicare</td>\n",
              "      <td>1.0</td>\n",
              "      <td>8.0</td>\n",
              "      <td>0.0</td>\n",
              "      <td>1.0</td>\n",
              "      <td>1.0</td>\n",
              "      <td>1.0</td>\n",
              "      <td>0.0</td>\n",
              "      <td>7.0</td>\n",
              "      <td>0.0</td>\n",
              "      <td>1.0</td>\n",
              "      <td>0.0</td>\n",
              "      <td>0.0</td>\n",
              "      <td>0.0</td>\n",
              "      <td>0.0</td>\n",
              "      <td>0.0</td>\n",
              "      <td>2.0</td>\n",
              "      <td>0.0</td>\n",
              "      <td>RT LEG ARTERIAL OCCLUSION</td>\n",
              "      <td>0</td>\n",
              "      <td>0</td>\n",
              "      <td>0</td>\n",
              "      <td>0</td>\n",
              "      <td>0</td>\n",
              "      <td>0</td>\n",
              "      <td>0</td>\n",
              "      <td>0</td>\n",
              "      <td>0</td>\n",
              "      <td>0</td>\n",
              "      <td>0</td>\n",
              "      <td>0</td>\n",
              "      <td>0</td>\n",
              "      <td>0</td>\n",
              "      <td>0</td>\n",
              "      <td>1</td>\n",
              "      <td>0</td>\n",
              "    </tr>\n",
              "    <tr>\n",
              "      <th>5072769</th>\n",
              "      <td>22780</td>\n",
              "      <td>8549</td>\n",
              "      <td>2128-03-26 05:00:00</td>\n",
              "      <td>HR Alarm [High]</td>\n",
              "      <td>NaN</td>\n",
              "      <td>120.0</td>\n",
              "      <td>120.0</td>\n",
              "      <td>BPM</td>\n",
              "      <td>1</td>\n",
              "      <td>0</td>\n",
              "      <td>19583</td>\n",
              "      <td>138174</td>\n",
              "      <td>231212</td>\n",
              "      <td>1</td>\n",
              "      <td>0</td>\n",
              "      <td>0</td>\n",
              "      <td>2129-10-24 00:00:00</td>\n",
              "      <td>581 days 02:11:41</td>\n",
              "      <td>13946.0</td>\n",
              "      <td>581.0</td>\n",
              "      <td>2128-03-19 21:25:00</td>\n",
              "      <td>2128-04-09 16:00:00</td>\n",
              "      <td>2128-03-21 21:48:19</td>\n",
              "      <td>2128-04-03 15:17:44</td>\n",
              "      <td>18 days 18:11:41</td>\n",
              "      <td>18.0</td>\n",
              "      <td>2 days 00:23:19</td>\n",
              "      <td>48.0</td>\n",
              "      <td>12 days 17:29:25</td>\n",
              "      <td>305.0</td>\n",
              "      <td>78</td>\n",
              "      <td>0</td>\n",
              "      <td>carevue</td>\n",
              "      <td>SICU</td>\n",
              "      <td>EMERGENCY</td>\n",
              "      <td>SINGLE</td>\n",
              "      <td>Medicare</td>\n",
              "      <td>1.0</td>\n",
              "      <td>8.0</td>\n",
              "      <td>0.0</td>\n",
              "      <td>1.0</td>\n",
              "      <td>1.0</td>\n",
              "      <td>1.0</td>\n",
              "      <td>0.0</td>\n",
              "      <td>7.0</td>\n",
              "      <td>0.0</td>\n",
              "      <td>1.0</td>\n",
              "      <td>0.0</td>\n",
              "      <td>0.0</td>\n",
              "      <td>0.0</td>\n",
              "      <td>0.0</td>\n",
              "      <td>0.0</td>\n",
              "      <td>2.0</td>\n",
              "      <td>0.0</td>\n",
              "      <td>RT LEG ARTERIAL OCCLUSION</td>\n",
              "      <td>0</td>\n",
              "      <td>0</td>\n",
              "      <td>0</td>\n",
              "      <td>0</td>\n",
              "      <td>0</td>\n",
              "      <td>0</td>\n",
              "      <td>0</td>\n",
              "      <td>0</td>\n",
              "      <td>0</td>\n",
              "      <td>0</td>\n",
              "      <td>0</td>\n",
              "      <td>0</td>\n",
              "      <td>0</td>\n",
              "      <td>0</td>\n",
              "      <td>0</td>\n",
              "      <td>1</td>\n",
              "      <td>0</td>\n",
              "    </tr>\n",
              "    <tr>\n",
              "      <th>5072770</th>\n",
              "      <td>22780</td>\n",
              "      <td>8549</td>\n",
              "      <td>2128-03-25 16:15:00</td>\n",
              "      <td>HR Alarm [High]</td>\n",
              "      <td>NaN</td>\n",
              "      <td>120.0</td>\n",
              "      <td>120.0</td>\n",
              "      <td>BPM</td>\n",
              "      <td>1</td>\n",
              "      <td>0</td>\n",
              "      <td>19583</td>\n",
              "      <td>138174</td>\n",
              "      <td>231212</td>\n",
              "      <td>1</td>\n",
              "      <td>0</td>\n",
              "      <td>0</td>\n",
              "      <td>2129-10-24 00:00:00</td>\n",
              "      <td>581 days 02:11:41</td>\n",
              "      <td>13946.0</td>\n",
              "      <td>581.0</td>\n",
              "      <td>2128-03-19 21:25:00</td>\n",
              "      <td>2128-04-09 16:00:00</td>\n",
              "      <td>2128-03-21 21:48:19</td>\n",
              "      <td>2128-04-03 15:17:44</td>\n",
              "      <td>18 days 18:11:41</td>\n",
              "      <td>18.0</td>\n",
              "      <td>2 days 00:23:19</td>\n",
              "      <td>48.0</td>\n",
              "      <td>12 days 17:29:25</td>\n",
              "      <td>305.0</td>\n",
              "      <td>78</td>\n",
              "      <td>0</td>\n",
              "      <td>carevue</td>\n",
              "      <td>SICU</td>\n",
              "      <td>EMERGENCY</td>\n",
              "      <td>SINGLE</td>\n",
              "      <td>Medicare</td>\n",
              "      <td>1.0</td>\n",
              "      <td>8.0</td>\n",
              "      <td>0.0</td>\n",
              "      <td>1.0</td>\n",
              "      <td>1.0</td>\n",
              "      <td>1.0</td>\n",
              "      <td>0.0</td>\n",
              "      <td>7.0</td>\n",
              "      <td>0.0</td>\n",
              "      <td>1.0</td>\n",
              "      <td>0.0</td>\n",
              "      <td>0.0</td>\n",
              "      <td>0.0</td>\n",
              "      <td>0.0</td>\n",
              "      <td>0.0</td>\n",
              "      <td>2.0</td>\n",
              "      <td>0.0</td>\n",
              "      <td>RT LEG ARTERIAL OCCLUSION</td>\n",
              "      <td>0</td>\n",
              "      <td>0</td>\n",
              "      <td>0</td>\n",
              "      <td>0</td>\n",
              "      <td>0</td>\n",
              "      <td>0</td>\n",
              "      <td>0</td>\n",
              "      <td>0</td>\n",
              "      <td>0</td>\n",
              "      <td>0</td>\n",
              "      <td>0</td>\n",
              "      <td>0</td>\n",
              "      <td>0</td>\n",
              "      <td>0</td>\n",
              "      <td>0</td>\n",
              "      <td>1</td>\n",
              "      <td>0</td>\n",
              "    </tr>\n",
              "    <tr>\n",
              "      <th>5072771</th>\n",
              "      <td>22780</td>\n",
              "      <td>8549</td>\n",
              "      <td>2128-03-25 10:10:00</td>\n",
              "      <td>HR Alarm [High]</td>\n",
              "      <td>NaN</td>\n",
              "      <td>120.0</td>\n",
              "      <td>120.0</td>\n",
              "      <td>BPM</td>\n",
              "      <td>1</td>\n",
              "      <td>0</td>\n",
              "      <td>19583</td>\n",
              "      <td>138174</td>\n",
              "      <td>231212</td>\n",
              "      <td>1</td>\n",
              "      <td>0</td>\n",
              "      <td>0</td>\n",
              "      <td>2129-10-24 00:00:00</td>\n",
              "      <td>581 days 02:11:41</td>\n",
              "      <td>13946.0</td>\n",
              "      <td>581.0</td>\n",
              "      <td>2128-03-19 21:25:00</td>\n",
              "      <td>2128-04-09 16:00:00</td>\n",
              "      <td>2128-03-21 21:48:19</td>\n",
              "      <td>2128-04-03 15:17:44</td>\n",
              "      <td>18 days 18:11:41</td>\n",
              "      <td>18.0</td>\n",
              "      <td>2 days 00:23:19</td>\n",
              "      <td>48.0</td>\n",
              "      <td>12 days 17:29:25</td>\n",
              "      <td>305.0</td>\n",
              "      <td>78</td>\n",
              "      <td>0</td>\n",
              "      <td>carevue</td>\n",
              "      <td>SICU</td>\n",
              "      <td>EMERGENCY</td>\n",
              "      <td>SINGLE</td>\n",
              "      <td>Medicare</td>\n",
              "      <td>1.0</td>\n",
              "      <td>8.0</td>\n",
              "      <td>0.0</td>\n",
              "      <td>1.0</td>\n",
              "      <td>1.0</td>\n",
              "      <td>1.0</td>\n",
              "      <td>0.0</td>\n",
              "      <td>7.0</td>\n",
              "      <td>0.0</td>\n",
              "      <td>1.0</td>\n",
              "      <td>0.0</td>\n",
              "      <td>0.0</td>\n",
              "      <td>0.0</td>\n",
              "      <td>0.0</td>\n",
              "      <td>0.0</td>\n",
              "      <td>2.0</td>\n",
              "      <td>0.0</td>\n",
              "      <td>RT LEG ARTERIAL OCCLUSION</td>\n",
              "      <td>0</td>\n",
              "      <td>0</td>\n",
              "      <td>0</td>\n",
              "      <td>0</td>\n",
              "      <td>0</td>\n",
              "      <td>0</td>\n",
              "      <td>0</td>\n",
              "      <td>0</td>\n",
              "      <td>0</td>\n",
              "      <td>0</td>\n",
              "      <td>0</td>\n",
              "      <td>0</td>\n",
              "      <td>0</td>\n",
              "      <td>0</td>\n",
              "      <td>0</td>\n",
              "      <td>1</td>\n",
              "      <td>0</td>\n",
              "    </tr>\n",
              "  </tbody>\n",
              "</table>\n",
              "<p>5072772 rows × 72 columns</p>\n",
              "</div>"
            ],
            "text/plain": [
              "         subject_id  itemid            charttime  ... pain  other  totalcats\n",
              "0             27661    5815  2129-10-10 11:30:00  ...    0      0          1\n",
              "1             27661    5815  2129-09-21 08:00:00  ...    0      0          1\n",
              "2             27661    5815  2129-07-26 08:00:00  ...    0      0          1\n",
              "3             27661    8549  2129-10-02 02:00:00  ...    0      0          1\n",
              "4             27661    8549  2129-10-02 09:00:00  ...    0      0          1\n",
              "...             ...     ...                  ...  ...  ...    ...        ...\n",
              "5072767       22780    5815  2128-03-29 00:00:00  ...    0      1          0\n",
              "5072768       22780    5815  2128-03-24 00:00:00  ...    0      1          0\n",
              "5072769       22780    8549  2128-03-26 05:00:00  ...    0      1          0\n",
              "5072770       22780    8549  2128-03-25 16:15:00  ...    0      1          0\n",
              "5072771       22780    8549  2128-03-25 10:10:00  ...    0      1          0\n",
              "\n",
              "[5072772 rows x 72 columns]"
            ]
          },
          "metadata": {
            "tags": []
          },
          "execution_count": 9
        }
      ]
    },
    {
      "cell_type": "code",
      "metadata": {
        "colab": {
          "base_uri": "https://localhost:8080/"
        },
        "id": "PxObEFe7eH_J",
        "outputId": "ca140910-8e0c-411c-d71d-2b67634f4fd3"
      },
      "source": [
        "hr_alarm_train.value.describe()"
      ],
      "execution_count": null,
      "outputs": [
        {
          "output_type": "execute_result",
          "data": {
            "text/plain": [
              "count    5.064750e+06\n",
              "mean     8.878080e+01\n",
              "std      3.537502e+01\n",
              "min      0.000000e+00\n",
              "25%      5.500000e+01\n",
              "50%      9.000000e+01\n",
              "75%      1.200000e+02\n",
              "max      4.560000e+02\n",
              "Name: value, dtype: float64"
            ]
          },
          "metadata": {
            "tags": []
          },
          "execution_count": 10
        }
      ]
    },
    {
      "cell_type": "code",
      "metadata": {
        "colab": {
          "base_uri": "https://localhost:8080/"
        },
        "id": "Lr8N7hbukrWU",
        "outputId": "60c032b6-514f-4568-bebc-1913b24d0d43"
      },
      "source": [
        "hr_alarm_train.value.median()"
      ],
      "execution_count": null,
      "outputs": [
        {
          "output_type": "execute_result",
          "data": {
            "text/plain": [
              "90.0"
            ]
          },
          "metadata": {
            "tags": []
          },
          "execution_count": 11
        }
      ]
    },
    {
      "cell_type": "code",
      "metadata": {
        "colab": {
          "base_uri": "https://localhost:8080/"
        },
        "id": "pojczYQRkZKL",
        "outputId": "94e5563c-7392-4b15-c76b-4200210bd713"
      },
      "source": [
        "hr_alarm_train.value.nunique()"
      ],
      "execution_count": null,
      "outputs": [
        {
          "output_type": "execute_result",
          "data": {
            "text/plain": [
              "115"
            ]
          },
          "metadata": {
            "tags": []
          },
          "execution_count": 21
        }
      ]
    },
    {
      "cell_type": "code",
      "metadata": {
        "id": "psrvoILPqefs"
      },
      "source": [
        "hr_alarm_train_hi_expire = hr_alarm_train[(hr_alarm_train['HR Alarm [High]'] == 1) & (hr_alarm_train['hospital_expire_flag'] == 1)]\n",
        "hr_alarm_train_hi_noexpire = hr_alarm_train[(hr_alarm_train['HR Alarm [High]'] == 1) & (hr_alarm_train['hospital_expire_flag'] == 0)]\n",
        "hr_alarm_train_lo_expire = hr_alarm_train[(hr_alarm_train['HR Alarm [Low]'] == 1) & (hr_alarm_train['hospital_expire_flag'] == 1)]\n",
        "hr_alarm_train_lo_noexpire = hr_alarm_train[(hr_alarm_train['HR Alarm [Low]'] == 1) & (hr_alarm_train['hospital_expire_flag'] == 0)]"
      ],
      "execution_count": null,
      "outputs": []
    },
    {
      "cell_type": "code",
      "metadata": {
        "colab": {
          "base_uri": "https://localhost:8080/",
          "height": 345
        },
        "id": "Xbw-P86viGpn",
        "outputId": "6c56355d-ad87-4640-b100-a1204d8b438c"
      },
      "source": [
        "hr_hist_value= plt.hist(hr_alarm_train['value'], bins =25)"
      ],
      "execution_count": null,
      "outputs": [
        {
          "output_type": "stream",
          "text": [
            "/usr/local/lib/python3.6/dist-packages/numpy/lib/histograms.py:839: RuntimeWarning: invalid value encountered in greater_equal\n",
            "  keep = (tmp_a >= first_edge)\n",
            "/usr/local/lib/python3.6/dist-packages/numpy/lib/histograms.py:840: RuntimeWarning: invalid value encountered in less_equal\n",
            "  keep &= (tmp_a <= last_edge)\n"
          ],
          "name": "stderr"
        },
        {
          "output_type": "display_data",
          "data": {
            "image/png": "[encoded data removed]",
            "text/plain": [
              "<Figure size 432x288 with 1 Axes>"
            ]
          },
          "metadata": {
            "tags": [],
            "needs_background": "light"
          }
        }
      ]
    },
    {
      "cell_type": "code",
      "metadata": {
        "id": "3k-M-LL6iGrx",
        "colab": {
          "base_uri": "https://localhost:8080/",
          "height": 385
        },
        "outputId": "848e0c0a-c28d-45cf-9802-f99d5e89831f"
      },
      "source": [
        "plt.style.use('ggplot')\n",
        "plt.close('all')\n",
        "\n",
        "fig, axes = plt.subplots(nrows=2, ncols=2)\n",
        "ax0, ax1, ax2, ax3 = axes.flatten()\n",
        "\n",
        "ax0.hist(hr_alarm_train_hi_expire['value'], 15, histtype='bar')\n",
        "ax0.legend(prop={'size': 10})\n",
        "ax0.set_title('High HR, Expired')\n",
        "ax0.set_xlim([0, 250])\n",
        "\n",
        "ax1.hist(hr_alarm_train_hi_noexpire['value'], 15, histtype='bar')\n",
        "ax1.set_title('High HR, Not Expired')\n",
        "ax1.set_xlim([0, 250])\n",
        "\n",
        "ax2.hist(hr_alarm_train_lo_expire['value'], 15, histtype='bar')\n",
        "ax2.set_title('Low HR, Expired')\n",
        "ax2.set_xlim([0, 250])\n",
        "\n",
        "ax3.hist(hr_alarm_train_lo_noexpire['value'], 15, histtype='bar')\n",
        "ax3.set_title('Low HR, Not Expired')\n",
        "ax3.set_xlim([0, 250])\n",
        "\n",
        "fig.tight_layout()\n",
        "plt.show()"
      ],
      "execution_count": null,
      "outputs": [
        {
          "output_type": "stream",
          "text": [
            "/usr/local/lib/python3.6/dist-packages/numpy/lib/histograms.py:839: RuntimeWarning: invalid value encountered in greater_equal\n",
            "  keep = (tmp_a >= first_edge)\n",
            "/usr/local/lib/python3.6/dist-packages/numpy/lib/histograms.py:840: RuntimeWarning: invalid value encountered in less_equal\n",
            "  keep &= (tmp_a <= last_edge)\n",
            "No handles with labels found to put in legend.\n"
          ],
          "name": "stderr"
        },
        {
          "output_type": "display_data",
          "data": {
            "image/png": "[encoded data removed]",
            "text/plain": [
              "<Figure size 432x288 with 4 Axes>"
            ]
          },
          "metadata": {
            "tags": []
          }
        }
      ]
    },
    {
      "cell_type": "code",
      "metadata": {
        "colab": {
          "base_uri": "https://localhost:8080/",
          "height": 315
        },
        "id": "cB_qptueVyeH",
        "outputId": "8191b751-a6ee-4a15-d5e7-78f826c044e7"
      },
      "source": [
        "fig, axes = plt.subplots(nrows=2, ncols=2)\r\n",
        "ax0, ax1, ax2, ax3 = axes.flatten()\r\n",
        "\r\n",
        "ax0.boxplot(hr_alarm_train_hi_expire['valuenum'])\r\n",
        "ax0.legend(prop={'size': 10})\r\n",
        "ax0.set_title('High HR, Expired')\r\n",
        "ax0.set_ylim([90, 200])\r\n",
        "\r\n",
        "ax1.boxplot(hr_alarm_train_hi_noexpire['valuenum'])\r\n",
        "ax1.set_title('High HR, Not Expired')\r\n",
        "ax1.set_ylim([90, 200])\r\n",
        "\r\n",
        "ax2.boxplot(hr_alarm_train_lo_expire['valuenum'])\r\n",
        "ax2.set_title('Low HR, Expired')\r\n",
        "ax2.set_ylim([0, 85])\r\n",
        "\r\n",
        "ax3.boxplot(hr_alarm_train_lo_noexpire['valuenum'])\r\n",
        "ax3.set_title('Low HR, Not Expired')\r\n",
        "ax3.set_ylim([0, 85])\r\n",
        "\r\n",
        "fig.tight_layout()\r\n",
        "plt.show()"
      ],
      "execution_count": null,
      "outputs": [
        {
          "output_type": "stream",
          "text": [
            "No handles with labels found to put in legend.\n"
          ],
          "name": "stderr"
        },
        {
          "output_type": "display_data",
          "data": {
            "image/png": "[encoded data removed]",
            "text/plain": [
              "<Figure size 432x288 with 4 Axes>"
            ]
          },
          "metadata": {
            "tags": [],
            "needs_background": "light"
          }
        }
      ]
    },
    {
      "cell_type": "markdown",
      "metadata": {
        "id": "uVGfng2tSjR1"
      },
      "source": [
        "# ABP"
      ]
    },
    {
      "cell_type": "code",
      "metadata": {
        "colab": {
          "base_uri": "https://localhost:8080/"
        },
        "id": "gGqXehgpO0PS",
        "outputId": "ea247210-e79a-430c-a508-a5e5bdec1bed"
      },
      "source": [
        "abp_alarm.value.describe()"
      ],
      "execution_count": null,
      "outputs": [
        {
          "output_type": "execute_result",
          "data": {
            "text/plain": [
              "count    2.425243e+06\n",
              "mean     1.159221e+02\n",
              "std      4.047535e+01\n",
              "min      0.000000e+00\n",
              "25%      9.000000e+01\n",
              "50%      1.000000e+02\n",
              "75%      1.600000e+02\n",
              "max      3.000000e+02\n",
              "Name: value, dtype: float64"
            ]
          },
          "metadata": {
            "tags": []
          },
          "execution_count": 12
        }
      ]
    },
    {
      "cell_type": "code",
      "metadata": {
        "colab": {
          "base_uri": "https://localhost:8080/"
        },
        "id": "0o_KEOBrO-VO",
        "outputId": "8c034305-24da-48af-b774-3a0e2cd0e798"
      },
      "source": [
        "abp_alarm.value.nunique()"
      ],
      "execution_count": null,
      "outputs": [
        {
          "output_type": "execute_result",
          "data": {
            "text/plain": [
              "81"
            ]
          },
          "metadata": {
            "tags": []
          },
          "execution_count": 14
        }
      ]
    },
    {
      "cell_type": "code",
      "metadata": {
        "colab": {
          "base_uri": "https://localhost:8080/",
          "height": 335
        },
        "id": "Q_nwARuXO0Vs",
        "outputId": "4790afe0-7b1f-4e01-b919-2640c2fbf573"
      },
      "source": [
        "abp_hist_value= plt.hist(abp_alarm_train['value'], bins =15)"
      ],
      "execution_count": null,
      "outputs": [
        {
          "output_type": "stream",
          "text": [
            "/usr/local/lib/python3.6/dist-packages/numpy/lib/histograms.py:839: RuntimeWarning: invalid value encountered in greater_equal\n",
            "  keep = (tmp_a >= first_edge)\n",
            "/usr/local/lib/python3.6/dist-packages/numpy/lib/histograms.py:840: RuntimeWarning: invalid value encountered in less_equal\n",
            "  keep &= (tmp_a <= last_edge)\n"
          ],
          "name": "stderr"
        },
        {
          "output_type": "display_data",
          "data": {
            "image/png": "[encoded data removed]",
            "text/plain": [
              "<Figure size 432x288 with 1 Axes>"
            ]
          },
          "metadata": {
            "tags": []
          }
        }
      ]
    },
    {
      "cell_type": "code",
      "metadata": {
        "id": "RUwZz_CDPBr2"
      },
      "source": [
        "abp_alarm_train_hi_expire = abp_alarm_train[(abp_alarm_train['ABP Alarm [High]'] == 1) & (abp_alarm_train['hospital_expire_flag'] == 1)]\n",
        "abp_alarm_train_hi_noexpire = abp_alarm_train[(abp_alarm_train['ABP Alarm [High]'] == 1) & (abp_alarm_train['hospital_expire_flag'] == 0)]\n",
        "abp_alarm_train_lo_expire = abp_alarm_train[(abp_alarm_train['ABP Alarm [Low]'] == 1) & (abp_alarm_train['hospital_expire_flag'] == 1)]\n",
        "abp_alarm_train_lo_noexpire = abp_alarm_train[(abp_alarm_train['ABP Alarm [Low]'] == 1) & (abp_alarm_train['hospital_expire_flag'] == 0)]"
      ],
      "execution_count": null,
      "outputs": []
    },
    {
      "cell_type": "code",
      "metadata": {
        "colab": {
          "base_uri": "https://localhost:8080/",
          "height": 385
        },
        "id": "SWpY9_NEPOdn",
        "outputId": "86ca6544-a09f-4808-998a-cf54e7cfc5f4"
      },
      "source": [
        "plt.style.use('ggplot')\n",
        "plt.close('all')\n",
        "\n",
        "fig, axes = plt.subplots(nrows=2, ncols=2)\n",
        "ax0, ax1, ax2, ax3 = axes.flatten()\n",
        "\n",
        "ax0.hist(abp_alarm_train_hi_expire['value'], 15, histtype='bar')\n",
        "ax0.legend(prop={'size': 10})\n",
        "ax0.set_title('High ABP, Expired')\n",
        "ax0.set_xlim([0, 250])\n",
        "\n",
        "ax1.hist(abp_alarm_train_hi_noexpire['value'], 15, histtype='bar')\n",
        "ax1.set_title('High ABP, Not Expired')\n",
        "ax1.set_xlim([0, 250])\n",
        "\n",
        "ax2.hist(abp_alarm_train_lo_expire['value'], 15, histtype='bar')\n",
        "ax2.set_title('Low ABP, Expired')\n",
        "ax2.set_xlim([0, 250])\n",
        "\n",
        "ax3.hist(abp_alarm_train_lo_noexpire['value'], 15, histtype='bar')\n",
        "ax3.set_title('Low ABP, Not Expired')\n",
        "ax3.set_xlim([0, 250])\n",
        "\n",
        "fig.tight_layout()\n",
        "plt.show()"
      ],
      "execution_count": null,
      "outputs": [
        {
          "output_type": "stream",
          "text": [
            "/usr/local/lib/python3.6/dist-packages/numpy/lib/histograms.py:839: RuntimeWarning: invalid value encountered in greater_equal\n",
            "  keep = (tmp_a >= first_edge)\n",
            "/usr/local/lib/python3.6/dist-packages/numpy/lib/histograms.py:840: RuntimeWarning: invalid value encountered in less_equal\n",
            "  keep &= (tmp_a <= last_edge)\n",
            "No handles with labels found to put in legend.\n"
          ],
          "name": "stderr"
        },
        {
          "output_type": "display_data",
          "data": {
            "image/png": "[encoded data removed]",
            "text/plain": [
              "<Figure size 432x288 with 4 Axes>"
            ]
          },
          "metadata": {
            "tags": []
          }
        }
      ]
    },
    {
      "cell_type": "code",
      "metadata": {
        "colab": {
          "base_uri": "https://localhost:8080/",
          "height": 315
        },
        "id": "uNl0uAPhWECC",
        "outputId": "c160c627-558b-4586-f891-6efa575168d6"
      },
      "source": [
        "fig, axes = plt.subplots(nrows=2, ncols=2)\r\n",
        "ax0, ax1, ax2, ax3 = axes.flatten()\r\n",
        "\r\n",
        "ax0.boxplot(abp_alarm_train_hi_expire['valuenum'])\r\n",
        "ax0.legend(prop={'size': 10})\r\n",
        "ax0.set_title('High ABP, Expired')\r\n",
        "ax0.set_ylim([50, 250])\r\n",
        "\r\n",
        "ax1.boxplot(abp_alarm_train_hi_noexpire['valuenum'])\r\n",
        "ax1.set_title('High ABP, Not Expired')\r\n",
        "ax1.set_ylim([50, 250])\r\n",
        "\r\n",
        "ax2.boxplot(abp_alarm_train_lo_expire['valuenum'])\r\n",
        "ax2.set_title('Low ABP, Expired')\r\n",
        "ax2.set_ylim([0, 150])\r\n",
        "\r\n",
        "ax3.boxplot(abp_alarm_train_lo_noexpire['valuenum'])\r\n",
        "ax3.set_title('Low ABP, Not Expired')\r\n",
        "ax3.set_ylim([0, 150])\r\n",
        "\r\n",
        "fig.tight_layout()\r\n",
        "plt.show()"
      ],
      "execution_count": null,
      "outputs": [
        {
          "output_type": "stream",
          "text": [
            "No handles with labels found to put in legend.\n"
          ],
          "name": "stderr"
        },
        {
          "output_type": "display_data",
          "data": {
            "image/png": "[encoded data removed]",
            "text/plain": [
              "<Figure size 432x288 with 4 Axes>"
            ]
          },
          "metadata": {
            "tags": [],
            "needs_background": "light"
          }
        }
      ]
    },
    {
      "cell_type": "markdown",
      "metadata": {
        "id": "xg4D7I8ZSmJv"
      },
      "source": [
        "# NBP"
      ]
    },
    {
      "cell_type": "code",
      "metadata": {
        "colab": {
          "base_uri": "https://localhost:8080/",
          "height": 425
        },
        "id": "PNsxJ9yWfhzH",
        "outputId": "d2f5652b-c4d8-4bd9-873c-4587219b799d"
      },
      "source": [
        "nbp_alarm.head()"
      ],
      "execution_count": null,
      "outputs": [
        {
          "output_type": "execute_result",
          "data": {
            "text/html": [
              "<div>\n",
              "<style scoped>\n",
              "    .dataframe tbody tr th:only-of-type {\n",
              "        vertical-align: middle;\n",
              "    }\n",
              "\n",
              "    .dataframe tbody tr th {\n",
              "        vertical-align: top;\n",
              "    }\n",
              "\n",
              "    .dataframe thead th {\n",
              "        text-align: right;\n",
              "    }\n",
              "</style>\n",
              "<table border=\"1\" class=\"dataframe\">\n",
              "  <thead>\n",
              "    <tr style=\"text-align: right;\">\n",
              "      <th></th>\n",
              "      <th>subject_id</th>\n",
              "      <th>itemid</th>\n",
              "      <th>charttime</th>\n",
              "      <th>label</th>\n",
              "      <th>category</th>\n",
              "      <th>value</th>\n",
              "      <th>valuenum</th>\n",
              "      <th>valueuom</th>\n",
              "      <th>NBP Alarm [High]</th>\n",
              "      <th>NBP Alarm [Low]</th>\n",
              "    </tr>\n",
              "  </thead>\n",
              "  <tbody>\n",
              "    <tr>\n",
              "      <th>0</th>\n",
              "      <td>16076</td>\n",
              "      <td>5817</td>\n",
              "      <td>2180-07-31 12:00:00</td>\n",
              "      <td>NBP Alarm [Low]</td>\n",
              "      <td>NaN</td>\n",
              "      <td>85.0</td>\n",
              "      <td>85.0</td>\n",
              "      <td>mmHg</td>\n",
              "      <td>0</td>\n",
              "      <td>1</td>\n",
              "    </tr>\n",
              "    <tr>\n",
              "      <th>1</th>\n",
              "      <td>16076</td>\n",
              "      <td>5817</td>\n",
              "      <td>2180-08-14 21:00:00</td>\n",
              "      <td>NBP Alarm [Low]</td>\n",
              "      <td>NaN</td>\n",
              "      <td>90.0</td>\n",
              "      <td>90.0</td>\n",
              "      <td>mmHg</td>\n",
              "      <td>0</td>\n",
              "      <td>1</td>\n",
              "    </tr>\n",
              "    <tr>\n",
              "      <th>2</th>\n",
              "      <td>16076</td>\n",
              "      <td>8551</td>\n",
              "      <td>2180-07-30 18:30:00</td>\n",
              "      <td>NBP Alarm [High]</td>\n",
              "      <td>NaN</td>\n",
              "      <td>160.0</td>\n",
              "      <td>160.0</td>\n",
              "      <td>mmHg</td>\n",
              "      <td>1</td>\n",
              "      <td>0</td>\n",
              "    </tr>\n",
              "    <tr>\n",
              "      <th>3</th>\n",
              "      <td>16076</td>\n",
              "      <td>8551</td>\n",
              "      <td>2180-08-12 08:00:00</td>\n",
              "      <td>NBP Alarm [High]</td>\n",
              "      <td>NaN</td>\n",
              "      <td>160.0</td>\n",
              "      <td>160.0</td>\n",
              "      <td>mmHg</td>\n",
              "      <td>1</td>\n",
              "      <td>0</td>\n",
              "    </tr>\n",
              "    <tr>\n",
              "      <th>4</th>\n",
              "      <td>16076</td>\n",
              "      <td>5817</td>\n",
              "      <td>2180-07-30 17:47:00</td>\n",
              "      <td>NBP Alarm [Low]</td>\n",
              "      <td>NaN</td>\n",
              "      <td>90.0</td>\n",
              "      <td>90.0</td>\n",
              "      <td>mmHg</td>\n",
              "      <td>0</td>\n",
              "      <td>1</td>\n",
              "    </tr>\n",
              "  </tbody>\n",
              "</table>\n",
              "</div>"
            ],
            "text/plain": [
              "   subject_id  itemid  ... NBP Alarm [High] NBP Alarm [Low]\n",
              "0       16076    5817  ...                0               1\n",
              "1       16076    5817  ...                0               1\n",
              "2       16076    8551  ...                1               0\n",
              "3       16076    8551  ...                1               0\n",
              "4       16076    5817  ...                0               1\n",
              "\n",
              "[5 rows x 10 columns]"
            ]
          },
          "metadata": {
            "tags": []
          },
          "execution_count": 12
        }
      ]
    },
    {
      "cell_type": "code",
      "metadata": {
        "colab": {
          "base_uri": "https://localhost:8080/"
        },
        "id": "00PjU4SCfbSf",
        "outputId": "f4f8f18e-fbe3-40a6-8ae8-e0b82370a0f1"
      },
      "source": [
        "nbp_alarm.value.describe()"
      ],
      "execution_count": null,
      "outputs": [
        {
          "output_type": "execute_result",
          "data": {
            "text/plain": [
              "count    3.997806e+06\n",
              "mean     1.226761e+02\n",
              "std      3.775347e+01\n",
              "min      0.000000e+00\n",
              "25%      9.000000e+01\n",
              "50%      1.000000e+02\n",
              "75%      1.600000e+02\n",
              "max      2.700000e+02\n",
              "Name: value, dtype: float64"
            ]
          },
          "metadata": {
            "tags": []
          },
          "execution_count": 31
        }
      ]
    },
    {
      "cell_type": "code",
      "metadata": {
        "colab": {
          "base_uri": "https://localhost:8080/"
        },
        "id": "MwW6v9vS07Ft",
        "outputId": "a225e2db-3b79-4b70-ed3d-c6e2db7865bb"
      },
      "source": [
        "nbp_alarm.value.nunique()\n"
      ],
      "execution_count": null,
      "outputs": [
        {
          "output_type": "execute_result",
          "data": {
            "text/plain": [
              "80"
            ]
          },
          "metadata": {
            "tags": []
          },
          "execution_count": 23
        }
      ]
    },
    {
      "cell_type": "code",
      "metadata": {
        "colab": {
          "base_uri": "https://localhost:8080/",
          "height": 346
        },
        "id": "78Dxb4BPHZvD",
        "outputId": "b9fbc9bf-7533-44b7-ae38-cadac2793170"
      },
      "source": [
        "nbp_hist_value= plt.hist(nbp_alarm_train['value'], bins =15)"
      ],
      "execution_count": null,
      "outputs": [
        {
          "output_type": "stream",
          "text": [
            "/usr/local/lib/python3.6/dist-packages/numpy/lib/histograms.py:839: RuntimeWarning: invalid value encountered in greater_equal\n",
            "  keep = (tmp_a >= first_edge)\n",
            "/usr/local/lib/python3.6/dist-packages/numpy/lib/histograms.py:840: RuntimeWarning: invalid value encountered in less_equal\n",
            "  keep &= (tmp_a <= last_edge)\n"
          ],
          "name": "stderr"
        },
        {
          "output_type": "display_data",
          "data": {
            "image/png": "[encoded data removed]",
            "text/plain": [
              "<Figure size 432x288 with 1 Axes>"
            ]
          },
          "metadata": {
            "tags": [],
            "needs_background": "light"
          }
        }
      ]
    },
    {
      "cell_type": "code",
      "metadata": {
        "id": "P5qTZugFOPzB"
      },
      "source": [
        "nbp_alarm_train_hi_expire = nbp_alarm_train[(nbp_alarm_train['NBP Alarm [High]'] == 1) & (nbp_alarm_train['hospital_expire_flag'] == 1)]\n",
        "nbp_alarm_train_hi_noexpire = nbp_alarm_train[(nbp_alarm_train['NBP Alarm [High]'] == 1) & (nbp_alarm_train['hospital_expire_flag'] == 0)]\n",
        "nbp_alarm_train_lo_expire = nbp_alarm_train[(nbp_alarm_train['NBP Alarm [Low]'] == 1) & (nbp_alarm_train['hospital_expire_flag'] == 1)]\n",
        "nbp_alarm_train_lo_noexpire = nbp_alarm_train[(nbp_alarm_train['NBP Alarm [Low]'] == 1) & (nbp_alarm_train['hospital_expire_flag'] == 0)]"
      ],
      "execution_count": null,
      "outputs": []
    },
    {
      "cell_type": "code",
      "metadata": {
        "colab": {
          "base_uri": "https://localhost:8080/",
          "height": 385
        },
        "id": "bVE8XtjGHZxb",
        "outputId": "aa31012d-462b-4a58-d510-3c4ff9d55feb"
      },
      "source": [
        "plt.style.use('ggplot')\n",
        "plt.close('all')\n",
        "\n",
        "fig, axes = plt.subplots(nrows=2, ncols=2)\n",
        "ax0, ax1, ax2, ax3 = axes.flatten()\n",
        "\n",
        "ax0.hist(nbp_alarm_train_hi_expire['value'], 15, histtype='bar')\n",
        "ax0.legend(prop={'size': 10})\n",
        "ax0.set_title('High NBP, Expired')\n",
        "ax0.set_xlim([0, 250])\n",
        "\n",
        "ax1.hist(nbp_alarm_train_hi_noexpire['value'], 15, histtype='bar')\n",
        "ax1.set_title('High NBP, Not Expired')\n",
        "ax1.set_xlim([0, 250])\n",
        "\n",
        "ax2.hist(nbp_alarm_train_lo_expire['value'], 15, histtype='bar')\n",
        "ax2.set_title('Low NBP, Expired')\n",
        "ax2.set_xlim([0, 250])\n",
        "\n",
        "ax3.hist(nbp_alarm_train_lo_noexpire['value'], 15, histtype='bar')\n",
        "ax3.set_title('Low NBP, Not Expired')\n",
        "ax3.set_xlim([0, 250])\n",
        "\n",
        "fig.tight_layout()\n",
        "plt.show()"
      ],
      "execution_count": null,
      "outputs": [
        {
          "output_type": "stream",
          "text": [
            "/usr/local/lib/python3.6/dist-packages/numpy/lib/histograms.py:839: RuntimeWarning: invalid value encountered in greater_equal\n",
            "  keep = (tmp_a >= first_edge)\n",
            "/usr/local/lib/python3.6/dist-packages/numpy/lib/histograms.py:840: RuntimeWarning: invalid value encountered in less_equal\n",
            "  keep &= (tmp_a <= last_edge)\n",
            "No handles with labels found to put in legend.\n"
          ],
          "name": "stderr"
        },
        {
          "output_type": "display_data",
          "data": {
            "image/png": "[encoded data removed]",
            "text/plain": [
              "<Figure size 432x288 with 4 Axes>"
            ]
          },
          "metadata": {
            "tags": []
          }
        }
      ]
    },
    {
      "cell_type": "code",
      "metadata": {
        "colab": {
          "base_uri": "https://localhost:8080/",
          "height": 315
        },
        "id": "mi2zQdGiWfQv",
        "outputId": "4c839410-eedf-4dd7-c45e-9e18eb16b9aa"
      },
      "source": [
        "fig, axes = plt.subplots(nrows=2, ncols=2)\r\n",
        "ax0, ax1, ax2, ax3 = axes.flatten()\r\n",
        "\r\n",
        "ax0.boxplot(nbp_alarm_train_hi_expire['valuenum'])\r\n",
        "ax0.legend(prop={'size': 10})\r\n",
        "ax0.set_title('High NBP, Expired')\r\n",
        "ax0.set_ylim([50, 200])\r\n",
        "\r\n",
        "ax1.boxplot(nbp_alarm_train_hi_noexpire['valuenum'])\r\n",
        "ax1.set_title('High NBP, Not Expired')\r\n",
        "ax1.set_ylim([50, 200])\r\n",
        "\r\n",
        "ax2.boxplot(nbp_alarm_train_lo_expire['valuenum'])\r\n",
        "ax2.set_title('Low NBP, Expired')\r\n",
        "ax2.set_ylim([0, 125])\r\n",
        "\r\n",
        "ax3.boxplot(nbp_alarm_train_lo_noexpire['valuenum'])\r\n",
        "ax3.set_title('Low NBP, Not Expired')\r\n",
        "ax3.set_ylim([0, 125])\r\n",
        "\r\n",
        "fig.tight_layout()\r\n",
        "plt.show()"
      ],
      "execution_count": null,
      "outputs": [
        {
          "output_type": "stream",
          "text": [
            "No handles with labels found to put in legend.\n"
          ],
          "name": "stderr"
        },
        {
          "output_type": "display_data",
          "data": {
            "image/png": "[encoded data removed]",
            "text/plain": [
              "<Figure size 432x288 with 4 Axes>"
            ]
          },
          "metadata": {
            "tags": [],
            "needs_background": "light"
          }
        }
      ]
    },
    {
      "cell_type": "markdown",
      "metadata": {
        "id": "QThTCVD1SsDE"
      },
      "source": [
        "# Resp"
      ]
    },
    {
      "cell_type": "code",
      "metadata": {
        "colab": {
          "base_uri": "https://localhost:8080/",
          "height": 425
        },
        "id": "2C6KgB1Ph72u",
        "outputId": "0ee4852e-0d64-4ff1-a3fe-88cd8637a008"
      },
      "source": [
        "resp_alarm.head()"
      ],
      "execution_count": null,
      "outputs": [
        {
          "output_type": "execute_result",
          "data": {
            "text/html": [
              "<div>\n",
              "<style scoped>\n",
              "    .dataframe tbody tr th:only-of-type {\n",
              "        vertical-align: middle;\n",
              "    }\n",
              "\n",
              "    .dataframe tbody tr th {\n",
              "        vertical-align: top;\n",
              "    }\n",
              "\n",
              "    .dataframe thead th {\n",
              "        text-align: right;\n",
              "    }\n",
              "</style>\n",
              "<table border=\"1\" class=\"dataframe\">\n",
              "  <thead>\n",
              "    <tr style=\"text-align: right;\">\n",
              "      <th></th>\n",
              "      <th>subject_id</th>\n",
              "      <th>itemid</th>\n",
              "      <th>charttime</th>\n",
              "      <th>label</th>\n",
              "      <th>category</th>\n",
              "      <th>value</th>\n",
              "      <th>valuenum</th>\n",
              "      <th>valueuom</th>\n",
              "      <th>Resp Alarm [High]</th>\n",
              "      <th>Resp Alarm [Low]</th>\n",
              "    </tr>\n",
              "  </thead>\n",
              "  <tbody>\n",
              "    <tr>\n",
              "      <th>0</th>\n",
              "      <td>27661</td>\n",
              "      <td>8553</td>\n",
              "      <td>2129-10-05 18:30:00</td>\n",
              "      <td>Resp Alarm [High]</td>\n",
              "      <td>NaN</td>\n",
              "      <td>30.0</td>\n",
              "      <td>30.0</td>\n",
              "      <td>BPM</td>\n",
              "      <td>1</td>\n",
              "      <td>0</td>\n",
              "    </tr>\n",
              "    <tr>\n",
              "      <th>1</th>\n",
              "      <td>27661</td>\n",
              "      <td>8553</td>\n",
              "      <td>2129-07-14 01:00:00</td>\n",
              "      <td>Resp Alarm [High]</td>\n",
              "      <td>NaN</td>\n",
              "      <td>30.0</td>\n",
              "      <td>30.0</td>\n",
              "      <td>BPM</td>\n",
              "      <td>1</td>\n",
              "      <td>0</td>\n",
              "    </tr>\n",
              "    <tr>\n",
              "      <th>2</th>\n",
              "      <td>27661</td>\n",
              "      <td>5819</td>\n",
              "      <td>2129-07-10 17:00:00</td>\n",
              "      <td>Resp Alarm [Low]</td>\n",
              "      <td>NaN</td>\n",
              "      <td>8.0</td>\n",
              "      <td>8.0</td>\n",
              "      <td>BPM</td>\n",
              "      <td>0</td>\n",
              "      <td>1</td>\n",
              "    </tr>\n",
              "    <tr>\n",
              "      <th>3</th>\n",
              "      <td>27661</td>\n",
              "      <td>8553</td>\n",
              "      <td>2129-09-26 21:15:00</td>\n",
              "      <td>Resp Alarm [High]</td>\n",
              "      <td>NaN</td>\n",
              "      <td>30.0</td>\n",
              "      <td>30.0</td>\n",
              "      <td>BPM</td>\n",
              "      <td>1</td>\n",
              "      <td>0</td>\n",
              "    </tr>\n",
              "    <tr>\n",
              "      <th>4</th>\n",
              "      <td>27661</td>\n",
              "      <td>5819</td>\n",
              "      <td>2129-09-28 06:00:00</td>\n",
              "      <td>Resp Alarm [Low]</td>\n",
              "      <td>NaN</td>\n",
              "      <td>8.0</td>\n",
              "      <td>8.0</td>\n",
              "      <td>BPM</td>\n",
              "      <td>0</td>\n",
              "      <td>1</td>\n",
              "    </tr>\n",
              "  </tbody>\n",
              "</table>\n",
              "</div>"
            ],
            "text/plain": [
              "   subject_id  itemid  ... Resp Alarm [High] Resp Alarm [Low]\n",
              "0       27661    8553  ...                 1                0\n",
              "1       27661    8553  ...                 1                0\n",
              "2       27661    5819  ...                 0                1\n",
              "3       27661    8553  ...                 1                0\n",
              "4       27661    5819  ...                 0                1\n",
              "\n",
              "[5 rows x 10 columns]"
            ]
          },
          "metadata": {
            "tags": []
          },
          "execution_count": 21
        }
      ]
    },
    {
      "cell_type": "code",
      "metadata": {
        "colab": {
          "base_uri": "https://localhost:8080/"
        },
        "id": "y1HHMw5Vfc0-",
        "outputId": "650aa2f4-28cb-42b3-9d53-e210d3514e7f"
      },
      "source": [
        "resp_alarm.value.describe()"
      ],
      "execution_count": null,
      "outputs": [
        {
          "output_type": "execute_result",
          "data": {
            "text/plain": [
              "count    4.967244e+06\n",
              "mean     2.160572e+01\n",
              "std      1.510575e+01\n",
              "min      0.000000e+00\n",
              "25%      8.000000e+00\n",
              "50%      3.000000e+01\n",
              "75%      3.500000e+01\n",
              "max      1.300000e+02\n",
              "Name: value, dtype: float64"
            ]
          },
          "metadata": {
            "tags": []
          },
          "execution_count": 37
        }
      ]
    },
    {
      "cell_type": "code",
      "metadata": {
        "colab": {
          "base_uri": "https://localhost:8080/",
          "height": 346
        },
        "id": "z8TzTefaTPz4",
        "outputId": "49e936ba-5c4c-47ea-9dff-90f5e65a6741"
      },
      "source": [
        "resp_hist_value= plt.hist(resp_alarm_train['value'], bins =15)"
      ],
      "execution_count": null,
      "outputs": [
        {
          "output_type": "stream",
          "text": [
            "/usr/local/lib/python3.6/dist-packages/numpy/lib/histograms.py:839: RuntimeWarning: invalid value encountered in greater_equal\n",
            "  keep = (tmp_a >= first_edge)\n",
            "/usr/local/lib/python3.6/dist-packages/numpy/lib/histograms.py:840: RuntimeWarning: invalid value encountered in less_equal\n",
            "  keep &= (tmp_a <= last_edge)\n"
          ],
          "name": "stderr"
        },
        {
          "output_type": "display_data",
          "data": {
            "image/png": "[encoded data removed]",
            "text/plain": [
              "<Figure size 432x288 with 1 Axes>"
            ]
          },
          "metadata": {
            "tags": [],
            "needs_background": "light"
          }
        }
      ]
    },
    {
      "cell_type": "code",
      "metadata": {
        "id": "kYX6GjikTXBL"
      },
      "source": [
        "resp_alarm_train_hi_expire = resp_alarm_train[(resp_alarm_train['Resp Alarm [High]'] == 1) & (resp_alarm_train['hospital_expire_flag'] == 1)]\n",
        "resp_alarm_train_hi_noexpire = resp_alarm_train[(resp_alarm_train['Resp Alarm [High]'] == 1) & (resp_alarm_train['hospital_expire_flag'] == 0)]\n",
        "resp_alarm_train_lo_expire = resp_alarm_train[(resp_alarm_train['Resp Alarm [Low]'] == 1) & (resp_alarm_train['hospital_expire_flag'] == 1)]\n",
        "resp_alarm_train_lo_noexpire = resp_alarm_train[(resp_alarm_train['Resp Alarm [Low]'] == 1) & (resp_alarm_train['hospital_expire_flag'] == 0)]"
      ],
      "execution_count": null,
      "outputs": []
    },
    {
      "cell_type": "code",
      "metadata": {
        "colab": {
          "base_uri": "https://localhost:8080/",
          "height": 385
        },
        "id": "gz26be7fTpiB",
        "outputId": "29309ec3-69b2-457b-936f-493a030ddda9"
      },
      "source": [
        "plt.style.use('ggplot')\n",
        "plt.close('all')\n",
        "\n",
        "fig, axes = plt.subplots(nrows=2, ncols=2)\n",
        "ax0, ax1, ax2, ax3 = axes.flatten()\n",
        "\n",
        "ax0.hist(resp_alarm_train_hi_expire['value'], 15, histtype='bar')\n",
        "ax0.legend(prop={'size': 10})\n",
        "ax0.set_title('High Resp, Expired')\n",
        "ax0.set_xlim([0, 120])\n",
        "\n",
        "ax1.hist(resp_alarm_train_hi_noexpire['value'], 15, histtype='bar')\n",
        "ax1.set_title('High Resp, Not Expired')\n",
        "ax1.set_xlim([0, 120])\n",
        "\n",
        "ax2.hist(resp_alarm_train_lo_expire['value'], 15, histtype='bar')\n",
        "ax2.set_title('Low Resp, Expired')\n",
        "ax2.set_xlim([0, 100])\n",
        "\n",
        "ax3.hist(resp_alarm_train_lo_noexpire['value'], 15, histtype='bar')\n",
        "ax3.set_title('Low Resp, Not Expired')\n",
        "ax3.set_xlim([0, 100])\n",
        "\n",
        "fig.tight_layout()\n",
        "plt.show()"
      ],
      "execution_count": null,
      "outputs": [
        {
          "output_type": "stream",
          "text": [
            "/usr/local/lib/python3.6/dist-packages/numpy/lib/histograms.py:839: RuntimeWarning: invalid value encountered in greater_equal\n",
            "  keep = (tmp_a >= first_edge)\n",
            "/usr/local/lib/python3.6/dist-packages/numpy/lib/histograms.py:840: RuntimeWarning: invalid value encountered in less_equal\n",
            "  keep &= (tmp_a <= last_edge)\n",
            "No handles with labels found to put in legend.\n"
          ],
          "name": "stderr"
        },
        {
          "output_type": "display_data",
          "data": {
            "image/png": "[encoded data removed]",
            "text/plain": [
              "<Figure size 432x288 with 4 Axes>"
            ]
          },
          "metadata": {
            "tags": []
          }
        }
      ]
    },
    {
      "cell_type": "code",
      "metadata": {
        "colab": {
          "base_uri": "https://localhost:8080/",
          "height": 315
        },
        "id": "gY1YbJcFWusX",
        "outputId": "5bbd7692-8049-42a0-d6d1-cf51ab57e4d3"
      },
      "source": [
        "fig, axes = plt.subplots(nrows=2, ncols=2)\r\n",
        "ax0, ax1, ax2, ax3 = axes.flatten()\r\n",
        "\r\n",
        "ax0.boxplot(resp_alarm_train_hi_expire['valuenum'])\r\n",
        "ax0.legend(prop={'size': 10})\r\n",
        "ax0.set_title('High Resp, Expired')\r\n",
        "ax0.set_ylim([0, 80])\r\n",
        "\r\n",
        "ax1.boxplot(resp_alarm_train_hi_noexpire['valuenum'])\r\n",
        "ax1.set_title('High Resp, Not Expired')\r\n",
        "ax1.set_ylim([0, 80])\r\n",
        "\r\n",
        "ax2.boxplot(resp_alarm_train_lo_expire['valuenum'])\r\n",
        "ax2.set_title('Low Resp, Expired')\r\n",
        "ax2.set_ylim([0, 15])\r\n",
        "\r\n",
        "ax3.boxplot(resp_alarm_train_lo_noexpire['valuenum'])\r\n",
        "ax3.set_title('Low Resp, Not Expired')\r\n",
        "ax3.set_ylim([0, 15])\r\n",
        "\r\n",
        "fig.tight_layout()\r\n",
        "plt.show()"
      ],
      "execution_count": null,
      "outputs": [
        {
          "output_type": "stream",
          "text": [
            "No handles with labels found to put in legend.\n"
          ],
          "name": "stderr"
        },
        {
          "output_type": "display_data",
          "data": {
            "image/png": "[encoded data removed]",
            "text/plain": [
              "<Figure size 432x288 with 4 Axes>"
            ]
          },
          "metadata": {
            "tags": [],
            "needs_background": "light"
          }
        }
      ]
    },
    {
      "cell_type": "markdown",
      "metadata": {
        "id": "kcNnzlQGUayi"
      },
      "source": [
        "# SpO2"
      ]
    },
    {
      "cell_type": "code",
      "metadata": {
        "colab": {
          "base_uri": "https://localhost:8080/"
        },
        "id": "rKPVpzcnfgQf",
        "outputId": "7b91e327-770a-481f-c0f6-23fc00d257a5"
      },
      "source": [
        "spO2_alarm.value.describe()"
      ],
      "execution_count": null,
      "outputs": [
        {
          "output_type": "execute_result",
          "data": {
            "text/plain": [
              "count    5.046087e+06\n",
              "mean     9.456873e+01\n",
              "std      9.276971e+00\n",
              "min      0.000000e+00\n",
              "25%      9.000000e+01\n",
              "50%      9.300000e+01\n",
              "75%      1.000000e+02\n",
              "max      1.100000e+02\n",
              "Name: value, dtype: float64"
            ]
          },
          "metadata": {
            "tags": []
          },
          "execution_count": 11
        }
      ]
    },
    {
      "cell_type": "code",
      "metadata": {
        "colab": {
          "base_uri": "https://localhost:8080/"
        },
        "id": "8pzxByuBVPAx",
        "outputId": "c2ae4987-a67e-42eb-91ae-af0fdce69b63"
      },
      "source": [
        "spO2_alarm.value.nunique()"
      ],
      "execution_count": null,
      "outputs": [
        {
          "output_type": "execute_result",
          "data": {
            "text/plain": [
              "64"
            ]
          },
          "metadata": {
            "tags": []
          },
          "execution_count": 16
        }
      ]
    },
    {
      "cell_type": "code",
      "metadata": {
        "colab": {
          "base_uri": "https://localhost:8080/",
          "height": 369
        },
        "id": "Am1UL0d3VGOb",
        "outputId": "8eaefdc9-e25a-4023-fab1-752266a829c6"
      },
      "source": [
        "spO2_hist_value= plt.hist(spO2_alarm_train['value'], bins =20)"
      ],
      "execution_count": null,
      "outputs": [
        {
          "output_type": "stream",
          "text": [
            "/usr/local/lib/python3.6/dist-packages/numpy/lib/histograms.py:839: RuntimeWarning: invalid value encountered in greater_equal\n",
            "  keep = (tmp_a >= first_edge)\n",
            "/usr/local/lib/python3.6/dist-packages/numpy/lib/histograms.py:840: RuntimeWarning: invalid value encountered in less_equal\n",
            "  keep &= (tmp_a <= last_edge)\n"
          ],
          "name": "stderr"
        },
        {
          "output_type": "display_data",
          "data": {
            "image/png": "[encoded data removed]",
            "text/plain": [
              "<Figure size 432x288 with 1 Axes>"
            ]
          },
          "metadata": {
            "tags": []
          }
        }
      ]
    },
    {
      "cell_type": "code",
      "metadata": {
        "id": "ji2MwBJVV0SB"
      },
      "source": [
        "spO2_alarm_train_hi_expire = spO2_alarm_train[(spO2_alarm_train['SpO2 Alarm [High]'] == 1) & (spO2_alarm_train['hospital_expire_flag'] == 1)]\n",
        "spO2_alarm_train_hi_noexpire = spO2_alarm_train[(spO2_alarm_train['SpO2 Alarm [High]'] == 1) & (spO2_alarm_train['hospital_expire_flag'] == 0)]\n",
        "spO2_alarm_train_lo_expire = spO2_alarm_train[(spO2_alarm_train['SpO2 Alarm [Low]'] == 1) & (spO2_alarm_train['hospital_expire_flag'] == 1)]\n",
        "spO2_alarm_train_lo_noexpire = spO2_alarm_train[(spO2_alarm_train['SpO2 Alarm [Low]'] == 1) & (spO2_alarm_train['hospital_expire_flag'] == 0)]"
      ],
      "execution_count": null,
      "outputs": []
    },
    {
      "cell_type": "code",
      "metadata": {
        "colab": {
          "base_uri": "https://localhost:8080/",
          "height": 408
        },
        "id": "oB3SpPNqWg7q",
        "outputId": "be00d9be-92dd-4c4f-b6d9-2b30cb6d0ac7"
      },
      "source": [
        "plt.style.use('ggplot')\n",
        "plt.close('all')\n",
        "\n",
        "fig, axes = plt.subplots(nrows=2, ncols=2)\n",
        "ax0, ax1, ax2, ax3 = axes.flatten()\n",
        "\n",
        "ax0.hist(spO2_alarm_train_hi_expire['value'], 15, histtype='bar')\n",
        "ax0.legend(prop={'size': 10})\n",
        "ax0.set_title('High SpO2, Expired')\n",
        "ax0.set_xlim([0, 120])\n",
        "\n",
        "ax1.hist(spO2_alarm_train_hi_noexpire['value'], 15, histtype='bar')\n",
        "ax1.set_title('High SpO2, Not Expired')\n",
        "ax1.set_xlim([0, 120])\n",
        "\n",
        "ax2.hist(spO2_alarm_train_lo_expire['value'], 15, histtype='bar')\n",
        "ax2.set_title('Low SpO2, Expired')\n",
        "ax2.set_xlim([0, 120])\n",
        "\n",
        "ax3.hist(spO2_alarm_train_lo_noexpire['value'], 15, histtype='bar')\n",
        "ax3.set_title('Low SpO2, Not Expired')\n",
        "ax3.set_xlim([0, 120])\n",
        "\n",
        "fig.tight_layout()\n",
        "plt.show()"
      ],
      "execution_count": null,
      "outputs": [
        {
          "output_type": "stream",
          "text": [
            "/usr/local/lib/python3.6/dist-packages/numpy/lib/histograms.py:839: RuntimeWarning: invalid value encountered in greater_equal\n",
            "  keep = (tmp_a >= first_edge)\n",
            "/usr/local/lib/python3.6/dist-packages/numpy/lib/histograms.py:840: RuntimeWarning: invalid value encountered in less_equal\n",
            "  keep &= (tmp_a <= last_edge)\n",
            "No handles with labels found to put in legend.\n"
          ],
          "name": "stderr"
        },
        {
          "output_type": "display_data",
          "data": {
            "image/png": "[encoded data removed]",
            "text/plain": [
              "<Figure size 432x288 with 4 Axes>"
            ]
          },
          "metadata": {
            "tags": []
          }
        }
      ]
    },
    {
      "cell_type": "code",
      "metadata": {
        "colab": {
          "base_uri": "https://localhost:8080/",
          "height": 315
        },
        "id": "T_36QDCV4fpi",
        "outputId": "15131004-f5ec-4643-95e9-633a1642604a"
      },
      "source": [
        "fig, axes = plt.subplots(nrows=2, ncols=2)\n",
        "ax0, ax1, ax2, ax3 = axes.flatten()\n",
        "\n",
        "ax0.boxplot(spO2_alarm_train_hi_expire['valuenum'])\n",
        "ax0.legend(prop={'size': 10})\n",
        "ax0.set_title('High SpO2, Expired')\n",
        "ax0.set_ylim([85, 110])\n",
        "\n",
        "ax1.boxplot(spO2_alarm_train_hi_noexpire['valuenum'])\n",
        "ax1.set_title('High SpO2, Not Expired')\n",
        "ax1.set_ylim([85, 110])\n",
        "\n",
        "ax2.boxplot(spO2_alarm_train_lo_expire['valuenum'])\n",
        "ax2.set_title('Low SpO2, Expired')\n",
        "ax2.set_ylim([50, 120])\n",
        "\n",
        "ax3.boxplot(spO2_alarm_train_lo_noexpire['valuenum'])\n",
        "ax3.set_title('Low SpO2, Not Expired')\n",
        "ax3.set_ylim([50, 120])\n",
        "\n",
        "fig.tight_layout()\n",
        "plt.show()"
      ],
      "execution_count": null,
      "outputs": [
        {
          "output_type": "stream",
          "text": [
            "No handles with labels found to put in legend.\n"
          ],
          "name": "stderr"
        },
        {
          "output_type": "display_data",
          "data": {
            "image/png": "[encoded data removed]",
            "text/plain": [
              "<Figure size 432x288 with 4 Axes>"
            ]
          },
          "metadata": {
            "tags": [],
            "needs_background": "light"
          }
        }
      ]
    }
  ]
}