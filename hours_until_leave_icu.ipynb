{
 "cells": [
  {
   "cell_type": "code",
   "execution_count": 1,
   "metadata": {},
   "outputs": [],
   "source": [
    "import pandas as pd\n",
    "import numpy as np\n",
    "import matplotlib.pyplot as plt\n",
    "import seaborn as sns\n",
    "from sklearn.model_selection import train_test_split\n",
    "from sklearn.neighbors import KNeighborsRegressor\n",
    "from sklearn.linear_model import LinearRegression\n",
    "from sklearn.svm import SVR\n",
    "from sklearn.ensemble import RandomForestRegressor\n",
    "from sklearn.tree import DecisionTreeRegressor\n",
    "from sklearn.metrics import r2_score, mean_squared_error\n",
    "from sklearn.preprocessing import MinMaxScaler\n",
    "from scipy.stats import pearsonr\n",
    "from sklearn.ensemble import GradientBoostingRegressor\n",
    "from sklearn.linear_model import SGDRegressor\n",
    "#import statsmodels.api as sm\n",
    "from sklearn.model_selection import GridSearchCV\n",
    "import seaborn as sns"
   ]
  },
  {
   "cell_type": "code",
   "execution_count": 2,
   "metadata": {},
   "outputs": [],
   "source": [
    "Train_Data = pd.read_csv('static_train_data.csv')\n",
    "\n",
    "Test_Data = pd.read_csv('static_test_data.csv')"
   ]
  },
  {
   "cell_type": "code",
   "execution_count": 3,
   "metadata": {},
   "outputs": [],
   "source": [
    "Train_Data['admittime'] = pd.to_datetime(Train_Data['admittime'])\n",
    "Train_Data['dischtime'] = pd.to_datetime(Train_Data['dischtime'])\n",
    "\n",
    "# ICU in time, hospital out time\n",
    "#Train_Data['LOS(ICU)'] = (Train_Data['dischtime'] - \n",
    "                     #ICUSTAYS['INTIME']).dt.total_seconds()/86400\n",
    "\n",
    "#In/out to the hospital\n",
    "Train_Data['LOS'] = (Train_Data['dischtime'] - \n",
    "                     Train_Data['admittime']).dt.total_seconds()/86400"
   ]
  },
  {
   "cell_type": "code",
   "execution_count": 4,
   "metadata": {},
   "outputs": [],
   "source": [
    "Test_Data['admittime'] = pd.to_datetime(Test_Data['admittime'])\n",
    "Test_Data['dischtime'] = pd.to_datetime(Test_Data['dischtime'])\n",
    "\n",
    "# ICU in time, hospital out time\n",
    "#Train_Data['LOS(ICU)'] = (Train_Data['dischtime'] - \n",
    "                     #ICUSTAYS['INTIME']).dt.total_seconds()/86400\n",
    "\n",
    "#In/out to the hospital\n",
    "Test_Data['LOS'] = (Test_Data['dischtime'] - \n",
    "                     Test_Data['admittime']).dt.total_seconds()/86400"
   ]
  },
  {
   "cell_type": "code",
   "execution_count": 5,
   "metadata": {},
   "outputs": [
    {
     "data": {
      "text/html": [
       "<div>\n",
       "<style scoped>\n",
       "    .dataframe tbody tr th:only-of-type {\n",
       "        vertical-align: middle;\n",
       "    }\n",
       "\n",
       "    .dataframe tbody tr th {\n",
       "        vertical-align: top;\n",
       "    }\n",
       "\n",
       "    .dataframe thead th {\n",
       "        text-align: right;\n",
       "    }\n",
       "</style>\n",
       "<table border=\"1\" class=\"dataframe\">\n",
       "  <thead>\n",
       "    <tr style=\"text-align: right;\">\n",
       "      <th></th>\n",
       "      <th>admittime</th>\n",
       "      <th>dischtime</th>\n",
       "      <th>LOS</th>\n",
       "    </tr>\n",
       "  </thead>\n",
       "  <tbody>\n",
       "    <tr>\n",
       "      <th>0</th>\n",
       "      <td>2195-09-17 14:12:00</td>\n",
       "      <td>2195-09-19 21:02:00</td>\n",
       "      <td>2.284722</td>\n",
       "    </tr>\n",
       "    <tr>\n",
       "      <th>1</th>\n",
       "      <td>2124-07-03 14:00:00</td>\n",
       "      <td>2124-07-08 12:30:00</td>\n",
       "      <td>4.937500</td>\n",
       "    </tr>\n",
       "    <tr>\n",
       "      <th>2</th>\n",
       "      <td>2187-04-02 14:16:00</td>\n",
       "      <td>2187-04-19 16:26:00</td>\n",
       "      <td>17.090278</td>\n",
       "    </tr>\n",
       "    <tr>\n",
       "      <th>3</th>\n",
       "      <td>2154-12-11 13:40:00</td>\n",
       "      <td>2154-12-18 13:18:00</td>\n",
       "      <td>6.984722</td>\n",
       "    </tr>\n",
       "    <tr>\n",
       "      <th>4</th>\n",
       "      <td>2201-03-04 09:30:00</td>\n",
       "      <td>2201-03-12 15:30:00</td>\n",
       "      <td>8.250000</td>\n",
       "    </tr>\n",
       "  </tbody>\n",
       "</table>\n",
       "</div>"
      ],
      "text/plain": [
       "            admittime           dischtime        LOS\n",
       "0 2195-09-17 14:12:00 2195-09-19 21:02:00   2.284722\n",
       "1 2124-07-03 14:00:00 2124-07-08 12:30:00   4.937500\n",
       "2 2187-04-02 14:16:00 2187-04-19 16:26:00  17.090278\n",
       "3 2154-12-11 13:40:00 2154-12-18 13:18:00   6.984722\n",
       "4 2201-03-04 09:30:00 2201-03-12 15:30:00   8.250000"
      ]
     },
     "execution_count": 5,
     "metadata": {},
     "output_type": "execute_result"
    }
   ],
   "source": [
    "Train_Data[['admittime', 'dischtime', 'LOS']].head()"
   ]
  },
  {
   "cell_type": "code",
   "execution_count": 6,
   "metadata": {},
   "outputs": [
    {
     "data": {
      "text/html": [
       "<div>\n",
       "<style scoped>\n",
       "    .dataframe tbody tr th:only-of-type {\n",
       "        vertical-align: middle;\n",
       "    }\n",
       "\n",
       "    .dataframe tbody tr th {\n",
       "        vertical-align: top;\n",
       "    }\n",
       "\n",
       "    .dataframe thead th {\n",
       "        text-align: right;\n",
       "    }\n",
       "</style>\n",
       "<table border=\"1\" class=\"dataframe\">\n",
       "  <thead>\n",
       "    <tr style=\"text-align: right;\">\n",
       "      <th></th>\n",
       "      <th>admittime</th>\n",
       "      <th>dischtime</th>\n",
       "      <th>LOS</th>\n",
       "    </tr>\n",
       "  </thead>\n",
       "  <tbody>\n",
       "    <tr>\n",
       "      <th>0</th>\n",
       "      <td>2138-06-10 16:13:00</td>\n",
       "      <td>2138-06-17 12:45:00</td>\n",
       "      <td>6.855556</td>\n",
       "    </tr>\n",
       "    <tr>\n",
       "      <th>1</th>\n",
       "      <td>2196-09-27 18:10:00</td>\n",
       "      <td>2196-10-26 18:31:00</td>\n",
       "      <td>29.014583</td>\n",
       "    </tr>\n",
       "    <tr>\n",
       "      <th>2</th>\n",
       "      <td>2192-08-23 18:37:00</td>\n",
       "      <td>2192-08-25 13:09:00</td>\n",
       "      <td>1.772222</td>\n",
       "    </tr>\n",
       "    <tr>\n",
       "      <th>3</th>\n",
       "      <td>2126-08-13 14:00:00</td>\n",
       "      <td>2126-08-19 14:00:00</td>\n",
       "      <td>6.000000</td>\n",
       "    </tr>\n",
       "    <tr>\n",
       "      <th>4</th>\n",
       "      <td>2189-11-25 05:30:00</td>\n",
       "      <td>2189-12-24 15:37:00</td>\n",
       "      <td>29.421528</td>\n",
       "    </tr>\n",
       "  </tbody>\n",
       "</table>\n",
       "</div>"
      ],
      "text/plain": [
       "            admittime           dischtime        LOS\n",
       "0 2138-06-10 16:13:00 2138-06-17 12:45:00   6.855556\n",
       "1 2196-09-27 18:10:00 2196-10-26 18:31:00  29.014583\n",
       "2 2192-08-23 18:37:00 2192-08-25 13:09:00   1.772222\n",
       "3 2126-08-13 14:00:00 2126-08-19 14:00:00   6.000000\n",
       "4 2189-11-25 05:30:00 2189-12-24 15:37:00  29.421528"
      ]
     },
     "execution_count": 6,
     "metadata": {},
     "output_type": "execute_result"
    }
   ],
   "source": [
    "Test_Data[['admittime', 'dischtime', 'LOS']].head()"
   ]
  },
  {
   "cell_type": "code",
   "execution_count": 7,
   "metadata": {},
   "outputs": [
    {
     "data": {
      "text/plain": [
       "count    23392.000000\n",
       "mean        10.049370\n",
       "std         10.950239\n",
       "min         -0.229167\n",
       "25%          4.099306\n",
       "50%          6.946528\n",
       "75%         12.005903\n",
       "max        294.660417\n",
       "Name: LOS, dtype: float64"
      ]
     },
     "execution_count": 7,
     "metadata": {},
     "output_type": "execute_result"
    }
   ],
   "source": [
    "Train_Data['LOS'].describe()"
   ]
  },
  {
   "cell_type": "code",
   "execution_count": 8,
   "metadata": {},
   "outputs": [
    {
     "data": {
      "text/plain": [
       "count    7310.000000\n",
       "mean       10.029380\n",
       "std        10.784332\n",
       "min         0.012500\n",
       "25%         4.043056\n",
       "50%         6.949653\n",
       "75%        11.950347\n",
       "max       181.892361\n",
       "Name: LOS, dtype: float64"
      ]
     },
     "execution_count": 8,
     "metadata": {},
     "output_type": "execute_result"
    }
   ],
   "source": [
    "Test_Data['LOS'].describe()"
   ]
  },
  {
   "cell_type": "code",
   "execution_count": 9,
   "metadata": {},
   "outputs": [
    {
     "data": {
      "text/html": [
       "<div>\n",
       "<style scoped>\n",
       "    .dataframe tbody tr th:only-of-type {\n",
       "        vertical-align: middle;\n",
       "    }\n",
       "\n",
       "    .dataframe tbody tr th {\n",
       "        vertical-align: top;\n",
       "    }\n",
       "\n",
       "    .dataframe thead th {\n",
       "        text-align: right;\n",
       "    }\n",
       "</style>\n",
       "<table border=\"1\" class=\"dataframe\">\n",
       "  <thead>\n",
       "    <tr style=\"text-align: right;\">\n",
       "      <th></th>\n",
       "      <th>Unnamed: 0</th>\n",
       "      <th>subject_id</th>\n",
       "      <th>hadm_id</th>\n",
       "      <th>icustay_id</th>\n",
       "      <th>anytime_expire_flag</th>\n",
       "      <th>hospital_expire_flag</th>\n",
       "      <th>icu_expire_flag</th>\n",
       "      <th>time_of_death</th>\n",
       "      <th>time_until_death</th>\n",
       "      <th>hours_until_death</th>\n",
       "      <th>...</th>\n",
       "      <th>blood</th>\n",
       "      <th>acute</th>\n",
       "      <th>failure</th>\n",
       "      <th>cancer</th>\n",
       "      <th>back</th>\n",
       "      <th>bone</th>\n",
       "      <th>pain</th>\n",
       "      <th>other</th>\n",
       "      <th>totalcats</th>\n",
       "      <th>LOS</th>\n",
       "    </tr>\n",
       "  </thead>\n",
       "  <tbody>\n",
       "    <tr>\n",
       "      <th>991</th>\n",
       "      <td>991</td>\n",
       "      <td>45104</td>\n",
       "      <td>127436</td>\n",
       "      <td>249259</td>\n",
       "      <td>0</td>\n",
       "      <td>0</td>\n",
       "      <td>0</td>\n",
       "      <td>NaN</td>\n",
       "      <td>NaN</td>\n",
       "      <td>103018.0</td>\n",
       "      <td>...</td>\n",
       "      <td>0</td>\n",
       "      <td>0</td>\n",
       "      <td>0</td>\n",
       "      <td>0</td>\n",
       "      <td>0</td>\n",
       "      <td>0</td>\n",
       "      <td>0</td>\n",
       "      <td>0</td>\n",
       "      <td>1</td>\n",
       "      <td>-0.229167</td>\n",
       "    </tr>\n",
       "    <tr>\n",
       "      <th>3510</th>\n",
       "      <td>3510</td>\n",
       "      <td>83967</td>\n",
       "      <td>182476</td>\n",
       "      <td>299943</td>\n",
       "      <td>0</td>\n",
       "      <td>0</td>\n",
       "      <td>0</td>\n",
       "      <td>NaN</td>\n",
       "      <td>NaN</td>\n",
       "      <td>103018.0</td>\n",
       "      <td>...</td>\n",
       "      <td>0</td>\n",
       "      <td>0</td>\n",
       "      <td>0</td>\n",
       "      <td>0</td>\n",
       "      <td>0</td>\n",
       "      <td>0</td>\n",
       "      <td>1</td>\n",
       "      <td>0</td>\n",
       "      <td>2</td>\n",
       "      <td>-0.217361</td>\n",
       "    </tr>\n",
       "    <tr>\n",
       "      <th>4966</th>\n",
       "      <td>4966</td>\n",
       "      <td>31644</td>\n",
       "      <td>195619</td>\n",
       "      <td>270822</td>\n",
       "      <td>0</td>\n",
       "      <td>0</td>\n",
       "      <td>0</td>\n",
       "      <td>NaN</td>\n",
       "      <td>NaN</td>\n",
       "      <td>103018.0</td>\n",
       "      <td>...</td>\n",
       "      <td>0</td>\n",
       "      <td>0</td>\n",
       "      <td>0</td>\n",
       "      <td>0</td>\n",
       "      <td>0</td>\n",
       "      <td>0</td>\n",
       "      <td>0</td>\n",
       "      <td>1</td>\n",
       "      <td>0</td>\n",
       "      <td>-0.204861</td>\n",
       "    </tr>\n",
       "    <tr>\n",
       "      <th>23128</th>\n",
       "      <td>23128</td>\n",
       "      <td>11983</td>\n",
       "      <td>129454</td>\n",
       "      <td>207034</td>\n",
       "      <td>0</td>\n",
       "      <td>0</td>\n",
       "      <td>0</td>\n",
       "      <td>NaN</td>\n",
       "      <td>NaN</td>\n",
       "      <td>103018.0</td>\n",
       "      <td>...</td>\n",
       "      <td>0</td>\n",
       "      <td>0</td>\n",
       "      <td>0</td>\n",
       "      <td>0</td>\n",
       "      <td>0</td>\n",
       "      <td>0</td>\n",
       "      <td>0</td>\n",
       "      <td>1</td>\n",
       "      <td>0</td>\n",
       "      <td>-0.091667</td>\n",
       "    </tr>\n",
       "  </tbody>\n",
       "</table>\n",
       "<p>4 rows × 64 columns</p>\n",
       "</div>"
      ],
      "text/plain": [
       "       Unnamed: 0  subject_id  hadm_id  icustay_id  anytime_expire_flag  \\\n",
       "991           991       45104   127436      249259                    0   \n",
       "3510         3510       83967   182476      299943                    0   \n",
       "4966         4966       31644   195619      270822                    0   \n",
       "23128       23128       11983   129454      207034                    0   \n",
       "\n",
       "       hospital_expire_flag  icu_expire_flag time_of_death time_until_death  \\\n",
       "991                       0                0           NaN              NaN   \n",
       "3510                      0                0           NaN              NaN   \n",
       "4966                      0                0           NaN              NaN   \n",
       "23128                     0                0           NaN              NaN   \n",
       "\n",
       "       hours_until_death  ...  blood acute failure cancer back bone  pain  \\\n",
       "991             103018.0  ...      0     0       0      0    0    0     0   \n",
       "3510            103018.0  ...      0     0       0      0    0    0     1   \n",
       "4966            103018.0  ...      0     0       0      0    0    0     0   \n",
       "23128           103018.0  ...      0     0       0      0    0    0     0   \n",
       "\n",
       "      other  totalcats       LOS  \n",
       "991       0          1 -0.229167  \n",
       "3510      0          2 -0.217361  \n",
       "4966      1          0 -0.204861  \n",
       "23128     1          0 -0.091667  \n",
       "\n",
       "[4 rows x 64 columns]"
      ]
     },
     "execution_count": 9,
     "metadata": {},
     "output_type": "execute_result"
    }
   ],
   "source": [
    "Train_Data[Train_Data['LOS'] < 0]"
   ]
  },
  {
   "cell_type": "code",
   "execution_count": 10,
   "metadata": {},
   "outputs": [
    {
     "data": {
      "text/html": [
       "<div>\n",
       "<style scoped>\n",
       "    .dataframe tbody tr th:only-of-type {\n",
       "        vertical-align: middle;\n",
       "    }\n",
       "\n",
       "    .dataframe tbody tr th {\n",
       "        vertical-align: top;\n",
       "    }\n",
       "\n",
       "    .dataframe thead th {\n",
       "        text-align: right;\n",
       "    }\n",
       "</style>\n",
       "<table border=\"1\" class=\"dataframe\">\n",
       "  <thead>\n",
       "    <tr style=\"text-align: right;\">\n",
       "      <th></th>\n",
       "      <th>Unnamed: 0</th>\n",
       "      <th>subject_id</th>\n",
       "      <th>hadm_id</th>\n",
       "      <th>icustay_id</th>\n",
       "      <th>anytime_expire_flag</th>\n",
       "      <th>hospital_expire_flag</th>\n",
       "      <th>icu_expire_flag</th>\n",
       "      <th>time_of_death</th>\n",
       "      <th>time_until_death</th>\n",
       "      <th>hours_until_death</th>\n",
       "      <th>...</th>\n",
       "      <th>blood</th>\n",
       "      <th>acute</th>\n",
       "      <th>failure</th>\n",
       "      <th>cancer</th>\n",
       "      <th>back</th>\n",
       "      <th>bone</th>\n",
       "      <th>pain</th>\n",
       "      <th>other</th>\n",
       "      <th>totalcats</th>\n",
       "      <th>LOS</th>\n",
       "    </tr>\n",
       "  </thead>\n",
       "  <tbody>\n",
       "  </tbody>\n",
       "</table>\n",
       "<p>0 rows × 64 columns</p>\n",
       "</div>"
      ],
      "text/plain": [
       "Empty DataFrame\n",
       "Columns: [Unnamed: 0, subject_id, hadm_id, icustay_id, anytime_expire_flag, hospital_expire_flag, icu_expire_flag, time_of_death, time_until_death, hours_until_death, days_until_death, admittime, dischtime, intime, outtime, time_until_hospital_exit, days_until_hospital_exit, admission_time_until_icu, hours_until_icu_admission, time_until_leave_ICU, hours_until_leave_ICU, icu_admit_age, female, dbsource, first_careunit, admission_type, marital_status, insurance, icd_blood, icd_circulatory, icd_congenital, icd_digestive, icd_endocrine, icd_genitourinary, icd_infectious, icd_injury, icd_mental, icd_misc, icd_muscular, icd_neoplasms, icd_nervous, icd_pregnancy, icd_prenatal, icd_respiratory, icd_skin, diagnosis, cardio, infection, brain, mental, gastro, trauma, respiratory, organ, blood, acute, failure, cancer, back, bone, pain, other, totalcats, LOS]\n",
       "Index: []\n",
       "\n",
       "[0 rows x 64 columns]"
      ]
     },
     "execution_count": 10,
     "metadata": {},
     "output_type": "execute_result"
    }
   ],
   "source": [
    "Test_Data[Test_Data['LOS'] < 0]"
   ]
  },
  {
   "cell_type": "code",
   "execution_count": 11,
   "metadata": {},
   "outputs": [],
   "source": [
    "Train_Data = Train_Data[Train_Data['LOS'] > 0]\n",
    "Test_Data = Test_Data[Test_Data['LOS'] > 0]"
   ]
  },
  {
   "cell_type": "code",
   "execution_count": 12,
   "metadata": {},
   "outputs": [
    {
     "data": {
      "text/plain": [
       "count    23388.000000\n",
       "mean        10.051120\n",
       "std         10.950357\n",
       "min          0.004167\n",
       "25%          4.100694\n",
       "50%          6.947222\n",
       "75%         12.006944\n",
       "max        294.660417\n",
       "Name: LOS, dtype: float64"
      ]
     },
     "execution_count": 12,
     "metadata": {},
     "output_type": "execute_result"
    }
   ],
   "source": [
    "Train_Data['LOS'].describe()"
   ]
  },
  {
   "cell_type": "code",
   "execution_count": 13,
   "metadata": {},
   "outputs": [
    {
     "data": {
      "image/png": "[encoded data removed]",
      "text/plain": [
       "<Figure size 432x288 with 1 Axes>"
      ]
     },
     "metadata": {},
     "output_type": "display_data"
    }
   ],
   "source": [
    "sns.set(style=\"whitegrid\")\n",
    "plt.hist(Train_Data['LOS'], bins=200)\n",
    "plt.xlim(0, 55)\n",
    "plt.title('Distribution of LOS for all hospital admissions, including dead records after admission')\n",
    "plt.ylabel('Count')\n",
    "plt.xlabel('Length-of-Stay in days')\n",
    "plt.tick_params(top=False, right=False) \n",
    "plt.show()"
   ]
  },
  {
   "cell_type": "code",
   "execution_count": 14,
   "metadata": {},
   "outputs": [
    {
     "data": {
      "image/png": "[encoded data removed]",
      "text/plain": [
       "<Figure size 432x288 with 1 Axes>"
      ]
     },
     "metadata": {},
     "output_type": "display_data"
    }
   ],
   "source": [
    "sns.set(style=\"whitegrid\")\n",
    "plt.hist(Test_Data['LOS'], bins=200,color = 'red')\n",
    "plt.xlim(0, 55)\n",
    "plt.title('Distribution of LOS for all hospital admissions, including dead records after admission')\n",
    "plt.ylabel('Count')\n",
    "plt.xlabel('Length-of-Stay in days')\n",
    "plt.tick_params(top=False, right=False) \n",
    "plt.show()"
   ]
  },
  {
   "cell_type": "code",
   "execution_count": 15,
   "metadata": {},
   "outputs": [],
   "source": [
    "# 1: died, 0: not dead.\n",
    "Train_Data['deceased'] = Train_Data['time_of_death'].notnull().map({True:1, False:0})\n",
    "Test_Data['deceased'] = Test_Data['time_of_death'].notnull().map({True:1, False:0})\n"
   ]
  },
  {
   "cell_type": "code",
   "execution_count": 16,
   "metadata": {},
   "outputs": [
    {
     "name": "stdout",
     "output_type": "stream",
     "text": [
      "9153 of 23388 patients died in the hospital in the training data\n",
      "2765 of 7310 patients died in the hospital in the testing data\n"
     ]
    }
   ],
   "source": [
    "print(\"{} of {} patients died in the hospital in the training data\"\n",
    "      .format(Train_Data['deceased'].sum(), Train_Data['subject_id']\n",
    "              .nunique()))\n",
    "print(\"{} of {} patients died in the hospital in the testing data\"\n",
    "      .format(Test_Data['deceased'].sum(), Test_Data['subject_id']\n",
    "              .nunique()))"
   ]
  },
  {
   "cell_type": "code",
   "execution_count": 17,
   "metadata": {},
   "outputs": [
    {
     "data": {
      "text/plain": [
       "count    14235.000000\n",
       "mean        82.040674\n",
       "std        116.511774\n",
       "min          0.000000\n",
       "25%         27.000000\n",
       "50%         46.000000\n",
       "75%         81.000000\n",
       "max       2441.000000\n",
       "Name: hours_until_leave_ICU, dtype: float64"
      ]
     },
     "execution_count": 17,
     "metadata": {},
     "output_type": "execute_result"
    }
   ],
   "source": [
    "Train_Data['hours_until_leave_ICU'].loc[Train_Data['deceased'] == 0].describe()"
   ]
  },
  {
   "cell_type": "code",
   "execution_count": 18,
   "metadata": {},
   "outputs": [
    {
     "data": {
      "text/plain": [
       "count    14235.000000\n",
       "mean         9.024471\n",
       "std          9.316243\n",
       "min          0.089583\n",
       "25%          3.991667\n",
       "50%          6.379167\n",
       "75%         10.693056\n",
       "max        202.762500\n",
       "Name: LOS, dtype: float64"
      ]
     },
     "execution_count": 18,
     "metadata": {},
     "output_type": "execute_result"
    }
   ],
   "source": [
    "Train_Data['LOS'].loc[Train_Data['deceased'] == 0].describe()"
   ]
  },
  {
   "cell_type": "code",
   "execution_count": 19,
   "metadata": {},
   "outputs": [
    {
     "data": {
      "text/plain": [
       "count    4545.000000\n",
       "mean        9.248567\n",
       "std        10.015300\n",
       "min         0.055556\n",
       "25%         3.940278\n",
       "50%         6.502778\n",
       "75%        10.713194\n",
       "max       163.246528\n",
       "Name: LOS, dtype: float64"
      ]
     },
     "execution_count": 19,
     "metadata": {},
     "output_type": "execute_result"
    }
   ],
   "source": [
    "Test_Data['LOS'].loc[Test_Data['deceased'] == 0].describe()"
   ]
  },
  {
   "cell_type": "code",
   "execution_count": 20,
   "metadata": {},
   "outputs": [
    {
     "data": {
      "text/plain": [
       "count    4545.000000\n",
       "mean       84.449065\n",
       "std       126.196968\n",
       "min         0.000000\n",
       "25%        27.000000\n",
       "50%        46.000000\n",
       "75%        83.000000\n",
       "max      1842.000000\n",
       "Name: hours_until_leave_ICU, dtype: float64"
      ]
     },
     "execution_count": 20,
     "metadata": {},
     "output_type": "execute_result"
    }
   ],
   "source": [
    "Test_Data['hours_until_leave_ICU'].loc[Test_Data['deceased'] == 0].describe()"
   ]
  },
  {
   "cell_type": "code",
   "execution_count": 21,
   "metadata": {},
   "outputs": [
    {
     "data": {
      "image/png": "[encoded data removed]",
      "text/plain": [
       "<Figure size 432x288 with 1 Axes>"
      ]
     },
     "metadata": {},
     "output_type": "display_data"
    }
   ],
   "source": [
    "sns.set(style=\"whitegrid\")\n",
    "plt.hist(Train_Data['LOS'].loc[Train_Data['deceased'] == 0], bins=200)\n",
    "plt.xlim(0, 55)\n",
    "plt.title('Distribution of LOS for hospital admissions,no death')\n",
    "plt.ylabel('Count')\n",
    "plt.xlabel('Length-of-Stay (days)')\n",
    "plt.tick_params(top=False, right=False) \n",
    "plt.show()"
   ]
  },
  {
   "cell_type": "code",
   "execution_count": 22,
   "metadata": {},
   "outputs": [
    {
     "data": {
      "image/png": "[encoded data removed]",
      "text/plain": [
       "<Figure size 432x288 with 1 Axes>"
      ]
     },
     "metadata": {},
     "output_type": "display_data"
    }
   ],
   "source": [
    "sns.set(style=\"whitegrid\")\n",
    "plt.hist(Test_Data['LOS'].loc[Test_Data['deceased'] == 0], bins=200,color = 'red')\n",
    "plt.xlim(0, 55)\n",
    "plt.title('Distribution of LOS for hospital admissions,no death')\n",
    "plt.ylabel('Count')\n",
    "plt.xlabel('Length-of-Stay (days)')\n",
    "plt.tick_params(top=False, right=False) \n",
    "plt.show()"
   ]
  },
  {
   "cell_type": "code",
   "execution_count": 23,
   "metadata": {},
   "outputs": [
    {
     "data": {
      "text/plain": [
       "['MICU', 'CSRU', 'SICU', 'CCU', 'TSICU']"
      ]
     },
     "execution_count": 23,
     "metadata": {},
     "output_type": "execute_result"
    }
   ],
   "source": [
    "Train_Data['first_careunit'].value_counts().index.tolist()\n",
    "Test_Data['first_careunit'].value_counts().index.tolist()"
   ]
  },
  {
   "cell_type": "code",
   "execution_count": 24,
   "metadata": {},
   "outputs": [],
   "source": [
    "Train_Data['first_careunit'].replace({'CCU': 'ICU', 'CSRU': 'ICU', 'MICU': 'ICU',\n",
    "                                  'SICU': 'ICU', 'TSICU': 'ICU'}, inplace=True)\n",
    "\n",
    "Test_Data['first_careunit'].replace({'CCU': 'ICU', 'CSRU': 'ICU', 'MICU': 'ICU',\n",
    "                                  'SICU': 'ICU', 'TSICU': 'ICU'}, inplace=True)\n"
   ]
  },
  {
   "cell_type": "code",
   "execution_count": 25,
   "metadata": {},
   "outputs": [
    {
     "data": {
      "text/plain": [
       "['ICU']"
      ]
     },
     "execution_count": 25,
     "metadata": {},
     "output_type": "execute_result"
    }
   ],
   "source": [
    "Train_Data['first_careunit'].value_counts().index.tolist()\n",
    "Test_Data['first_careunit'].value_counts().index.tolist()"
   ]
  },
  {
   "cell_type": "code",
   "execution_count": 26,
   "metadata": {},
   "outputs": [
    {
     "data": {
      "text/plain": [
       "ICU    23388\n",
       "Name: first_careunit, dtype: int64"
      ]
     },
     "execution_count": 26,
     "metadata": {},
     "output_type": "execute_result"
    }
   ],
   "source": [
    "Train_Data['first_careunit'].value_counts()\n"
   ]
  },
  {
   "cell_type": "code",
   "execution_count": 27,
   "metadata": {},
   "outputs": [
    {
     "data": {
      "text/plain": [
       "ICU    7310\n",
       "Name: first_careunit, dtype: int64"
      ]
     },
     "execution_count": 27,
     "metadata": {},
     "output_type": "execute_result"
    }
   ],
   "source": [
    "Test_Data['first_careunit'].value_counts()"
   ]
  },
  {
   "cell_type": "code",
   "execution_count": 28,
   "metadata": {},
   "outputs": [
    {
     "data": {
      "text/html": [
       "<div>\n",
       "<style scoped>\n",
       "    .dataframe tbody tr th:only-of-type {\n",
       "        vertical-align: middle;\n",
       "    }\n",
       "\n",
       "    .dataframe tbody tr th {\n",
       "        vertical-align: top;\n",
       "    }\n",
       "\n",
       "    .dataframe thead th {\n",
       "        text-align: right;\n",
       "    }\n",
       "</style>\n",
       "<table border=\"1\" class=\"dataframe\">\n",
       "  <thead>\n",
       "    <tr style=\"text-align: right;\">\n",
       "      <th></th>\n",
       "      <th>hadm_id</th>\n",
       "      <th>CAT</th>\n",
       "    </tr>\n",
       "  </thead>\n",
       "  <tbody>\n",
       "    <tr>\n",
       "      <th>0</th>\n",
       "      <td>100007</td>\n",
       "      <td>[ICU]</td>\n",
       "    </tr>\n",
       "    <tr>\n",
       "      <th>1</th>\n",
       "      <td>100009</td>\n",
       "      <td>[ICU]</td>\n",
       "    </tr>\n",
       "    <tr>\n",
       "      <th>2</th>\n",
       "      <td>100018</td>\n",
       "      <td>[ICU]</td>\n",
       "    </tr>\n",
       "    <tr>\n",
       "      <th>3</th>\n",
       "      <td>100019</td>\n",
       "      <td>[ICU]</td>\n",
       "    </tr>\n",
       "    <tr>\n",
       "      <th>4</th>\n",
       "      <td>100024</td>\n",
       "      <td>[ICU]</td>\n",
       "    </tr>\n",
       "  </tbody>\n",
       "</table>\n",
       "</div>"
      ],
      "text/plain": [
       "   hadm_id    CAT\n",
       "0   100007  [ICU]\n",
       "1   100009  [ICU]\n",
       "2   100018  [ICU]\n",
       "3   100019  [ICU]\n",
       "4   100024  [ICU]"
      ]
     },
     "execution_count": 28,
     "metadata": {},
     "output_type": "execute_result"
    }
   ],
   "source": [
    "Train_Data['CAT'] = Train_Data['first_careunit']\n",
    "Train_Data_CAT_Lst = Train_Data.groupby('hadm_id')['CAT'].apply(list).reset_index()\n",
    "Train_Data_CAT_Lst.head()"
   ]
  },
  {
   "cell_type": "code",
   "execution_count": 29,
   "metadata": {},
   "outputs": [
    {
     "data": {
      "text/html": [
       "<div>\n",
       "<style scoped>\n",
       "    .dataframe tbody tr th:only-of-type {\n",
       "        vertical-align: middle;\n",
       "    }\n",
       "\n",
       "    .dataframe tbody tr th {\n",
       "        vertical-align: top;\n",
       "    }\n",
       "\n",
       "    .dataframe thead th {\n",
       "        text-align: right;\n",
       "    }\n",
       "</style>\n",
       "<table border=\"1\" class=\"dataframe\">\n",
       "  <thead>\n",
       "    <tr style=\"text-align: right;\">\n",
       "      <th></th>\n",
       "      <th>hadm_id</th>\n",
       "      <th>CAT</th>\n",
       "    </tr>\n",
       "  </thead>\n",
       "  <tbody>\n",
       "    <tr>\n",
       "      <th>0</th>\n",
       "      <td>100001</td>\n",
       "      <td>[ICU]</td>\n",
       "    </tr>\n",
       "    <tr>\n",
       "      <th>1</th>\n",
       "      <td>100021</td>\n",
       "      <td>[ICU]</td>\n",
       "    </tr>\n",
       "    <tr>\n",
       "      <th>2</th>\n",
       "      <td>100030</td>\n",
       "      <td>[ICU]</td>\n",
       "    </tr>\n",
       "    <tr>\n",
       "      <th>3</th>\n",
       "      <td>100040</td>\n",
       "      <td>[ICU]</td>\n",
       "    </tr>\n",
       "    <tr>\n",
       "      <th>4</th>\n",
       "      <td>100046</td>\n",
       "      <td>[ICU]</td>\n",
       "    </tr>\n",
       "  </tbody>\n",
       "</table>\n",
       "</div>"
      ],
      "text/plain": [
       "   hadm_id    CAT\n",
       "0   100001  [ICU]\n",
       "1   100021  [ICU]\n",
       "2   100030  [ICU]\n",
       "3   100040  [ICU]\n",
       "4   100046  [ICU]"
      ]
     },
     "execution_count": 29,
     "metadata": {},
     "output_type": "execute_result"
    }
   ],
   "source": [
    "Test_Data['CAT'] = Test_Data['first_careunit']\n",
    "Test_Data_CAT_Lst = Test_Data.groupby('hadm_id')['CAT'].apply(list).reset_index()\n",
    "Test_Data_CAT_Lst.head()"
   ]
  },
  {
   "cell_type": "code",
   "execution_count": 30,
   "metadata": {},
   "outputs": [],
   "source": [
    "ICU = pd.get_dummies(Train_Data_CAT_Lst['CAT'].apply(pd.Series).stack()).sum(level=0)\n",
    "ICU[ICU >= 1] = 1"
   ]
  },
  {
   "cell_type": "code",
   "execution_count": 31,
   "metadata": {},
   "outputs": [],
   "source": [
    "ICU_test = pd.get_dummies(Test_Data_CAT_Lst['CAT'].apply(pd.Series).stack()).sum(level=0)\n",
    "ICU_test[ICU_test >= 1] = 1\n"
   ]
  },
  {
   "cell_type": "code",
   "execution_count": 32,
   "metadata": {},
   "outputs": [
    {
     "data": {
      "text/html": [
       "<div>\n",
       "<style scoped>\n",
       "    .dataframe tbody tr th:only-of-type {\n",
       "        vertical-align: middle;\n",
       "    }\n",
       "\n",
       "    .dataframe tbody tr th {\n",
       "        vertical-align: top;\n",
       "    }\n",
       "\n",
       "    .dataframe thead th {\n",
       "        text-align: right;\n",
       "    }\n",
       "</style>\n",
       "<table border=\"1\" class=\"dataframe\">\n",
       "  <thead>\n",
       "    <tr style=\"text-align: right;\">\n",
       "      <th></th>\n",
       "      <th>ICU</th>\n",
       "      <th>hadm_id</th>\n",
       "    </tr>\n",
       "  </thead>\n",
       "  <tbody>\n",
       "    <tr>\n",
       "      <th>0</th>\n",
       "      <td>1</td>\n",
       "      <td>100007</td>\n",
       "    </tr>\n",
       "    <tr>\n",
       "      <th>1</th>\n",
       "      <td>1</td>\n",
       "      <td>100009</td>\n",
       "    </tr>\n",
       "    <tr>\n",
       "      <th>2</th>\n",
       "      <td>1</td>\n",
       "      <td>100018</td>\n",
       "    </tr>\n",
       "    <tr>\n",
       "      <th>3</th>\n",
       "      <td>1</td>\n",
       "      <td>100019</td>\n",
       "    </tr>\n",
       "    <tr>\n",
       "      <th>4</th>\n",
       "      <td>1</td>\n",
       "      <td>100024</td>\n",
       "    </tr>\n",
       "  </tbody>\n",
       "</table>\n",
       "</div>"
      ],
      "text/plain": [
       "   ICU  hadm_id\n",
       "0    1   100007\n",
       "1    1   100009\n",
       "2    1   100018\n",
       "3    1   100019\n",
       "4    1   100024"
      ]
     },
     "execution_count": 32,
     "metadata": {},
     "output_type": "execute_result"
    }
   ],
   "source": [
    "ICU = ICU.join(Train_Data_CAT_Lst['hadm_id'], how=\"outer\")\n",
    "ICU.head()"
   ]
  },
  {
   "cell_type": "code",
   "execution_count": 33,
   "metadata": {},
   "outputs": [
    {
     "data": {
      "text/html": [
       "<div>\n",
       "<style scoped>\n",
       "    .dataframe tbody tr th:only-of-type {\n",
       "        vertical-align: middle;\n",
       "    }\n",
       "\n",
       "    .dataframe tbody tr th {\n",
       "        vertical-align: top;\n",
       "    }\n",
       "\n",
       "    .dataframe thead th {\n",
       "        text-align: right;\n",
       "    }\n",
       "</style>\n",
       "<table border=\"1\" class=\"dataframe\">\n",
       "  <thead>\n",
       "    <tr style=\"text-align: right;\">\n",
       "      <th></th>\n",
       "      <th>ICU</th>\n",
       "      <th>hadm_id</th>\n",
       "    </tr>\n",
       "  </thead>\n",
       "  <tbody>\n",
       "    <tr>\n",
       "      <th>0</th>\n",
       "      <td>1</td>\n",
       "      <td>100001</td>\n",
       "    </tr>\n",
       "    <tr>\n",
       "      <th>1</th>\n",
       "      <td>1</td>\n",
       "      <td>100021</td>\n",
       "    </tr>\n",
       "    <tr>\n",
       "      <th>2</th>\n",
       "      <td>1</td>\n",
       "      <td>100030</td>\n",
       "    </tr>\n",
       "    <tr>\n",
       "      <th>3</th>\n",
       "      <td>1</td>\n",
       "      <td>100040</td>\n",
       "    </tr>\n",
       "    <tr>\n",
       "      <th>4</th>\n",
       "      <td>1</td>\n",
       "      <td>100046</td>\n",
       "    </tr>\n",
       "  </tbody>\n",
       "</table>\n",
       "</div>"
      ],
      "text/plain": [
       "   ICU  hadm_id\n",
       "0    1   100001\n",
       "1    1   100021\n",
       "2    1   100030\n",
       "3    1   100040\n",
       "4    1   100046"
      ]
     },
     "execution_count": 33,
     "metadata": {},
     "output_type": "execute_result"
    }
   ],
   "source": [
    "ICU_test = ICU_test.join(Test_Data_CAT_Lst['hadm_id'], how=\"outer\")\n",
    "ICU_test.head()"
   ]
  },
  {
   "cell_type": "code",
   "execution_count": 34,
   "metadata": {},
   "outputs": [],
   "source": [
    "Train_Data = Train_Data.merge(ICU, how='outer', on='hadm_id')"
   ]
  },
  {
   "cell_type": "code",
   "execution_count": 35,
   "metadata": {},
   "outputs": [
    {
     "name": "stdout",
     "output_type": "stream",
     "text": [
      "<class 'pandas.core.frame.DataFrame'>\n",
      "Int64Index: 23388 entries, 0 to 23387\n",
      "Data columns (total 67 columns):\n",
      " #   Column                     Non-Null Count  Dtype         \n",
      "---  ------                     --------------  -----         \n",
      " 0   Unnamed: 0                 23388 non-null  int64         \n",
      " 1   subject_id                 23388 non-null  int64         \n",
      " 2   hadm_id                    23388 non-null  int64         \n",
      " 3   icustay_id                 23388 non-null  int64         \n",
      " 4   anytime_expire_flag        23388 non-null  int64         \n",
      " 5   hospital_expire_flag       23388 non-null  int64         \n",
      " 6   icu_expire_flag            23388 non-null  int64         \n",
      " 7   time_of_death              9153 non-null   object        \n",
      " 8   time_until_death           9153 non-null   object        \n",
      " 9   hours_until_death          23388 non-null  float64       \n",
      " 10  days_until_death           9153 non-null   float64       \n",
      " 11  admittime                  23388 non-null  datetime64[ns]\n",
      " 12  dischtime                  23388 non-null  datetime64[ns]\n",
      " 13  intime                     23388 non-null  object        \n",
      " 14  outtime                    23387 non-null  object        \n",
      " 15  time_until_hospital_exit   23388 non-null  object        \n",
      " 16  days_until_hospital_exit   23388 non-null  float64       \n",
      " 17  admission_time_until_icu   23388 non-null  object        \n",
      " 18  hours_until_icu_admission  23388 non-null  float64       \n",
      " 19  time_until_leave_ICU       23388 non-null  object        \n",
      " 20  hours_until_leave_ICU      23388 non-null  float64       \n",
      " 21  icu_admit_age              23388 non-null  int64         \n",
      " 22  female                     23388 non-null  int64         \n",
      " 23  dbsource                   23388 non-null  object        \n",
      " 24  first_careunit             23388 non-null  object        \n",
      " 25  admission_type             23388 non-null  object        \n",
      " 26  marital_status             22072 non-null  object        \n",
      " 27  insurance                  23388 non-null  object        \n",
      " 28  icd_blood                  23388 non-null  float64       \n",
      " 29  icd_circulatory            23388 non-null  float64       \n",
      " 30  icd_congenital             23388 non-null  float64       \n",
      " 31  icd_digestive              23388 non-null  float64       \n",
      " 32  icd_endocrine              23388 non-null  float64       \n",
      " 33  icd_genitourinary          23388 non-null  float64       \n",
      " 34  icd_infectious             23388 non-null  float64       \n",
      " 35  icd_injury                 23388 non-null  float64       \n",
      " 36  icd_mental                 23388 non-null  float64       \n",
      " 37  icd_misc                   23388 non-null  float64       \n",
      " 38  icd_muscular               23388 non-null  float64       \n",
      " 39  icd_neoplasms              23388 non-null  float64       \n",
      " 40  icd_nervous                23388 non-null  float64       \n",
      " 41  icd_pregnancy              23388 non-null  float64       \n",
      " 42  icd_prenatal               23388 non-null  float64       \n",
      " 43  icd_respiratory            23388 non-null  float64       \n",
      " 44  icd_skin                   23388 non-null  float64       \n",
      " 45  diagnosis                  23387 non-null  object        \n",
      " 46  cardio                     23388 non-null  int64         \n",
      " 47  infection                  23388 non-null  int64         \n",
      " 48  brain                      23388 non-null  int64         \n",
      " 49  mental                     23388 non-null  int64         \n",
      " 50  gastro                     23388 non-null  int64         \n",
      " 51  trauma                     23388 non-null  int64         \n",
      " 52  respiratory                23388 non-null  int64         \n",
      " 53  organ                      23388 non-null  int64         \n",
      " 54  blood                      23388 non-null  int64         \n",
      " 55  acute                      23388 non-null  int64         \n",
      " 56  failure                    23388 non-null  int64         \n",
      " 57  cancer                     23388 non-null  int64         \n",
      " 58  back                       23388 non-null  int64         \n",
      " 59  bone                       23388 non-null  int64         \n",
      " 60  pain                       23388 non-null  int64         \n",
      " 61  other                      23388 non-null  int64         \n",
      " 62  totalcats                  23388 non-null  int64         \n",
      " 63  LOS                        23388 non-null  float64       \n",
      " 64  deceased                   23388 non-null  int64         \n",
      " 65  CAT                        23388 non-null  object        \n",
      " 66  ICU                        23388 non-null  uint8         \n",
      "dtypes: datetime64[ns](2), float64(23), int64(27), object(14), uint8(1)\n",
      "memory usage: 12.0+ MB\n"
     ]
    }
   ],
   "source": [
    "Train_Data.info()"
   ]
  },
  {
   "cell_type": "code",
   "execution_count": 36,
   "metadata": {},
   "outputs": [],
   "source": [
    "Test_Data = Test_Data.merge(ICU_test, how='outer', on='hadm_id')"
   ]
  },
  {
   "cell_type": "code",
   "execution_count": 37,
   "metadata": {},
   "outputs": [
    {
     "name": "stdout",
     "output_type": "stream",
     "text": [
      "<class 'pandas.core.frame.DataFrame'>\n",
      "Int64Index: 7310 entries, 0 to 7309\n",
      "Data columns (total 67 columns):\n",
      " #   Column                     Non-Null Count  Dtype         \n",
      "---  ------                     --------------  -----         \n",
      " 0   Unnamed: 0                 7310 non-null   int64         \n",
      " 1   subject_id                 7310 non-null   int64         \n",
      " 2   hadm_id                    7310 non-null   int64         \n",
      " 3   icustay_id                 7310 non-null   int64         \n",
      " 4   anytime_expire_flag        7310 non-null   int64         \n",
      " 5   hospital_expire_flag       7310 non-null   int64         \n",
      " 6   icu_expire_flag            7310 non-null   int64         \n",
      " 7   time_of_death              2765 non-null   object        \n",
      " 8   time_until_death           2765 non-null   object        \n",
      " 9   hours_until_death          7310 non-null   float64       \n",
      " 10  days_until_death           2765 non-null   float64       \n",
      " 11  admittime                  7310 non-null   datetime64[ns]\n",
      " 12  dischtime                  7310 non-null   datetime64[ns]\n",
      " 13  intime                     7310 non-null   object        \n",
      " 14  outtime                    7309 non-null   object        \n",
      " 15  time_until_hospital_exit   7310 non-null   object        \n",
      " 16  days_until_hospital_exit   7310 non-null   float64       \n",
      " 17  admission_time_until_icu   7310 non-null   object        \n",
      " 18  hours_until_icu_admission  7310 non-null   float64       \n",
      " 19  time_until_leave_ICU       7310 non-null   object        \n",
      " 20  hours_until_leave_ICU      7310 non-null   float64       \n",
      " 21  icu_admit_age              7310 non-null   int64         \n",
      " 22  female                     7310 non-null   int64         \n",
      " 23  dbsource                   7310 non-null   object        \n",
      " 24  first_careunit             7310 non-null   object        \n",
      " 25  admission_type             7310 non-null   object        \n",
      " 26  marital_status             6906 non-null   object        \n",
      " 27  insurance                  7310 non-null   object        \n",
      " 28  icd_blood                  7310 non-null   int64         \n",
      " 29  icd_circulatory            7310 non-null   int64         \n",
      " 30  icd_congenital             7310 non-null   int64         \n",
      " 31  icd_digestive              7310 non-null   int64         \n",
      " 32  icd_endocrine              7310 non-null   int64         \n",
      " 33  icd_genitourinary          7310 non-null   int64         \n",
      " 34  icd_infectious             7310 non-null   int64         \n",
      " 35  icd_injury                 7310 non-null   int64         \n",
      " 36  icd_mental                 7310 non-null   int64         \n",
      " 37  icd_misc                   7310 non-null   int64         \n",
      " 38  icd_muscular               7310 non-null   int64         \n",
      " 39  icd_neoplasms              7310 non-null   int64         \n",
      " 40  icd_nervous                7310 non-null   int64         \n",
      " 41  icd_pregnancy              7310 non-null   int64         \n",
      " 42  icd_prenatal               7310 non-null   int64         \n",
      " 43  icd_respiratory            7310 non-null   int64         \n",
      " 44  icd_skin                   7310 non-null   int64         \n",
      " 45  diagnosis                  7310 non-null   object        \n",
      " 46  cardio                     7310 non-null   int64         \n",
      " 47  infection                  7310 non-null   int64         \n",
      " 48  brain                      7310 non-null   int64         \n",
      " 49  mental                     7310 non-null   int64         \n",
      " 50  gastro                     7310 non-null   int64         \n",
      " 51  trauma                     7310 non-null   int64         \n",
      " 52  respiratory                7310 non-null   int64         \n",
      " 53  organ                      7310 non-null   int64         \n",
      " 54  blood                      7310 non-null   int64         \n",
      " 55  acute                      7310 non-null   int64         \n",
      " 56  failure                    7310 non-null   int64         \n",
      " 57  cancer                     7310 non-null   int64         \n",
      " 58  back                       7310 non-null   int64         \n",
      " 59  bone                       7310 non-null   int64         \n",
      " 60  pain                       7310 non-null   int64         \n",
      " 61  other                      7310 non-null   int64         \n",
      " 62  totalcats                  7310 non-null   int64         \n",
      " 63  LOS                        7310 non-null   float64       \n",
      " 64  deceased                   7310 non-null   int64         \n",
      " 65  CAT                        7310 non-null   object        \n",
      " 66  ICU                        7310 non-null   uint8         \n",
      "dtypes: datetime64[ns](2), float64(6), int64(44), object(14), uint8(1)\n",
      "memory usage: 3.7+ MB\n"
     ]
    }
   ],
   "source": [
    "Test_Data.info()"
   ]
  },
  {
   "cell_type": "code",
   "execution_count": 38,
   "metadata": {},
   "outputs": [],
   "source": [
    "Train_Data['ICU'].fillna(value=0, inplace=True)\n",
    "Test_Data['ICU'].fillna(value=0, inplace=True)"
   ]
  },
  {
   "cell_type": "code",
   "execution_count": 39,
   "metadata": {},
   "outputs": [
    {
     "data": {
      "text/plain": [
       "1    23388\n",
       "Name: ICU, dtype: int64"
      ]
     },
     "execution_count": 39,
     "metadata": {},
     "output_type": "execute_result"
    }
   ],
   "source": [
    "Train_Data.ICU.value_counts(dropna=False)"
   ]
  },
  {
   "cell_type": "code",
   "execution_count": 40,
   "metadata": {},
   "outputs": [
    {
     "data": {
      "text/plain": [
       "1    7310\n",
       "Name: ICU, dtype: int64"
      ]
     },
     "execution_count": 40,
     "metadata": {},
     "output_type": "execute_result"
    }
   ],
   "source": [
    "Test_Data.ICU.value_counts(dropna=False)"
   ]
  },
  {
   "cell_type": "code",
   "execution_count": 41,
   "metadata": {},
   "outputs": [
    {
     "name": "stdout",
     "output_type": "stream",
     "text": [
      "<class 'pandas.core.frame.DataFrame'>\n",
      "Int64Index: 23388 entries, 0 to 23387\n",
      "Data columns (total 67 columns):\n",
      " #   Column                     Non-Null Count  Dtype         \n",
      "---  ------                     --------------  -----         \n",
      " 0   Unnamed: 0                 23388 non-null  int64         \n",
      " 1   subject_id                 23388 non-null  int64         \n",
      " 2   hadm_id                    23388 non-null  int64         \n",
      " 3   icustay_id                 23388 non-null  int64         \n",
      " 4   anytime_expire_flag        23388 non-null  int64         \n",
      " 5   hospital_expire_flag       23388 non-null  int64         \n",
      " 6   icu_expire_flag            23388 non-null  int64         \n",
      " 7   time_of_death              9153 non-null   object        \n",
      " 8   time_until_death           9153 non-null   object        \n",
      " 9   hours_until_death          23388 non-null  float64       \n",
      " 10  days_until_death           9153 non-null   float64       \n",
      " 11  admittime                  23388 non-null  datetime64[ns]\n",
      " 12  dischtime                  23388 non-null  datetime64[ns]\n",
      " 13  intime                     23388 non-null  object        \n",
      " 14  outtime                    23387 non-null  object        \n",
      " 15  time_until_hospital_exit   23388 non-null  object        \n",
      " 16  days_until_hospital_exit   23388 non-null  float64       \n",
      " 17  admission_time_until_icu   23388 non-null  object        \n",
      " 18  hours_until_icu_admission  23388 non-null  float64       \n",
      " 19  time_until_leave_ICU       23388 non-null  object        \n",
      " 20  hours_until_leave_ICU      23388 non-null  float64       \n",
      " 21  icu_admit_age              23388 non-null  int64         \n",
      " 22  female                     23388 non-null  int64         \n",
      " 23  dbsource                   23388 non-null  object        \n",
      " 24  first_careunit             23388 non-null  object        \n",
      " 25  admission_type             23388 non-null  object        \n",
      " 26  marital_status             22072 non-null  object        \n",
      " 27  insurance                  23388 non-null  object        \n",
      " 28  icd_blood                  23388 non-null  float64       \n",
      " 29  icd_circulatory            23388 non-null  float64       \n",
      " 30  icd_congenital             23388 non-null  float64       \n",
      " 31  icd_digestive              23388 non-null  float64       \n",
      " 32  icd_endocrine              23388 non-null  float64       \n",
      " 33  icd_genitourinary          23388 non-null  float64       \n",
      " 34  icd_infectious             23388 non-null  float64       \n",
      " 35  icd_injury                 23388 non-null  float64       \n",
      " 36  icd_mental                 23388 non-null  float64       \n",
      " 37  icd_misc                   23388 non-null  float64       \n",
      " 38  icd_muscular               23388 non-null  float64       \n",
      " 39  icd_neoplasms              23388 non-null  float64       \n",
      " 40  icd_nervous                23388 non-null  float64       \n",
      " 41  icd_pregnancy              23388 non-null  float64       \n",
      " 42  icd_prenatal               23388 non-null  float64       \n",
      " 43  icd_respiratory            23388 non-null  float64       \n",
      " 44  icd_skin                   23388 non-null  float64       \n",
      " 45  diagnosis                  23387 non-null  object        \n",
      " 46  cardio                     23388 non-null  int64         \n",
      " 47  infection                  23388 non-null  int64         \n",
      " 48  brain                      23388 non-null  int64         \n",
      " 49  mental                     23388 non-null  int64         \n",
      " 50  gastro                     23388 non-null  int64         \n",
      " 51  trauma                     23388 non-null  int64         \n",
      " 52  respiratory                23388 non-null  int64         \n",
      " 53  organ                      23388 non-null  int64         \n",
      " 54  blood                      23388 non-null  int64         \n",
      " 55  acute                      23388 non-null  int64         \n",
      " 56  failure                    23388 non-null  int64         \n",
      " 57  cancer                     23388 non-null  int64         \n",
      " 58  back                       23388 non-null  int64         \n",
      " 59  bone                       23388 non-null  int64         \n",
      " 60  pain                       23388 non-null  int64         \n",
      " 61  other                      23388 non-null  int64         \n",
      " 62  totalcats                  23388 non-null  int64         \n",
      " 63  LOS                        23388 non-null  float64       \n",
      " 64  deceased                   23388 non-null  int64         \n",
      " 65  CAT                        23388 non-null  object        \n",
      " 66  ICU                        23388 non-null  uint8         \n",
      "dtypes: datetime64[ns](2), float64(23), int64(27), object(14), uint8(1)\n",
      "memory usage: 12.0+ MB\n"
     ]
    }
   ],
   "source": [
    "Train_Data.info()"
   ]
  },
  {
   "cell_type": "code",
   "execution_count": 42,
   "metadata": {},
   "outputs": [],
   "source": [
    "PATIENTS = pd.read_csv('PATIENTS.csv')"
   ]
  },
  {
   "cell_type": "code",
   "execution_count": 43,
   "metadata": {},
   "outputs": [
    {
     "name": "stdout",
     "output_type": "stream",
     "text": [
      "<class 'pandas.core.frame.DataFrame'>\n",
      "RangeIndex: 46520 entries, 0 to 46519\n",
      "Data columns (total 8 columns):\n",
      " #   Column       Non-Null Count  Dtype \n",
      "---  ------       --------------  ----- \n",
      " 0   ROW_ID       46520 non-null  int64 \n",
      " 1   SUBJECT_ID   46520 non-null  int64 \n",
      " 2   GENDER       46520 non-null  object\n",
      " 3   DOB          46520 non-null  object\n",
      " 4   DOD          15759 non-null  object\n",
      " 5   DOD_HOSP     9974 non-null   object\n",
      " 6   DOD_SSN      13378 non-null  object\n",
      " 7   EXPIRE_FLAG  46520 non-null  int64 \n",
      "dtypes: int64(3), object(5)\n",
      "memory usage: 2.8+ MB\n"
     ]
    }
   ],
   "source": [
    "PATIENTS.info()"
   ]
  },
  {
   "cell_type": "code",
   "execution_count": 44,
   "metadata": {},
   "outputs": [
    {
     "data": {
      "text/plain": [
       "M    26121\n",
       "F    20399\n",
       "Name: GENDER, dtype: int64"
      ]
     },
     "execution_count": 44,
     "metadata": {},
     "output_type": "execute_result"
    }
   ],
   "source": [
    "PATIENTS['GENDER'].value_counts()"
   ]
  },
  {
   "cell_type": "code",
   "execution_count": 45,
   "metadata": {},
   "outputs": [],
   "source": [
    "PATIENTS['DOB'] = pd.to_datetime(PATIENTS['DOB'])"
   ]
  },
  {
   "cell_type": "code",
   "execution_count": 46,
   "metadata": {},
   "outputs": [],
   "source": [
    "PATIENTS.drop(columns=['ROW_ID','DOD_HOSP','DOD_SSN',\n",
    "                       'EXPIRE_FLAG','DOD','GENDER'], inplace=True)"
   ]
  },
  {
   "cell_type": "code",
   "execution_count": 47,
   "metadata": {},
   "outputs": [
    {
     "data": {
      "text/html": [
       "<div>\n",
       "<style scoped>\n",
       "    .dataframe tbody tr th:only-of-type {\n",
       "        vertical-align: middle;\n",
       "    }\n",
       "\n",
       "    .dataframe tbody tr th {\n",
       "        vertical-align: top;\n",
       "    }\n",
       "\n",
       "    .dataframe thead th {\n",
       "        text-align: right;\n",
       "    }\n",
       "</style>\n",
       "<table border=\"1\" class=\"dataframe\">\n",
       "  <thead>\n",
       "    <tr style=\"text-align: right;\">\n",
       "      <th></th>\n",
       "      <th>SUBJECT_ID</th>\n",
       "      <th>DOB</th>\n",
       "    </tr>\n",
       "  </thead>\n",
       "  <tbody>\n",
       "    <tr>\n",
       "      <th>0</th>\n",
       "      <td>249</td>\n",
       "      <td>2075-03-13</td>\n",
       "    </tr>\n",
       "    <tr>\n",
       "      <th>1</th>\n",
       "      <td>250</td>\n",
       "      <td>2164-12-27</td>\n",
       "    </tr>\n",
       "    <tr>\n",
       "      <th>2</th>\n",
       "      <td>251</td>\n",
       "      <td>2090-03-15</td>\n",
       "    </tr>\n",
       "    <tr>\n",
       "      <th>3</th>\n",
       "      <td>252</td>\n",
       "      <td>2078-03-06</td>\n",
       "    </tr>\n",
       "    <tr>\n",
       "      <th>4</th>\n",
       "      <td>253</td>\n",
       "      <td>2089-11-26</td>\n",
       "    </tr>\n",
       "  </tbody>\n",
       "</table>\n",
       "</div>"
      ],
      "text/plain": [
       "   SUBJECT_ID        DOB\n",
       "0         249 2075-03-13\n",
       "1         250 2164-12-27\n",
       "2         251 2090-03-15\n",
       "3         252 2078-03-06\n",
       "4         253 2089-11-26"
      ]
     },
     "execution_count": 47,
     "metadata": {},
     "output_type": "execute_result"
    }
   ],
   "source": [
    "PATIENTS.head()"
   ]
  },
  {
   "cell_type": "code",
   "execution_count": 48,
   "metadata": {},
   "outputs": [
    {
     "data": {
      "text/html": [
       "<div>\n",
       "<style scoped>\n",
       "    .dataframe tbody tr th:only-of-type {\n",
       "        vertical-align: middle;\n",
       "    }\n",
       "\n",
       "    .dataframe tbody tr th {\n",
       "        vertical-align: top;\n",
       "    }\n",
       "\n",
       "    .dataframe thead th {\n",
       "        text-align: right;\n",
       "    }\n",
       "</style>\n",
       "<table border=\"1\" class=\"dataframe\">\n",
       "  <thead>\n",
       "    <tr style=\"text-align: right;\">\n",
       "      <th></th>\n",
       "      <th>subject_id</th>\n",
       "      <th>DOB</th>\n",
       "    </tr>\n",
       "  </thead>\n",
       "  <tbody>\n",
       "    <tr>\n",
       "      <th>0</th>\n",
       "      <td>249</td>\n",
       "      <td>2075-03-13</td>\n",
       "    </tr>\n",
       "    <tr>\n",
       "      <th>1</th>\n",
       "      <td>250</td>\n",
       "      <td>2164-12-27</td>\n",
       "    </tr>\n",
       "    <tr>\n",
       "      <th>2</th>\n",
       "      <td>251</td>\n",
       "      <td>2090-03-15</td>\n",
       "    </tr>\n",
       "    <tr>\n",
       "      <th>3</th>\n",
       "      <td>252</td>\n",
       "      <td>2078-03-06</td>\n",
       "    </tr>\n",
       "    <tr>\n",
       "      <th>4</th>\n",
       "      <td>253</td>\n",
       "      <td>2089-11-26</td>\n",
       "    </tr>\n",
       "  </tbody>\n",
       "</table>\n",
       "</div>"
      ],
      "text/plain": [
       "   subject_id        DOB\n",
       "0         249 2075-03-13\n",
       "1         250 2164-12-27\n",
       "2         251 2090-03-15\n",
       "3         252 2078-03-06\n",
       "4         253 2089-11-26"
      ]
     },
     "execution_count": 48,
     "metadata": {},
     "output_type": "execute_result"
    }
   ],
   "source": [
    "PATIENTS = PATIENTS.rename(columns={'SUBJECT_ID': 'subject_id'})\n",
    "PATIENTS.head()"
   ]
  },
  {
   "cell_type": "code",
   "execution_count": 49,
   "metadata": {},
   "outputs": [],
   "source": [
    "Train_Data = Train_Data.merge(PATIENTS, how='inner', on='subject_id')"
   ]
  },
  {
   "cell_type": "code",
   "execution_count": 50,
   "metadata": {},
   "outputs": [],
   "source": [
    "Test_Data = Test_Data.merge(PATIENTS, how='inner', on='subject_id')"
   ]
  },
  {
   "cell_type": "code",
   "execution_count": 51,
   "metadata": {},
   "outputs": [
    {
     "data": {
      "text/html": [
       "<div>\n",
       "<style scoped>\n",
       "    .dataframe tbody tr th:only-of-type {\n",
       "        vertical-align: middle;\n",
       "    }\n",
       "\n",
       "    .dataframe tbody tr th {\n",
       "        vertical-align: top;\n",
       "    }\n",
       "\n",
       "    .dataframe thead th {\n",
       "        text-align: right;\n",
       "    }\n",
       "</style>\n",
       "<table border=\"1\" class=\"dataframe\">\n",
       "  <thead>\n",
       "    <tr style=\"text-align: right;\">\n",
       "      <th></th>\n",
       "      <th>subject_id</th>\n",
       "      <th>ADMITTIME_earliest</th>\n",
       "    </tr>\n",
       "  </thead>\n",
       "  <tbody>\n",
       "    <tr>\n",
       "      <th>0</th>\n",
       "      <td>3</td>\n",
       "      <td>2101-10-20 19:08:00</td>\n",
       "    </tr>\n",
       "    <tr>\n",
       "      <th>1</th>\n",
       "      <td>4</td>\n",
       "      <td>2191-03-16 00:28:00</td>\n",
       "    </tr>\n",
       "    <tr>\n",
       "      <th>2</th>\n",
       "      <td>9</td>\n",
       "      <td>2149-11-09 13:06:00</td>\n",
       "    </tr>\n",
       "    <tr>\n",
       "      <th>3</th>\n",
       "      <td>11</td>\n",
       "      <td>2178-04-16 06:18:00</td>\n",
       "    </tr>\n",
       "    <tr>\n",
       "      <th>4</th>\n",
       "      <td>13</td>\n",
       "      <td>2167-01-08 18:43:00</td>\n",
       "    </tr>\n",
       "  </tbody>\n",
       "</table>\n",
       "</div>"
      ],
      "text/plain": [
       "   subject_id  ADMITTIME_earliest\n",
       "0           3 2101-10-20 19:08:00\n",
       "1           4 2191-03-16 00:28:00\n",
       "2           9 2149-11-09 13:06:00\n",
       "3          11 2178-04-16 06:18:00\n",
       "4          13 2167-01-08 18:43:00"
      ]
     },
     "execution_count": 51,
     "metadata": {},
     "output_type": "execute_result"
    }
   ],
   "source": [
    "age = Train_Data[['subject_id', 'admittime']].groupby('subject_id').min().reset_index()\n",
    "age.columns = ['subject_id', 'ADMITTIME_earliest']\n",
    "age.head()"
   ]
  },
  {
   "cell_type": "code",
   "execution_count": 52,
   "metadata": {},
   "outputs": [
    {
     "data": {
      "text/html": [
       "<div>\n",
       "<style scoped>\n",
       "    .dataframe tbody tr th:only-of-type {\n",
       "        vertical-align: middle;\n",
       "    }\n",
       "\n",
       "    .dataframe tbody tr th {\n",
       "        vertical-align: top;\n",
       "    }\n",
       "\n",
       "    .dataframe thead th {\n",
       "        text-align: right;\n",
       "    }\n",
       "</style>\n",
       "<table border=\"1\" class=\"dataframe\">\n",
       "  <thead>\n",
       "    <tr style=\"text-align: right;\">\n",
       "      <th></th>\n",
       "      <th>subject_id</th>\n",
       "      <th>ADMITTIME_earliest</th>\n",
       "    </tr>\n",
       "  </thead>\n",
       "  <tbody>\n",
       "    <tr>\n",
       "      <th>0</th>\n",
       "      <td>6</td>\n",
       "      <td>2175-05-30 07:15:00</td>\n",
       "    </tr>\n",
       "    <tr>\n",
       "      <th>1</th>\n",
       "      <td>22</td>\n",
       "      <td>2196-04-09 12:26:00</td>\n",
       "    </tr>\n",
       "    <tr>\n",
       "      <th>2</th>\n",
       "      <td>24</td>\n",
       "      <td>2139-06-06 16:14:00</td>\n",
       "    </tr>\n",
       "    <tr>\n",
       "      <th>3</th>\n",
       "      <td>26</td>\n",
       "      <td>2126-05-06 15:16:00</td>\n",
       "    </tr>\n",
       "    <tr>\n",
       "      <th>4</th>\n",
       "      <td>35</td>\n",
       "      <td>2122-02-10 11:15:00</td>\n",
       "    </tr>\n",
       "  </tbody>\n",
       "</table>\n",
       "</div>"
      ],
      "text/plain": [
       "   subject_id  ADMITTIME_earliest\n",
       "0           6 2175-05-30 07:15:00\n",
       "1          22 2196-04-09 12:26:00\n",
       "2          24 2139-06-06 16:14:00\n",
       "3          26 2126-05-06 15:16:00\n",
       "4          35 2122-02-10 11:15:00"
      ]
     },
     "execution_count": 52,
     "metadata": {},
     "output_type": "execute_result"
    }
   ],
   "source": [
    "age_test = Test_Data[['subject_id', 'admittime']].groupby('subject_id').min().reset_index()\n",
    "age_test.columns = ['subject_id', 'ADMITTIME_earliest']\n",
    "age_test.head()"
   ]
  },
  {
   "cell_type": "code",
   "execution_count": 53,
   "metadata": {},
   "outputs": [],
   "source": [
    "Train_Data = Train_Data.merge(age, how='outer', on='subject_id')\n",
    "Test_Data = Test_Data.merge(age_test, how='outer', on='subject_id')"
   ]
  },
  {
   "cell_type": "code",
   "execution_count": 54,
   "metadata": {},
   "outputs": [],
   "source": [
    "Train_Data['ADMITTIME_earliest'] = pd.to_datetime(Train_Data['ADMITTIME_earliest'])\n",
    "\n",
    "Test_Data['ADMITTIME_earliest'] = pd.to_datetime(Test_Data['ADMITTIME_earliest'])\n"
   ]
  },
  {
   "cell_type": "code",
   "execution_count": 55,
   "metadata": {},
   "outputs": [],
   "source": [
    "Train_Data['DOB'] = pd.to_datetime(Train_Data['DOB'])\n",
    "\n",
    "Test_Data['DOB'] = pd.to_datetime(Test_Data['DOB'])"
   ]
  },
  {
   "cell_type": "code",
   "execution_count": 56,
   "metadata": {},
   "outputs": [],
   "source": [
    "Train_Data['age'] = Train_Data['ADMITTIME_earliest'].subtract(Train_Data['DOB']).dt.days // 365\n",
    "\n",
    "Train_Data['age'] = np.where(Train_Data['age'] < 0, 90, Train_Data['age'])\n",
    "Train_Data['age'] = np.where(Train_Data['age'] == -0, 0, Train_Data['age'])"
   ]
  },
  {
   "cell_type": "code",
   "execution_count": 57,
   "metadata": {},
   "outputs": [],
   "source": [
    "Test_Data['age'] = Test_Data['ADMITTIME_earliest'].subtract(Test_Data['DOB']).dt.days // 365\n",
    "\n",
    "Test_Data['age'] = np.where(Test_Data['age'] < 0, 90, Test_Data['age'])\n",
    "Test_Data['age'] = np.where(Test_Data['age'] == -0, 0, Test_Data['age'])\n"
   ]
  },
  {
   "cell_type": "code",
   "execution_count": 58,
   "metadata": {},
   "outputs": [
    {
     "name": "stdout",
     "output_type": "stream",
     "text": [
      "There are 0 null value in AGE in this training dataset.\n"
     ]
    }
   ],
   "source": [
    "print('There are {} null value in AGE in this training dataset.'.format(Train_Data['age'].isnull().sum()))"
   ]
  },
  {
   "cell_type": "code",
   "execution_count": 59,
   "metadata": {},
   "outputs": [
    {
     "name": "stdout",
     "output_type": "stream",
     "text": [
      "There are 0 null value in AGE in this testing dataset.\n"
     ]
    }
   ],
   "source": [
    "print('There are {} null value in AGE in this testing dataset.'.format(Test_Data['age'].isnull().sum()))"
   ]
  },
  {
   "cell_type": "code",
   "execution_count": 60,
   "metadata": {},
   "outputs": [
    {
     "data": {
      "image/png": "[encoded data removed]",
      "text/plain": [
       "<Figure size 432x288 with 1 Axes>"
      ]
     },
     "metadata": {},
     "output_type": "display_data"
    }
   ],
   "source": [
    "plt.hist(Train_Data['age'], bins=20)\n",
    "plt.ylabel('count')\n",
    "plt.xlabel('age')\n",
    "plt.title('age distribution')\n",
    "plt.tick_params(left=False, bottom=False, top=False, right=False) \n",
    "plt.show()"
   ]
  },
  {
   "cell_type": "code",
   "execution_count": 61,
   "metadata": {},
   "outputs": [
    {
     "data": {
      "image/png": "[encoded data removed]",
      "text/plain": [
       "<Figure size 432x288 with 1 Axes>"
      ]
     },
     "metadata": {},
     "output_type": "display_data"
    }
   ],
   "source": [
    "plt.hist(Test_Data['age'], bins=20,color = 'red')\n",
    "plt.ylabel('count')\n",
    "plt.xlabel('age')\n",
    "plt.title('age distribution')\n",
    "plt.tick_params(left=False, bottom=False, top=False, right=False) \n",
    "plt.show()"
   ]
  },
  {
   "cell_type": "code",
   "execution_count": 62,
   "metadata": {},
   "outputs": [
    {
     "data": {
      "text/plain": [
       "senior          15314\n",
       "middle_adult     5956\n",
       "young_adult      2118\n",
       "Name: age, dtype: int64"
      ]
     },
     "execution_count": 62,
     "metadata": {},
     "output_type": "execute_result"
    }
   ],
   "source": [
    "Age_range = [(0, 13), (13, 36), (36, 56), (56, 100)]\n",
    "for i, range_ in enumerate(Age_range):\n",
    "    Train_Data['age'] = np.where(Train_Data['age'].between(range_[0],range_[1]), \n",
    "            i, Train_Data['age'])\n",
    "    \n",
    "cat = {0: 'newborn', 1: 'young_adult', 2: 'middle_adult', 3: 'senior'}\n",
    "Train_Data['age'] = Train_Data['age'].replace(cat)\n",
    "Train_Data.age.value_counts()"
   ]
  },
  {
   "cell_type": "code",
   "execution_count": 63,
   "metadata": {},
   "outputs": [
    {
     "data": {
      "text/plain": [
       "senior          4732\n",
       "middle_adult    1912\n",
       "young_adult      666\n",
       "Name: age, dtype: int64"
      ]
     },
     "execution_count": 63,
     "metadata": {},
     "output_type": "execute_result"
    }
   ],
   "source": [
    "Age_range = [(0, 13), (13, 36), (36, 56), (56, 100)]\n",
    "for i, range_ in enumerate(Age_range):\n",
    "    Test_Data['age'] = np.where(Test_Data['age'].between(range_[0],range_[1]), \n",
    "            i, Test_Data['age'])\n",
    "    \n",
    "cat = {0: 'newborn', 1: 'young_adult', 2: 'middle_adult', 3: 'senior'}\n",
    "Test_Data['age'] = Test_Data['age'].replace(cat)\n",
    "Test_Data.age.value_counts()"
   ]
  },
  {
   "cell_type": "code",
   "execution_count": 64,
   "metadata": {},
   "outputs": [
    {
     "data": {
      "text/html": [
       "<div>\n",
       "<style scoped>\n",
       "    .dataframe tbody tr th:only-of-type {\n",
       "        vertical-align: middle;\n",
       "    }\n",
       "\n",
       "    .dataframe tbody tr th {\n",
       "        vertical-align: top;\n",
       "    }\n",
       "\n",
       "    .dataframe thead th {\n",
       "        text-align: right;\n",
       "    }\n",
       "</style>\n",
       "<table border=\"1\" class=\"dataframe\">\n",
       "  <thead>\n",
       "    <tr style=\"text-align: right;\">\n",
       "      <th></th>\n",
       "      <th>age</th>\n",
       "    </tr>\n",
       "  </thead>\n",
       "  <tbody>\n",
       "    <tr>\n",
       "      <th>0</th>\n",
       "      <td>senior</td>\n",
       "    </tr>\n",
       "    <tr>\n",
       "      <th>1</th>\n",
       "      <td>senior</td>\n",
       "    </tr>\n",
       "    <tr>\n",
       "      <th>2</th>\n",
       "      <td>senior</td>\n",
       "    </tr>\n",
       "    <tr>\n",
       "      <th>3</th>\n",
       "      <td>senior</td>\n",
       "    </tr>\n",
       "    <tr>\n",
       "      <th>4</th>\n",
       "      <td>middle_adult</td>\n",
       "    </tr>\n",
       "  </tbody>\n",
       "</table>\n",
       "</div>"
      ],
      "text/plain": [
       "            age\n",
       "0        senior\n",
       "1        senior\n",
       "2        senior\n",
       "3        senior\n",
       "4  middle_adult"
      ]
     },
     "execution_count": 64,
     "metadata": {},
     "output_type": "execute_result"
    }
   ],
   "source": [
    "Train_Data[['age']].head()"
   ]
  },
  {
   "cell_type": "code",
   "execution_count": 65,
   "metadata": {},
   "outputs": [
    {
     "data": {
      "text/html": [
       "<div>\n",
       "<style scoped>\n",
       "    .dataframe tbody tr th:only-of-type {\n",
       "        vertical-align: middle;\n",
       "    }\n",
       "\n",
       "    .dataframe tbody tr th {\n",
       "        vertical-align: top;\n",
       "    }\n",
       "\n",
       "    .dataframe thead th {\n",
       "        text-align: right;\n",
       "    }\n",
       "</style>\n",
       "<table border=\"1\" class=\"dataframe\">\n",
       "  <thead>\n",
       "    <tr style=\"text-align: right;\">\n",
       "      <th></th>\n",
       "      <th>age</th>\n",
       "    </tr>\n",
       "  </thead>\n",
       "  <tbody>\n",
       "    <tr>\n",
       "      <th>0</th>\n",
       "      <td>senior</td>\n",
       "    </tr>\n",
       "    <tr>\n",
       "      <th>1</th>\n",
       "      <td>senior</td>\n",
       "    </tr>\n",
       "    <tr>\n",
       "      <th>2</th>\n",
       "      <td>senior</td>\n",
       "    </tr>\n",
       "    <tr>\n",
       "      <th>3</th>\n",
       "      <td>senior</td>\n",
       "    </tr>\n",
       "    <tr>\n",
       "      <th>4</th>\n",
       "      <td>senior</td>\n",
       "    </tr>\n",
       "  </tbody>\n",
       "</table>\n",
       "</div>"
      ],
      "text/plain": [
       "      age\n",
       "0  senior\n",
       "1  senior\n",
       "2  senior\n",
       "3  senior\n",
       "4  senior"
      ]
     },
     "execution_count": 65,
     "metadata": {},
     "output_type": "execute_result"
    }
   ],
   "source": [
    "Test_Data[['age']].head()"
   ]
  },
  {
   "cell_type": "code",
   "execution_count": 66,
   "metadata": {},
   "outputs": [],
   "source": [
    "# Create dummy columns for categorical variables\n",
    "prefixs = ['ADM', 'INS','AGE', 'MAR']\n",
    "dummy_columns = ['admission_type', 'insurance','age', 'marital_status']\n",
    "\n",
    "Train_Data = pd.get_dummies(Train_Data, prefix=prefixs, columns=dummy_columns)\n",
    "\n",
    "Test_Data = pd.get_dummies(Test_Data, prefix=prefixs, columns=dummy_columns)"
   ]
  },
  {
   "cell_type": "code",
   "execution_count": 67,
   "metadata": {},
   "outputs": [],
   "source": [
    "Train_Data.to_csv('static_train_icu_los.csv')"
   ]
  },
  {
   "cell_type": "code",
   "execution_count": 68,
   "metadata": {},
   "outputs": [],
   "source": [
    "Test_Data.to_csv('static_test_icu_los.csv')"
   ]
  },
  {
   "cell_type": "code",
   "execution_count": 69,
   "metadata": {},
   "outputs": [
    {
     "name": "stdout",
     "output_type": "stream",
     "text": [
      "<class 'pandas.core.frame.DataFrame'>\n",
      "Int64Index: 23388 entries, 0 to 23387\n",
      "Data columns (total 84 columns):\n",
      " #   Column                     Non-Null Count  Dtype         \n",
      "---  ------                     --------------  -----         \n",
      " 0   Unnamed: 0                 23388 non-null  int64         \n",
      " 1   subject_id                 23388 non-null  int64         \n",
      " 2   hadm_id                    23388 non-null  int64         \n",
      " 3   icustay_id                 23388 non-null  int64         \n",
      " 4   anytime_expire_flag        23388 non-null  int64         \n",
      " 5   hospital_expire_flag       23388 non-null  int64         \n",
      " 6   icu_expire_flag            23388 non-null  int64         \n",
      " 7   time_of_death              9153 non-null   object        \n",
      " 8   time_until_death           9153 non-null   object        \n",
      " 9   hours_until_death          23388 non-null  float64       \n",
      " 10  days_until_death           9153 non-null   float64       \n",
      " 11  admittime                  23388 non-null  datetime64[ns]\n",
      " 12  dischtime                  23388 non-null  datetime64[ns]\n",
      " 13  intime                     23388 non-null  object        \n",
      " 14  outtime                    23387 non-null  object        \n",
      " 15  time_until_hospital_exit   23388 non-null  object        \n",
      " 16  days_until_hospital_exit   23388 non-null  float64       \n",
      " 17  admission_time_until_icu   23388 non-null  object        \n",
      " 18  hours_until_icu_admission  23388 non-null  float64       \n",
      " 19  time_until_leave_ICU       23388 non-null  object        \n",
      " 20  hours_until_leave_ICU      23388 non-null  float64       \n",
      " 21  icu_admit_age              23388 non-null  int64         \n",
      " 22  female                     23388 non-null  int64         \n",
      " 23  dbsource                   23388 non-null  object        \n",
      " 24  first_careunit             23388 non-null  object        \n",
      " 25  icd_blood                  23388 non-null  float64       \n",
      " 26  icd_circulatory            23388 non-null  float64       \n",
      " 27  icd_congenital             23388 non-null  float64       \n",
      " 28  icd_digestive              23388 non-null  float64       \n",
      " 29  icd_endocrine              23388 non-null  float64       \n",
      " 30  icd_genitourinary          23388 non-null  float64       \n",
      " 31  icd_infectious             23388 non-null  float64       \n",
      " 32  icd_injury                 23388 non-null  float64       \n",
      " 33  icd_mental                 23388 non-null  float64       \n",
      " 34  icd_misc                   23388 non-null  float64       \n",
      " 35  icd_muscular               23388 non-null  float64       \n",
      " 36  icd_neoplasms              23388 non-null  float64       \n",
      " 37  icd_nervous                23388 non-null  float64       \n",
      " 38  icd_pregnancy              23388 non-null  float64       \n",
      " 39  icd_prenatal               23388 non-null  float64       \n",
      " 40  icd_respiratory            23388 non-null  float64       \n",
      " 41  icd_skin                   23388 non-null  float64       \n",
      " 42  diagnosis                  23387 non-null  object        \n",
      " 43  cardio                     23388 non-null  int64         \n",
      " 44  infection                  23388 non-null  int64         \n",
      " 45  brain                      23388 non-null  int64         \n",
      " 46  mental                     23388 non-null  int64         \n",
      " 47  gastro                     23388 non-null  int64         \n",
      " 48  trauma                     23388 non-null  int64         \n",
      " 49  respiratory                23388 non-null  int64         \n",
      " 50  organ                      23388 non-null  int64         \n",
      " 51  blood                      23388 non-null  int64         \n",
      " 52  acute                      23388 non-null  int64         \n",
      " 53  failure                    23388 non-null  int64         \n",
      " 54  cancer                     23388 non-null  int64         \n",
      " 55  back                       23388 non-null  int64         \n",
      " 56  bone                       23388 non-null  int64         \n",
      " 57  pain                       23388 non-null  int64         \n",
      " 58  other                      23388 non-null  int64         \n",
      " 59  totalcats                  23388 non-null  int64         \n",
      " 60  LOS                        23388 non-null  float64       \n",
      " 61  deceased                   23388 non-null  int64         \n",
      " 62  CAT                        23388 non-null  object        \n",
      " 63  ICU                        23388 non-null  uint8         \n",
      " 64  DOB                        23388 non-null  datetime64[ns]\n",
      " 65  ADMITTIME_earliest         23388 non-null  datetime64[ns]\n",
      " 66  ADM_ELECTIVE               23388 non-null  uint8         \n",
      " 67  ADM_EMERGENCY              23388 non-null  uint8         \n",
      " 68  ADM_URGENT                 23388 non-null  uint8         \n",
      " 69  INS_Government             23388 non-null  uint8         \n",
      " 70  INS_Medicaid               23388 non-null  uint8         \n",
      " 71  INS_Medicare               23388 non-null  uint8         \n",
      " 72  INS_Private                23388 non-null  uint8         \n",
      " 73  INS_Self Pay               23388 non-null  uint8         \n",
      " 74  AGE_middle_adult           23388 non-null  uint8         \n",
      " 75  AGE_senior                 23388 non-null  uint8         \n",
      " 76  AGE_young_adult            23388 non-null  uint8         \n",
      " 77  MAR_DIVORCED               23388 non-null  uint8         \n",
      " 78  MAR_LIFE PARTNER           23388 non-null  uint8         \n",
      " 79  MAR_MARRIED                23388 non-null  uint8         \n",
      " 80  MAR_SEPARATED              23388 non-null  uint8         \n",
      " 81  MAR_SINGLE                 23388 non-null  uint8         \n",
      " 82  MAR_UNKNOWN (DEFAULT)      23388 non-null  uint8         \n",
      " 83  MAR_WIDOWED                23388 non-null  uint8         \n",
      "dtypes: datetime64[ns](4), float64(23), int64(27), object(11), uint8(19)\n",
      "memory usage: 12.2+ MB\n"
     ]
    }
   ],
   "source": [
    "Train_Data.info()"
   ]
  },
  {
   "cell_type": "code",
   "execution_count": 70,
   "metadata": {},
   "outputs": [
    {
     "name": "stdout",
     "output_type": "stream",
     "text": [
      "<class 'pandas.core.frame.DataFrame'>\n",
      "Int64Index: 7310 entries, 0 to 7309\n",
      "Data columns (total 84 columns):\n",
      " #   Column                     Non-Null Count  Dtype         \n",
      "---  ------                     --------------  -----         \n",
      " 0   Unnamed: 0                 7310 non-null   int64         \n",
      " 1   subject_id                 7310 non-null   int64         \n",
      " 2   hadm_id                    7310 non-null   int64         \n",
      " 3   icustay_id                 7310 non-null   int64         \n",
      " 4   anytime_expire_flag        7310 non-null   int64         \n",
      " 5   hospital_expire_flag       7310 non-null   int64         \n",
      " 6   icu_expire_flag            7310 non-null   int64         \n",
      " 7   time_of_death              2765 non-null   object        \n",
      " 8   time_until_death           2765 non-null   object        \n",
      " 9   hours_until_death          7310 non-null   float64       \n",
      " 10  days_until_death           2765 non-null   float64       \n",
      " 11  admittime                  7310 non-null   datetime64[ns]\n",
      " 12  dischtime                  7310 non-null   datetime64[ns]\n",
      " 13  intime                     7310 non-null   object        \n",
      " 14  outtime                    7309 non-null   object        \n",
      " 15  time_until_hospital_exit   7310 non-null   object        \n",
      " 16  days_until_hospital_exit   7310 non-null   float64       \n",
      " 17  admission_time_until_icu   7310 non-null   object        \n",
      " 18  hours_until_icu_admission  7310 non-null   float64       \n",
      " 19  time_until_leave_ICU       7310 non-null   object        \n",
      " 20  hours_until_leave_ICU      7310 non-null   float64       \n",
      " 21  icu_admit_age              7310 non-null   int64         \n",
      " 22  female                     7310 non-null   int64         \n",
      " 23  dbsource                   7310 non-null   object        \n",
      " 24  first_careunit             7310 non-null   object        \n",
      " 25  icd_blood                  7310 non-null   int64         \n",
      " 26  icd_circulatory            7310 non-null   int64         \n",
      " 27  icd_congenital             7310 non-null   int64         \n",
      " 28  icd_digestive              7310 non-null   int64         \n",
      " 29  icd_endocrine              7310 non-null   int64         \n",
      " 30  icd_genitourinary          7310 non-null   int64         \n",
      " 31  icd_infectious             7310 non-null   int64         \n",
      " 32  icd_injury                 7310 non-null   int64         \n",
      " 33  icd_mental                 7310 non-null   int64         \n",
      " 34  icd_misc                   7310 non-null   int64         \n",
      " 35  icd_muscular               7310 non-null   int64         \n",
      " 36  icd_neoplasms              7310 non-null   int64         \n",
      " 37  icd_nervous                7310 non-null   int64         \n",
      " 38  icd_pregnancy              7310 non-null   int64         \n",
      " 39  icd_prenatal               7310 non-null   int64         \n",
      " 40  icd_respiratory            7310 non-null   int64         \n",
      " 41  icd_skin                   7310 non-null   int64         \n",
      " 42  diagnosis                  7310 non-null   object        \n",
      " 43  cardio                     7310 non-null   int64         \n",
      " 44  infection                  7310 non-null   int64         \n",
      " 45  brain                      7310 non-null   int64         \n",
      " 46  mental                     7310 non-null   int64         \n",
      " 47  gastro                     7310 non-null   int64         \n",
      " 48  trauma                     7310 non-null   int64         \n",
      " 49  respiratory                7310 non-null   int64         \n",
      " 50  organ                      7310 non-null   int64         \n",
      " 51  blood                      7310 non-null   int64         \n",
      " 52  acute                      7310 non-null   int64         \n",
      " 53  failure                    7310 non-null   int64         \n",
      " 54  cancer                     7310 non-null   int64         \n",
      " 55  back                       7310 non-null   int64         \n",
      " 56  bone                       7310 non-null   int64         \n",
      " 57  pain                       7310 non-null   int64         \n",
      " 58  other                      7310 non-null   int64         \n",
      " 59  totalcats                  7310 non-null   int64         \n",
      " 60  LOS                        7310 non-null   float64       \n",
      " 61  deceased                   7310 non-null   int64         \n",
      " 62  CAT                        7310 non-null   object        \n",
      " 63  ICU                        7310 non-null   uint8         \n",
      " 64  DOB                        7310 non-null   datetime64[ns]\n",
      " 65  ADMITTIME_earliest         7310 non-null   datetime64[ns]\n",
      " 66  ADM_ELECTIVE               7310 non-null   uint8         \n",
      " 67  ADM_EMERGENCY              7310 non-null   uint8         \n",
      " 68  ADM_URGENT                 7310 non-null   uint8         \n",
      " 69  INS_Government             7310 non-null   uint8         \n",
      " 70  INS_Medicaid               7310 non-null   uint8         \n",
      " 71  INS_Medicare               7310 non-null   uint8         \n",
      " 72  INS_Private                7310 non-null   uint8         \n",
      " 73  INS_Self Pay               7310 non-null   uint8         \n",
      " 74  AGE_middle_adult           7310 non-null   uint8         \n",
      " 75  AGE_senior                 7310 non-null   uint8         \n",
      " 76  AGE_young_adult            7310 non-null   uint8         \n",
      " 77  MAR_DIVORCED               7310 non-null   uint8         \n",
      " 78  MAR_LIFE PARTNER           7310 non-null   uint8         \n",
      " 79  MAR_MARRIED                7310 non-null   uint8         \n",
      " 80  MAR_SEPARATED              7310 non-null   uint8         \n",
      " 81  MAR_SINGLE                 7310 non-null   uint8         \n",
      " 82  MAR_UNKNOWN (DEFAULT)      7310 non-null   uint8         \n",
      " 83  MAR_WIDOWED                7310 non-null   uint8         \n",
      "dtypes: datetime64[ns](4), float64(6), int64(44), object(11), uint8(19)\n",
      "memory usage: 3.8+ MB\n"
     ]
    }
   ],
   "source": [
    "Test_Data.info()"
   ]
  },
  {
   "cell_type": "code",
   "execution_count": 71,
   "metadata": {},
   "outputs": [],
   "source": [
    "Train_Data.drop(columns=['subject_id', 'hadm_id', 'icustay_id',\n",
    "                         'time_of_death','time_until_death','hours_until_death','days_until_death',\n",
    "                         'admittime','dischtime','intime','outtime',\n",
    "                         'time_until_hospital_exit','days_until_hospital_exit','admission_time_until_icu','hours_until_icu_admission',\n",
    "                         'time_until_leave_ICU','icu_admit_age','female','dbsource',\n",
    "                         'first_careunit','diagnosis','CAT','DOB', 'LOS',\n",
    "                         'ADMITTIME_earliest'],\n",
    "                inplace=True)\n",
    "\n",
    "Test_Data.drop(columns=['subject_id', 'hadm_id', 'icustay_id',\n",
    "                         'time_of_death','time_until_death','hours_until_death','days_until_death',\n",
    "                         'admittime','dischtime','intime','outtime',\n",
    "                         'time_until_hospital_exit','days_until_hospital_exit','admission_time_until_icu','hours_until_icu_admission',\n",
    "                         'time_until_leave_ICU','icu_admit_age','female','dbsource',\n",
    "                         'first_careunit','diagnosis','CAT','DOB','LOS',\n",
    "                         'ADMITTIME_earliest'],\n",
    "                inplace=True)"
   ]
  },
  {
   "cell_type": "code",
   "execution_count": 72,
   "metadata": {},
   "outputs": [
    {
     "data": {
      "text/html": [
       "<div>\n",
       "<style scoped>\n",
       "    .dataframe tbody tr th:only-of-type {\n",
       "        vertical-align: middle;\n",
       "    }\n",
       "\n",
       "    .dataframe tbody tr th {\n",
       "        vertical-align: top;\n",
       "    }\n",
       "\n",
       "    .dataframe thead th {\n",
       "        text-align: right;\n",
       "    }\n",
       "</style>\n",
       "<table border=\"1\" class=\"dataframe\">\n",
       "  <thead>\n",
       "    <tr style=\"text-align: right;\">\n",
       "      <th></th>\n",
       "      <th>hours_until_leave_ICU</th>\n",
       "    </tr>\n",
       "  </thead>\n",
       "  <tbody>\n",
       "    <tr>\n",
       "      <th>0</th>\n",
       "      <td>54.0</td>\n",
       "    </tr>\n",
       "    <tr>\n",
       "      <th>1</th>\n",
       "      <td>27.0</td>\n",
       "    </tr>\n",
       "    <tr>\n",
       "      <th>2</th>\n",
       "      <td>119.0</td>\n",
       "    </tr>\n",
       "    <tr>\n",
       "      <th>3</th>\n",
       "      <td>24.0</td>\n",
       "    </tr>\n",
       "    <tr>\n",
       "      <th>4</th>\n",
       "      <td>52.0</td>\n",
       "    </tr>\n",
       "  </tbody>\n",
       "</table>\n",
       "</div>"
      ],
      "text/plain": [
       "   hours_until_leave_ICU\n",
       "0                   54.0\n",
       "1                   27.0\n",
       "2                  119.0\n",
       "3                   24.0\n",
       "4                   52.0"
      ]
     },
     "execution_count": 72,
     "metadata": {},
     "output_type": "execute_result"
    }
   ],
   "source": [
    "Train_Data[['hours_until_leave_ICU']].head()"
   ]
  },
  {
   "cell_type": "code",
   "execution_count": 73,
   "metadata": {},
   "outputs": [
    {
     "name": "stdout",
     "output_type": "stream",
     "text": [
      "<class 'pandas.core.frame.DataFrame'>\n",
      "Int64Index: 23388 entries, 0 to 23387\n",
      "Data columns (total 59 columns):\n",
      " #   Column                 Non-Null Count  Dtype  \n",
      "---  ------                 --------------  -----  \n",
      " 0   Unnamed: 0             23388 non-null  int64  \n",
      " 1   anytime_expire_flag    23388 non-null  int64  \n",
      " 2   hospital_expire_flag   23388 non-null  int64  \n",
      " 3   icu_expire_flag        23388 non-null  int64  \n",
      " 4   hours_until_leave_ICU  23388 non-null  float64\n",
      " 5   icd_blood              23388 non-null  float64\n",
      " 6   icd_circulatory        23388 non-null  float64\n",
      " 7   icd_congenital         23388 non-null  float64\n",
      " 8   icd_digestive          23388 non-null  float64\n",
      " 9   icd_endocrine          23388 non-null  float64\n",
      " 10  icd_genitourinary      23388 non-null  float64\n",
      " 11  icd_infectious         23388 non-null  float64\n",
      " 12  icd_injury             23388 non-null  float64\n",
      " 13  icd_mental             23388 non-null  float64\n",
      " 14  icd_misc               23388 non-null  float64\n",
      " 15  icd_muscular           23388 non-null  float64\n",
      " 16  icd_neoplasms          23388 non-null  float64\n",
      " 17  icd_nervous            23388 non-null  float64\n",
      " 18  icd_pregnancy          23388 non-null  float64\n",
      " 19  icd_prenatal           23388 non-null  float64\n",
      " 20  icd_respiratory        23388 non-null  float64\n",
      " 21  icd_skin               23388 non-null  float64\n",
      " 22  cardio                 23388 non-null  int64  \n",
      " 23  infection              23388 non-null  int64  \n",
      " 24  brain                  23388 non-null  int64  \n",
      " 25  mental                 23388 non-null  int64  \n",
      " 26  gastro                 23388 non-null  int64  \n",
      " 27  trauma                 23388 non-null  int64  \n",
      " 28  respiratory            23388 non-null  int64  \n",
      " 29  organ                  23388 non-null  int64  \n",
      " 30  blood                  23388 non-null  int64  \n",
      " 31  acute                  23388 non-null  int64  \n",
      " 32  failure                23388 non-null  int64  \n",
      " 33  cancer                 23388 non-null  int64  \n",
      " 34  back                   23388 non-null  int64  \n",
      " 35  bone                   23388 non-null  int64  \n",
      " 36  pain                   23388 non-null  int64  \n",
      " 37  other                  23388 non-null  int64  \n",
      " 38  totalcats              23388 non-null  int64  \n",
      " 39  deceased               23388 non-null  int64  \n",
      " 40  ICU                    23388 non-null  uint8  \n",
      " 41  ADM_ELECTIVE           23388 non-null  uint8  \n",
      " 42  ADM_EMERGENCY          23388 non-null  uint8  \n",
      " 43  ADM_URGENT             23388 non-null  uint8  \n",
      " 44  INS_Government         23388 non-null  uint8  \n",
      " 45  INS_Medicaid           23388 non-null  uint8  \n",
      " 46  INS_Medicare           23388 non-null  uint8  \n",
      " 47  INS_Private            23388 non-null  uint8  \n",
      " 48  INS_Self Pay           23388 non-null  uint8  \n",
      " 49  AGE_middle_adult       23388 non-null  uint8  \n",
      " 50  AGE_senior             23388 non-null  uint8  \n",
      " 51  AGE_young_adult        23388 non-null  uint8  \n",
      " 52  MAR_DIVORCED           23388 non-null  uint8  \n",
      " 53  MAR_LIFE PARTNER       23388 non-null  uint8  \n",
      " 54  MAR_MARRIED            23388 non-null  uint8  \n",
      " 55  MAR_SEPARATED          23388 non-null  uint8  \n",
      " 56  MAR_SINGLE             23388 non-null  uint8  \n",
      " 57  MAR_UNKNOWN (DEFAULT)  23388 non-null  uint8  \n",
      " 58  MAR_WIDOWED            23388 non-null  uint8  \n",
      "dtypes: float64(18), int64(22), uint8(19)\n",
      "memory usage: 7.7 MB\n"
     ]
    }
   ],
   "source": [
    "Train_Data.info()"
   ]
  },
  {
   "cell_type": "code",
   "execution_count": 74,
   "metadata": {},
   "outputs": [
    {
     "data": {
      "text/plain": [
       "1         27.0\n",
       "2        119.0\n",
       "3         24.0\n",
       "4         52.0\n",
       "6        395.0\n",
       "         ...  \n",
       "23380    192.0\n",
       "23381     46.0\n",
       "23382     59.0\n",
       "23385     25.0\n",
       "23386    311.0\n",
       "Name: hours_until_leave_ICU, Length: 14235, dtype: float64"
      ]
     },
     "execution_count": 74,
     "metadata": {},
     "output_type": "execute_result"
    }
   ],
   "source": [
    "Train_Data['hours_until_leave_ICU'].loc[Train_Data['deceased'] == 0]"
   ]
  },
  {
   "cell_type": "code",
   "execution_count": 75,
   "metadata": {},
   "outputs": [
    {
     "name": "stdout",
     "output_type": "stream",
     "text": [
      "82.04067439409906\n",
      "46.0\n"
     ]
    }
   ],
   "source": [
    "# ICU LOS metrics for model results comparison\n",
    "actual_mean_icu_los = Train_Data['hours_until_leave_ICU'].loc[Train_Data['deceased'] == 0].mean() \n",
    "actual_median_icu_los = Train_Data['hours_until_leave_ICU'].loc[Train_Data['deceased'] == 0].median() \n",
    "\n",
    "print(actual_mean_icu_los)\n",
    "print(actual_median_icu_los)"
   ]
  },
  {
   "cell_type": "code",
   "execution_count": 76,
   "metadata": {},
   "outputs": [
    {
     "data": {
      "text/html": [
       "<div>\n",
       "<style scoped>\n",
       "    .dataframe tbody tr th:only-of-type {\n",
       "        vertical-align: middle;\n",
       "    }\n",
       "\n",
       "    .dataframe tbody tr th {\n",
       "        vertical-align: top;\n",
       "    }\n",
       "\n",
       "    .dataframe thead th {\n",
       "        text-align: right;\n",
       "    }\n",
       "</style>\n",
       "<table border=\"1\" class=\"dataframe\">\n",
       "  <thead>\n",
       "    <tr style=\"text-align: right;\">\n",
       "      <th></th>\n",
       "      <th>hours_until_leave_ICU</th>\n",
       "    </tr>\n",
       "  </thead>\n",
       "  <tbody>\n",
       "    <tr>\n",
       "      <th>0</th>\n",
       "      <td>53.0</td>\n",
       "    </tr>\n",
       "    <tr>\n",
       "      <th>1</th>\n",
       "      <td>549.0</td>\n",
       "    </tr>\n",
       "    <tr>\n",
       "      <th>2</th>\n",
       "      <td>42.0</td>\n",
       "    </tr>\n",
       "    <tr>\n",
       "      <th>3</th>\n",
       "      <td>27.0</td>\n",
       "    </tr>\n",
       "    <tr>\n",
       "      <th>4</th>\n",
       "      <td>423.0</td>\n",
       "    </tr>\n",
       "  </tbody>\n",
       "</table>\n",
       "</div>"
      ],
      "text/plain": [
       "   hours_until_leave_ICU\n",
       "0                   53.0\n",
       "1                  549.0\n",
       "2                   42.0\n",
       "3                   27.0\n",
       "4                  423.0"
      ]
     },
     "execution_count": 76,
     "metadata": {},
     "output_type": "execute_result"
    }
   ],
   "source": [
    "Test_Data[['hours_until_leave_ICU']].head()"
   ]
  },
  {
   "cell_type": "code",
   "execution_count": 77,
   "metadata": {},
   "outputs": [
    {
     "data": {
      "text/html": [
       "<div>\n",
       "<style scoped>\n",
       "    .dataframe tbody tr th:only-of-type {\n",
       "        vertical-align: middle;\n",
       "    }\n",
       "\n",
       "    .dataframe tbody tr th {\n",
       "        vertical-align: top;\n",
       "    }\n",
       "\n",
       "    .dataframe thead th {\n",
       "        text-align: right;\n",
       "    }\n",
       "</style>\n",
       "<table border=\"1\" class=\"dataframe\">\n",
       "  <thead>\n",
       "    <tr style=\"text-align: right;\">\n",
       "      <th></th>\n",
       "      <th>Unnamed: 0</th>\n",
       "      <th>anytime_expire_flag</th>\n",
       "      <th>hospital_expire_flag</th>\n",
       "      <th>icu_expire_flag</th>\n",
       "      <th>hours_until_leave_ICU</th>\n",
       "      <th>icd_blood</th>\n",
       "      <th>icd_circulatory</th>\n",
       "      <th>icd_congenital</th>\n",
       "      <th>icd_digestive</th>\n",
       "      <th>icd_endocrine</th>\n",
       "      <th>...</th>\n",
       "      <th>AGE_middle_adult</th>\n",
       "      <th>AGE_senior</th>\n",
       "      <th>AGE_young_adult</th>\n",
       "      <th>MAR_DIVORCED</th>\n",
       "      <th>MAR_LIFE PARTNER</th>\n",
       "      <th>MAR_MARRIED</th>\n",
       "      <th>MAR_SEPARATED</th>\n",
       "      <th>MAR_SINGLE</th>\n",
       "      <th>MAR_UNKNOWN (DEFAULT)</th>\n",
       "      <th>MAR_WIDOWED</th>\n",
       "    </tr>\n",
       "  </thead>\n",
       "  <tbody>\n",
       "    <tr>\n",
       "      <th>0</th>\n",
       "      <td>0</td>\n",
       "      <td>1</td>\n",
       "      <td>0</td>\n",
       "      <td>0</td>\n",
       "      <td>54.0</td>\n",
       "      <td>2.0</td>\n",
       "      <td>3.0</td>\n",
       "      <td>0.0</td>\n",
       "      <td>4.0</td>\n",
       "      <td>3.0</td>\n",
       "      <td>...</td>\n",
       "      <td>0</td>\n",
       "      <td>1</td>\n",
       "      <td>0</td>\n",
       "      <td>1</td>\n",
       "      <td>0</td>\n",
       "      <td>0</td>\n",
       "      <td>0</td>\n",
       "      <td>0</td>\n",
       "      <td>0</td>\n",
       "      <td>0</td>\n",
       "    </tr>\n",
       "    <tr>\n",
       "      <th>1</th>\n",
       "      <td>1</td>\n",
       "      <td>0</td>\n",
       "      <td>0</td>\n",
       "      <td>0</td>\n",
       "      <td>27.0</td>\n",
       "      <td>1.0</td>\n",
       "      <td>5.0</td>\n",
       "      <td>0.0</td>\n",
       "      <td>0.0</td>\n",
       "      <td>0.0</td>\n",
       "      <td>...</td>\n",
       "      <td>0</td>\n",
       "      <td>1</td>\n",
       "      <td>0</td>\n",
       "      <td>0</td>\n",
       "      <td>0</td>\n",
       "      <td>1</td>\n",
       "      <td>0</td>\n",
       "      <td>0</td>\n",
       "      <td>0</td>\n",
       "      <td>0</td>\n",
       "    </tr>\n",
       "    <tr>\n",
       "      <th>2</th>\n",
       "      <td>2</td>\n",
       "      <td>0</td>\n",
       "      <td>0</td>\n",
       "      <td>0</td>\n",
       "      <td>119.0</td>\n",
       "      <td>2.0</td>\n",
       "      <td>2.0</td>\n",
       "      <td>0.0</td>\n",
       "      <td>8.0</td>\n",
       "      <td>4.0</td>\n",
       "      <td>...</td>\n",
       "      <td>0</td>\n",
       "      <td>1</td>\n",
       "      <td>0</td>\n",
       "      <td>0</td>\n",
       "      <td>0</td>\n",
       "      <td>0</td>\n",
       "      <td>0</td>\n",
       "      <td>0</td>\n",
       "      <td>0</td>\n",
       "      <td>1</td>\n",
       "    </tr>\n",
       "    <tr>\n",
       "      <th>3</th>\n",
       "      <td>3</td>\n",
       "      <td>0</td>\n",
       "      <td>0</td>\n",
       "      <td>0</td>\n",
       "      <td>24.0</td>\n",
       "      <td>2.0</td>\n",
       "      <td>8.0</td>\n",
       "      <td>0.0</td>\n",
       "      <td>1.0</td>\n",
       "      <td>2.0</td>\n",
       "      <td>...</td>\n",
       "      <td>0</td>\n",
       "      <td>1</td>\n",
       "      <td>0</td>\n",
       "      <td>0</td>\n",
       "      <td>0</td>\n",
       "      <td>0</td>\n",
       "      <td>0</td>\n",
       "      <td>0</td>\n",
       "      <td>0</td>\n",
       "      <td>1</td>\n",
       "    </tr>\n",
       "    <tr>\n",
       "      <th>4</th>\n",
       "      <td>4</td>\n",
       "      <td>0</td>\n",
       "      <td>0</td>\n",
       "      <td>0</td>\n",
       "      <td>52.0</td>\n",
       "      <td>0.0</td>\n",
       "      <td>0.0</td>\n",
       "      <td>0.0</td>\n",
       "      <td>1.0</td>\n",
       "      <td>0.0</td>\n",
       "      <td>...</td>\n",
       "      <td>1</td>\n",
       "      <td>0</td>\n",
       "      <td>0</td>\n",
       "      <td>0</td>\n",
       "      <td>0</td>\n",
       "      <td>0</td>\n",
       "      <td>0</td>\n",
       "      <td>1</td>\n",
       "      <td>0</td>\n",
       "      <td>0</td>\n",
       "    </tr>\n",
       "  </tbody>\n",
       "</table>\n",
       "<p>5 rows × 59 columns</p>\n",
       "</div>"
      ],
      "text/plain": [
       "   Unnamed: 0  anytime_expire_flag  hospital_expire_flag  icu_expire_flag  \\\n",
       "0           0                    1                     0                0   \n",
       "1           1                    0                     0                0   \n",
       "2           2                    0                     0                0   \n",
       "3           3                    0                     0                0   \n",
       "4           4                    0                     0                0   \n",
       "\n",
       "   hours_until_leave_ICU  icd_blood  icd_circulatory  icd_congenital  \\\n",
       "0                   54.0        2.0              3.0             0.0   \n",
       "1                   27.0        1.0              5.0             0.0   \n",
       "2                  119.0        2.0              2.0             0.0   \n",
       "3                   24.0        2.0              8.0             0.0   \n",
       "4                   52.0        0.0              0.0             0.0   \n",
       "\n",
       "   icd_digestive  icd_endocrine  ...  AGE_middle_adult  AGE_senior  \\\n",
       "0            4.0            3.0  ...                 0           1   \n",
       "1            0.0            0.0  ...                 0           1   \n",
       "2            8.0            4.0  ...                 0           1   \n",
       "3            1.0            2.0  ...                 0           1   \n",
       "4            1.0            0.0  ...                 1           0   \n",
       "\n",
       "   AGE_young_adult  MAR_DIVORCED  MAR_LIFE PARTNER  MAR_MARRIED  \\\n",
       "0                0             1                 0            0   \n",
       "1                0             0                 0            1   \n",
       "2                0             0                 0            0   \n",
       "3                0             0                 0            0   \n",
       "4                0             0                 0            0   \n",
       "\n",
       "   MAR_SEPARATED  MAR_SINGLE  MAR_UNKNOWN (DEFAULT)  MAR_WIDOWED  \n",
       "0              0           0                      0            0  \n",
       "1              0           0                      0            0  \n",
       "2              0           0                      0            1  \n",
       "3              0           0                      0            1  \n",
       "4              0           1                      0            0  \n",
       "\n",
       "[5 rows x 59 columns]"
      ]
     },
     "execution_count": 77,
     "metadata": {},
     "output_type": "execute_result"
    }
   ],
   "source": [
    "Train_Data.head()"
   ]
  },
  {
   "cell_type": "code",
   "execution_count": 78,
   "metadata": {},
   "outputs": [
    {
     "data": {
      "text/html": [
       "<div>\n",
       "<style scoped>\n",
       "    .dataframe tbody tr th:only-of-type {\n",
       "        vertical-align: middle;\n",
       "    }\n",
       "\n",
       "    .dataframe tbody tr th {\n",
       "        vertical-align: top;\n",
       "    }\n",
       "\n",
       "    .dataframe thead th {\n",
       "        text-align: right;\n",
       "    }\n",
       "</style>\n",
       "<table border=\"1\" class=\"dataframe\">\n",
       "  <thead>\n",
       "    <tr style=\"text-align: right;\">\n",
       "      <th></th>\n",
       "      <th>Unnamed: 0</th>\n",
       "      <th>anytime_expire_flag</th>\n",
       "      <th>hospital_expire_flag</th>\n",
       "      <th>icu_expire_flag</th>\n",
       "      <th>hours_until_leave_ICU</th>\n",
       "      <th>icd_blood</th>\n",
       "      <th>icd_circulatory</th>\n",
       "      <th>icd_congenital</th>\n",
       "      <th>icd_digestive</th>\n",
       "      <th>icd_endocrine</th>\n",
       "      <th>...</th>\n",
       "      <th>AGE_middle_adult</th>\n",
       "      <th>AGE_senior</th>\n",
       "      <th>AGE_young_adult</th>\n",
       "      <th>MAR_DIVORCED</th>\n",
       "      <th>MAR_LIFE PARTNER</th>\n",
       "      <th>MAR_MARRIED</th>\n",
       "      <th>MAR_SEPARATED</th>\n",
       "      <th>MAR_SINGLE</th>\n",
       "      <th>MAR_UNKNOWN (DEFAULT)</th>\n",
       "      <th>MAR_WIDOWED</th>\n",
       "    </tr>\n",
       "  </thead>\n",
       "  <tbody>\n",
       "    <tr>\n",
       "      <th>0</th>\n",
       "      <td>0</td>\n",
       "      <td>0</td>\n",
       "      <td>0</td>\n",
       "      <td>0</td>\n",
       "      <td>53.0</td>\n",
       "      <td>0</td>\n",
       "      <td>4</td>\n",
       "      <td>0</td>\n",
       "      <td>0</td>\n",
       "      <td>2</td>\n",
       "      <td>...</td>\n",
       "      <td>0</td>\n",
       "      <td>1</td>\n",
       "      <td>0</td>\n",
       "      <td>0</td>\n",
       "      <td>0</td>\n",
       "      <td>1</td>\n",
       "      <td>0</td>\n",
       "      <td>0</td>\n",
       "      <td>0</td>\n",
       "      <td>0</td>\n",
       "    </tr>\n",
       "    <tr>\n",
       "      <th>1</th>\n",
       "      <td>1</td>\n",
       "      <td>0</td>\n",
       "      <td>0</td>\n",
       "      <td>0</td>\n",
       "      <td>549.0</td>\n",
       "      <td>0</td>\n",
       "      <td>1</td>\n",
       "      <td>0</td>\n",
       "      <td>0</td>\n",
       "      <td>0</td>\n",
       "      <td>...</td>\n",
       "      <td>0</td>\n",
       "      <td>1</td>\n",
       "      <td>0</td>\n",
       "      <td>0</td>\n",
       "      <td>0</td>\n",
       "      <td>0</td>\n",
       "      <td>0</td>\n",
       "      <td>1</td>\n",
       "      <td>0</td>\n",
       "      <td>0</td>\n",
       "    </tr>\n",
       "    <tr>\n",
       "      <th>2</th>\n",
       "      <td>2</td>\n",
       "      <td>1</td>\n",
       "      <td>0</td>\n",
       "      <td>0</td>\n",
       "      <td>42.0</td>\n",
       "      <td>0</td>\n",
       "      <td>3</td>\n",
       "      <td>0</td>\n",
       "      <td>0</td>\n",
       "      <td>0</td>\n",
       "      <td>...</td>\n",
       "      <td>0</td>\n",
       "      <td>1</td>\n",
       "      <td>0</td>\n",
       "      <td>0</td>\n",
       "      <td>0</td>\n",
       "      <td>0</td>\n",
       "      <td>0</td>\n",
       "      <td>0</td>\n",
       "      <td>1</td>\n",
       "      <td>0</td>\n",
       "    </tr>\n",
       "    <tr>\n",
       "      <th>3</th>\n",
       "      <td>3</td>\n",
       "      <td>0</td>\n",
       "      <td>0</td>\n",
       "      <td>0</td>\n",
       "      <td>27.0</td>\n",
       "      <td>1</td>\n",
       "      <td>7</td>\n",
       "      <td>0</td>\n",
       "      <td>1</td>\n",
       "      <td>2</td>\n",
       "      <td>...</td>\n",
       "      <td>0</td>\n",
       "      <td>1</td>\n",
       "      <td>0</td>\n",
       "      <td>0</td>\n",
       "      <td>0</td>\n",
       "      <td>0</td>\n",
       "      <td>0</td>\n",
       "      <td>0</td>\n",
       "      <td>0</td>\n",
       "      <td>1</td>\n",
       "    </tr>\n",
       "    <tr>\n",
       "      <th>4</th>\n",
       "      <td>4</td>\n",
       "      <td>0</td>\n",
       "      <td>0</td>\n",
       "      <td>0</td>\n",
       "      <td>423.0</td>\n",
       "      <td>2</td>\n",
       "      <td>1</td>\n",
       "      <td>0</td>\n",
       "      <td>6</td>\n",
       "      <td>1</td>\n",
       "      <td>...</td>\n",
       "      <td>0</td>\n",
       "      <td>1</td>\n",
       "      <td>0</td>\n",
       "      <td>0</td>\n",
       "      <td>0</td>\n",
       "      <td>0</td>\n",
       "      <td>0</td>\n",
       "      <td>0</td>\n",
       "      <td>0</td>\n",
       "      <td>1</td>\n",
       "    </tr>\n",
       "  </tbody>\n",
       "</table>\n",
       "<p>5 rows × 59 columns</p>\n",
       "</div>"
      ],
      "text/plain": [
       "   Unnamed: 0  anytime_expire_flag  hospital_expire_flag  icu_expire_flag  \\\n",
       "0           0                    0                     0                0   \n",
       "1           1                    0                     0                0   \n",
       "2           2                    1                     0                0   \n",
       "3           3                    0                     0                0   \n",
       "4           4                    0                     0                0   \n",
       "\n",
       "   hours_until_leave_ICU  icd_blood  icd_circulatory  icd_congenital  \\\n",
       "0                   53.0          0                4               0   \n",
       "1                  549.0          0                1               0   \n",
       "2                   42.0          0                3               0   \n",
       "3                   27.0          1                7               0   \n",
       "4                  423.0          2                1               0   \n",
       "\n",
       "   icd_digestive  icd_endocrine  ...  AGE_middle_adult  AGE_senior  \\\n",
       "0              0              2  ...                 0           1   \n",
       "1              0              0  ...                 0           1   \n",
       "2              0              0  ...                 0           1   \n",
       "3              1              2  ...                 0           1   \n",
       "4              6              1  ...                 0           1   \n",
       "\n",
       "   AGE_young_adult  MAR_DIVORCED  MAR_LIFE PARTNER  MAR_MARRIED  \\\n",
       "0                0             0                 0            1   \n",
       "1                0             0                 0            0   \n",
       "2                0             0                 0            0   \n",
       "3                0             0                 0            0   \n",
       "4                0             0                 0            0   \n",
       "\n",
       "   MAR_SEPARATED  MAR_SINGLE  MAR_UNKNOWN (DEFAULT)  MAR_WIDOWED  \n",
       "0              0           0                      0            0  \n",
       "1              0           1                      0            0  \n",
       "2              0           0                      1            0  \n",
       "3              0           0                      0            1  \n",
       "4              0           0                      0            1  \n",
       "\n",
       "[5 rows x 59 columns]"
      ]
     },
     "execution_count": 78,
     "metadata": {},
     "output_type": "execute_result"
    }
   ],
   "source": [
    "Test_Data.head()"
   ]
  },
  {
   "cell_type": "code",
   "execution_count": 79,
   "metadata": {},
   "outputs": [],
   "source": [
    "# Train Features\n",
    "features_train = Train_Data.drop(columns=['hours_until_leave_ICU']) # X train\n",
    "ICU_LOS_train = Train_Data['hours_until_leave_ICU'].values             # Y train "
   ]
  },
  {
   "cell_type": "code",
   "execution_count": 80,
   "metadata": {},
   "outputs": [],
   "source": [
    "# Test Features\n",
    "features_test = Test_Data.drop(columns=['hours_until_leave_ICU'])    # X test\n",
    "ICU_LOS_test = Test_Data['hours_until_leave_ICU'].values                # Y test"
   ]
  },
  {
   "cell_type": "code",
   "execution_count": 81,
   "metadata": {},
   "outputs": [
    {
     "name": "stdout",
     "output_type": "stream",
     "text": [
      "Training set has 23388 samples.\n",
      "Testing set has 7310 samples.\n"
     ]
    }
   ],
   "source": [
    "print(\"Training set has {} samples.\".format(ICU_LOS_train.shape[0]))\n",
    "print(\"Testing set has {} samples.\".format(ICU_LOS_test.shape[0]))"
   ]
  },
  {
   "cell_type": "code",
   "execution_count": 82,
   "metadata": {},
   "outputs": [
    {
     "name": "stdout",
     "output_type": "stream",
     "text": [
      "SGDRegressor done.\n",
      "GradientBoostingRegressor done.\n",
      "LinearRegression done.\n",
      "KNeighborsRegressor done.\n",
      "RandomForestRegressor done.\n"
     ]
    }
   ],
   "source": [
    "# Regression models for comparison\n",
    "models = [SGDRegressor(random_state = 0), \n",
    "          GradientBoostingRegressor(random_state = 0), \n",
    "          LinearRegression(),\n",
    "          KNeighborsRegressor(),\n",
    "          RandomForestRegressor(random_state = 0)]\n",
    "\n",
    "results = {}\n",
    "for model in models:\n",
    "    reg_model = model\n",
    "    reg_model.fit(features_train, ICU_LOS_train)\n",
    "    \n",
    "    y_test_preds = reg_model.predict(features_test)\n",
    "    name = str(model).split(\"(\")[0]\n",
    "\n",
    "    results[name] = r2_score(ICU_LOS_test, y_test_preds)\n",
    "    print('{} done.'.format(name))"
   ]
  },
  {
   "cell_type": "code",
   "execution_count": 83,
   "metadata": {},
   "outputs": [
    {
     "data": {
      "text/plain": [
       "{'SGDRegressor': -7.795504176190466e+25,\n",
       " 'GradientBoostingRegressor': 0.2247165295533592,\n",
       " 'LinearRegression': 0.19947463535218524,\n",
       " 'KNeighborsRegressor': -0.10163558402839779,\n",
       " 'RandomForestRegressor': 0.16789632860564208}"
      ]
     },
     "execution_count": 83,
     "metadata": {},
     "output_type": "execute_result"
    }
   ],
   "source": [
    "results"
   ]
  },
  {
   "cell_type": "code",
   "execution_count": 84,
   "metadata": {},
   "outputs": [
    {
     "data": {
      "text/plain": [
       "Text(0.5, 1.0, 'Regression Models Comparison')"
      ]
     },
     "execution_count": 84,
     "metadata": {},
     "output_type": "execute_result"
    },
    {
     "data": {
      "image/png": "[encoded data removed]",
      "text/plain": [
       "<Figure size 432x288 with 1 Axes>"
      ]
     },
     "metadata": {},
     "output_type": "display_data"
    }
   ],
   "source": [
    "fig, ax = plt.subplots()\n",
    "ind = range(len(results))\n",
    "ax.barh(ind, list(results.values()),alpha=0.8)\n",
    "ax.set_yticks(ind)\n",
    "ax.set_yticklabels(results.keys())\n",
    "ax.set_xlabel('R-squared score')\n",
    "ax.tick_params(left=False, top=False, right=False) \n",
    "ax.set_title('Regression Models Comparison')"
   ]
  },
  {
   "cell_type": "code",
   "execution_count": 85,
   "metadata": {},
   "outputs": [
    {
     "name": "stdout",
     "output_type": "stream",
     "text": [
      "GradientBoostingRegressor:R2 score is: 0.224717\n"
     ]
    }
   ],
   "source": [
    "reg_model = GradientBoostingRegressor(random_state=0)   \n",
    "reg_model.fit(features_train, ICU_LOS_train)\n",
    "y_test_preds = reg_model.predict(features_test)\n",
    "r2 = r2_score(ICU_LOS_test, y_test_preds)\n",
    "print(\"GradientBoostingRegressor:R2 score is: {:2f}\".format(r2))"
   ]
  },
  {
   "cell_type": "code",
   "execution_count": 88,
   "metadata": {},
   "outputs": [
    {
     "name": "stdout",
     "output_type": "stream",
     "text": [
      "0.20816803085252983\n",
      "GradientBoostingRegressor(n_estimators=200)\n"
     ]
    }
   ],
   "source": [
    "tuned_parameters = [{'n_estimators': [200, 300],'max_depth' : [3, 4],'loss': ['ls', 'lad']}]\n",
    "\n",
    "reg_model = GradientBoostingRegressor()  \n",
    "grid = GridSearchCV(reg_model, tuned_parameters)\n",
    "grid.fit(features_train, ICU_LOS_train)\n",
    "reg_model_optimized = grid.best_estimator_\n",
    "\n",
    "# summarize the results of the grid search\n",
    "print(grid.best_score_)\n",
    "print(grid.best_estimator_)"
   ]
  },
  {
   "cell_type": "code",
   "execution_count": 89,
   "metadata": {},
   "outputs": [
    {
     "name": "stdout",
     "output_type": "stream",
     "text": [
      "Optimized R2 score is: 0.229584\n"
     ]
    }
   ],
   "source": [
    "y_test_preds = reg_model_optimized.predict(features_test)\n",
    "r2_optimized = r2_score(ICU_LOS_test, y_test_preds)\n",
    "print(\"Optimized R2 score is: {:2f}\".format(r2_optimized))"
   ]
  },
  {
   "cell_type": "code",
   "execution_count": 95,
   "metadata": {},
   "outputs": [
    {
     "data": {
      "text/html": [
       "<div>\n",
       "<style scoped>\n",
       "    .dataframe tbody tr th:only-of-type {\n",
       "        vertical-align: middle;\n",
       "    }\n",
       "\n",
       "    .dataframe tbody tr th {\n",
       "        vertical-align: top;\n",
       "    }\n",
       "\n",
       "    .dataframe thead th {\n",
       "        text-align: right;\n",
       "    }\n",
       "</style>\n",
       "<table border=\"1\" class=\"dataframe\">\n",
       "  <thead>\n",
       "    <tr style=\"text-align: right;\">\n",
       "      <th></th>\n",
       "      <th>importance</th>\n",
       "    </tr>\n",
       "  </thead>\n",
       "  <tbody>\n",
       "    <tr>\n",
       "      <th>icd_respiratory</th>\n",
       "      <td>0.472603</td>\n",
       "    </tr>\n",
       "    <tr>\n",
       "      <th>icd_infectious</th>\n",
       "      <td>0.161525</td>\n",
       "    </tr>\n",
       "    <tr>\n",
       "      <th>icd_injury</th>\n",
       "      <td>0.052493</td>\n",
       "    </tr>\n",
       "    <tr>\n",
       "      <th>icd_circulatory</th>\n",
       "      <td>0.028884</td>\n",
       "    </tr>\n",
       "    <tr>\n",
       "      <th>icd_digestive</th>\n",
       "      <td>0.027877</td>\n",
       "    </tr>\n",
       "    <tr>\n",
       "      <th>Unnamed: 0</th>\n",
       "      <td>0.026947</td>\n",
       "    </tr>\n",
       "    <tr>\n",
       "      <th>brain</th>\n",
       "      <td>0.018578</td>\n",
       "    </tr>\n",
       "    <tr>\n",
       "      <th>infection</th>\n",
       "      <td>0.015185</td>\n",
       "    </tr>\n",
       "    <tr>\n",
       "      <th>icd_neoplasms</th>\n",
       "      <td>0.014533</td>\n",
       "    </tr>\n",
       "    <tr>\n",
       "      <th>trauma</th>\n",
       "      <td>0.014024</td>\n",
       "    </tr>\n",
       "  </tbody>\n",
       "</table>\n",
       "</div>"
      ],
      "text/plain": [
       "                 importance\n",
       "icd_respiratory    0.472603\n",
       "icd_infectious     0.161525\n",
       "icd_injury         0.052493\n",
       "icd_circulatory    0.028884\n",
       "icd_digestive      0.027877\n",
       "Unnamed: 0         0.026947\n",
       "brain              0.018578\n",
       "infection          0.015185\n",
       "icd_neoplasms      0.014533\n",
       "trauma             0.014024"
      ]
     },
     "execution_count": 95,
     "metadata": {},
     "output_type": "execute_result"
    }
   ],
   "source": [
    "feature_importance = pd.DataFrame(reg_model_optimized.feature_importances_,\n",
    "                                   index = features_train.columns,\n",
    "                                   columns=['importance']).sort_values('importance', ascending=False)\n",
    "\n",
    "feature_importance.head(10)"
   ]
  },
  {
   "cell_type": "code",
   "execution_count": 97,
   "metadata": {},
   "outputs": [
    {
     "data": {
      "text/plain": [
       "['icd_respiratory',\n",
       " 'icd_infectious',\n",
       " 'icd_injury',\n",
       " 'icd_circulatory',\n",
       " 'icd_digestive']"
      ]
     },
     "execution_count": 97,
     "metadata": {},
     "output_type": "execute_result"
    }
   ],
   "source": [
    "feature_importance.index[0:5].tolist()"
   ]
  },
  {
   "cell_type": "code",
   "execution_count": 102,
   "metadata": {},
   "outputs": [
    {
     "data": {
      "image/png": "[encoded data removed]",
      "text/plain": [
       "<Figure size 504x360 with 1 Axes>"
      ]
     },
     "metadata": {},
     "output_type": "display_data"
    }
   ],
   "source": [
    "fig, ax = plt.subplots(figsize=(7, 5))\n",
    "ind = range(0,5)\n",
    "ax.barh(ind, feature_importance['importance'].values[0:5], \n",
    "        align='center', alpha=0.9)\n",
    "ax.set_yticks(ind)\n",
    "ax.set_yticklabels(feature_importance.index[0:5].tolist())\n",
    "ax.tick_params(left=False, top=False, right=False) \n",
    "ax.set_title(\"Top 5 features for predicting ICU LOS\")\n",
    "ax.set_xlabel('Feature Importance Coefficient \\n(GradientBoostingRegressor)')\n",
    "plt.gca().invert_yaxis()\n",
    "#fig.savefig('', bbox_inches = 'tight')\n"
   ]
  },
  {
   "cell_type": "code",
   "execution_count": 111,
   "metadata": {},
   "outputs": [
    {
     "name": "stdout",
     "output_type": "stream",
     "text": [
      "Prediction Model hours 67.95039470352982\n",
      "Median Model hours 69.29151846785226\n",
      "Average Model hours 76.03564281791755\n",
      "Prediction Model RMS 1.5189882322995787\n",
      "Median Model RMS 1.8374692476938104\n",
      "Average Model RMS 1.7416476171931066\n"
     ]
    }
   ],
   "source": [
    "#y_test_preds = reg_model.predict(X_test)\n",
    "\n",
    "ml_count, md_count, avg_count  = 0, 0, 0\n",
    "ml_days, md_days, avg_days  = 0, 0, 0\n",
    "ml_days_rms, md_days_rms, avg_days_rms  = 0, 0, 0\n",
    "\n",
    "for i in range(y_test_preds.shape[0]):\n",
    "    ml_model = abs(y_test_preds[i] - ICU_LOS_test[i])\n",
    "    median_model = abs(actual_median_icu_los - ICU_LOS_test[i])\n",
    "    average_model = abs(actual_mean_icu_los - ICU_LOS_test[i])\n",
    "    \n",
    "    ml_days += ml_model\n",
    "    md_days += median_model\n",
    "    avg_days += average_model\n",
    "    \n",
    "    ml_model_rms = (y_test_preds[i] - ICU_LOS_test[i])**2\n",
    "    median_model_rms = (actual_median_icu_los - ICU_LOS_test[i])**2\n",
    "    average_model_rms = (actual_mean_icu_los - ICU_LOS_test[i])**2\n",
    "    \n",
    "    ml_days_rms += ml_model_rms\n",
    "    md_days_rms += median_model_rms\n",
    "    avg_days_rms += average_model_rms\n",
    "\n",
    "print(\"Prediction Model hours {}\".format(ml_days/y_test_preds.shape[0]))\n",
    "print(\"Median Model hours {}\".format(md_days/y_test_preds.shape[0]))\n",
    "print(\"Average Model hours {}\".format(avg_days/y_test_preds.shape[0]))\n",
    "\n",
    "print(\"Prediction Model RMS {}\".format((ml_days_rms**0.5)/y_test_preds.shape[0]))\n",
    "print(\"Median Model RMS {}\".format((md_days_rms**0.5)/y_test_preds.shape[0]))\n",
    "print(\"Average Model RMS {}\".format((avg_days_rms**0.5)/y_test_preds.shape[0]))"
   ]
  },
  {
   "cell_type": "code",
   "execution_count": 120,
   "metadata": {},
   "outputs": [
    {
     "data": {
      "image/png": "[encoded data removed]",
      "text/plain": [
       "<Figure size 432x288 with 1 Axes>"
      ]
     },
     "metadata": {},
     "output_type": "display_data"
    }
   ],
   "source": [
    "# RMSE plot for writeup\n",
    "data = pd.DataFrame({'RMSE': [(ml_days_rms**0.5)/y_test_preds.shape[0], \n",
    "                             (avg_days_rms**0.5)/y_test_preds.shape[0],\n",
    "                             (md_days_rms**0.5)/y_test_preds.shape[0]],\n",
    "                     'ICU LOS Model Type': ['Gradient Boosting', 'Average icu LOS', 'Median icu LOS'] })\n",
    "\n",
    "fig, ax = plt.subplots()\n",
    "ax = sns.barplot(x='RMSE', y='ICU LOS Model Type', data=data)\n",
    "ax.set_title('RMSE comparison of ICU LOS models')\n",
    "ax.tick_params(top=False, left=False, right=False)\n",
    "\n",
    "#fig.savefig('', bbox_inches = 'tight')"
   ]
  },
  {
   "cell_type": "code",
   "execution_count": null,
   "metadata": {},
   "outputs": [],
   "source": []
  },
  {
   "cell_type": "code",
   "execution_count": null,
   "metadata": {},
   "outputs": [],
   "source": []
  },
  {
   "cell_type": "code",
   "execution_count": null,
   "metadata": {},
   "outputs": [],
   "source": []
  },
  {
   "cell_type": "code",
   "execution_count": 107,
   "metadata": {},
   "outputs": [
    {
     "ename": "NameError",
     "evalue": "name 'LOS_actual' is not defined",
     "output_type": "error",
     "traceback": [
      "\u001b[0;31m---------------------------------------------------------------------------\u001b[0m",
      "\u001b[0;31mNameError\u001b[0m                                 Traceback (most recent call last)",
      "\u001b[0;32m<ipython-input-107-f9cdd88bcf53>\u001b[0m in \u001b[0;36m<module>\u001b[0;34m\u001b[0m\n\u001b[1;32m      5\u001b[0m \u001b[0mwidth\u001b[0m \u001b[0;34m=\u001b[0m \u001b[0;36m0.35\u001b[0m\u001b[0;34m\u001b[0m\u001b[0;34m\u001b[0m\u001b[0m\n\u001b[1;32m      6\u001b[0m \u001b[0;34m\u001b[0m\u001b[0m\n\u001b[0;32m----> 7\u001b[0;31m \u001b[0mset_actual\u001b[0m \u001b[0;34m=\u001b[0m \u001b[0max\u001b[0m\u001b[0;34m.\u001b[0m\u001b[0mbar\u001b[0m\u001b[0;34m(\u001b[0m\u001b[0mpad\u001b[0m\u001b[0;34m+\u001b[0m\u001b[0mind\u001b[0m\u001b[0;34m,\u001b[0m \u001b[0mLOS_actual\u001b[0m\u001b[0;34m,\u001b[0m \u001b[0mwidth\u001b[0m\u001b[0;34m,\u001b[0m \u001b[0mcolor\u001b[0m\u001b[0;34m=\u001b[0m\u001b[0;34m'#4c72b0'\u001b[0m\u001b[0;34m,\u001b[0m \u001b[0malpha\u001b[0m\u001b[0;34m=\u001b[0m\u001b[0;36m0.8\u001b[0m\u001b[0;34m)\u001b[0m\u001b[0;34m\u001b[0m\u001b[0;34m\u001b[0m\u001b[0m\n\u001b[0m\u001b[1;32m      8\u001b[0m \u001b[0mset_predict\u001b[0m \u001b[0;34m=\u001b[0m \u001b[0max\u001b[0m\u001b[0;34m.\u001b[0m\u001b[0mbar\u001b[0m\u001b[0;34m(\u001b[0m\u001b[0mpad\u001b[0m\u001b[0;34m+\u001b[0m\u001b[0mind\u001b[0m\u001b[0;34m+\u001b[0m\u001b[0mwidth\u001b[0m\u001b[0;34m,\u001b[0m \u001b[0mLOS_predict\u001b[0m\u001b[0;34m,\u001b[0m \u001b[0mwidth\u001b[0m\u001b[0;34m,\u001b[0m \u001b[0mcolor\u001b[0m\u001b[0;34m=\u001b[0m\u001b[0;34m'#dd8452'\u001b[0m\u001b[0;34m)\u001b[0m\u001b[0;34m\u001b[0m\u001b[0;34m\u001b[0m\u001b[0m\n\u001b[1;32m      9\u001b[0m \u001b[0;34m\u001b[0m\u001b[0m\n",
      "\u001b[0;31mNameError\u001b[0m: name 'LOS_actual' is not defined"
     ]
    },
    {
     "data": {
      "image/png": "[encoded data removed]",
      "text/plain": [
       "<Figure size 720x324 with 1 Axes>"
      ]
     },
     "metadata": {},
     "output_type": "display_data"
    }
   ],
   "source": [
    "fig, ax = plt.subplots(figsize=(10, 4.5))\n",
    "\n",
    "ind = np.arange(0,20)\n",
    "pad = 0.15\n",
    "width = 0.35\n",
    "\n",
    "set_actual = ax.bar(pad+ind, LOS_actual, width, color='#4c72b0', alpha=0.8)\n",
    "set_predict = ax.bar(pad+ind+width, LOS_predict, width, color='#dd8452')\n",
    "\n",
    "ax.set_ylabel('Length of Stay (days)')\n",
    "ax.set_xlabel('Admission Event')\n",
    "ax.set_title('Prediction Model for Hospital Length of Stay (LOS)')\n",
    "\n",
    "ax.text(0.5, 11, 'Average LOS', fontdict=None, withdash=False, color='red', alpha=0.8)\n",
    "ax.text(0.5, 7.5, 'Median LOS', fontdict=None, withdash=False, color='gray')\n",
    "ax.set_xticks(pad + ind + width)\n",
    "ax.set_ylim(0, 30)\n",
    "ax.set_xticklabels(list(range(20)))\n",
    "\n",
    "ax.axhline(y=actual_median_icu_los, xmin=0, xmax=20, ls='--', color='gray')\n",
    "ax.axhline(y=actual_mean_icu_los, xmin=0, xmax=20, ls='--', color='red', alpha=0.8)\n",
    "\n",
    "ax.legend( (set_actual, set_predict), ('Actual LOS', 'Predicted LOS'), \n",
    "          loc='upper left')\n",
    "ax.tick_params(bottom=False, top=False, right=False)"
   ]
  },
  {
   "cell_type": "code",
   "execution_count": null,
   "metadata": {},
   "outputs": [],
   "source": []
  }
 ],
 "metadata": {
  "kernelspec": {
   "display_name": "Python 3",
   "language": "python",
   "name": "python3"
  },
  "language_info": {
   "codemirror_mode": {
    "name": "ipython",
    "version": 3
   },
   "file_extension": ".py",
   "mimetype": "text/x-python",
   "name": "python",
   "nbconvert_exporter": "python",
   "pygments_lexer": "ipython3",
   "version": "3.9.1"
  }
 },
 "nbformat": 4,
 "nbformat_minor": 2
}
